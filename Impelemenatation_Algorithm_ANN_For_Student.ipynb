{
  "nbformat": 4,
  "nbformat_minor": 0,
  "metadata": {
    "colab": {
      "provenance": [],
      "gpuType": "T4",
      "authorship_tag": "ABX9TyPEgA7gs7bXjbmHuBX8AEMa",
      "include_colab_link": true
    },
    "kernelspec": {
      "name": "python3",
      "display_name": "Python 3"
    },
    "language_info": {
      "name": "python"
    },
    "accelerator": "GPU"
  },
  "cells": [
    {
      "cell_type": "markdown",
      "metadata": {
        "id": "view-in-github",
        "colab_type": "text"
      },
      "source": [
        "<a href=\"https://colab.research.google.com/github/candrajulius/Implementation_of_the_Support_Vector_Machine_and_ANN_Algorithm_For_Student/blob/main/Impelemenatation_Algorithm_ANN_For_Student.ipynb\" target=\"_parent\"><img src=\"https://colab.research.google.com/assets/colab-badge.svg\" alt=\"Open In Colab\"/></a>"
      ]
    },
    {
      "cell_type": "code",
      "execution_count": 1,
      "metadata": {
        "id": "PTtcSNExHcp-"
      },
      "outputs": [],
      "source": [
        "# Import beberapa library\n",
        "from google.colab import files\n",
        "import pandas as pd\n",
        "import numpy as np\n",
        "from sklearn.model_selection import train_test_split\n",
        "from sklearn.utils import resample\n",
        "from sklearn.preprocessing import StandardScaler, LabelEncoder, OneHotEncoder\n",
        "from sklearn.svm import SVC\n",
        "from sklearn.metrics import accuracy_score\n",
        "from keras.models import Sequential\n",
        "from keras.layers import Dense\n",
        "\n",
        "# Untuk memvisualisasi data\n",
        "import matplotlib.pyplot as plt\n",
        "%matplotlib inline\n",
        "import seaborn as sns"
      ]
    },
    {
      "cell_type": "code",
      "source": [
        "def convert_excel_to_csv(excel_file,csv_file):\n",
        "  # Baca file Excel menggunakan pandas\n",
        "  data_frame = pd.read_excel(excel_file)\n",
        "\n",
        "  # Konversi data frame menjadi file CSV\n",
        "  data_frame.to_csv(csv_file,index=False)\n",
        "excel_file = \"sample_data/Data_Mahasiswa_2019.xlsx\"\n",
        "csv_file = \"sample_data/data_mahasiswa.csv\"\n",
        "convert_excel_to_csv(excel_file,csv_file)"
      ],
      "metadata": {
        "id": "OvxHdT1YI_Sx"
      },
      "execution_count": 3,
      "outputs": []
    },
    {
      "cell_type": "code",
      "source": [
        "data = pd.read_csv('sample_data/data_mahasiswa.csv')"
      ],
      "metadata": {
        "id": "zvCUXlNaJB9t"
      },
      "execution_count": 4,
      "outputs": []
    },
    {
      "cell_type": "code",
      "source": [
        "data.head(10)"
      ],
      "metadata": {
        "colab": {
          "base_uri": "https://localhost:8080/",
          "height": 363
        },
        "id": "kGttkzAQJfFo",
        "outputId": "e555aaf6-2ba1-4554-dd4a-6fc6ebaee86a"
      },
      "execution_count": 5,
      "outputs": [
        {
          "output_type": "execute_result",
          "data": {
            "text/plain": [
              "   No           NIM                 NAMA IPS (semester 1)  IPS (semester 2)  \\\n",
              "0   1  193303030001         Sallyana Yek              4.0              3.74   \n",
              "1   2  193303030002              Anthony              4.0              3.74   \n",
              "2   3  193303030003      William Chandra             3.45              3.61   \n",
              "3   4  193303030004      Valentino Damar              4.0              3.61   \n",
              "4   5  193303030005     Nicholas Livando              4.0              3.74   \n",
              "5   6  193303030006          Alvin Rasid              4.0              3.61   \n",
              "6   7  193303030009  Matthew Evan Phanie              4,0              3.61   \n",
              "7   8  193303030011              Michael             3.75              3.43   \n",
              "8   9  193303030012         Windy Candra              3.5              3.74   \n",
              "9  10  193303030014           Steven Lie             3.69              3.26   \n",
              "\n",
              "  IPS (semester 3)  IPS (semester 4)  IPS (semester 5)  \n",
              "0             3,55              3.90              4.00  \n",
              "1              4,0              3.85              3.95  \n",
              "2             3.27              3.79              3.64  \n",
              "3             3.89              3.65              3.80  \n",
              "4             3.94              3.80              3.77  \n",
              "5              4,0              3.90              4.00  \n",
              "6             3.89              3.90              4.00  \n",
              "7             3.83              3.47              3.91  \n",
              "8              3.9              3.70              4.00  \n",
              "9             3.89              4.00              3.59  "
            ],
            "text/html": [
              "\n",
              "  <div id=\"df-19d685dc-86d2-416e-8bda-592eecbfb389\">\n",
              "    <div class=\"colab-df-container\">\n",
              "      <div>\n",
              "<style scoped>\n",
              "    .dataframe tbody tr th:only-of-type {\n",
              "        vertical-align: middle;\n",
              "    }\n",
              "\n",
              "    .dataframe tbody tr th {\n",
              "        vertical-align: top;\n",
              "    }\n",
              "\n",
              "    .dataframe thead th {\n",
              "        text-align: right;\n",
              "    }\n",
              "</style>\n",
              "<table border=\"1\" class=\"dataframe\">\n",
              "  <thead>\n",
              "    <tr style=\"text-align: right;\">\n",
              "      <th></th>\n",
              "      <th>No</th>\n",
              "      <th>NIM</th>\n",
              "      <th>NAMA</th>\n",
              "      <th>IPS (semester 1)</th>\n",
              "      <th>IPS (semester 2)</th>\n",
              "      <th>IPS (semester 3)</th>\n",
              "      <th>IPS (semester 4)</th>\n",
              "      <th>IPS (semester 5)</th>\n",
              "    </tr>\n",
              "  </thead>\n",
              "  <tbody>\n",
              "    <tr>\n",
              "      <th>0</th>\n",
              "      <td>1</td>\n",
              "      <td>193303030001</td>\n",
              "      <td>Sallyana Yek</td>\n",
              "      <td>4.0</td>\n",
              "      <td>3.74</td>\n",
              "      <td>3,55</td>\n",
              "      <td>3.90</td>\n",
              "      <td>4.00</td>\n",
              "    </tr>\n",
              "    <tr>\n",
              "      <th>1</th>\n",
              "      <td>2</td>\n",
              "      <td>193303030002</td>\n",
              "      <td>Anthony</td>\n",
              "      <td>4.0</td>\n",
              "      <td>3.74</td>\n",
              "      <td>4,0</td>\n",
              "      <td>3.85</td>\n",
              "      <td>3.95</td>\n",
              "    </tr>\n",
              "    <tr>\n",
              "      <th>2</th>\n",
              "      <td>3</td>\n",
              "      <td>193303030003</td>\n",
              "      <td>William Chandra</td>\n",
              "      <td>3.45</td>\n",
              "      <td>3.61</td>\n",
              "      <td>3.27</td>\n",
              "      <td>3.79</td>\n",
              "      <td>3.64</td>\n",
              "    </tr>\n",
              "    <tr>\n",
              "      <th>3</th>\n",
              "      <td>4</td>\n",
              "      <td>193303030004</td>\n",
              "      <td>Valentino Damar</td>\n",
              "      <td>4.0</td>\n",
              "      <td>3.61</td>\n",
              "      <td>3.89</td>\n",
              "      <td>3.65</td>\n",
              "      <td>3.80</td>\n",
              "    </tr>\n",
              "    <tr>\n",
              "      <th>4</th>\n",
              "      <td>5</td>\n",
              "      <td>193303030005</td>\n",
              "      <td>Nicholas Livando</td>\n",
              "      <td>4.0</td>\n",
              "      <td>3.74</td>\n",
              "      <td>3.94</td>\n",
              "      <td>3.80</td>\n",
              "      <td>3.77</td>\n",
              "    </tr>\n",
              "    <tr>\n",
              "      <th>5</th>\n",
              "      <td>6</td>\n",
              "      <td>193303030006</td>\n",
              "      <td>Alvin Rasid</td>\n",
              "      <td>4.0</td>\n",
              "      <td>3.61</td>\n",
              "      <td>4,0</td>\n",
              "      <td>3.90</td>\n",
              "      <td>4.00</td>\n",
              "    </tr>\n",
              "    <tr>\n",
              "      <th>6</th>\n",
              "      <td>7</td>\n",
              "      <td>193303030009</td>\n",
              "      <td>Matthew Evan Phanie</td>\n",
              "      <td>4,0</td>\n",
              "      <td>3.61</td>\n",
              "      <td>3.89</td>\n",
              "      <td>3.90</td>\n",
              "      <td>4.00</td>\n",
              "    </tr>\n",
              "    <tr>\n",
              "      <th>7</th>\n",
              "      <td>8</td>\n",
              "      <td>193303030011</td>\n",
              "      <td>Michael</td>\n",
              "      <td>3.75</td>\n",
              "      <td>3.43</td>\n",
              "      <td>3.83</td>\n",
              "      <td>3.47</td>\n",
              "      <td>3.91</td>\n",
              "    </tr>\n",
              "    <tr>\n",
              "      <th>8</th>\n",
              "      <td>9</td>\n",
              "      <td>193303030012</td>\n",
              "      <td>Windy Candra</td>\n",
              "      <td>3.5</td>\n",
              "      <td>3.74</td>\n",
              "      <td>3.9</td>\n",
              "      <td>3.70</td>\n",
              "      <td>4.00</td>\n",
              "    </tr>\n",
              "    <tr>\n",
              "      <th>9</th>\n",
              "      <td>10</td>\n",
              "      <td>193303030014</td>\n",
              "      <td>Steven Lie</td>\n",
              "      <td>3.69</td>\n",
              "      <td>3.26</td>\n",
              "      <td>3.89</td>\n",
              "      <td>4.00</td>\n",
              "      <td>3.59</td>\n",
              "    </tr>\n",
              "  </tbody>\n",
              "</table>\n",
              "</div>\n",
              "      <button class=\"colab-df-convert\" onclick=\"convertToInteractive('df-19d685dc-86d2-416e-8bda-592eecbfb389')\"\n",
              "              title=\"Convert this dataframe to an interactive table.\"\n",
              "              style=\"display:none;\">\n",
              "        \n",
              "  <svg xmlns=\"http://www.w3.org/2000/svg\" height=\"24px\"viewBox=\"0 0 24 24\"\n",
              "       width=\"24px\">\n",
              "    <path d=\"M0 0h24v24H0V0z\" fill=\"none\"/>\n",
              "    <path d=\"M18.56 5.44l.94 2.06.94-2.06 2.06-.94-2.06-.94-.94-2.06-.94 2.06-2.06.94zm-11 1L8.5 8.5l.94-2.06 2.06-.94-2.06-.94L8.5 2.5l-.94 2.06-2.06.94zm10 10l.94 2.06.94-2.06 2.06-.94-2.06-.94-.94-2.06-.94 2.06-2.06.94z\"/><path d=\"M17.41 7.96l-1.37-1.37c-.4-.4-.92-.59-1.43-.59-.52 0-1.04.2-1.43.59L10.3 9.45l-7.72 7.72c-.78.78-.78 2.05 0 2.83L4 21.41c.39.39.9.59 1.41.59.51 0 1.02-.2 1.41-.59l7.78-7.78 2.81-2.81c.8-.78.8-2.07 0-2.86zM5.41 20L4 18.59l7.72-7.72 1.47 1.35L5.41 20z\"/>\n",
              "  </svg>\n",
              "      </button>\n",
              "      \n",
              "  <style>\n",
              "    .colab-df-container {\n",
              "      display:flex;\n",
              "      flex-wrap:wrap;\n",
              "      gap: 12px;\n",
              "    }\n",
              "\n",
              "    .colab-df-convert {\n",
              "      background-color: #E8F0FE;\n",
              "      border: none;\n",
              "      border-radius: 50%;\n",
              "      cursor: pointer;\n",
              "      display: none;\n",
              "      fill: #1967D2;\n",
              "      height: 32px;\n",
              "      padding: 0 0 0 0;\n",
              "      width: 32px;\n",
              "    }\n",
              "\n",
              "    .colab-df-convert:hover {\n",
              "      background-color: #E2EBFA;\n",
              "      box-shadow: 0px 1px 2px rgba(60, 64, 67, 0.3), 0px 1px 3px 1px rgba(60, 64, 67, 0.15);\n",
              "      fill: #174EA6;\n",
              "    }\n",
              "\n",
              "    [theme=dark] .colab-df-convert {\n",
              "      background-color: #3B4455;\n",
              "      fill: #D2E3FC;\n",
              "    }\n",
              "\n",
              "    [theme=dark] .colab-df-convert:hover {\n",
              "      background-color: #434B5C;\n",
              "      box-shadow: 0px 1px 3px 1px rgba(0, 0, 0, 0.15);\n",
              "      filter: drop-shadow(0px 1px 2px rgba(0, 0, 0, 0.3));\n",
              "      fill: #FFFFFF;\n",
              "    }\n",
              "  </style>\n",
              "\n",
              "      <script>\n",
              "        const buttonEl =\n",
              "          document.querySelector('#df-19d685dc-86d2-416e-8bda-592eecbfb389 button.colab-df-convert');\n",
              "        buttonEl.style.display =\n",
              "          google.colab.kernel.accessAllowed ? 'block' : 'none';\n",
              "\n",
              "        async function convertToInteractive(key) {\n",
              "          const element = document.querySelector('#df-19d685dc-86d2-416e-8bda-592eecbfb389');\n",
              "          const dataTable =\n",
              "            await google.colab.kernel.invokeFunction('convertToInteractive',\n",
              "                                                     [key], {});\n",
              "          if (!dataTable) return;\n",
              "\n",
              "          const docLinkHtml = 'Like what you see? Visit the ' +\n",
              "            '<a target=\"_blank\" href=https://colab.research.google.com/notebooks/data_table.ipynb>data table notebook</a>'\n",
              "            + ' to learn more about interactive tables.';\n",
              "          element.innerHTML = '';\n",
              "          dataTable['output_type'] = 'display_data';\n",
              "          await google.colab.output.renderOutput(dataTable, element);\n",
              "          const docLink = document.createElement('div');\n",
              "          docLink.innerHTML = docLinkHtml;\n",
              "          element.appendChild(docLink);\n",
              "        }\n",
              "      </script>\n",
              "    </div>\n",
              "  </div>\n",
              "  "
            ]
          },
          "metadata": {},
          "execution_count": 5
        }
      ]
    },
    {
      "cell_type": "code",
      "source": [
        "data.info()"
      ],
      "metadata": {
        "colab": {
          "base_uri": "https://localhost:8080/"
        },
        "id": "emImWyWSJiUq",
        "outputId": "d947926c-3bff-40de-8d82-0858249e8ba6"
      },
      "execution_count": 6,
      "outputs": [
        {
          "output_type": "stream",
          "name": "stdout",
          "text": [
            "<class 'pandas.core.frame.DataFrame'>\n",
            "RangeIndex: 88 entries, 0 to 87\n",
            "Data columns (total 8 columns):\n",
            " #   Column            Non-Null Count  Dtype  \n",
            "---  ------            --------------  -----  \n",
            " 0   No                88 non-null     int64  \n",
            " 1   NIM               88 non-null     int64  \n",
            " 2   NAMA              88 non-null     object \n",
            " 3   IPS (semester 1)  88 non-null     object \n",
            " 4   IPS (semester 2)  87 non-null     float64\n",
            " 5   IPS (semester 3)  88 non-null     object \n",
            " 6   IPS (semester 4)  88 non-null     float64\n",
            " 7   IPS (semester 5)  88 non-null     float64\n",
            "dtypes: float64(3), int64(2), object(3)\n",
            "memory usage: 5.6+ KB\n"
          ]
        }
      ]
    },
    {
      "cell_type": "code",
      "source": [
        "data.drop('No',axis=1,inplace=True)\n",
        "data.drop('NAMA',axis=1,inplace=True)\n",
        "data.drop('NIM',axis=1,inplace=True)"
      ],
      "metadata": {
        "id": "FBNGlf9nJk-f"
      },
      "execution_count": 7,
      "outputs": []
    },
    {
      "cell_type": "code",
      "source": [
        "data.head(10)"
      ],
      "metadata": {
        "colab": {
          "base_uri": "https://localhost:8080/",
          "height": 363
        },
        "id": "XttTZck-Jm4k",
        "outputId": "370337a3-e212-4e20-a06b-08623fde0b35"
      },
      "execution_count": 8,
      "outputs": [
        {
          "output_type": "execute_result",
          "data": {
            "text/plain": [
              "  IPS (semester 1)  IPS (semester 2) IPS (semester 3)  IPS (semester 4)  \\\n",
              "0              4.0              3.74             3,55              3.90   \n",
              "1              4.0              3.74              4,0              3.85   \n",
              "2             3.45              3.61             3.27              3.79   \n",
              "3              4.0              3.61             3.89              3.65   \n",
              "4              4.0              3.74             3.94              3.80   \n",
              "5              4.0              3.61              4,0              3.90   \n",
              "6              4,0              3.61             3.89              3.90   \n",
              "7             3.75              3.43             3.83              3.47   \n",
              "8              3.5              3.74              3.9              3.70   \n",
              "9             3.69              3.26             3.89              4.00   \n",
              "\n",
              "   IPS (semester 5)  \n",
              "0              4.00  \n",
              "1              3.95  \n",
              "2              3.64  \n",
              "3              3.80  \n",
              "4              3.77  \n",
              "5              4.00  \n",
              "6              4.00  \n",
              "7              3.91  \n",
              "8              4.00  \n",
              "9              3.59  "
            ],
            "text/html": [
              "\n",
              "  <div id=\"df-b095a108-a353-4677-aa61-dc91428e4232\">\n",
              "    <div class=\"colab-df-container\">\n",
              "      <div>\n",
              "<style scoped>\n",
              "    .dataframe tbody tr th:only-of-type {\n",
              "        vertical-align: middle;\n",
              "    }\n",
              "\n",
              "    .dataframe tbody tr th {\n",
              "        vertical-align: top;\n",
              "    }\n",
              "\n",
              "    .dataframe thead th {\n",
              "        text-align: right;\n",
              "    }\n",
              "</style>\n",
              "<table border=\"1\" class=\"dataframe\">\n",
              "  <thead>\n",
              "    <tr style=\"text-align: right;\">\n",
              "      <th></th>\n",
              "      <th>IPS (semester 1)</th>\n",
              "      <th>IPS (semester 2)</th>\n",
              "      <th>IPS (semester 3)</th>\n",
              "      <th>IPS (semester 4)</th>\n",
              "      <th>IPS (semester 5)</th>\n",
              "    </tr>\n",
              "  </thead>\n",
              "  <tbody>\n",
              "    <tr>\n",
              "      <th>0</th>\n",
              "      <td>4.0</td>\n",
              "      <td>3.74</td>\n",
              "      <td>3,55</td>\n",
              "      <td>3.90</td>\n",
              "      <td>4.00</td>\n",
              "    </tr>\n",
              "    <tr>\n",
              "      <th>1</th>\n",
              "      <td>4.0</td>\n",
              "      <td>3.74</td>\n",
              "      <td>4,0</td>\n",
              "      <td>3.85</td>\n",
              "      <td>3.95</td>\n",
              "    </tr>\n",
              "    <tr>\n",
              "      <th>2</th>\n",
              "      <td>3.45</td>\n",
              "      <td>3.61</td>\n",
              "      <td>3.27</td>\n",
              "      <td>3.79</td>\n",
              "      <td>3.64</td>\n",
              "    </tr>\n",
              "    <tr>\n",
              "      <th>3</th>\n",
              "      <td>4.0</td>\n",
              "      <td>3.61</td>\n",
              "      <td>3.89</td>\n",
              "      <td>3.65</td>\n",
              "      <td>3.80</td>\n",
              "    </tr>\n",
              "    <tr>\n",
              "      <th>4</th>\n",
              "      <td>4.0</td>\n",
              "      <td>3.74</td>\n",
              "      <td>3.94</td>\n",
              "      <td>3.80</td>\n",
              "      <td>3.77</td>\n",
              "    </tr>\n",
              "    <tr>\n",
              "      <th>5</th>\n",
              "      <td>4.0</td>\n",
              "      <td>3.61</td>\n",
              "      <td>4,0</td>\n",
              "      <td>3.90</td>\n",
              "      <td>4.00</td>\n",
              "    </tr>\n",
              "    <tr>\n",
              "      <th>6</th>\n",
              "      <td>4,0</td>\n",
              "      <td>3.61</td>\n",
              "      <td>3.89</td>\n",
              "      <td>3.90</td>\n",
              "      <td>4.00</td>\n",
              "    </tr>\n",
              "    <tr>\n",
              "      <th>7</th>\n",
              "      <td>3.75</td>\n",
              "      <td>3.43</td>\n",
              "      <td>3.83</td>\n",
              "      <td>3.47</td>\n",
              "      <td>3.91</td>\n",
              "    </tr>\n",
              "    <tr>\n",
              "      <th>8</th>\n",
              "      <td>3.5</td>\n",
              "      <td>3.74</td>\n",
              "      <td>3.9</td>\n",
              "      <td>3.70</td>\n",
              "      <td>4.00</td>\n",
              "    </tr>\n",
              "    <tr>\n",
              "      <th>9</th>\n",
              "      <td>3.69</td>\n",
              "      <td>3.26</td>\n",
              "      <td>3.89</td>\n",
              "      <td>4.00</td>\n",
              "      <td>3.59</td>\n",
              "    </tr>\n",
              "  </tbody>\n",
              "</table>\n",
              "</div>\n",
              "      <button class=\"colab-df-convert\" onclick=\"convertToInteractive('df-b095a108-a353-4677-aa61-dc91428e4232')\"\n",
              "              title=\"Convert this dataframe to an interactive table.\"\n",
              "              style=\"display:none;\">\n",
              "        \n",
              "  <svg xmlns=\"http://www.w3.org/2000/svg\" height=\"24px\"viewBox=\"0 0 24 24\"\n",
              "       width=\"24px\">\n",
              "    <path d=\"M0 0h24v24H0V0z\" fill=\"none\"/>\n",
              "    <path d=\"M18.56 5.44l.94 2.06.94-2.06 2.06-.94-2.06-.94-.94-2.06-.94 2.06-2.06.94zm-11 1L8.5 8.5l.94-2.06 2.06-.94-2.06-.94L8.5 2.5l-.94 2.06-2.06.94zm10 10l.94 2.06.94-2.06 2.06-.94-2.06-.94-.94-2.06-.94 2.06-2.06.94z\"/><path d=\"M17.41 7.96l-1.37-1.37c-.4-.4-.92-.59-1.43-.59-.52 0-1.04.2-1.43.59L10.3 9.45l-7.72 7.72c-.78.78-.78 2.05 0 2.83L4 21.41c.39.39.9.59 1.41.59.51 0 1.02-.2 1.41-.59l7.78-7.78 2.81-2.81c.8-.78.8-2.07 0-2.86zM5.41 20L4 18.59l7.72-7.72 1.47 1.35L5.41 20z\"/>\n",
              "  </svg>\n",
              "      </button>\n",
              "      \n",
              "  <style>\n",
              "    .colab-df-container {\n",
              "      display:flex;\n",
              "      flex-wrap:wrap;\n",
              "      gap: 12px;\n",
              "    }\n",
              "\n",
              "    .colab-df-convert {\n",
              "      background-color: #E8F0FE;\n",
              "      border: none;\n",
              "      border-radius: 50%;\n",
              "      cursor: pointer;\n",
              "      display: none;\n",
              "      fill: #1967D2;\n",
              "      height: 32px;\n",
              "      padding: 0 0 0 0;\n",
              "      width: 32px;\n",
              "    }\n",
              "\n",
              "    .colab-df-convert:hover {\n",
              "      background-color: #E2EBFA;\n",
              "      box-shadow: 0px 1px 2px rgba(60, 64, 67, 0.3), 0px 1px 3px 1px rgba(60, 64, 67, 0.15);\n",
              "      fill: #174EA6;\n",
              "    }\n",
              "\n",
              "    [theme=dark] .colab-df-convert {\n",
              "      background-color: #3B4455;\n",
              "      fill: #D2E3FC;\n",
              "    }\n",
              "\n",
              "    [theme=dark] .colab-df-convert:hover {\n",
              "      background-color: #434B5C;\n",
              "      box-shadow: 0px 1px 3px 1px rgba(0, 0, 0, 0.15);\n",
              "      filter: drop-shadow(0px 1px 2px rgba(0, 0, 0, 0.3));\n",
              "      fill: #FFFFFF;\n",
              "    }\n",
              "  </style>\n",
              "\n",
              "      <script>\n",
              "        const buttonEl =\n",
              "          document.querySelector('#df-b095a108-a353-4677-aa61-dc91428e4232 button.colab-df-convert');\n",
              "        buttonEl.style.display =\n",
              "          google.colab.kernel.accessAllowed ? 'block' : 'none';\n",
              "\n",
              "        async function convertToInteractive(key) {\n",
              "          const element = document.querySelector('#df-b095a108-a353-4677-aa61-dc91428e4232');\n",
              "          const dataTable =\n",
              "            await google.colab.kernel.invokeFunction('convertToInteractive',\n",
              "                                                     [key], {});\n",
              "          if (!dataTable) return;\n",
              "\n",
              "          const docLinkHtml = 'Like what you see? Visit the ' +\n",
              "            '<a target=\"_blank\" href=https://colab.research.google.com/notebooks/data_table.ipynb>data table notebook</a>'\n",
              "            + ' to learn more about interactive tables.';\n",
              "          element.innerHTML = '';\n",
              "          dataTable['output_type'] = 'display_data';\n",
              "          await google.colab.output.renderOutput(dataTable, element);\n",
              "          const docLink = document.createElement('div');\n",
              "          docLink.innerHTML = docLinkHtml;\n",
              "          element.appendChild(docLink);\n",
              "        }\n",
              "      </script>\n",
              "    </div>\n",
              "  </div>\n",
              "  "
            ]
          },
          "metadata": {},
          "execution_count": 8
        }
      ]
    },
    {
      "cell_type": "code",
      "source": [
        "# Mengecek apakah ada data yang null atau tidak\n",
        "data.isnull().sum()"
      ],
      "metadata": {
        "colab": {
          "base_uri": "https://localhost:8080/"
        },
        "id": "fqwx7CvnJpe1",
        "outputId": "74e2340c-2f1c-4902-fe50-8073be002d17"
      },
      "execution_count": 9,
      "outputs": [
        {
          "output_type": "execute_result",
          "data": {
            "text/plain": [
              "IPS (semester 1)    0\n",
              "IPS (semester 2)    1\n",
              "IPS (semester 3)    0\n",
              "IPS (semester 4)    0\n",
              "IPS (semester 5)    0\n",
              "dtype: int64"
            ]
          },
          "metadata": {},
          "execution_count": 9
        }
      ]
    },
    {
      "cell_type": "code",
      "source": [
        "# Membersihakan data yang null\n",
        "data_clean = data.dropna()"
      ],
      "metadata": {
        "id": "wifKNM8-JswH"
      },
      "execution_count": 10,
      "outputs": []
    },
    {
      "cell_type": "code",
      "source": [
        "data_clean.isnull().sum()"
      ],
      "metadata": {
        "colab": {
          "base_uri": "https://localhost:8080/"
        },
        "id": "eJWvymuyJuRV",
        "outputId": "4a37cb6c-724a-4ef5-9bb8-ac1ad808cc53"
      },
      "execution_count": 11,
      "outputs": [
        {
          "output_type": "execute_result",
          "data": {
            "text/plain": [
              "IPS (semester 1)    0\n",
              "IPS (semester 2)    0\n",
              "IPS (semester 3)    0\n",
              "IPS (semester 4)    0\n",
              "IPS (semester 5)    0\n",
              "dtype: int64"
            ]
          },
          "metadata": {},
          "execution_count": 11
        }
      ]
    },
    {
      "cell_type": "code",
      "source": [
        "data_clean.info()"
      ],
      "metadata": {
        "colab": {
          "base_uri": "https://localhost:8080/"
        },
        "id": "6KEzu1eoJxFF",
        "outputId": "0b486c32-6438-4dcc-f708-806ad644b1f9"
      },
      "execution_count": 12,
      "outputs": [
        {
          "output_type": "stream",
          "name": "stdout",
          "text": [
            "<class 'pandas.core.frame.DataFrame'>\n",
            "Int64Index: 87 entries, 0 to 87\n",
            "Data columns (total 5 columns):\n",
            " #   Column            Non-Null Count  Dtype  \n",
            "---  ------            --------------  -----  \n",
            " 0   IPS (semester 1)  87 non-null     object \n",
            " 1   IPS (semester 2)  87 non-null     float64\n",
            " 2   IPS (semester 3)  87 non-null     object \n",
            " 3   IPS (semester 4)  87 non-null     float64\n",
            " 4   IPS (semester 5)  87 non-null     float64\n",
            "dtypes: float64(3), object(2)\n",
            "memory usage: 4.1+ KB\n"
          ]
        }
      ]
    },
    {
      "cell_type": "code",
      "source": [
        "# Mengecek apakah ada data yang duplicated\n",
        "data_clean.duplicated()"
      ],
      "metadata": {
        "colab": {
          "base_uri": "https://localhost:8080/"
        },
        "id": "bzrF0P95JyWu",
        "outputId": "3f88a93e-8cdc-4b59-8e25-6f668cb54655"
      },
      "execution_count": 13,
      "outputs": [
        {
          "output_type": "execute_result",
          "data": {
            "text/plain": [
              "0     False\n",
              "1     False\n",
              "2     False\n",
              "3     False\n",
              "4     False\n",
              "      ...  \n",
              "83    False\n",
              "84    False\n",
              "85    False\n",
              "86    False\n",
              "87    False\n",
              "Length: 87, dtype: bool"
            ]
          },
          "metadata": {},
          "execution_count": 13
        }
      ]
    },
    {
      "cell_type": "code",
      "source": [
        "data_clean = pd.DataFrame(data_clean)"
      ],
      "metadata": {
        "id": "wKf7NlOiJz0W"
      },
      "execution_count": 14,
      "outputs": []
    },
    {
      "cell_type": "code",
      "source": [
        "# Mengkonversi data string ke float\n",
        "data_clean['IPS (semester 1)'] = pd.to_numeric(data_clean['IPS (semester 1)'],errors='coerce')\n",
        "data_clean['IPS (semester 3)'] = pd.to_numeric(data_clean['IPS (semester 3)'], errors='coerce')"
      ],
      "metadata": {
        "id": "IJl-ji7LJ16l"
      },
      "execution_count": 15,
      "outputs": []
    },
    {
      "cell_type": "code",
      "source": [
        "data_clean.isnull().sum()"
      ],
      "metadata": {
        "colab": {
          "base_uri": "https://localhost:8080/"
        },
        "id": "3YEPx87fJ4O2",
        "outputId": "dd257660-f150-43fa-b2aa-f6ceb7d38b82"
      },
      "execution_count": 16,
      "outputs": [
        {
          "output_type": "execute_result",
          "data": {
            "text/plain": [
              "IPS (semester 1)     1\n",
              "IPS (semester 2)     0\n",
              "IPS (semester 3)    18\n",
              "IPS (semester 4)     0\n",
              "IPS (semester 5)     0\n",
              "dtype: int64"
            ]
          },
          "metadata": {},
          "execution_count": 16
        }
      ]
    },
    {
      "cell_type": "code",
      "source": [
        "data_clean['IPS (semester 1)'].fillna(4.0,inplace=True)\n",
        "data_clean['IPS (semester 3)'].fillna(4.0,inplace=True)"
      ],
      "metadata": {
        "id": "Ry0JPjEkKApY"
      },
      "execution_count": 17,
      "outputs": []
    },
    {
      "cell_type": "code",
      "source": [
        "data_clean.isnull().sum()"
      ],
      "metadata": {
        "colab": {
          "base_uri": "https://localhost:8080/"
        },
        "id": "U5Ao8AHWKHpm",
        "outputId": "6706f3f3-d9e2-4ebf-b01a-21aef81a6286"
      },
      "execution_count": 18,
      "outputs": [
        {
          "output_type": "execute_result",
          "data": {
            "text/plain": [
              "IPS (semester 1)    0\n",
              "IPS (semester 2)    0\n",
              "IPS (semester 3)    0\n",
              "IPS (semester 4)    0\n",
              "IPS (semester 5)    0\n",
              "dtype: int64"
            ]
          },
          "metadata": {},
          "execution_count": 18
        }
      ]
    },
    {
      "cell_type": "code",
      "source": [
        "def calculate_row(row):\n",
        "    return row['IPS (semester 1)'] + row['IPS (semester 2)'] + row['IPS (semester 3)'] + row['IPS (semester 4)'] + row['IPS (semester 5)']"
      ],
      "metadata": {
        "id": "NdQ3PQ2UKLTt"
      },
      "execution_count": 20,
      "outputs": []
    },
    {
      "cell_type": "code",
      "source": [
        "df = pd.DataFrame(data_clean)"
      ],
      "metadata": {
        "id": "ydTRIgE6Ka9F"
      },
      "execution_count": 21,
      "outputs": []
    },
    {
      "cell_type": "code",
      "source": [
        "df.head(10)"
      ],
      "metadata": {
        "colab": {
          "base_uri": "https://localhost:8080/",
          "height": 363
        },
        "id": "BJGtUM9FKf04",
        "outputId": "e6397ddd-4cb6-485f-d9c1-d728c894cd62"
      },
      "execution_count": 22,
      "outputs": [
        {
          "output_type": "execute_result",
          "data": {
            "text/plain": [
              "   IPS (semester 1)  IPS (semester 2)  IPS (semester 3)  IPS (semester 4)  \\\n",
              "0              4.00              3.74              4.00              3.90   \n",
              "1              4.00              3.74              4.00              3.85   \n",
              "2              3.45              3.61              3.27              3.79   \n",
              "3              4.00              3.61              3.89              3.65   \n",
              "4              4.00              3.74              3.94              3.80   \n",
              "5              4.00              3.61              4.00              3.90   \n",
              "6              4.00              3.61              3.89              3.90   \n",
              "7              3.75              3.43              3.83              3.47   \n",
              "8              3.50              3.74              3.90              3.70   \n",
              "9              3.69              3.26              3.89              4.00   \n",
              "\n",
              "   IPS (semester 5)  \n",
              "0              4.00  \n",
              "1              3.95  \n",
              "2              3.64  \n",
              "3              3.80  \n",
              "4              3.77  \n",
              "5              4.00  \n",
              "6              4.00  \n",
              "7              3.91  \n",
              "8              4.00  \n",
              "9              3.59  "
            ],
            "text/html": [
              "\n",
              "  <div id=\"df-7efcec8f-50dc-4d94-b8cb-e18f74366b70\">\n",
              "    <div class=\"colab-df-container\">\n",
              "      <div>\n",
              "<style scoped>\n",
              "    .dataframe tbody tr th:only-of-type {\n",
              "        vertical-align: middle;\n",
              "    }\n",
              "\n",
              "    .dataframe tbody tr th {\n",
              "        vertical-align: top;\n",
              "    }\n",
              "\n",
              "    .dataframe thead th {\n",
              "        text-align: right;\n",
              "    }\n",
              "</style>\n",
              "<table border=\"1\" class=\"dataframe\">\n",
              "  <thead>\n",
              "    <tr style=\"text-align: right;\">\n",
              "      <th></th>\n",
              "      <th>IPS (semester 1)</th>\n",
              "      <th>IPS (semester 2)</th>\n",
              "      <th>IPS (semester 3)</th>\n",
              "      <th>IPS (semester 4)</th>\n",
              "      <th>IPS (semester 5)</th>\n",
              "    </tr>\n",
              "  </thead>\n",
              "  <tbody>\n",
              "    <tr>\n",
              "      <th>0</th>\n",
              "      <td>4.00</td>\n",
              "      <td>3.74</td>\n",
              "      <td>4.00</td>\n",
              "      <td>3.90</td>\n",
              "      <td>4.00</td>\n",
              "    </tr>\n",
              "    <tr>\n",
              "      <th>1</th>\n",
              "      <td>4.00</td>\n",
              "      <td>3.74</td>\n",
              "      <td>4.00</td>\n",
              "      <td>3.85</td>\n",
              "      <td>3.95</td>\n",
              "    </tr>\n",
              "    <tr>\n",
              "      <th>2</th>\n",
              "      <td>3.45</td>\n",
              "      <td>3.61</td>\n",
              "      <td>3.27</td>\n",
              "      <td>3.79</td>\n",
              "      <td>3.64</td>\n",
              "    </tr>\n",
              "    <tr>\n",
              "      <th>3</th>\n",
              "      <td>4.00</td>\n",
              "      <td>3.61</td>\n",
              "      <td>3.89</td>\n",
              "      <td>3.65</td>\n",
              "      <td>3.80</td>\n",
              "    </tr>\n",
              "    <tr>\n",
              "      <th>4</th>\n",
              "      <td>4.00</td>\n",
              "      <td>3.74</td>\n",
              "      <td>3.94</td>\n",
              "      <td>3.80</td>\n",
              "      <td>3.77</td>\n",
              "    </tr>\n",
              "    <tr>\n",
              "      <th>5</th>\n",
              "      <td>4.00</td>\n",
              "      <td>3.61</td>\n",
              "      <td>4.00</td>\n",
              "      <td>3.90</td>\n",
              "      <td>4.00</td>\n",
              "    </tr>\n",
              "    <tr>\n",
              "      <th>6</th>\n",
              "      <td>4.00</td>\n",
              "      <td>3.61</td>\n",
              "      <td>3.89</td>\n",
              "      <td>3.90</td>\n",
              "      <td>4.00</td>\n",
              "    </tr>\n",
              "    <tr>\n",
              "      <th>7</th>\n",
              "      <td>3.75</td>\n",
              "      <td>3.43</td>\n",
              "      <td>3.83</td>\n",
              "      <td>3.47</td>\n",
              "      <td>3.91</td>\n",
              "    </tr>\n",
              "    <tr>\n",
              "      <th>8</th>\n",
              "      <td>3.50</td>\n",
              "      <td>3.74</td>\n",
              "      <td>3.90</td>\n",
              "      <td>3.70</td>\n",
              "      <td>4.00</td>\n",
              "    </tr>\n",
              "    <tr>\n",
              "      <th>9</th>\n",
              "      <td>3.69</td>\n",
              "      <td>3.26</td>\n",
              "      <td>3.89</td>\n",
              "      <td>4.00</td>\n",
              "      <td>3.59</td>\n",
              "    </tr>\n",
              "  </tbody>\n",
              "</table>\n",
              "</div>\n",
              "      <button class=\"colab-df-convert\" onclick=\"convertToInteractive('df-7efcec8f-50dc-4d94-b8cb-e18f74366b70')\"\n",
              "              title=\"Convert this dataframe to an interactive table.\"\n",
              "              style=\"display:none;\">\n",
              "        \n",
              "  <svg xmlns=\"http://www.w3.org/2000/svg\" height=\"24px\"viewBox=\"0 0 24 24\"\n",
              "       width=\"24px\">\n",
              "    <path d=\"M0 0h24v24H0V0z\" fill=\"none\"/>\n",
              "    <path d=\"M18.56 5.44l.94 2.06.94-2.06 2.06-.94-2.06-.94-.94-2.06-.94 2.06-2.06.94zm-11 1L8.5 8.5l.94-2.06 2.06-.94-2.06-.94L8.5 2.5l-.94 2.06-2.06.94zm10 10l.94 2.06.94-2.06 2.06-.94-2.06-.94-.94-2.06-.94 2.06-2.06.94z\"/><path d=\"M17.41 7.96l-1.37-1.37c-.4-.4-.92-.59-1.43-.59-.52 0-1.04.2-1.43.59L10.3 9.45l-7.72 7.72c-.78.78-.78 2.05 0 2.83L4 21.41c.39.39.9.59 1.41.59.51 0 1.02-.2 1.41-.59l7.78-7.78 2.81-2.81c.8-.78.8-2.07 0-2.86zM5.41 20L4 18.59l7.72-7.72 1.47 1.35L5.41 20z\"/>\n",
              "  </svg>\n",
              "      </button>\n",
              "      \n",
              "  <style>\n",
              "    .colab-df-container {\n",
              "      display:flex;\n",
              "      flex-wrap:wrap;\n",
              "      gap: 12px;\n",
              "    }\n",
              "\n",
              "    .colab-df-convert {\n",
              "      background-color: #E8F0FE;\n",
              "      border: none;\n",
              "      border-radius: 50%;\n",
              "      cursor: pointer;\n",
              "      display: none;\n",
              "      fill: #1967D2;\n",
              "      height: 32px;\n",
              "      padding: 0 0 0 0;\n",
              "      width: 32px;\n",
              "    }\n",
              "\n",
              "    .colab-df-convert:hover {\n",
              "      background-color: #E2EBFA;\n",
              "      box-shadow: 0px 1px 2px rgba(60, 64, 67, 0.3), 0px 1px 3px 1px rgba(60, 64, 67, 0.15);\n",
              "      fill: #174EA6;\n",
              "    }\n",
              "\n",
              "    [theme=dark] .colab-df-convert {\n",
              "      background-color: #3B4455;\n",
              "      fill: #D2E3FC;\n",
              "    }\n",
              "\n",
              "    [theme=dark] .colab-df-convert:hover {\n",
              "      background-color: #434B5C;\n",
              "      box-shadow: 0px 1px 3px 1px rgba(0, 0, 0, 0.15);\n",
              "      filter: drop-shadow(0px 1px 2px rgba(0, 0, 0, 0.3));\n",
              "      fill: #FFFFFF;\n",
              "    }\n",
              "  </style>\n",
              "\n",
              "      <script>\n",
              "        const buttonEl =\n",
              "          document.querySelector('#df-7efcec8f-50dc-4d94-b8cb-e18f74366b70 button.colab-df-convert');\n",
              "        buttonEl.style.display =\n",
              "          google.colab.kernel.accessAllowed ? 'block' : 'none';\n",
              "\n",
              "        async function convertToInteractive(key) {\n",
              "          const element = document.querySelector('#df-7efcec8f-50dc-4d94-b8cb-e18f74366b70');\n",
              "          const dataTable =\n",
              "            await google.colab.kernel.invokeFunction('convertToInteractive',\n",
              "                                                     [key], {});\n",
              "          if (!dataTable) return;\n",
              "\n",
              "          const docLinkHtml = 'Like what you see? Visit the ' +\n",
              "            '<a target=\"_blank\" href=https://colab.research.google.com/notebooks/data_table.ipynb>data table notebook</a>'\n",
              "            + ' to learn more about interactive tables.';\n",
              "          element.innerHTML = '';\n",
              "          dataTable['output_type'] = 'display_data';\n",
              "          await google.colab.output.renderOutput(dataTable, element);\n",
              "          const docLink = document.createElement('div');\n",
              "          docLink.innerHTML = docLinkHtml;\n",
              "          element.appendChild(docLink);\n",
              "        }\n",
              "      </script>\n",
              "    </div>\n",
              "  </div>\n",
              "  "
            ]
          },
          "metadata": {},
          "execution_count": 22
        }
      ]
    },
    {
      "cell_type": "code",
      "source": [
        "jumlah_data = len(df)\n",
        "print(jumlah_data)"
      ],
      "metadata": {
        "colab": {
          "base_uri": "https://localhost:8080/"
        },
        "id": "rvoxJ_33KihK",
        "outputId": "1f4d866d-d393-4817-f179-5964dd053bce"
      },
      "execution_count": 23,
      "outputs": [
        {
          "output_type": "stream",
          "name": "stdout",
          "text": [
            "87\n"
          ]
        }
      ]
    },
    {
      "cell_type": "code",
      "source": [
        "df.info()"
      ],
      "metadata": {
        "colab": {
          "base_uri": "https://localhost:8080/"
        },
        "id": "eMeaU0YbKtnm",
        "outputId": "2416e13f-4a88-4e55-f572-013ff79f9824"
      },
      "execution_count": 24,
      "outputs": [
        {
          "output_type": "stream",
          "name": "stdout",
          "text": [
            "<class 'pandas.core.frame.DataFrame'>\n",
            "Int64Index: 87 entries, 0 to 87\n",
            "Data columns (total 5 columns):\n",
            " #   Column            Non-Null Count  Dtype  \n",
            "---  ------            --------------  -----  \n",
            " 0   IPS (semester 1)  87 non-null     float64\n",
            " 1   IPS (semester 2)  87 non-null     float64\n",
            " 2   IPS (semester 3)  87 non-null     float64\n",
            " 3   IPS (semester 4)  87 non-null     float64\n",
            " 4   IPS (semester 5)  87 non-null     float64\n",
            "dtypes: float64(5)\n",
            "memory usage: 4.1 KB\n"
          ]
        }
      ]
    },
    {
      "cell_type": "code",
      "source": [
        "df.isnull().sum()"
      ],
      "metadata": {
        "colab": {
          "base_uri": "https://localhost:8080/"
        },
        "id": "R4wq6BItLMM1",
        "outputId": "be7df838-0796-4197-dbd8-de1fdd5b4f08"
      },
      "execution_count": 25,
      "outputs": [
        {
          "output_type": "execute_result",
          "data": {
            "text/plain": [
              "IPS (semester 1)    0\n",
              "IPS (semester 2)    0\n",
              "IPS (semester 3)    0\n",
              "IPS (semester 4)    0\n",
              "IPS (semester 5)    0\n",
              "dtype: int64"
            ]
          },
          "metadata": {},
          "execution_count": 25
        }
      ]
    },
    {
      "cell_type": "code",
      "source": [
        "df['hasil'] = df.apply(calculate_row, axis=1)"
      ],
      "metadata": {
        "id": "xeUTx0E3LSN-"
      },
      "execution_count": 26,
      "outputs": []
    },
    {
      "cell_type": "code",
      "source": [
        "df.head(10)"
      ],
      "metadata": {
        "colab": {
          "base_uri": "https://localhost:8080/",
          "height": 363
        },
        "id": "2XAJdII1LVW9",
        "outputId": "6011ab01-b7db-40fb-cb9f-17b933d0cc2c"
      },
      "execution_count": 27,
      "outputs": [
        {
          "output_type": "execute_result",
          "data": {
            "text/plain": [
              "   IPS (semester 1)  IPS (semester 2)  IPS (semester 3)  IPS (semester 4)  \\\n",
              "0              4.00              3.74              4.00              3.90   \n",
              "1              4.00              3.74              4.00              3.85   \n",
              "2              3.45              3.61              3.27              3.79   \n",
              "3              4.00              3.61              3.89              3.65   \n",
              "4              4.00              3.74              3.94              3.80   \n",
              "5              4.00              3.61              4.00              3.90   \n",
              "6              4.00              3.61              3.89              3.90   \n",
              "7              3.75              3.43              3.83              3.47   \n",
              "8              3.50              3.74              3.90              3.70   \n",
              "9              3.69              3.26              3.89              4.00   \n",
              "\n",
              "   IPS (semester 5)  hasil  \n",
              "0              4.00  19.64  \n",
              "1              3.95  19.54  \n",
              "2              3.64  17.76  \n",
              "3              3.80  18.95  \n",
              "4              3.77  19.25  \n",
              "5              4.00  19.51  \n",
              "6              4.00  19.40  \n",
              "7              3.91  18.39  \n",
              "8              4.00  18.84  \n",
              "9              3.59  18.43  "
            ],
            "text/html": [
              "\n",
              "  <div id=\"df-3d8e6c80-5c78-4014-8a63-e8b15f11f26b\">\n",
              "    <div class=\"colab-df-container\">\n",
              "      <div>\n",
              "<style scoped>\n",
              "    .dataframe tbody tr th:only-of-type {\n",
              "        vertical-align: middle;\n",
              "    }\n",
              "\n",
              "    .dataframe tbody tr th {\n",
              "        vertical-align: top;\n",
              "    }\n",
              "\n",
              "    .dataframe thead th {\n",
              "        text-align: right;\n",
              "    }\n",
              "</style>\n",
              "<table border=\"1\" class=\"dataframe\">\n",
              "  <thead>\n",
              "    <tr style=\"text-align: right;\">\n",
              "      <th></th>\n",
              "      <th>IPS (semester 1)</th>\n",
              "      <th>IPS (semester 2)</th>\n",
              "      <th>IPS (semester 3)</th>\n",
              "      <th>IPS (semester 4)</th>\n",
              "      <th>IPS (semester 5)</th>\n",
              "      <th>hasil</th>\n",
              "    </tr>\n",
              "  </thead>\n",
              "  <tbody>\n",
              "    <tr>\n",
              "      <th>0</th>\n",
              "      <td>4.00</td>\n",
              "      <td>3.74</td>\n",
              "      <td>4.00</td>\n",
              "      <td>3.90</td>\n",
              "      <td>4.00</td>\n",
              "      <td>19.64</td>\n",
              "    </tr>\n",
              "    <tr>\n",
              "      <th>1</th>\n",
              "      <td>4.00</td>\n",
              "      <td>3.74</td>\n",
              "      <td>4.00</td>\n",
              "      <td>3.85</td>\n",
              "      <td>3.95</td>\n",
              "      <td>19.54</td>\n",
              "    </tr>\n",
              "    <tr>\n",
              "      <th>2</th>\n",
              "      <td>3.45</td>\n",
              "      <td>3.61</td>\n",
              "      <td>3.27</td>\n",
              "      <td>3.79</td>\n",
              "      <td>3.64</td>\n",
              "      <td>17.76</td>\n",
              "    </tr>\n",
              "    <tr>\n",
              "      <th>3</th>\n",
              "      <td>4.00</td>\n",
              "      <td>3.61</td>\n",
              "      <td>3.89</td>\n",
              "      <td>3.65</td>\n",
              "      <td>3.80</td>\n",
              "      <td>18.95</td>\n",
              "    </tr>\n",
              "    <tr>\n",
              "      <th>4</th>\n",
              "      <td>4.00</td>\n",
              "      <td>3.74</td>\n",
              "      <td>3.94</td>\n",
              "      <td>3.80</td>\n",
              "      <td>3.77</td>\n",
              "      <td>19.25</td>\n",
              "    </tr>\n",
              "    <tr>\n",
              "      <th>5</th>\n",
              "      <td>4.00</td>\n",
              "      <td>3.61</td>\n",
              "      <td>4.00</td>\n",
              "      <td>3.90</td>\n",
              "      <td>4.00</td>\n",
              "      <td>19.51</td>\n",
              "    </tr>\n",
              "    <tr>\n",
              "      <th>6</th>\n",
              "      <td>4.00</td>\n",
              "      <td>3.61</td>\n",
              "      <td>3.89</td>\n",
              "      <td>3.90</td>\n",
              "      <td>4.00</td>\n",
              "      <td>19.40</td>\n",
              "    </tr>\n",
              "    <tr>\n",
              "      <th>7</th>\n",
              "      <td>3.75</td>\n",
              "      <td>3.43</td>\n",
              "      <td>3.83</td>\n",
              "      <td>3.47</td>\n",
              "      <td>3.91</td>\n",
              "      <td>18.39</td>\n",
              "    </tr>\n",
              "    <tr>\n",
              "      <th>8</th>\n",
              "      <td>3.50</td>\n",
              "      <td>3.74</td>\n",
              "      <td>3.90</td>\n",
              "      <td>3.70</td>\n",
              "      <td>4.00</td>\n",
              "      <td>18.84</td>\n",
              "    </tr>\n",
              "    <tr>\n",
              "      <th>9</th>\n",
              "      <td>3.69</td>\n",
              "      <td>3.26</td>\n",
              "      <td>3.89</td>\n",
              "      <td>4.00</td>\n",
              "      <td>3.59</td>\n",
              "      <td>18.43</td>\n",
              "    </tr>\n",
              "  </tbody>\n",
              "</table>\n",
              "</div>\n",
              "      <button class=\"colab-df-convert\" onclick=\"convertToInteractive('df-3d8e6c80-5c78-4014-8a63-e8b15f11f26b')\"\n",
              "              title=\"Convert this dataframe to an interactive table.\"\n",
              "              style=\"display:none;\">\n",
              "        \n",
              "  <svg xmlns=\"http://www.w3.org/2000/svg\" height=\"24px\"viewBox=\"0 0 24 24\"\n",
              "       width=\"24px\">\n",
              "    <path d=\"M0 0h24v24H0V0z\" fill=\"none\"/>\n",
              "    <path d=\"M18.56 5.44l.94 2.06.94-2.06 2.06-.94-2.06-.94-.94-2.06-.94 2.06-2.06.94zm-11 1L8.5 8.5l.94-2.06 2.06-.94-2.06-.94L8.5 2.5l-.94 2.06-2.06.94zm10 10l.94 2.06.94-2.06 2.06-.94-2.06-.94-.94-2.06-.94 2.06-2.06.94z\"/><path d=\"M17.41 7.96l-1.37-1.37c-.4-.4-.92-.59-1.43-.59-.52 0-1.04.2-1.43.59L10.3 9.45l-7.72 7.72c-.78.78-.78 2.05 0 2.83L4 21.41c.39.39.9.59 1.41.59.51 0 1.02-.2 1.41-.59l7.78-7.78 2.81-2.81c.8-.78.8-2.07 0-2.86zM5.41 20L4 18.59l7.72-7.72 1.47 1.35L5.41 20z\"/>\n",
              "  </svg>\n",
              "      </button>\n",
              "      \n",
              "  <style>\n",
              "    .colab-df-container {\n",
              "      display:flex;\n",
              "      flex-wrap:wrap;\n",
              "      gap: 12px;\n",
              "    }\n",
              "\n",
              "    .colab-df-convert {\n",
              "      background-color: #E8F0FE;\n",
              "      border: none;\n",
              "      border-radius: 50%;\n",
              "      cursor: pointer;\n",
              "      display: none;\n",
              "      fill: #1967D2;\n",
              "      height: 32px;\n",
              "      padding: 0 0 0 0;\n",
              "      width: 32px;\n",
              "    }\n",
              "\n",
              "    .colab-df-convert:hover {\n",
              "      background-color: #E2EBFA;\n",
              "      box-shadow: 0px 1px 2px rgba(60, 64, 67, 0.3), 0px 1px 3px 1px rgba(60, 64, 67, 0.15);\n",
              "      fill: #174EA6;\n",
              "    }\n",
              "\n",
              "    [theme=dark] .colab-df-convert {\n",
              "      background-color: #3B4455;\n",
              "      fill: #D2E3FC;\n",
              "    }\n",
              "\n",
              "    [theme=dark] .colab-df-convert:hover {\n",
              "      background-color: #434B5C;\n",
              "      box-shadow: 0px 1px 3px 1px rgba(0, 0, 0, 0.15);\n",
              "      filter: drop-shadow(0px 1px 2px rgba(0, 0, 0, 0.3));\n",
              "      fill: #FFFFFF;\n",
              "    }\n",
              "  </style>\n",
              "\n",
              "      <script>\n",
              "        const buttonEl =\n",
              "          document.querySelector('#df-3d8e6c80-5c78-4014-8a63-e8b15f11f26b button.colab-df-convert');\n",
              "        buttonEl.style.display =\n",
              "          google.colab.kernel.accessAllowed ? 'block' : 'none';\n",
              "\n",
              "        async function convertToInteractive(key) {\n",
              "          const element = document.querySelector('#df-3d8e6c80-5c78-4014-8a63-e8b15f11f26b');\n",
              "          const dataTable =\n",
              "            await google.colab.kernel.invokeFunction('convertToInteractive',\n",
              "                                                     [key], {});\n",
              "          if (!dataTable) return;\n",
              "\n",
              "          const docLinkHtml = 'Like what you see? Visit the ' +\n",
              "            '<a target=\"_blank\" href=https://colab.research.google.com/notebooks/data_table.ipynb>data table notebook</a>'\n",
              "            + ' to learn more about interactive tables.';\n",
              "          element.innerHTML = '';\n",
              "          dataTable['output_type'] = 'display_data';\n",
              "          await google.colab.output.renderOutput(dataTable, element);\n",
              "          const docLink = document.createElement('div');\n",
              "          docLink.innerHTML = docLinkHtml;\n",
              "          element.appendChild(docLink);\n",
              "        }\n",
              "      </script>\n",
              "    </div>\n",
              "  </div>\n",
              "  "
            ]
          },
          "metadata": {},
          "execution_count": 27
        }
      ]
    },
    {
      "cell_type": "code",
      "source": [
        "# Membuat fungsi lulus dan tidak lulus\n",
        "def graduation(nilai):\n",
        "  if nilai >= 19.00:\n",
        "    return 'Lulus Tepat Waktu'\n",
        "  else:\n",
        "    return 'Lulus Tidak Tepat Waktu'"
      ],
      "metadata": {
        "id": "mSYLR2SBLYOu"
      },
      "execution_count": 28,
      "outputs": []
    },
    {
      "cell_type": "code",
      "source": [
        "#  Menerapkan fungsi pada kolom 'hasil' untuk membuat kolom 'kelulusan'\n",
        "df['kelulusan'] = df['hasil'].apply(graduation)"
      ],
      "metadata": {
        "id": "JaFCcSgmLdyn"
      },
      "execution_count": 29,
      "outputs": []
    },
    {
      "cell_type": "code",
      "source": [
        "df.head(10)"
      ],
      "metadata": {
        "colab": {
          "base_uri": "https://localhost:8080/",
          "height": 363
        },
        "id": "81UM5l3rLhgG",
        "outputId": "01242037-6670-4186-a0f0-9999b27d67c1"
      },
      "execution_count": 30,
      "outputs": [
        {
          "output_type": "execute_result",
          "data": {
            "text/plain": [
              "   IPS (semester 1)  IPS (semester 2)  IPS (semester 3)  IPS (semester 4)  \\\n",
              "0              4.00              3.74              4.00              3.90   \n",
              "1              4.00              3.74              4.00              3.85   \n",
              "2              3.45              3.61              3.27              3.79   \n",
              "3              4.00              3.61              3.89              3.65   \n",
              "4              4.00              3.74              3.94              3.80   \n",
              "5              4.00              3.61              4.00              3.90   \n",
              "6              4.00              3.61              3.89              3.90   \n",
              "7              3.75              3.43              3.83              3.47   \n",
              "8              3.50              3.74              3.90              3.70   \n",
              "9              3.69              3.26              3.89              4.00   \n",
              "\n",
              "   IPS (semester 5)  hasil                kelulusan  \n",
              "0              4.00  19.64        Lulus Tepat Waktu  \n",
              "1              3.95  19.54        Lulus Tepat Waktu  \n",
              "2              3.64  17.76  Lulus Tidak Tepat Waktu  \n",
              "3              3.80  18.95  Lulus Tidak Tepat Waktu  \n",
              "4              3.77  19.25        Lulus Tepat Waktu  \n",
              "5              4.00  19.51        Lulus Tepat Waktu  \n",
              "6              4.00  19.40        Lulus Tepat Waktu  \n",
              "7              3.91  18.39  Lulus Tidak Tepat Waktu  \n",
              "8              4.00  18.84  Lulus Tidak Tepat Waktu  \n",
              "9              3.59  18.43  Lulus Tidak Tepat Waktu  "
            ],
            "text/html": [
              "\n",
              "  <div id=\"df-ad04d493-75db-43f3-a6c2-6d866688899f\">\n",
              "    <div class=\"colab-df-container\">\n",
              "      <div>\n",
              "<style scoped>\n",
              "    .dataframe tbody tr th:only-of-type {\n",
              "        vertical-align: middle;\n",
              "    }\n",
              "\n",
              "    .dataframe tbody tr th {\n",
              "        vertical-align: top;\n",
              "    }\n",
              "\n",
              "    .dataframe thead th {\n",
              "        text-align: right;\n",
              "    }\n",
              "</style>\n",
              "<table border=\"1\" class=\"dataframe\">\n",
              "  <thead>\n",
              "    <tr style=\"text-align: right;\">\n",
              "      <th></th>\n",
              "      <th>IPS (semester 1)</th>\n",
              "      <th>IPS (semester 2)</th>\n",
              "      <th>IPS (semester 3)</th>\n",
              "      <th>IPS (semester 4)</th>\n",
              "      <th>IPS (semester 5)</th>\n",
              "      <th>hasil</th>\n",
              "      <th>kelulusan</th>\n",
              "    </tr>\n",
              "  </thead>\n",
              "  <tbody>\n",
              "    <tr>\n",
              "      <th>0</th>\n",
              "      <td>4.00</td>\n",
              "      <td>3.74</td>\n",
              "      <td>4.00</td>\n",
              "      <td>3.90</td>\n",
              "      <td>4.00</td>\n",
              "      <td>19.64</td>\n",
              "      <td>Lulus Tepat Waktu</td>\n",
              "    </tr>\n",
              "    <tr>\n",
              "      <th>1</th>\n",
              "      <td>4.00</td>\n",
              "      <td>3.74</td>\n",
              "      <td>4.00</td>\n",
              "      <td>3.85</td>\n",
              "      <td>3.95</td>\n",
              "      <td>19.54</td>\n",
              "      <td>Lulus Tepat Waktu</td>\n",
              "    </tr>\n",
              "    <tr>\n",
              "      <th>2</th>\n",
              "      <td>3.45</td>\n",
              "      <td>3.61</td>\n",
              "      <td>3.27</td>\n",
              "      <td>3.79</td>\n",
              "      <td>3.64</td>\n",
              "      <td>17.76</td>\n",
              "      <td>Lulus Tidak Tepat Waktu</td>\n",
              "    </tr>\n",
              "    <tr>\n",
              "      <th>3</th>\n",
              "      <td>4.00</td>\n",
              "      <td>3.61</td>\n",
              "      <td>3.89</td>\n",
              "      <td>3.65</td>\n",
              "      <td>3.80</td>\n",
              "      <td>18.95</td>\n",
              "      <td>Lulus Tidak Tepat Waktu</td>\n",
              "    </tr>\n",
              "    <tr>\n",
              "      <th>4</th>\n",
              "      <td>4.00</td>\n",
              "      <td>3.74</td>\n",
              "      <td>3.94</td>\n",
              "      <td>3.80</td>\n",
              "      <td>3.77</td>\n",
              "      <td>19.25</td>\n",
              "      <td>Lulus Tepat Waktu</td>\n",
              "    </tr>\n",
              "    <tr>\n",
              "      <th>5</th>\n",
              "      <td>4.00</td>\n",
              "      <td>3.61</td>\n",
              "      <td>4.00</td>\n",
              "      <td>3.90</td>\n",
              "      <td>4.00</td>\n",
              "      <td>19.51</td>\n",
              "      <td>Lulus Tepat Waktu</td>\n",
              "    </tr>\n",
              "    <tr>\n",
              "      <th>6</th>\n",
              "      <td>4.00</td>\n",
              "      <td>3.61</td>\n",
              "      <td>3.89</td>\n",
              "      <td>3.90</td>\n",
              "      <td>4.00</td>\n",
              "      <td>19.40</td>\n",
              "      <td>Lulus Tepat Waktu</td>\n",
              "    </tr>\n",
              "    <tr>\n",
              "      <th>7</th>\n",
              "      <td>3.75</td>\n",
              "      <td>3.43</td>\n",
              "      <td>3.83</td>\n",
              "      <td>3.47</td>\n",
              "      <td>3.91</td>\n",
              "      <td>18.39</td>\n",
              "      <td>Lulus Tidak Tepat Waktu</td>\n",
              "    </tr>\n",
              "    <tr>\n",
              "      <th>8</th>\n",
              "      <td>3.50</td>\n",
              "      <td>3.74</td>\n",
              "      <td>3.90</td>\n",
              "      <td>3.70</td>\n",
              "      <td>4.00</td>\n",
              "      <td>18.84</td>\n",
              "      <td>Lulus Tidak Tepat Waktu</td>\n",
              "    </tr>\n",
              "    <tr>\n",
              "      <th>9</th>\n",
              "      <td>3.69</td>\n",
              "      <td>3.26</td>\n",
              "      <td>3.89</td>\n",
              "      <td>4.00</td>\n",
              "      <td>3.59</td>\n",
              "      <td>18.43</td>\n",
              "      <td>Lulus Tidak Tepat Waktu</td>\n",
              "    </tr>\n",
              "  </tbody>\n",
              "</table>\n",
              "</div>\n",
              "      <button class=\"colab-df-convert\" onclick=\"convertToInteractive('df-ad04d493-75db-43f3-a6c2-6d866688899f')\"\n",
              "              title=\"Convert this dataframe to an interactive table.\"\n",
              "              style=\"display:none;\">\n",
              "        \n",
              "  <svg xmlns=\"http://www.w3.org/2000/svg\" height=\"24px\"viewBox=\"0 0 24 24\"\n",
              "       width=\"24px\">\n",
              "    <path d=\"M0 0h24v24H0V0z\" fill=\"none\"/>\n",
              "    <path d=\"M18.56 5.44l.94 2.06.94-2.06 2.06-.94-2.06-.94-.94-2.06-.94 2.06-2.06.94zm-11 1L8.5 8.5l.94-2.06 2.06-.94-2.06-.94L8.5 2.5l-.94 2.06-2.06.94zm10 10l.94 2.06.94-2.06 2.06-.94-2.06-.94-.94-2.06-.94 2.06-2.06.94z\"/><path d=\"M17.41 7.96l-1.37-1.37c-.4-.4-.92-.59-1.43-.59-.52 0-1.04.2-1.43.59L10.3 9.45l-7.72 7.72c-.78.78-.78 2.05 0 2.83L4 21.41c.39.39.9.59 1.41.59.51 0 1.02-.2 1.41-.59l7.78-7.78 2.81-2.81c.8-.78.8-2.07 0-2.86zM5.41 20L4 18.59l7.72-7.72 1.47 1.35L5.41 20z\"/>\n",
              "  </svg>\n",
              "      </button>\n",
              "      \n",
              "  <style>\n",
              "    .colab-df-container {\n",
              "      display:flex;\n",
              "      flex-wrap:wrap;\n",
              "      gap: 12px;\n",
              "    }\n",
              "\n",
              "    .colab-df-convert {\n",
              "      background-color: #E8F0FE;\n",
              "      border: none;\n",
              "      border-radius: 50%;\n",
              "      cursor: pointer;\n",
              "      display: none;\n",
              "      fill: #1967D2;\n",
              "      height: 32px;\n",
              "      padding: 0 0 0 0;\n",
              "      width: 32px;\n",
              "    }\n",
              "\n",
              "    .colab-df-convert:hover {\n",
              "      background-color: #E2EBFA;\n",
              "      box-shadow: 0px 1px 2px rgba(60, 64, 67, 0.3), 0px 1px 3px 1px rgba(60, 64, 67, 0.15);\n",
              "      fill: #174EA6;\n",
              "    }\n",
              "\n",
              "    [theme=dark] .colab-df-convert {\n",
              "      background-color: #3B4455;\n",
              "      fill: #D2E3FC;\n",
              "    }\n",
              "\n",
              "    [theme=dark] .colab-df-convert:hover {\n",
              "      background-color: #434B5C;\n",
              "      box-shadow: 0px 1px 3px 1px rgba(0, 0, 0, 0.15);\n",
              "      filter: drop-shadow(0px 1px 2px rgba(0, 0, 0, 0.3));\n",
              "      fill: #FFFFFF;\n",
              "    }\n",
              "  </style>\n",
              "\n",
              "      <script>\n",
              "        const buttonEl =\n",
              "          document.querySelector('#df-ad04d493-75db-43f3-a6c2-6d866688899f button.colab-df-convert');\n",
              "        buttonEl.style.display =\n",
              "          google.colab.kernel.accessAllowed ? 'block' : 'none';\n",
              "\n",
              "        async function convertToInteractive(key) {\n",
              "          const element = document.querySelector('#df-ad04d493-75db-43f3-a6c2-6d866688899f');\n",
              "          const dataTable =\n",
              "            await google.colab.kernel.invokeFunction('convertToInteractive',\n",
              "                                                     [key], {});\n",
              "          if (!dataTable) return;\n",
              "\n",
              "          const docLinkHtml = 'Like what you see? Visit the ' +\n",
              "            '<a target=\"_blank\" href=https://colab.research.google.com/notebooks/data_table.ipynb>data table notebook</a>'\n",
              "            + ' to learn more about interactive tables.';\n",
              "          element.innerHTML = '';\n",
              "          dataTable['output_type'] = 'display_data';\n",
              "          await google.colab.output.renderOutput(dataTable, element);\n",
              "          const docLink = document.createElement('div');\n",
              "          docLink.innerHTML = docLinkHtml;\n",
              "          element.appendChild(docLink);\n",
              "        }\n",
              "      </script>\n",
              "    </div>\n",
              "  </div>\n",
              "  "
            ]
          },
          "metadata": {},
          "execution_count": 30
        }
      ]
    },
    {
      "cell_type": "code",
      "source": [
        "# Mengubah data \"Lulus\" menjadi 1 dan \"Tidak Lulus\" menjadi 0\n",
        "df['kelulusan'] = df['kelulusan'].map({'Lulus Tepat Waktu': 1, 'Lulus Tidak Tepat Waktu': 0})"
      ],
      "metadata": {
        "id": "jnlrqAZJLkQP"
      },
      "execution_count": 32,
      "outputs": []
    },
    {
      "cell_type": "code",
      "source": [
        "df.head(10)"
      ],
      "metadata": {
        "colab": {
          "base_uri": "https://localhost:8080/",
          "height": 363
        },
        "id": "HF4oC-_dL1T3",
        "outputId": "758c9b04-a06c-442c-8e00-95303eb45d63"
      },
      "execution_count": 33,
      "outputs": [
        {
          "output_type": "execute_result",
          "data": {
            "text/plain": [
              "   IPS (semester 1)  IPS (semester 2)  IPS (semester 3)  IPS (semester 4)  \\\n",
              "0              4.00              3.74              4.00              3.90   \n",
              "1              4.00              3.74              4.00              3.85   \n",
              "2              3.45              3.61              3.27              3.79   \n",
              "3              4.00              3.61              3.89              3.65   \n",
              "4              4.00              3.74              3.94              3.80   \n",
              "5              4.00              3.61              4.00              3.90   \n",
              "6              4.00              3.61              3.89              3.90   \n",
              "7              3.75              3.43              3.83              3.47   \n",
              "8              3.50              3.74              3.90              3.70   \n",
              "9              3.69              3.26              3.89              4.00   \n",
              "\n",
              "   IPS (semester 5)  hasil  kelulusan  \n",
              "0              4.00  19.64          1  \n",
              "1              3.95  19.54          1  \n",
              "2              3.64  17.76          0  \n",
              "3              3.80  18.95          0  \n",
              "4              3.77  19.25          1  \n",
              "5              4.00  19.51          1  \n",
              "6              4.00  19.40          1  \n",
              "7              3.91  18.39          0  \n",
              "8              4.00  18.84          0  \n",
              "9              3.59  18.43          0  "
            ],
            "text/html": [
              "\n",
              "  <div id=\"df-7f2aef5b-596f-4711-bf87-f81682a95e8d\">\n",
              "    <div class=\"colab-df-container\">\n",
              "      <div>\n",
              "<style scoped>\n",
              "    .dataframe tbody tr th:only-of-type {\n",
              "        vertical-align: middle;\n",
              "    }\n",
              "\n",
              "    .dataframe tbody tr th {\n",
              "        vertical-align: top;\n",
              "    }\n",
              "\n",
              "    .dataframe thead th {\n",
              "        text-align: right;\n",
              "    }\n",
              "</style>\n",
              "<table border=\"1\" class=\"dataframe\">\n",
              "  <thead>\n",
              "    <tr style=\"text-align: right;\">\n",
              "      <th></th>\n",
              "      <th>IPS (semester 1)</th>\n",
              "      <th>IPS (semester 2)</th>\n",
              "      <th>IPS (semester 3)</th>\n",
              "      <th>IPS (semester 4)</th>\n",
              "      <th>IPS (semester 5)</th>\n",
              "      <th>hasil</th>\n",
              "      <th>kelulusan</th>\n",
              "    </tr>\n",
              "  </thead>\n",
              "  <tbody>\n",
              "    <tr>\n",
              "      <th>0</th>\n",
              "      <td>4.00</td>\n",
              "      <td>3.74</td>\n",
              "      <td>4.00</td>\n",
              "      <td>3.90</td>\n",
              "      <td>4.00</td>\n",
              "      <td>19.64</td>\n",
              "      <td>1</td>\n",
              "    </tr>\n",
              "    <tr>\n",
              "      <th>1</th>\n",
              "      <td>4.00</td>\n",
              "      <td>3.74</td>\n",
              "      <td>4.00</td>\n",
              "      <td>3.85</td>\n",
              "      <td>3.95</td>\n",
              "      <td>19.54</td>\n",
              "      <td>1</td>\n",
              "    </tr>\n",
              "    <tr>\n",
              "      <th>2</th>\n",
              "      <td>3.45</td>\n",
              "      <td>3.61</td>\n",
              "      <td>3.27</td>\n",
              "      <td>3.79</td>\n",
              "      <td>3.64</td>\n",
              "      <td>17.76</td>\n",
              "      <td>0</td>\n",
              "    </tr>\n",
              "    <tr>\n",
              "      <th>3</th>\n",
              "      <td>4.00</td>\n",
              "      <td>3.61</td>\n",
              "      <td>3.89</td>\n",
              "      <td>3.65</td>\n",
              "      <td>3.80</td>\n",
              "      <td>18.95</td>\n",
              "      <td>0</td>\n",
              "    </tr>\n",
              "    <tr>\n",
              "      <th>4</th>\n",
              "      <td>4.00</td>\n",
              "      <td>3.74</td>\n",
              "      <td>3.94</td>\n",
              "      <td>3.80</td>\n",
              "      <td>3.77</td>\n",
              "      <td>19.25</td>\n",
              "      <td>1</td>\n",
              "    </tr>\n",
              "    <tr>\n",
              "      <th>5</th>\n",
              "      <td>4.00</td>\n",
              "      <td>3.61</td>\n",
              "      <td>4.00</td>\n",
              "      <td>3.90</td>\n",
              "      <td>4.00</td>\n",
              "      <td>19.51</td>\n",
              "      <td>1</td>\n",
              "    </tr>\n",
              "    <tr>\n",
              "      <th>6</th>\n",
              "      <td>4.00</td>\n",
              "      <td>3.61</td>\n",
              "      <td>3.89</td>\n",
              "      <td>3.90</td>\n",
              "      <td>4.00</td>\n",
              "      <td>19.40</td>\n",
              "      <td>1</td>\n",
              "    </tr>\n",
              "    <tr>\n",
              "      <th>7</th>\n",
              "      <td>3.75</td>\n",
              "      <td>3.43</td>\n",
              "      <td>3.83</td>\n",
              "      <td>3.47</td>\n",
              "      <td>3.91</td>\n",
              "      <td>18.39</td>\n",
              "      <td>0</td>\n",
              "    </tr>\n",
              "    <tr>\n",
              "      <th>8</th>\n",
              "      <td>3.50</td>\n",
              "      <td>3.74</td>\n",
              "      <td>3.90</td>\n",
              "      <td>3.70</td>\n",
              "      <td>4.00</td>\n",
              "      <td>18.84</td>\n",
              "      <td>0</td>\n",
              "    </tr>\n",
              "    <tr>\n",
              "      <th>9</th>\n",
              "      <td>3.69</td>\n",
              "      <td>3.26</td>\n",
              "      <td>3.89</td>\n",
              "      <td>4.00</td>\n",
              "      <td>3.59</td>\n",
              "      <td>18.43</td>\n",
              "      <td>0</td>\n",
              "    </tr>\n",
              "  </tbody>\n",
              "</table>\n",
              "</div>\n",
              "      <button class=\"colab-df-convert\" onclick=\"convertToInteractive('df-7f2aef5b-596f-4711-bf87-f81682a95e8d')\"\n",
              "              title=\"Convert this dataframe to an interactive table.\"\n",
              "              style=\"display:none;\">\n",
              "        \n",
              "  <svg xmlns=\"http://www.w3.org/2000/svg\" height=\"24px\"viewBox=\"0 0 24 24\"\n",
              "       width=\"24px\">\n",
              "    <path d=\"M0 0h24v24H0V0z\" fill=\"none\"/>\n",
              "    <path d=\"M18.56 5.44l.94 2.06.94-2.06 2.06-.94-2.06-.94-.94-2.06-.94 2.06-2.06.94zm-11 1L8.5 8.5l.94-2.06 2.06-.94-2.06-.94L8.5 2.5l-.94 2.06-2.06.94zm10 10l.94 2.06.94-2.06 2.06-.94-2.06-.94-.94-2.06-.94 2.06-2.06.94z\"/><path d=\"M17.41 7.96l-1.37-1.37c-.4-.4-.92-.59-1.43-.59-.52 0-1.04.2-1.43.59L10.3 9.45l-7.72 7.72c-.78.78-.78 2.05 0 2.83L4 21.41c.39.39.9.59 1.41.59.51 0 1.02-.2 1.41-.59l7.78-7.78 2.81-2.81c.8-.78.8-2.07 0-2.86zM5.41 20L4 18.59l7.72-7.72 1.47 1.35L5.41 20z\"/>\n",
              "  </svg>\n",
              "      </button>\n",
              "      \n",
              "  <style>\n",
              "    .colab-df-container {\n",
              "      display:flex;\n",
              "      flex-wrap:wrap;\n",
              "      gap: 12px;\n",
              "    }\n",
              "\n",
              "    .colab-df-convert {\n",
              "      background-color: #E8F0FE;\n",
              "      border: none;\n",
              "      border-radius: 50%;\n",
              "      cursor: pointer;\n",
              "      display: none;\n",
              "      fill: #1967D2;\n",
              "      height: 32px;\n",
              "      padding: 0 0 0 0;\n",
              "      width: 32px;\n",
              "    }\n",
              "\n",
              "    .colab-df-convert:hover {\n",
              "      background-color: #E2EBFA;\n",
              "      box-shadow: 0px 1px 2px rgba(60, 64, 67, 0.3), 0px 1px 3px 1px rgba(60, 64, 67, 0.15);\n",
              "      fill: #174EA6;\n",
              "    }\n",
              "\n",
              "    [theme=dark] .colab-df-convert {\n",
              "      background-color: #3B4455;\n",
              "      fill: #D2E3FC;\n",
              "    }\n",
              "\n",
              "    [theme=dark] .colab-df-convert:hover {\n",
              "      background-color: #434B5C;\n",
              "      box-shadow: 0px 1px 3px 1px rgba(0, 0, 0, 0.15);\n",
              "      filter: drop-shadow(0px 1px 2px rgba(0, 0, 0, 0.3));\n",
              "      fill: #FFFFFF;\n",
              "    }\n",
              "  </style>\n",
              "\n",
              "      <script>\n",
              "        const buttonEl =\n",
              "          document.querySelector('#df-7f2aef5b-596f-4711-bf87-f81682a95e8d button.colab-df-convert');\n",
              "        buttonEl.style.display =\n",
              "          google.colab.kernel.accessAllowed ? 'block' : 'none';\n",
              "\n",
              "        async function convertToInteractive(key) {\n",
              "          const element = document.querySelector('#df-7f2aef5b-596f-4711-bf87-f81682a95e8d');\n",
              "          const dataTable =\n",
              "            await google.colab.kernel.invokeFunction('convertToInteractive',\n",
              "                                                     [key], {});\n",
              "          if (!dataTable) return;\n",
              "\n",
              "          const docLinkHtml = 'Like what you see? Visit the ' +\n",
              "            '<a target=\"_blank\" href=https://colab.research.google.com/notebooks/data_table.ipynb>data table notebook</a>'\n",
              "            + ' to learn more about interactive tables.';\n",
              "          element.innerHTML = '';\n",
              "          dataTable['output_type'] = 'display_data';\n",
              "          await google.colab.output.renderOutput(dataTable, element);\n",
              "          const docLink = document.createElement('div');\n",
              "          docLink.innerHTML = docLinkHtml;\n",
              "          element.appendChild(docLink);\n",
              "        }\n",
              "      </script>\n",
              "    </div>\n",
              "  </div>\n",
              "  "
            ]
          },
          "metadata": {},
          "execution_count": 33
        }
      ]
    },
    {
      "cell_type": "code",
      "source": [
        "X = df[df.columns[:6]]"
      ],
      "metadata": {
        "id": "DNTjHfQMLyec"
      },
      "execution_count": 40,
      "outputs": []
    },
    {
      "cell_type": "code",
      "source": [
        "y = df['kelulusan']"
      ],
      "metadata": {
        "id": "qv4-xlLEMASv"
      },
      "execution_count": 41,
      "outputs": []
    },
    {
      "cell_type": "code",
      "source": [
        "# Membagi dataset menjadi data latih dan data uji\n",
        "X_train, X_test, y_train, y_test = train_test_split(X, y, test_size=0.2)"
      ],
      "metadata": {
        "id": "NDea3G6RMnSN"
      },
      "execution_count": 42,
      "outputs": []
    },
    {
      "cell_type": "code",
      "source": [
        "model = Sequential()\n",
        "model.add(Dense(32, input_dim=X.shape[1], activation='relu'))\n",
        "model.add(Dense(1024,activation='relu'))\n",
        "model.add(Dense(512,activation='relu'))\n",
        "model.add(Dense(256,activation='relu'))\n",
        "model.add(Dense(128,activation='relu'))\n",
        "model.add(Dense(16,activation='relu'))\n",
        "model.add(Dense(1, activation='sigmoid'))"
      ],
      "metadata": {
        "id": "YM5QSNE-Mp9g"
      },
      "execution_count": 113,
      "outputs": []
    },
    {
      "cell_type": "code",
      "source": [
        "# Mengompilasi model\n",
        "model.compile(loss='binary_crossentropy', optimizer='adam', metrics=['accuracy'])"
      ],
      "metadata": {
        "id": "J8x8g1bZMtdq"
      },
      "execution_count": 114,
      "outputs": []
    },
    {
      "cell_type": "code",
      "source": [
        "# Melatih model\n",
        "model.fit(X_train, y_train, epochs=100, batch_size=10, validation_data = (X_test,y_test),verbose=1)\n"
      ],
      "metadata": {
        "colab": {
          "base_uri": "https://localhost:8080/"
        },
        "id": "eH_DLBl8Mvw1",
        "outputId": "f69d9b06-9d0f-4100-8809-6608ec6d2661"
      },
      "execution_count": 115,
      "outputs": [
        {
          "output_type": "stream",
          "name": "stdout",
          "text": [
            "Epoch 1/100\n",
            "7/7 [==============================] - 4s 52ms/step - loss: 0.4985 - accuracy: 0.7536 - val_loss: 0.6256 - val_accuracy: 0.7778\n",
            "Epoch 2/100\n",
            "7/7 [==============================] - 0s 15ms/step - loss: 0.3969 - accuracy: 0.8986 - val_loss: 0.5674 - val_accuracy: 0.7778\n",
            "Epoch 3/100\n",
            "7/7 [==============================] - 0s 13ms/step - loss: 0.4234 - accuracy: 0.8986 - val_loss: 0.7565 - val_accuracy: 0.7778\n",
            "Epoch 4/100\n",
            "7/7 [==============================] - 0s 13ms/step - loss: 0.4216 - accuracy: 0.8986 - val_loss: 0.5604 - val_accuracy: 0.7778\n",
            "Epoch 5/100\n",
            "7/7 [==============================] - 0s 15ms/step - loss: 0.3545 - accuracy: 0.8986 - val_loss: 0.6796 - val_accuracy: 0.7778\n",
            "Epoch 6/100\n",
            "7/7 [==============================] - 0s 13ms/step - loss: 0.3668 - accuracy: 0.8986 - val_loss: 0.6970 - val_accuracy: 0.7778\n",
            "Epoch 7/100\n",
            "7/7 [==============================] - 0s 15ms/step - loss: 0.3637 - accuracy: 0.8986 - val_loss: 0.6060 - val_accuracy: 0.7778\n",
            "Epoch 8/100\n",
            "7/7 [==============================] - 0s 15ms/step - loss: 0.3595 - accuracy: 0.8986 - val_loss: 0.6081 - val_accuracy: 0.7778\n",
            "Epoch 9/100\n",
            "7/7 [==============================] - 0s 14ms/step - loss: 0.3627 - accuracy: 0.8986 - val_loss: 0.6146 - val_accuracy: 0.7778\n",
            "Epoch 10/100\n",
            "7/7 [==============================] - 0s 11ms/step - loss: 0.3485 - accuracy: 0.8986 - val_loss: 0.6533 - val_accuracy: 0.7778\n",
            "Epoch 11/100\n",
            "7/7 [==============================] - 0s 11ms/step - loss: 0.3571 - accuracy: 0.8986 - val_loss: 0.6282 - val_accuracy: 0.7778\n",
            "Epoch 12/100\n",
            "7/7 [==============================] - 0s 9ms/step - loss: 0.3548 - accuracy: 0.8986 - val_loss: 0.6218 - val_accuracy: 0.7778\n",
            "Epoch 13/100\n",
            "7/7 [==============================] - 0s 8ms/step - loss: 0.3489 - accuracy: 0.8986 - val_loss: 0.6253 - val_accuracy: 0.7778\n",
            "Epoch 14/100\n",
            "7/7 [==============================] - 0s 11ms/step - loss: 0.3596 - accuracy: 0.8986 - val_loss: 0.5938 - val_accuracy: 0.7778\n",
            "Epoch 15/100\n",
            "7/7 [==============================] - 0s 8ms/step - loss: 0.3543 - accuracy: 0.8986 - val_loss: 0.6429 - val_accuracy: 0.7778\n",
            "Epoch 16/100\n",
            "7/7 [==============================] - 0s 8ms/step - loss: 0.3537 - accuracy: 0.8986 - val_loss: 0.5733 - val_accuracy: 0.7778\n",
            "Epoch 17/100\n",
            "7/7 [==============================] - 0s 11ms/step - loss: 0.3399 - accuracy: 0.8986 - val_loss: 0.6371 - val_accuracy: 0.7778\n",
            "Epoch 18/100\n",
            "7/7 [==============================] - 0s 8ms/step - loss: 0.3417 - accuracy: 0.8986 - val_loss: 0.5965 - val_accuracy: 0.7778\n",
            "Epoch 19/100\n",
            "7/7 [==============================] - 0s 11ms/step - loss: 0.3558 - accuracy: 0.8986 - val_loss: 0.6322 - val_accuracy: 0.7778\n",
            "Epoch 20/100\n",
            "7/7 [==============================] - 0s 11ms/step - loss: 0.3502 - accuracy: 0.8986 - val_loss: 0.5379 - val_accuracy: 0.7778\n",
            "Epoch 21/100\n",
            "7/7 [==============================] - 0s 12ms/step - loss: 0.3409 - accuracy: 0.8986 - val_loss: 0.6565 - val_accuracy: 0.7778\n",
            "Epoch 22/100\n",
            "7/7 [==============================] - 0s 9ms/step - loss: 0.3392 - accuracy: 0.8986 - val_loss: 0.5694 - val_accuracy: 0.7778\n",
            "Epoch 23/100\n",
            "7/7 [==============================] - 0s 9ms/step - loss: 0.3246 - accuracy: 0.8986 - val_loss: 0.5669 - val_accuracy: 0.7778\n",
            "Epoch 24/100\n",
            "7/7 [==============================] - 0s 10ms/step - loss: 0.3246 - accuracy: 0.8986 - val_loss: 0.5312 - val_accuracy: 0.7778\n",
            "Epoch 25/100\n",
            "7/7 [==============================] - 0s 9ms/step - loss: 0.3344 - accuracy: 0.8986 - val_loss: 0.5511 - val_accuracy: 0.7778\n",
            "Epoch 26/100\n",
            "7/7 [==============================] - 0s 11ms/step - loss: 0.3028 - accuracy: 0.8986 - val_loss: 0.5236 - val_accuracy: 0.7778\n",
            "Epoch 27/100\n",
            "7/7 [==============================] - 0s 8ms/step - loss: 0.3130 - accuracy: 0.8986 - val_loss: 0.5074 - val_accuracy: 0.7778\n",
            "Epoch 28/100\n",
            "7/7 [==============================] - 0s 11ms/step - loss: 0.2881 - accuracy: 0.8986 - val_loss: 0.5089 - val_accuracy: 0.7778\n",
            "Epoch 29/100\n",
            "7/7 [==============================] - 0s 8ms/step - loss: 0.3545 - accuracy: 0.8986 - val_loss: 0.4742 - val_accuracy: 0.7778\n",
            "Epoch 30/100\n",
            "7/7 [==============================] - 0s 8ms/step - loss: 0.3266 - accuracy: 0.8986 - val_loss: 0.5009 - val_accuracy: 0.7778\n",
            "Epoch 31/100\n",
            "7/7 [==============================] - 0s 8ms/step - loss: 0.3022 - accuracy: 0.8986 - val_loss: 0.4923 - val_accuracy: 0.7778\n",
            "Epoch 32/100\n",
            "7/7 [==============================] - 0s 9ms/step - loss: 0.3029 - accuracy: 0.8986 - val_loss: 0.4829 - val_accuracy: 0.7778\n",
            "Epoch 33/100\n",
            "7/7 [==============================] - 0s 11ms/step - loss: 0.3622 - accuracy: 0.8986 - val_loss: 0.5551 - val_accuracy: 0.7778\n",
            "Epoch 34/100\n",
            "7/7 [==============================] - 0s 9ms/step - loss: 0.3272 - accuracy: 0.8986 - val_loss: 0.4607 - val_accuracy: 0.7778\n",
            "Epoch 35/100\n",
            "7/7 [==============================] - 0s 8ms/step - loss: 0.3299 - accuracy: 0.8986 - val_loss: 0.6448 - val_accuracy: 0.7778\n",
            "Epoch 36/100\n",
            "7/7 [==============================] - 0s 11ms/step - loss: 0.2890 - accuracy: 0.8986 - val_loss: 0.4602 - val_accuracy: 0.7778\n",
            "Epoch 37/100\n",
            "7/7 [==============================] - 0s 8ms/step - loss: 0.2729 - accuracy: 0.8986 - val_loss: 0.4840 - val_accuracy: 0.7778\n",
            "Epoch 38/100\n",
            "7/7 [==============================] - 0s 12ms/step - loss: 0.2488 - accuracy: 0.8986 - val_loss: 0.4356 - val_accuracy: 0.7778\n",
            "Epoch 39/100\n",
            "7/7 [==============================] - 0s 11ms/step - loss: 0.2253 - accuracy: 0.8986 - val_loss: 0.4015 - val_accuracy: 0.7778\n",
            "Epoch 40/100\n",
            "7/7 [==============================] - 0s 11ms/step - loss: 0.2074 - accuracy: 0.8986 - val_loss: 0.4286 - val_accuracy: 0.7778\n",
            "Epoch 41/100\n",
            "7/7 [==============================] - 0s 11ms/step - loss: 0.1667 - accuracy: 0.8986 - val_loss: 0.3663 - val_accuracy: 0.7778\n",
            "Epoch 42/100\n",
            "7/7 [==============================] - 0s 9ms/step - loss: 0.1832 - accuracy: 0.8986 - val_loss: 0.3690 - val_accuracy: 0.7778\n",
            "Epoch 43/100\n",
            "7/7 [==============================] - 0s 9ms/step - loss: 0.1564 - accuracy: 0.8986 - val_loss: 0.3703 - val_accuracy: 0.7778\n",
            "Epoch 44/100\n",
            "7/7 [==============================] - 0s 8ms/step - loss: 0.1342 - accuracy: 0.8986 - val_loss: 0.3622 - val_accuracy: 0.7778\n",
            "Epoch 45/100\n",
            "7/7 [==============================] - 0s 9ms/step - loss: 0.1173 - accuracy: 0.8986 - val_loss: 0.3730 - val_accuracy: 0.7778\n",
            "Epoch 46/100\n",
            "7/7 [==============================] - 0s 9ms/step - loss: 0.2999 - accuracy: 0.8986 - val_loss: 0.4152 - val_accuracy: 0.7778\n",
            "Epoch 47/100\n",
            "7/7 [==============================] - 0s 8ms/step - loss: 0.2847 - accuracy: 0.8986 - val_loss: 0.4210 - val_accuracy: 0.7778\n",
            "Epoch 48/100\n",
            "7/7 [==============================] - 0s 11ms/step - loss: 0.2925 - accuracy: 0.8986 - val_loss: 0.4356 - val_accuracy: 0.7778\n",
            "Epoch 49/100\n",
            "7/7 [==============================] - 0s 9ms/step - loss: 0.1957 - accuracy: 0.8986 - val_loss: 0.3763 - val_accuracy: 0.7778\n",
            "Epoch 50/100\n",
            "7/7 [==============================] - 0s 9ms/step - loss: 0.1447 - accuracy: 0.8986 - val_loss: 0.3678 - val_accuracy: 0.7778\n",
            "Epoch 51/100\n",
            "7/7 [==============================] - 0s 9ms/step - loss: 0.2004 - accuracy: 0.8986 - val_loss: 0.3814 - val_accuracy: 0.7778\n",
            "Epoch 52/100\n",
            "7/7 [==============================] - 0s 9ms/step - loss: 0.2954 - accuracy: 0.8986 - val_loss: 0.4354 - val_accuracy: 0.7778\n",
            "Epoch 53/100\n",
            "7/7 [==============================] - 0s 9ms/step - loss: 0.2287 - accuracy: 0.8986 - val_loss: 0.6730 - val_accuracy: 0.7778\n",
            "Epoch 54/100\n",
            "7/7 [==============================] - 0s 12ms/step - loss: 0.2891 - accuracy: 0.8986 - val_loss: 0.4525 - val_accuracy: 0.7778\n",
            "Epoch 55/100\n",
            "7/7 [==============================] - 0s 9ms/step - loss: 0.2737 - accuracy: 0.8986 - val_loss: 0.4279 - val_accuracy: 0.7778\n",
            "Epoch 56/100\n",
            "7/7 [==============================] - 0s 11ms/step - loss: 0.2775 - accuracy: 0.8986 - val_loss: 0.3912 - val_accuracy: 0.7778\n",
            "Epoch 57/100\n",
            "7/7 [==============================] - 0s 11ms/step - loss: 0.2351 - accuracy: 0.8986 - val_loss: 0.3815 - val_accuracy: 0.7778\n",
            "Epoch 58/100\n",
            "7/7 [==============================] - 0s 11ms/step - loss: 0.1861 - accuracy: 0.8986 - val_loss: 0.3802 - val_accuracy: 0.7778\n",
            "Epoch 59/100\n",
            "7/7 [==============================] - 0s 8ms/step - loss: 0.1600 - accuracy: 0.8986 - val_loss: 0.3922 - val_accuracy: 0.7778\n",
            "Epoch 60/100\n",
            "7/7 [==============================] - 0s 8ms/step - loss: 0.1561 - accuracy: 0.8986 - val_loss: 0.3789 - val_accuracy: 0.7778\n",
            "Epoch 61/100\n",
            "7/7 [==============================] - 0s 11ms/step - loss: 0.1441 - accuracy: 0.8986 - val_loss: 0.3776 - val_accuracy: 0.7778\n",
            "Epoch 62/100\n",
            "7/7 [==============================] - 0s 11ms/step - loss: 0.1326 - accuracy: 0.8986 - val_loss: 0.4481 - val_accuracy: 0.7778\n",
            "Epoch 63/100\n",
            "7/7 [==============================] - 0s 11ms/step - loss: 0.1579 - accuracy: 0.8986 - val_loss: 0.3766 - val_accuracy: 0.7778\n",
            "Epoch 64/100\n",
            "7/7 [==============================] - 0s 9ms/step - loss: 0.2638 - accuracy: 0.8696 - val_loss: 0.8348 - val_accuracy: 0.7778\n",
            "Epoch 65/100\n",
            "7/7 [==============================] - 0s 10ms/step - loss: 0.1723 - accuracy: 0.8986 - val_loss: 0.3780 - val_accuracy: 0.7778\n",
            "Epoch 66/100\n",
            "7/7 [==============================] - 0s 9ms/step - loss: 0.1895 - accuracy: 0.8986 - val_loss: 0.3957 - val_accuracy: 0.7778\n",
            "Epoch 67/100\n",
            "7/7 [==============================] - 0s 11ms/step - loss: 0.1461 - accuracy: 0.8986 - val_loss: 0.3782 - val_accuracy: 0.7778\n",
            "Epoch 68/100\n",
            "7/7 [==============================] - 0s 10ms/step - loss: 0.1438 - accuracy: 0.8986 - val_loss: 0.3753 - val_accuracy: 0.7778\n",
            "Epoch 69/100\n",
            "7/7 [==============================] - 0s 11ms/step - loss: 0.1319 - accuracy: 0.9275 - val_loss: 0.3743 - val_accuracy: 0.7778\n",
            "Epoch 70/100\n",
            "7/7 [==============================] - 0s 11ms/step - loss: 0.1352 - accuracy: 0.9275 - val_loss: 0.3718 - val_accuracy: 0.7778\n",
            "Epoch 71/100\n",
            "7/7 [==============================] - 0s 9ms/step - loss: 0.2622 - accuracy: 0.7681 - val_loss: 0.3707 - val_accuracy: 0.7778\n",
            "Epoch 72/100\n",
            "7/7 [==============================] - 0s 11ms/step - loss: 0.1873 - accuracy: 0.8986 - val_loss: 0.3713 - val_accuracy: 0.7778\n",
            "Epoch 73/100\n",
            "7/7 [==============================] - 0s 11ms/step - loss: 0.1914 - accuracy: 0.8986 - val_loss: 0.3740 - val_accuracy: 0.7778\n",
            "Epoch 74/100\n",
            "7/7 [==============================] - 0s 11ms/step - loss: 0.1441 - accuracy: 0.8986 - val_loss: 0.3773 - val_accuracy: 0.7778\n",
            "Epoch 75/100\n",
            "7/7 [==============================] - 0s 9ms/step - loss: 0.1765 - accuracy: 0.8986 - val_loss: 0.3746 - val_accuracy: 0.7778\n",
            "Epoch 76/100\n",
            "7/7 [==============================] - 0s 11ms/step - loss: 0.1625 - accuracy: 0.8986 - val_loss: 0.3679 - val_accuracy: 0.7778\n",
            "Epoch 77/100\n",
            "7/7 [==============================] - 0s 8ms/step - loss: 0.1989 - accuracy: 0.8986 - val_loss: 0.3743 - val_accuracy: 0.7778\n",
            "Epoch 78/100\n",
            "7/7 [==============================] - 0s 9ms/step - loss: 0.1509 - accuracy: 0.8986 - val_loss: 0.3666 - val_accuracy: 0.7778\n",
            "Epoch 79/100\n",
            "7/7 [==============================] - 0s 8ms/step - loss: 0.1457 - accuracy: 0.9275 - val_loss: 0.3803 - val_accuracy: 0.8333\n",
            "Epoch 80/100\n",
            "7/7 [==============================] - 0s 12ms/step - loss: 0.1260 - accuracy: 0.9710 - val_loss: 0.5050 - val_accuracy: 0.7222\n",
            "Epoch 81/100\n",
            "7/7 [==============================] - 0s 8ms/step - loss: 0.1708 - accuracy: 0.9420 - val_loss: 0.3740 - val_accuracy: 0.8333\n",
            "Epoch 82/100\n",
            "7/7 [==============================] - 0s 10ms/step - loss: 0.1527 - accuracy: 0.9565 - val_loss: 0.3679 - val_accuracy: 0.7778\n",
            "Epoch 83/100\n",
            "7/7 [==============================] - 0s 11ms/step - loss: 0.1919 - accuracy: 0.8841 - val_loss: 0.3573 - val_accuracy: 0.7778\n",
            "Epoch 84/100\n",
            "7/7 [==============================] - 0s 11ms/step - loss: 0.2016 - accuracy: 0.9130 - val_loss: 0.3753 - val_accuracy: 0.7778\n",
            "Epoch 85/100\n",
            "7/7 [==============================] - 0s 9ms/step - loss: 0.2059 - accuracy: 0.8841 - val_loss: 0.3605 - val_accuracy: 0.7778\n",
            "Epoch 86/100\n",
            "7/7 [==============================] - 0s 11ms/step - loss: 0.1309 - accuracy: 0.9130 - val_loss: 0.3370 - val_accuracy: 0.7778\n",
            "Epoch 87/100\n",
            "7/7 [==============================] - 0s 9ms/step - loss: 0.1248 - accuracy: 0.9565 - val_loss: 0.3914 - val_accuracy: 0.6667\n",
            "Epoch 88/100\n",
            "7/7 [==============================] - 0s 9ms/step - loss: 0.1154 - accuracy: 0.9565 - val_loss: 0.3261 - val_accuracy: 0.8333\n",
            "Epoch 89/100\n",
            "7/7 [==============================] - 0s 9ms/step - loss: 0.1720 - accuracy: 0.8696 - val_loss: 0.3695 - val_accuracy: 0.7778\n",
            "Epoch 90/100\n",
            "7/7 [==============================] - 0s 10ms/step - loss: 0.1356 - accuracy: 0.9130 - val_loss: 0.4512 - val_accuracy: 0.7222\n",
            "Epoch 91/100\n",
            "7/7 [==============================] - 0s 9ms/step - loss: 0.1834 - accuracy: 0.8841 - val_loss: 0.3539 - val_accuracy: 0.7778\n",
            "Epoch 92/100\n",
            "7/7 [==============================] - 0s 9ms/step - loss: 0.1275 - accuracy: 0.9130 - val_loss: 0.4124 - val_accuracy: 0.7778\n",
            "Epoch 93/100\n",
            "7/7 [==============================] - 0s 9ms/step - loss: 0.1603 - accuracy: 0.9275 - val_loss: 0.4242 - val_accuracy: 0.8333\n",
            "Epoch 94/100\n",
            "7/7 [==============================] - 0s 12ms/step - loss: 0.2490 - accuracy: 0.9130 - val_loss: 0.3500 - val_accuracy: 0.8333\n",
            "Epoch 95/100\n",
            "7/7 [==============================] - 0s 9ms/step - loss: 0.3065 - accuracy: 0.7536 - val_loss: 0.4011 - val_accuracy: 0.6667\n",
            "Epoch 96/100\n",
            "7/7 [==============================] - 0s 10ms/step - loss: 0.1372 - accuracy: 0.8841 - val_loss: 0.3912 - val_accuracy: 0.7778\n",
            "Epoch 97/100\n",
            "7/7 [==============================] - 0s 12ms/step - loss: 0.1438 - accuracy: 0.8986 - val_loss: 0.3658 - val_accuracy: 0.7778\n",
            "Epoch 98/100\n",
            "7/7 [==============================] - 0s 9ms/step - loss: 0.1442 - accuracy: 0.8986 - val_loss: 0.3557 - val_accuracy: 0.7778\n",
            "Epoch 99/100\n",
            "7/7 [==============================] - 0s 9ms/step - loss: 0.1363 - accuracy: 0.8986 - val_loss: 0.3468 - val_accuracy: 0.7778\n",
            "Epoch 100/100\n",
            "7/7 [==============================] - 0s 8ms/step - loss: 0.1278 - accuracy: 0.8986 - val_loss: 0.3590 - val_accuracy: 0.8889\n"
          ]
        },
        {
          "output_type": "execute_result",
          "data": {
            "text/plain": [
              "<keras.callbacks.History at 0x7fb08212cee0>"
            ]
          },
          "metadata": {},
          "execution_count": 115
        }
      ]
    },
    {
      "cell_type": "code",
      "source": [
        "# Evaluasi model pada data uji\n",
        "_, accuracy = model.evaluate(X_test, y_test)\n",
        "print('Akurasi: %.2f' % (accuracy * 100))"
      ],
      "metadata": {
        "colab": {
          "base_uri": "https://localhost:8080/"
        },
        "id": "cEzn7ekjM2rc",
        "outputId": "e085492a-acd3-4caf-91ac-d275293e75b4"
      },
      "execution_count": 116,
      "outputs": [
        {
          "output_type": "stream",
          "name": "stdout",
          "text": [
            "1/1 [==============================] - 0s 34ms/step - loss: 0.3590 - accuracy: 0.8889\n",
            "Akurasi: 88.89\n"
          ]
        }
      ]
    },
    {
      "cell_type": "code",
      "source": [
        "# Evaluasi model pada data latih\n",
        "_, accuracy_data_latih= model.evaluate(X_train, y_train)\n",
        "print('Akurasi: %.2f' % (accuracy_data_latih * 100))"
      ],
      "metadata": {
        "colab": {
          "base_uri": "https://localhost:8080/"
        },
        "id": "4CpBweL8M7XV",
        "outputId": "190971d6-23a3-42e6-ae0c-6c8dbcc578f1"
      },
      "execution_count": 117,
      "outputs": [
        {
          "output_type": "stream",
          "name": "stdout",
          "text": [
            "3/3 [==============================] - 0s 5ms/step - loss: 0.1265 - accuracy: 0.9710\n",
            "Akurasi: 97.10\n"
          ]
        }
      ]
    },
    {
      "cell_type": "markdown",
      "source": [
        "# Persentasi lulus tepat waktu dan lulus tidak tepat waktu"
      ],
      "metadata": {
        "id": "FvAHk8meNT0t"
      }
    },
    {
      "cell_type": "code",
      "source": [
        "y_pred = model.predict(X_test)"
      ],
      "metadata": {
        "colab": {
          "base_uri": "https://localhost:8080/"
        },
        "id": "lbBw68SJUuSL",
        "outputId": "3e66dc2a-23dc-421e-c6af-9906da8cf5bb"
      },
      "execution_count": 118,
      "outputs": [
        {
          "output_type": "stream",
          "name": "stdout",
          "text": [
            "1/1 [==============================] - 0s 78ms/step\n"
          ]
        }
      ]
    },
    {
      "cell_type": "code",
      "source": [
        "# Menghitung persentase kelulusan tepat waktu dan tidak tepat waktu tidak berdasarkan akurasi\n",
        "kelulusan_tepat_waktu = (y_pred.sum() / len(y_pred) / accuracy * 100)\n",
        "kelulusan_tidak_tepat_waktu = 100 - kelulusan_tepat_waktu"
      ],
      "metadata": {
        "id": "T1c712DQNu3U"
      },
      "execution_count": 119,
      "outputs": []
    },
    {
      "cell_type": "code",
      "source": [
        "print(\"Persentase Lulus Tepat Waktu: {:.2f}%\".format(kelulusan_tepat_waktu))\n",
        "print(\"Persentase Lulus Tidak Tepat Waktu: {:.2f}%\".format(kelulusan_tidak_tepat_waktu))"
      ],
      "metadata": {
        "colab": {
          "base_uri": "https://localhost:8080/"
        },
        "id": "tW6TnUqKSlGd",
        "outputId": "6c71c91e-590c-4d42-ba95-51cea87bf2fc"
      },
      "execution_count": 120,
      "outputs": [
        {
          "output_type": "stream",
          "name": "stdout",
          "text": [
            "Persentase Lulus Tepat Waktu: 29.48%\n",
            "Persentase Lulus Tidak Tepat Waktu: 70.52%\n"
          ]
        }
      ]
    },
    {
      "cell_type": "markdown",
      "source": [
        "# Membuat Confusion Matrix Pada Data Testing\n"
      ],
      "metadata": {
        "id": "MYkk4Nt3NM1k"
      }
    },
    {
      "cell_type": "code",
      "source": [
        "y_pred_round = y_pred.round()"
      ],
      "metadata": {
        "id": "14VNQwttbyre"
      },
      "execution_count": 125,
      "outputs": []
    },
    {
      "cell_type": "code",
      "source": [
        "from sklearn.metrics import confusion_matrix\n",
        "cm_test = confusion_matrix(y_test, y_pred_round)"
      ],
      "metadata": {
        "id": "Xosplb2EXocP"
      },
      "execution_count": 126,
      "outputs": []
    },
    {
      "cell_type": "code",
      "source": [
        "print(cm_test)"
      ],
      "metadata": {
        "colab": {
          "base_uri": "https://localhost:8080/"
        },
        "id": "z_hGRi8tcIqt",
        "outputId": "45696f10-af24-4e39-b3ad-5a8737602ab9"
      },
      "execution_count": 127,
      "outputs": [
        {
          "output_type": "stream",
          "name": "stdout",
          "text": [
            "[[13  1]\n",
            " [ 1  3]]\n"
          ]
        }
      ]
    },
    {
      "cell_type": "code",
      "source": [
        "labels = ['Lulus Tidak Tepat Waktu', 'Lulus Tepat Waktu']\n",
        "fig, ax = plt.subplots()\n",
        "im = ax.imshow(cm_test, interpolation='nearest', cmap=plt.cm.Blues)\n",
        "ax.figure.colorbar(im, ax=ax)\n",
        "ax.set(xticks=np.arange(cm_test.shape[1]),\n",
        "       yticks=np.arange(cm_test.shape[0]),\n",
        "       xticklabels=labels,\n",
        "       yticklabels=labels,\n",
        "       title='Confusion Matrix Pada Data Testing',\n",
        "       ylabel='True Label',\n",
        "       xlabel='Predicted Label')\n",
        "\n",
        "thresh = cm_test.max() / 2\n",
        "for i in range(cm_test.shape[0]):\n",
        "    for j in range(cm_test.shape[1]):\n",
        "        ax.text(j, i, format(cm_test[i, j], 'd'),\n",
        "                ha=\"center\", va=\"center\",\n",
        "                color=\"white\" if cm_test[i, j] > thresh else \"black\")\n",
        "\n",
        "plt.show()\n",
        ""
      ],
      "metadata": {
        "colab": {
          "base_uri": "https://localhost:8080/",
          "height": 472
        },
        "id": "6dOYJBbTcV_j",
        "outputId": "c8fdcacd-2abd-4b89-cddb-57c18be6c5d3"
      },
      "execution_count": 130,
      "outputs": [
        {
          "output_type": "display_data",
          "data": {
            "text/plain": [
              "<Figure size 640x480 with 2 Axes>"
            ],
            "image/png": "[encoded data removed]"
          },
          "metadata": {}
        }
      ]
    },
    {
      "cell_type": "markdown",
      "source": [
        "# Membuat confusion Matrix Pada Data Latih"
      ],
      "metadata": {
        "id": "4nQ5d6CVdaSD"
      }
    },
    {
      "cell_type": "code",
      "source": [
        "y_pred_latih = model.predict(X_train)\n",
        "y_pred_latih = y_pred_latih.round()"
      ],
      "metadata": {
        "colab": {
          "base_uri": "https://localhost:8080/"
        },
        "id": "7fjFQ3l8eIIJ",
        "outputId": "3bae31a7-a72c-4713-b16e-2805305a8fba"
      },
      "execution_count": 133,
      "outputs": [
        {
          "output_type": "stream",
          "name": "stdout",
          "text": [
            "3/3 [==============================] - 0s 3ms/step\n"
          ]
        }
      ]
    },
    {
      "cell_type": "code",
      "source": [
        "from sklearn.metrics import confusion_matrix\n",
        "cm_latih = confusion_matrix(y_train, y_pred_latih)\n",
        "print(cm_latih)"
      ],
      "metadata": {
        "colab": {
          "base_uri": "https://localhost:8080/"
        },
        "id": "H6pFLbkFeO3J",
        "outputId": "c21f5868-795b-438f-bb4e-5d0f1bb8cfee"
      },
      "execution_count": 137,
      "outputs": [
        {
          "output_type": "stream",
          "name": "stdout",
          "text": [
            "[[62  0]\n",
            " [ 2  5]]\n"
          ]
        }
      ]
    },
    {
      "cell_type": "code",
      "source": [
        "labels = ['Lulus Tidak Tepat Waktu', 'Lulus Tepat Waktu']\n",
        "fig, ax = plt.subplots()\n",
        "im = ax.imshow(cm_latih, interpolation='nearest', cmap=plt.cm.Blues)\n",
        "ax.figure.colorbar(im, ax=ax)\n",
        "ax.set(xticks=np.arange(cm_latih.shape[1]),\n",
        "       yticks=np.arange(cm_latih.shape[0]),\n",
        "       xticklabels=labels,\n",
        "       yticklabels=labels,\n",
        "       title='Confusion Matrix Pada Data Testing',\n",
        "       ylabel='True Label',\n",
        "       xlabel='Predicted Label')\n",
        "\n",
        "thresh = cm_latih.max() / 2\n",
        "for i in range(cm_latih.shape[0]):\n",
        "    for j in range(cm_latih.shape[1]):\n",
        "        ax.text(j, i, format(cm_latih[i, j], 'd'),\n",
        "                ha=\"center\", va=\"center\",\n",
        "                color=\"white\" if cm_latih[i, j] > thresh else \"black\")\n",
        "\n",
        "plt.show()"
      ],
      "metadata": {
        "colab": {
          "base_uri": "https://localhost:8080/",
          "height": 472
        },
        "id": "b1XHAFfZeYOy",
        "outputId": "36ca8cc3-d858-42b5-b8d8-94f9b9b87b33"
      },
      "execution_count": 138,
      "outputs": [
        {
          "output_type": "display_data",
          "data": {
            "text/plain": [
              "<Figure size 640x480 with 2 Axes>"
            ],
            "image/png": "[encoded data removed]"
          },
          "metadata": {}
        }
      ]
    },
    {
      "cell_type": "code",
      "source": [
        "jumlah_data_testing = X_test.shape[0]\n",
        "print(\"Jumlah data testing pada data Data_Mahasiswa_2019.xlsx: \",jumlah_data_testing)"
      ],
      "metadata": {
        "colab": {
          "base_uri": "https://localhost:8080/"
        },
        "id": "PrdD65yfgEVK",
        "outputId": "8cdb80ae-f99a-4a98-b605-7f0a9813b095"
      },
      "execution_count": 139,
      "outputs": [
        {
          "output_type": "stream",
          "name": "stdout",
          "text": [
            "Jumlah data testing pada data Data_Mahasiswa_2019.xlsx:  18\n"
          ]
        }
      ]
    },
    {
      "cell_type": "code",
      "source": [
        "jumlah_data_latih = X_train.shape[0]\n",
        "print('Jumlah data latih pada Data_Mahasiswa_2019.xlsx ',jumlah_data_latih)"
      ],
      "metadata": {
        "colab": {
          "base_uri": "https://localhost:8080/"
        },
        "id": "IvxcC4nkgNJy",
        "outputId": "c70aa4a5-17ee-4e9f-e5de-c3825c7bdd20"
      },
      "execution_count": 140,
      "outputs": [
        {
          "output_type": "stream",
          "name": "stdout",
          "text": [
            "Jumlah data latih pada Data_Mahasiswa_2019.xlsx  69\n"
          ]
        }
      ]
    },
    {
      "cell_type": "code",
      "source": [
        "jumlah_data_target_latih = y_train.shape[0]\n",
        "print('Jumlah data target latih ',jumlah_data_target_latih)"
      ],
      "metadata": {
        "colab": {
          "base_uri": "https://localhost:8080/"
        },
        "id": "1Thr4xFHgOrR",
        "outputId": "72c6f903-18ee-4461-d54d-cd4a428d7106"
      },
      "execution_count": 141,
      "outputs": [
        {
          "output_type": "stream",
          "name": "stdout",
          "text": [
            "Jumlah data target latih  69\n"
          ]
        }
      ]
    },
    {
      "cell_type": "code",
      "source": [
        "jumlah_data_target_testing = y_test.shape[0]\n",
        "print('Jumlah data target latih ',jumlah_data_target_testing)"
      ],
      "metadata": {
        "colab": {
          "base_uri": "https://localhost:8080/"
        },
        "id": "r9C8UM4qgP8l",
        "outputId": "540d1b4c-9392-4199-c06b-21a18e01c91f"
      },
      "execution_count": 143,
      "outputs": [
        {
          "output_type": "stream",
          "name": "stdout",
          "text": [
            "Jumlah data target latih  18\n"
          ]
        }
      ]
    },
    {
      "cell_type": "markdown",
      "source": [
        "# Menghitung metrics pada prediksi data latih"
      ],
      "metadata": {
        "id": "tS0mf5RjglhS"
      }
    },
    {
      "cell_type": "code",
      "source": [
        "# Menghitung metrics pada data\n",
        "from sklearn.metrics import classification_report\n",
        "report_data_latih = classification_report(y_train,y_pred_latih)"
      ],
      "metadata": {
        "id": "A90dgBm3g6r4"
      },
      "execution_count": 144,
      "outputs": []
    },
    {
      "cell_type": "code",
      "source": [
        "print('Laporan Metrik Pada Data Latih \\n',report_data_latih)"
      ],
      "metadata": {
        "colab": {
          "base_uri": "https://localhost:8080/"
        },
        "id": "S2rM8j-Ala-Y",
        "outputId": "00f8c236-b4c7-46b4-dfc7-b0eecb348e93"
      },
      "execution_count": 146,
      "outputs": [
        {
          "output_type": "stream",
          "name": "stdout",
          "text": [
            "Laporan Metrik Pada Data Latih \n",
            "               precision    recall  f1-score   support\n",
            "\n",
            "           0       0.97      1.00      0.98        62\n",
            "           1       1.00      0.71      0.83         7\n",
            "\n",
            "    accuracy                           0.97        69\n",
            "   macro avg       0.98      0.86      0.91        69\n",
            "weighted avg       0.97      0.97      0.97        69\n",
            "\n"
          ]
        }
      ]
    },
    {
      "cell_type": "markdown",
      "source": [
        "# Menghitung metrics pada prediksi data testing"
      ],
      "metadata": {
        "id": "kO57yjvNlyfC"
      }
    },
    {
      "cell_type": "code",
      "source": [
        "# Menghitung metrics pada data\n",
        "from sklearn.metrics import classification_report\n",
        "report_data_testing = classification_report(y_test,y_pred_round)"
      ],
      "metadata": {
        "id": "xiCAJgXXl2DA"
      },
      "execution_count": 149,
      "outputs": []
    },
    {
      "cell_type": "code",
      "source": [
        "print('Laporan Metrik Pada Data Testing \\n',report_data_testing)"
      ],
      "metadata": {
        "colab": {
          "base_uri": "https://localhost:8080/"
        },
        "id": "52zmkdThmAkY",
        "outputId": "045f598a-370c-428a-ded4-6f5972130add"
      },
      "execution_count": 151,
      "outputs": [
        {
          "output_type": "stream",
          "name": "stdout",
          "text": [
            "Laporan Metrik Pada Data Testing \n",
            "               precision    recall  f1-score   support\n",
            "\n",
            "           0       0.93      0.93      0.93        14\n",
            "           1       0.75      0.75      0.75         4\n",
            "\n",
            "    accuracy                           0.89        18\n",
            "   macro avg       0.84      0.84      0.84        18\n",
            "weighted avg       0.89      0.89      0.89        18\n",
            "\n"
          ]
        }
      ]
    }
  ]
}