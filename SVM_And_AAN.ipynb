{
  "cells": [
    {
      "cell_type": "markdown",
      "metadata": {
        "id": "view-in-github",
        "colab_type": "text"
      },
      "source": [
        "<a href=\"https://colab.research.google.com/github/candrajulius/Implementation_of_the_Support_Vector_Machine_and_ANN_Algorithm_For_Student/blob/main/SVM_And_AAN_For_Joki.ipynb\" target=\"_parent\"><img src=\"https://colab.research.google.com/assets/colab-badge.svg\" alt=\"Open In Colab\"/></a>"
      ]
    },
    {
      "cell_type": "code",
      "execution_count": 27,
      "metadata": {
        "id": "VVSyq7RsiSFh"
      },
      "outputs": [],
      "source": [
        "# Import beberapa library\n",
        "from google.colab import files\n",
        "import pandas as pd\n",
        "import numpy as np\n",
        "from sklearn.model_selection import train_test_split\n",
        "from sklearn.utils import resample\n",
        "from sklearn.preprocessing import StandardScaler, LabelEncoder, OneHotEncoder\n",
        "from sklearn.svm import SVC\n",
        "from sklearn.metrics import accuracy_score\n",
        "from keras.models import Sequential\n",
        "from keras.layers import Dense\n",
        "\n",
        "# Untuk memvisualisasi data\n",
        "import matplotlib.pyplot as plt\n",
        "%matplotlib inline\n",
        "import seaborn as sns"
      ]
    },
    {
      "cell_type": "code",
      "source": [
        "def convert_excel_to_csv(excel_file,csv_file):\n",
        "  # Baca file Excel menggunakan pandas\n",
        "  data_frame = pd.read_excel(excel_file)\n",
        "\n",
        "  # Konversi data frame menjadi file CSV\n",
        "  data_frame.to_csv(csv_file,index=False)\n",
        "excel_file = \"sample_data/Data_Mahasiswa_2019.xlsx\"\n",
        "csv_file = \"sample_data/data_mahasiswa.csv\"\n",
        "convert_excel_to_csv(excel_file,csv_file)"
      ],
      "metadata": {
        "id": "TrUBNYZQjKTn"
      },
      "execution_count": 28,
      "outputs": []
    },
    {
      "cell_type": "code",
      "source": [
        "data = pd.read_csv('sample_data/data_mahasiswa.csv')"
      ],
      "metadata": {
        "id": "DoJWJmoNjRM-"
      },
      "execution_count": 29,
      "outputs": []
    },
    {
      "cell_type": "code",
      "source": [
        "data.head(10)"
      ],
      "metadata": {
        "colab": {
          "base_uri": "https://localhost:8080/",
          "height": 363
        },
        "id": "QUo3h1qJjUcH",
        "outputId": "55635f21-9968-47bf-ffd0-d447ae286764"
      },
      "execution_count": 30,
      "outputs": [
        {
          "output_type": "execute_result",
          "data": {
            "text/plain": [
              "   No           NIM                 NAMA IPS (semester 1)  IPS (semester 2)  \\\n",
              "0   1  193303030001         Sallyana Yek              4.0              3.74   \n",
              "1   2  193303030002              Anthony              4.0              3.74   \n",
              "2   3  193303030003      William Chandra             3.45              3.61   \n",
              "3   4  193303030004      Valentino Damar              4.0              3.61   \n",
              "4   5  193303030005     Nicholas Livando              4.0              3.74   \n",
              "5   6  193303030006          Alvin Rasid              4.0              3.61   \n",
              "6   7  193303030009  Matthew Evan Phanie              4,0              3.61   \n",
              "7   8  193303030011              Michael             3.75              3.43   \n",
              "8   9  193303030012         Windy Candra              3.5              3.74   \n",
              "9  10  193303030014           Steven Lie             3.69              3.26   \n",
              "\n",
              "  IPS (semester 3)  IPS (semester 4)  IPS (semester 5)  \n",
              "0             3,55              3.90              4.00  \n",
              "1              4,0              3.85              3.95  \n",
              "2             3.27              3.79              3.64  \n",
              "3             3.89              3.65              3.80  \n",
              "4             3.94              3.80              3.77  \n",
              "5              4,0              3.90              4.00  \n",
              "6             3.89              3.90              4.00  \n",
              "7             3.83              3.47              3.91  \n",
              "8              3.9              3.70              4.00  \n",
              "9             3.89              4.00              3.59  "
            ],
            "text/html": [
              "\n",
              "  <div id=\"df-fa3d20b1-204b-46a1-a86d-f23a7aa63d6e\">\n",
              "    <div class=\"colab-df-container\">\n",
              "      <div>\n",
              "<style scoped>\n",
              "    .dataframe tbody tr th:only-of-type {\n",
              "        vertical-align: middle;\n",
              "    }\n",
              "\n",
              "    .dataframe tbody tr th {\n",
              "        vertical-align: top;\n",
              "    }\n",
              "\n",
              "    .dataframe thead th {\n",
              "        text-align: right;\n",
              "    }\n",
              "</style>\n",
              "<table border=\"1\" class=\"dataframe\">\n",
              "  <thead>\n",
              "    <tr style=\"text-align: right;\">\n",
              "      <th></th>\n",
              "      <th>No</th>\n",
              "      <th>NIM</th>\n",
              "      <th>NAMA</th>\n",
              "      <th>IPS (semester 1)</th>\n",
              "      <th>IPS (semester 2)</th>\n",
              "      <th>IPS (semester 3)</th>\n",
              "      <th>IPS (semester 4)</th>\n",
              "      <th>IPS (semester 5)</th>\n",
              "    </tr>\n",
              "  </thead>\n",
              "  <tbody>\n",
              "    <tr>\n",
              "      <th>0</th>\n",
              "      <td>1</td>\n",
              "      <td>193303030001</td>\n",
              "      <td>Sallyana Yek</td>\n",
              "      <td>4.0</td>\n",
              "      <td>3.74</td>\n",
              "      <td>3,55</td>\n",
              "      <td>3.90</td>\n",
              "      <td>4.00</td>\n",
              "    </tr>\n",
              "    <tr>\n",
              "      <th>1</th>\n",
              "      <td>2</td>\n",
              "      <td>193303030002</td>\n",
              "      <td>Anthony</td>\n",
              "      <td>4.0</td>\n",
              "      <td>3.74</td>\n",
              "      <td>4,0</td>\n",
              "      <td>3.85</td>\n",
              "      <td>3.95</td>\n",
              "    </tr>\n",
              "    <tr>\n",
              "      <th>2</th>\n",
              "      <td>3</td>\n",
              "      <td>193303030003</td>\n",
              "      <td>William Chandra</td>\n",
              "      <td>3.45</td>\n",
              "      <td>3.61</td>\n",
              "      <td>3.27</td>\n",
              "      <td>3.79</td>\n",
              "      <td>3.64</td>\n",
              "    </tr>\n",
              "    <tr>\n",
              "      <th>3</th>\n",
              "      <td>4</td>\n",
              "      <td>193303030004</td>\n",
              "      <td>Valentino Damar</td>\n",
              "      <td>4.0</td>\n",
              "      <td>3.61</td>\n",
              "      <td>3.89</td>\n",
              "      <td>3.65</td>\n",
              "      <td>3.80</td>\n",
              "    </tr>\n",
              "    <tr>\n",
              "      <th>4</th>\n",
              "      <td>5</td>\n",
              "      <td>193303030005</td>\n",
              "      <td>Nicholas Livando</td>\n",
              "      <td>4.0</td>\n",
              "      <td>3.74</td>\n",
              "      <td>3.94</td>\n",
              "      <td>3.80</td>\n",
              "      <td>3.77</td>\n",
              "    </tr>\n",
              "    <tr>\n",
              "      <th>5</th>\n",
              "      <td>6</td>\n",
              "      <td>193303030006</td>\n",
              "      <td>Alvin Rasid</td>\n",
              "      <td>4.0</td>\n",
              "      <td>3.61</td>\n",
              "      <td>4,0</td>\n",
              "      <td>3.90</td>\n",
              "      <td>4.00</td>\n",
              "    </tr>\n",
              "    <tr>\n",
              "      <th>6</th>\n",
              "      <td>7</td>\n",
              "      <td>193303030009</td>\n",
              "      <td>Matthew Evan Phanie</td>\n",
              "      <td>4,0</td>\n",
              "      <td>3.61</td>\n",
              "      <td>3.89</td>\n",
              "      <td>3.90</td>\n",
              "      <td>4.00</td>\n",
              "    </tr>\n",
              "    <tr>\n",
              "      <th>7</th>\n",
              "      <td>8</td>\n",
              "      <td>193303030011</td>\n",
              "      <td>Michael</td>\n",
              "      <td>3.75</td>\n",
              "      <td>3.43</td>\n",
              "      <td>3.83</td>\n",
              "      <td>3.47</td>\n",
              "      <td>3.91</td>\n",
              "    </tr>\n",
              "    <tr>\n",
              "      <th>8</th>\n",
              "      <td>9</td>\n",
              "      <td>193303030012</td>\n",
              "      <td>Windy Candra</td>\n",
              "      <td>3.5</td>\n",
              "      <td>3.74</td>\n",
              "      <td>3.9</td>\n",
              "      <td>3.70</td>\n",
              "      <td>4.00</td>\n",
              "    </tr>\n",
              "    <tr>\n",
              "      <th>9</th>\n",
              "      <td>10</td>\n",
              "      <td>193303030014</td>\n",
              "      <td>Steven Lie</td>\n",
              "      <td>3.69</td>\n",
              "      <td>3.26</td>\n",
              "      <td>3.89</td>\n",
              "      <td>4.00</td>\n",
              "      <td>3.59</td>\n",
              "    </tr>\n",
              "  </tbody>\n",
              "</table>\n",
              "</div>\n",
              "      <button class=\"colab-df-convert\" onclick=\"convertToInteractive('df-fa3d20b1-204b-46a1-a86d-f23a7aa63d6e')\"\n",
              "              title=\"Convert this dataframe to an interactive table.\"\n",
              "              style=\"display:none;\">\n",
              "        \n",
              "  <svg xmlns=\"http://www.w3.org/2000/svg\" height=\"24px\"viewBox=\"0 0 24 24\"\n",
              "       width=\"24px\">\n",
              "    <path d=\"M0 0h24v24H0V0z\" fill=\"none\"/>\n",
              "    <path d=\"M18.56 5.44l.94 2.06.94-2.06 2.06-.94-2.06-.94-.94-2.06-.94 2.06-2.06.94zm-11 1L8.5 8.5l.94-2.06 2.06-.94-2.06-.94L8.5 2.5l-.94 2.06-2.06.94zm10 10l.94 2.06.94-2.06 2.06-.94-2.06-.94-.94-2.06-.94 2.06-2.06.94z\"/><path d=\"M17.41 7.96l-1.37-1.37c-.4-.4-.92-.59-1.43-.59-.52 0-1.04.2-1.43.59L10.3 9.45l-7.72 7.72c-.78.78-.78 2.05 0 2.83L4 21.41c.39.39.9.59 1.41.59.51 0 1.02-.2 1.41-.59l7.78-7.78 2.81-2.81c.8-.78.8-2.07 0-2.86zM5.41 20L4 18.59l7.72-7.72 1.47 1.35L5.41 20z\"/>\n",
              "  </svg>\n",
              "      </button>\n",
              "      \n",
              "  <style>\n",
              "    .colab-df-container {\n",
              "      display:flex;\n",
              "      flex-wrap:wrap;\n",
              "      gap: 12px;\n",
              "    }\n",
              "\n",
              "    .colab-df-convert {\n",
              "      background-color: #E8F0FE;\n",
              "      border: none;\n",
              "      border-radius: 50%;\n",
              "      cursor: pointer;\n",
              "      display: none;\n",
              "      fill: #1967D2;\n",
              "      height: 32px;\n",
              "      padding: 0 0 0 0;\n",
              "      width: 32px;\n",
              "    }\n",
              "\n",
              "    .colab-df-convert:hover {\n",
              "      background-color: #E2EBFA;\n",
              "      box-shadow: 0px 1px 2px rgba(60, 64, 67, 0.3), 0px 1px 3px 1px rgba(60, 64, 67, 0.15);\n",
              "      fill: #174EA6;\n",
              "    }\n",
              "\n",
              "    [theme=dark] .colab-df-convert {\n",
              "      background-color: #3B4455;\n",
              "      fill: #D2E3FC;\n",
              "    }\n",
              "\n",
              "    [theme=dark] .colab-df-convert:hover {\n",
              "      background-color: #434B5C;\n",
              "      box-shadow: 0px 1px 3px 1px rgba(0, 0, 0, 0.15);\n",
              "      filter: drop-shadow(0px 1px 2px rgba(0, 0, 0, 0.3));\n",
              "      fill: #FFFFFF;\n",
              "    }\n",
              "  </style>\n",
              "\n",
              "      <script>\n",
              "        const buttonEl =\n",
              "          document.querySelector('#df-fa3d20b1-204b-46a1-a86d-f23a7aa63d6e button.colab-df-convert');\n",
              "        buttonEl.style.display =\n",
              "          google.colab.kernel.accessAllowed ? 'block' : 'none';\n",
              "\n",
              "        async function convertToInteractive(key) {\n",
              "          const element = document.querySelector('#df-fa3d20b1-204b-46a1-a86d-f23a7aa63d6e');\n",
              "          const dataTable =\n",
              "            await google.colab.kernel.invokeFunction('convertToInteractive',\n",
              "                                                     [key], {});\n",
              "          if (!dataTable) return;\n",
              "\n",
              "          const docLinkHtml = 'Like what you see? Visit the ' +\n",
              "            '<a target=\"_blank\" href=https://colab.research.google.com/notebooks/data_table.ipynb>data table notebook</a>'\n",
              "            + ' to learn more about interactive tables.';\n",
              "          element.innerHTML = '';\n",
              "          dataTable['output_type'] = 'display_data';\n",
              "          await google.colab.output.renderOutput(dataTable, element);\n",
              "          const docLink = document.createElement('div');\n",
              "          docLink.innerHTML = docLinkHtml;\n",
              "          element.appendChild(docLink);\n",
              "        }\n",
              "      </script>\n",
              "    </div>\n",
              "  </div>\n",
              "  "
            ]
          },
          "metadata": {},
          "execution_count": 30
        }
      ]
    },
    {
      "cell_type": "code",
      "source": [
        "data.info()"
      ],
      "metadata": {
        "colab": {
          "base_uri": "https://localhost:8080/"
        },
        "id": "KNrRQwI_jWDJ",
        "outputId": "236315f6-c175-4aa5-aa50-393d5a977748"
      },
      "execution_count": 31,
      "outputs": [
        {
          "output_type": "stream",
          "name": "stdout",
          "text": [
            "<class 'pandas.core.frame.DataFrame'>\n",
            "RangeIndex: 88 entries, 0 to 87\n",
            "Data columns (total 8 columns):\n",
            " #   Column            Non-Null Count  Dtype  \n",
            "---  ------            --------------  -----  \n",
            " 0   No                88 non-null     int64  \n",
            " 1   NIM               88 non-null     int64  \n",
            " 2   NAMA              88 non-null     object \n",
            " 3   IPS (semester 1)  88 non-null     object \n",
            " 4   IPS (semester 2)  87 non-null     float64\n",
            " 5   IPS (semester 3)  88 non-null     object \n",
            " 6   IPS (semester 4)  88 non-null     float64\n",
            " 7   IPS (semester 5)  88 non-null     float64\n",
            "dtypes: float64(3), int64(2), object(3)\n",
            "memory usage: 5.6+ KB\n"
          ]
        }
      ]
    },
    {
      "cell_type": "code",
      "source": [
        "data.drop('No',axis=1,inplace=True)\n",
        "data.drop('NAMA',axis=1,inplace=True)\n",
        "data.drop('NIM',axis=1,inplace=True)"
      ],
      "metadata": {
        "id": "lcj_8lMJjZ33"
      },
      "execution_count": 32,
      "outputs": []
    },
    {
      "cell_type": "code",
      "source": [
        "data.head(10)"
      ],
      "metadata": {
        "colab": {
          "base_uri": "https://localhost:8080/",
          "height": 363
        },
        "id": "ono4sd9qjfz_",
        "outputId": "f9b94a8d-8792-40ab-be88-42d00e0797f3"
      },
      "execution_count": 33,
      "outputs": [
        {
          "output_type": "execute_result",
          "data": {
            "text/plain": [
              "  IPS (semester 1)  IPS (semester 2) IPS (semester 3)  IPS (semester 4)  \\\n",
              "0              4.0              3.74             3,55              3.90   \n",
              "1              4.0              3.74              4,0              3.85   \n",
              "2             3.45              3.61             3.27              3.79   \n",
              "3              4.0              3.61             3.89              3.65   \n",
              "4              4.0              3.74             3.94              3.80   \n",
              "5              4.0              3.61              4,0              3.90   \n",
              "6              4,0              3.61             3.89              3.90   \n",
              "7             3.75              3.43             3.83              3.47   \n",
              "8              3.5              3.74              3.9              3.70   \n",
              "9             3.69              3.26             3.89              4.00   \n",
              "\n",
              "   IPS (semester 5)  \n",
              "0              4.00  \n",
              "1              3.95  \n",
              "2              3.64  \n",
              "3              3.80  \n",
              "4              3.77  \n",
              "5              4.00  \n",
              "6              4.00  \n",
              "7              3.91  \n",
              "8              4.00  \n",
              "9              3.59  "
            ],
            "text/html": [
              "\n",
              "  <div id=\"df-5fe8ca03-7a2b-4fba-82fc-2cb12264ea38\">\n",
              "    <div class=\"colab-df-container\">\n",
              "      <div>\n",
              "<style scoped>\n",
              "    .dataframe tbody tr th:only-of-type {\n",
              "        vertical-align: middle;\n",
              "    }\n",
              "\n",
              "    .dataframe tbody tr th {\n",
              "        vertical-align: top;\n",
              "    }\n",
              "\n",
              "    .dataframe thead th {\n",
              "        text-align: right;\n",
              "    }\n",
              "</style>\n",
              "<table border=\"1\" class=\"dataframe\">\n",
              "  <thead>\n",
              "    <tr style=\"text-align: right;\">\n",
              "      <th></th>\n",
              "      <th>IPS (semester 1)</th>\n",
              "      <th>IPS (semester 2)</th>\n",
              "      <th>IPS (semester 3)</th>\n",
              "      <th>IPS (semester 4)</th>\n",
              "      <th>IPS (semester 5)</th>\n",
              "    </tr>\n",
              "  </thead>\n",
              "  <tbody>\n",
              "    <tr>\n",
              "      <th>0</th>\n",
              "      <td>4.0</td>\n",
              "      <td>3.74</td>\n",
              "      <td>3,55</td>\n",
              "      <td>3.90</td>\n",
              "      <td>4.00</td>\n",
              "    </tr>\n",
              "    <tr>\n",
              "      <th>1</th>\n",
              "      <td>4.0</td>\n",
              "      <td>3.74</td>\n",
              "      <td>4,0</td>\n",
              "      <td>3.85</td>\n",
              "      <td>3.95</td>\n",
              "    </tr>\n",
              "    <tr>\n",
              "      <th>2</th>\n",
              "      <td>3.45</td>\n",
              "      <td>3.61</td>\n",
              "      <td>3.27</td>\n",
              "      <td>3.79</td>\n",
              "      <td>3.64</td>\n",
              "    </tr>\n",
              "    <tr>\n",
              "      <th>3</th>\n",
              "      <td>4.0</td>\n",
              "      <td>3.61</td>\n",
              "      <td>3.89</td>\n",
              "      <td>3.65</td>\n",
              "      <td>3.80</td>\n",
              "    </tr>\n",
              "    <tr>\n",
              "      <th>4</th>\n",
              "      <td>4.0</td>\n",
              "      <td>3.74</td>\n",
              "      <td>3.94</td>\n",
              "      <td>3.80</td>\n",
              "      <td>3.77</td>\n",
              "    </tr>\n",
              "    <tr>\n",
              "      <th>5</th>\n",
              "      <td>4.0</td>\n",
              "      <td>3.61</td>\n",
              "      <td>4,0</td>\n",
              "      <td>3.90</td>\n",
              "      <td>4.00</td>\n",
              "    </tr>\n",
              "    <tr>\n",
              "      <th>6</th>\n",
              "      <td>4,0</td>\n",
              "      <td>3.61</td>\n",
              "      <td>3.89</td>\n",
              "      <td>3.90</td>\n",
              "      <td>4.00</td>\n",
              "    </tr>\n",
              "    <tr>\n",
              "      <th>7</th>\n",
              "      <td>3.75</td>\n",
              "      <td>3.43</td>\n",
              "      <td>3.83</td>\n",
              "      <td>3.47</td>\n",
              "      <td>3.91</td>\n",
              "    </tr>\n",
              "    <tr>\n",
              "      <th>8</th>\n",
              "      <td>3.5</td>\n",
              "      <td>3.74</td>\n",
              "      <td>3.9</td>\n",
              "      <td>3.70</td>\n",
              "      <td>4.00</td>\n",
              "    </tr>\n",
              "    <tr>\n",
              "      <th>9</th>\n",
              "      <td>3.69</td>\n",
              "      <td>3.26</td>\n",
              "      <td>3.89</td>\n",
              "      <td>4.00</td>\n",
              "      <td>3.59</td>\n",
              "    </tr>\n",
              "  </tbody>\n",
              "</table>\n",
              "</div>\n",
              "      <button class=\"colab-df-convert\" onclick=\"convertToInteractive('df-5fe8ca03-7a2b-4fba-82fc-2cb12264ea38')\"\n",
              "              title=\"Convert this dataframe to an interactive table.\"\n",
              "              style=\"display:none;\">\n",
              "        \n",
              "  <svg xmlns=\"http://www.w3.org/2000/svg\" height=\"24px\"viewBox=\"0 0 24 24\"\n",
              "       width=\"24px\">\n",
              "    <path d=\"M0 0h24v24H0V0z\" fill=\"none\"/>\n",
              "    <path d=\"M18.56 5.44l.94 2.06.94-2.06 2.06-.94-2.06-.94-.94-2.06-.94 2.06-2.06.94zm-11 1L8.5 8.5l.94-2.06 2.06-.94-2.06-.94L8.5 2.5l-.94 2.06-2.06.94zm10 10l.94 2.06.94-2.06 2.06-.94-2.06-.94-.94-2.06-.94 2.06-2.06.94z\"/><path d=\"M17.41 7.96l-1.37-1.37c-.4-.4-.92-.59-1.43-.59-.52 0-1.04.2-1.43.59L10.3 9.45l-7.72 7.72c-.78.78-.78 2.05 0 2.83L4 21.41c.39.39.9.59 1.41.59.51 0 1.02-.2 1.41-.59l7.78-7.78 2.81-2.81c.8-.78.8-2.07 0-2.86zM5.41 20L4 18.59l7.72-7.72 1.47 1.35L5.41 20z\"/>\n",
              "  </svg>\n",
              "      </button>\n",
              "      \n",
              "  <style>\n",
              "    .colab-df-container {\n",
              "      display:flex;\n",
              "      flex-wrap:wrap;\n",
              "      gap: 12px;\n",
              "    }\n",
              "\n",
              "    .colab-df-convert {\n",
              "      background-color: #E8F0FE;\n",
              "      border: none;\n",
              "      border-radius: 50%;\n",
              "      cursor: pointer;\n",
              "      display: none;\n",
              "      fill: #1967D2;\n",
              "      height: 32px;\n",
              "      padding: 0 0 0 0;\n",
              "      width: 32px;\n",
              "    }\n",
              "\n",
              "    .colab-df-convert:hover {\n",
              "      background-color: #E2EBFA;\n",
              "      box-shadow: 0px 1px 2px rgba(60, 64, 67, 0.3), 0px 1px 3px 1px rgba(60, 64, 67, 0.15);\n",
              "      fill: #174EA6;\n",
              "    }\n",
              "\n",
              "    [theme=dark] .colab-df-convert {\n",
              "      background-color: #3B4455;\n",
              "      fill: #D2E3FC;\n",
              "    }\n",
              "\n",
              "    [theme=dark] .colab-df-convert:hover {\n",
              "      background-color: #434B5C;\n",
              "      box-shadow: 0px 1px 3px 1px rgba(0, 0, 0, 0.15);\n",
              "      filter: drop-shadow(0px 1px 2px rgba(0, 0, 0, 0.3));\n",
              "      fill: #FFFFFF;\n",
              "    }\n",
              "  </style>\n",
              "\n",
              "      <script>\n",
              "        const buttonEl =\n",
              "          document.querySelector('#df-5fe8ca03-7a2b-4fba-82fc-2cb12264ea38 button.colab-df-convert');\n",
              "        buttonEl.style.display =\n",
              "          google.colab.kernel.accessAllowed ? 'block' : 'none';\n",
              "\n",
              "        async function convertToInteractive(key) {\n",
              "          const element = document.querySelector('#df-5fe8ca03-7a2b-4fba-82fc-2cb12264ea38');\n",
              "          const dataTable =\n",
              "            await google.colab.kernel.invokeFunction('convertToInteractive',\n",
              "                                                     [key], {});\n",
              "          if (!dataTable) return;\n",
              "\n",
              "          const docLinkHtml = 'Like what you see? Visit the ' +\n",
              "            '<a target=\"_blank\" href=https://colab.research.google.com/notebooks/data_table.ipynb>data table notebook</a>'\n",
              "            + ' to learn more about interactive tables.';\n",
              "          element.innerHTML = '';\n",
              "          dataTable['output_type'] = 'display_data';\n",
              "          await google.colab.output.renderOutput(dataTable, element);\n",
              "          const docLink = document.createElement('div');\n",
              "          docLink.innerHTML = docLinkHtml;\n",
              "          element.appendChild(docLink);\n",
              "        }\n",
              "      </script>\n",
              "    </div>\n",
              "  </div>\n",
              "  "
            ]
          },
          "metadata": {},
          "execution_count": 33
        }
      ]
    },
    {
      "cell_type": "code",
      "source": [
        "# Mengecek apakah ada data yang null atau tidak\n",
        "data.isnull().sum()"
      ],
      "metadata": {
        "colab": {
          "base_uri": "https://localhost:8080/"
        },
        "id": "ortc_CcTjicA",
        "outputId": "f5178981-e2f0-4d52-de26-a8f3cfb190b3"
      },
      "execution_count": 34,
      "outputs": [
        {
          "output_type": "execute_result",
          "data": {
            "text/plain": [
              "IPS (semester 1)    0\n",
              "IPS (semester 2)    1\n",
              "IPS (semester 3)    0\n",
              "IPS (semester 4)    0\n",
              "IPS (semester 5)    0\n",
              "dtype: int64"
            ]
          },
          "metadata": {},
          "execution_count": 34
        }
      ]
    },
    {
      "cell_type": "code",
      "source": [
        "# Membersihakan data yang null\n",
        "data_clean = data.dropna()"
      ],
      "metadata": {
        "id": "uUo1e-nMjpXX"
      },
      "execution_count": 35,
      "outputs": []
    },
    {
      "cell_type": "code",
      "source": [
        "data_clean.isnull().sum()"
      ],
      "metadata": {
        "colab": {
          "base_uri": "https://localhost:8080/"
        },
        "id": "td7BL4bjj1RZ",
        "outputId": "8472aa15-37ba-405b-e696-9a9467080eea"
      },
      "execution_count": 36,
      "outputs": [
        {
          "output_type": "execute_result",
          "data": {
            "text/plain": [
              "IPS (semester 1)    0\n",
              "IPS (semester 2)    0\n",
              "IPS (semester 3)    0\n",
              "IPS (semester 4)    0\n",
              "IPS (semester 5)    0\n",
              "dtype: int64"
            ]
          },
          "metadata": {},
          "execution_count": 36
        }
      ]
    },
    {
      "cell_type": "code",
      "source": [
        "data_clean.info()"
      ],
      "metadata": {
        "colab": {
          "base_uri": "https://localhost:8080/"
        },
        "id": "TU21l8Vxj4yO",
        "outputId": "f14973ec-ad97-4e60-bb80-c29080a2fc42"
      },
      "execution_count": 37,
      "outputs": [
        {
          "output_type": "stream",
          "name": "stdout",
          "text": [
            "<class 'pandas.core.frame.DataFrame'>\n",
            "Int64Index: 87 entries, 0 to 87\n",
            "Data columns (total 5 columns):\n",
            " #   Column            Non-Null Count  Dtype  \n",
            "---  ------            --------------  -----  \n",
            " 0   IPS (semester 1)  87 non-null     object \n",
            " 1   IPS (semester 2)  87 non-null     float64\n",
            " 2   IPS (semester 3)  87 non-null     object \n",
            " 3   IPS (semester 4)  87 non-null     float64\n",
            " 4   IPS (semester 5)  87 non-null     float64\n",
            "dtypes: float64(3), object(2)\n",
            "memory usage: 4.1+ KB\n"
          ]
        }
      ]
    },
    {
      "cell_type": "code",
      "source": [
        "# Mengecek apakah ada data yang duplicated\n",
        "data_clean.duplicated()"
      ],
      "metadata": {
        "colab": {
          "base_uri": "https://localhost:8080/"
        },
        "id": "Iu35vVW8j9tw",
        "outputId": "27da4206-cd22-464b-c9fc-2fb8b743e1aa"
      },
      "execution_count": 38,
      "outputs": [
        {
          "output_type": "execute_result",
          "data": {
            "text/plain": [
              "0     False\n",
              "1     False\n",
              "2     False\n",
              "3     False\n",
              "4     False\n",
              "      ...  \n",
              "83    False\n",
              "84    False\n",
              "85    False\n",
              "86    False\n",
              "87    False\n",
              "Length: 87, dtype: bool"
            ]
          },
          "metadata": {},
          "execution_count": 38
        }
      ]
    },
    {
      "cell_type": "code",
      "source": [
        "data_clean = pd.DataFrame(data_clean)"
      ],
      "metadata": {
        "id": "puAEhxs8kEn-"
      },
      "execution_count": 39,
      "outputs": []
    },
    {
      "cell_type": "code",
      "source": [
        "# Mengkonversi data string ke float\n",
        "data_clean['IPS (semester 1)'] = pd.to_numeric(data_clean['IPS (semester 1)'],errors='coerce')\n",
        "data_clean['IPS (semester 3)'] = pd.to_numeric(data_clean['IPS (semester 3)'], errors='coerce')"
      ],
      "metadata": {
        "id": "B8uJi3ddkMI3"
      },
      "execution_count": 40,
      "outputs": []
    },
    {
      "cell_type": "code",
      "source": [
        "data_clean.isnull().sum()"
      ],
      "metadata": {
        "colab": {
          "base_uri": "https://localhost:8080/"
        },
        "id": "wS23LkXAkouQ",
        "outputId": "e814d5cd-50c0-4900-c7bf-7e88817ec95d"
      },
      "execution_count": 41,
      "outputs": [
        {
          "output_type": "execute_result",
          "data": {
            "text/plain": [
              "IPS (semester 1)     1\n",
              "IPS (semester 2)     0\n",
              "IPS (semester 3)    18\n",
              "IPS (semester 4)     0\n",
              "IPS (semester 5)     0\n",
              "dtype: int64"
            ]
          },
          "metadata": {},
          "execution_count": 41
        }
      ]
    },
    {
      "cell_type": "code",
      "source": [
        "data_clean.head"
      ],
      "metadata": {
        "colab": {
          "base_uri": "https://localhost:8080/"
        },
        "id": "E0KRpbiNkuJg",
        "outputId": "445b7f90-3e0f-410e-be0c-6ccf231ded0d"
      },
      "execution_count": 42,
      "outputs": [
        {
          "output_type": "execute_result",
          "data": {
            "text/plain": [
              "<bound method NDFrame.head of     IPS (semester 1)  IPS (semester 2)  IPS (semester 3)  IPS (semester 4)  \\\n",
              "0               4.00              3.74               NaN              3.90   \n",
              "1               4.00              3.74               NaN              3.85   \n",
              "2               3.45              3.61              3.27              3.79   \n",
              "3               4.00              3.61              3.89              3.65   \n",
              "4               4.00              3.74              3.94              3.80   \n",
              "..               ...               ...               ...               ...   \n",
              "83              3.18              3.54              3.81              3.74   \n",
              "84              3.73              3.67              3.14              3.35   \n",
              "85              3.60              3.67              3.47              3.78   \n",
              "86              3.00              3.75              2.90              3.26   \n",
              "87              2.91              4.00              3.21              3.87   \n",
              "\n",
              "    IPS (semester 5)  \n",
              "0               4.00  \n",
              "1               3.95  \n",
              "2               3.64  \n",
              "3               3.80  \n",
              "4               3.77  \n",
              "..               ...  \n",
              "83              3.53  \n",
              "84              3.80  \n",
              "85              3.95  \n",
              "86              3.50  \n",
              "87              3.75  \n",
              "\n",
              "[87 rows x 5 columns]>"
            ]
          },
          "metadata": {},
          "execution_count": 42
        }
      ]
    },
    {
      "cell_type": "code",
      "source": [
        "data_clean['IPS (semester 1)'].fillna(4.0,inplace=True)\n",
        "data_clean['IPS (semester 3)'].fillna(4.0,inplace=True)"
      ],
      "metadata": {
        "id": "cK4BuVmul3wY"
      },
      "execution_count": 43,
      "outputs": []
    },
    {
      "cell_type": "code",
      "source": [
        "data_clean.info()"
      ],
      "metadata": {
        "colab": {
          "base_uri": "https://localhost:8080/"
        },
        "id": "_ucX87JAmUim",
        "outputId": "1c87b18c-eca3-4221-99ca-e02b4f08d375"
      },
      "execution_count": 44,
      "outputs": [
        {
          "output_type": "stream",
          "name": "stdout",
          "text": [
            "<class 'pandas.core.frame.DataFrame'>\n",
            "Int64Index: 87 entries, 0 to 87\n",
            "Data columns (total 5 columns):\n",
            " #   Column            Non-Null Count  Dtype  \n",
            "---  ------            --------------  -----  \n",
            " 0   IPS (semester 1)  87 non-null     float64\n",
            " 1   IPS (semester 2)  87 non-null     float64\n",
            " 2   IPS (semester 3)  87 non-null     float64\n",
            " 3   IPS (semester 4)  87 non-null     float64\n",
            " 4   IPS (semester 5)  87 non-null     float64\n",
            "dtypes: float64(5)\n",
            "memory usage: 4.1 KB\n"
          ]
        }
      ]
    },
    {
      "cell_type": "code",
      "source": [
        "data_clean['kelulusan'] = 0.0"
      ],
      "metadata": {
        "id": "oK56QCmum2wY"
      },
      "execution_count": 45,
      "outputs": []
    },
    {
      "cell_type": "code",
      "source": [
        "data_clean.info()"
      ],
      "metadata": {
        "colab": {
          "base_uri": "https://localhost:8080/"
        },
        "id": "aZlseST_nJce",
        "outputId": "29c01210-adcb-4418-a0f8-6b39e8dbcdef"
      },
      "execution_count": 46,
      "outputs": [
        {
          "output_type": "stream",
          "name": "stdout",
          "text": [
            "<class 'pandas.core.frame.DataFrame'>\n",
            "Int64Index: 87 entries, 0 to 87\n",
            "Data columns (total 6 columns):\n",
            " #   Column            Non-Null Count  Dtype  \n",
            "---  ------            --------------  -----  \n",
            " 0   IPS (semester 1)  87 non-null     float64\n",
            " 1   IPS (semester 2)  87 non-null     float64\n",
            " 2   IPS (semester 3)  87 non-null     float64\n",
            " 3   IPS (semester 4)  87 non-null     float64\n",
            " 4   IPS (semester 5)  87 non-null     float64\n",
            " 5   kelulusan         87 non-null     float64\n",
            "dtypes: float64(6)\n",
            "memory usage: 4.8 KB\n"
          ]
        }
      ]
    },
    {
      "cell_type": "code",
      "source": [
        "data_clean['hasil'] = 'Belum tersedia'\n",
        "data_clean.head(10)"
      ],
      "metadata": {
        "id": "WiK3X65f3ZrV",
        "colab": {
          "base_uri": "https://localhost:8080/",
          "height": 363
        },
        "outputId": "cd97d238-8bfd-46b1-ccd2-4b48504e6e56"
      },
      "execution_count": 47,
      "outputs": [
        {
          "output_type": "execute_result",
          "data": {
            "text/plain": [
              "   IPS (semester 1)  IPS (semester 2)  IPS (semester 3)  IPS (semester 4)  \\\n",
              "0              4.00              3.74              4.00              3.90   \n",
              "1              4.00              3.74              4.00              3.85   \n",
              "2              3.45              3.61              3.27              3.79   \n",
              "3              4.00              3.61              3.89              3.65   \n",
              "4              4.00              3.74              3.94              3.80   \n",
              "5              4.00              3.61              4.00              3.90   \n",
              "6              4.00              3.61              3.89              3.90   \n",
              "7              3.75              3.43              3.83              3.47   \n",
              "8              3.50              3.74              3.90              3.70   \n",
              "9              3.69              3.26              3.89              4.00   \n",
              "\n",
              "   IPS (semester 5)  kelulusan           hasil  \n",
              "0              4.00        0.0  Belum tersedia  \n",
              "1              3.95        0.0  Belum tersedia  \n",
              "2              3.64        0.0  Belum tersedia  \n",
              "3              3.80        0.0  Belum tersedia  \n",
              "4              3.77        0.0  Belum tersedia  \n",
              "5              4.00        0.0  Belum tersedia  \n",
              "6              4.00        0.0  Belum tersedia  \n",
              "7              3.91        0.0  Belum tersedia  \n",
              "8              4.00        0.0  Belum tersedia  \n",
              "9              3.59        0.0  Belum tersedia  "
            ],
            "text/html": [
              "\n",
              "  <div id=\"df-7d67ba7d-528d-403b-ba1d-85f3801f9660\">\n",
              "    <div class=\"colab-df-container\">\n",
              "      <div>\n",
              "<style scoped>\n",
              "    .dataframe tbody tr th:only-of-type {\n",
              "        vertical-align: middle;\n",
              "    }\n",
              "\n",
              "    .dataframe tbody tr th {\n",
              "        vertical-align: top;\n",
              "    }\n",
              "\n",
              "    .dataframe thead th {\n",
              "        text-align: right;\n",
              "    }\n",
              "</style>\n",
              "<table border=\"1\" class=\"dataframe\">\n",
              "  <thead>\n",
              "    <tr style=\"text-align: right;\">\n",
              "      <th></th>\n",
              "      <th>IPS (semester 1)</th>\n",
              "      <th>IPS (semester 2)</th>\n",
              "      <th>IPS (semester 3)</th>\n",
              "      <th>IPS (semester 4)</th>\n",
              "      <th>IPS (semester 5)</th>\n",
              "      <th>kelulusan</th>\n",
              "      <th>hasil</th>\n",
              "    </tr>\n",
              "  </thead>\n",
              "  <tbody>\n",
              "    <tr>\n",
              "      <th>0</th>\n",
              "      <td>4.00</td>\n",
              "      <td>3.74</td>\n",
              "      <td>4.00</td>\n",
              "      <td>3.90</td>\n",
              "      <td>4.00</td>\n",
              "      <td>0.0</td>\n",
              "      <td>Belum tersedia</td>\n",
              "    </tr>\n",
              "    <tr>\n",
              "      <th>1</th>\n",
              "      <td>4.00</td>\n",
              "      <td>3.74</td>\n",
              "      <td>4.00</td>\n",
              "      <td>3.85</td>\n",
              "      <td>3.95</td>\n",
              "      <td>0.0</td>\n",
              "      <td>Belum tersedia</td>\n",
              "    </tr>\n",
              "    <tr>\n",
              "      <th>2</th>\n",
              "      <td>3.45</td>\n",
              "      <td>3.61</td>\n",
              "      <td>3.27</td>\n",
              "      <td>3.79</td>\n",
              "      <td>3.64</td>\n",
              "      <td>0.0</td>\n",
              "      <td>Belum tersedia</td>\n",
              "    </tr>\n",
              "    <tr>\n",
              "      <th>3</th>\n",
              "      <td>4.00</td>\n",
              "      <td>3.61</td>\n",
              "      <td>3.89</td>\n",
              "      <td>3.65</td>\n",
              "      <td>3.80</td>\n",
              "      <td>0.0</td>\n",
              "      <td>Belum tersedia</td>\n",
              "    </tr>\n",
              "    <tr>\n",
              "      <th>4</th>\n",
              "      <td>4.00</td>\n",
              "      <td>3.74</td>\n",
              "      <td>3.94</td>\n",
              "      <td>3.80</td>\n",
              "      <td>3.77</td>\n",
              "      <td>0.0</td>\n",
              "      <td>Belum tersedia</td>\n",
              "    </tr>\n",
              "    <tr>\n",
              "      <th>5</th>\n",
              "      <td>4.00</td>\n",
              "      <td>3.61</td>\n",
              "      <td>4.00</td>\n",
              "      <td>3.90</td>\n",
              "      <td>4.00</td>\n",
              "      <td>0.0</td>\n",
              "      <td>Belum tersedia</td>\n",
              "    </tr>\n",
              "    <tr>\n",
              "      <th>6</th>\n",
              "      <td>4.00</td>\n",
              "      <td>3.61</td>\n",
              "      <td>3.89</td>\n",
              "      <td>3.90</td>\n",
              "      <td>4.00</td>\n",
              "      <td>0.0</td>\n",
              "      <td>Belum tersedia</td>\n",
              "    </tr>\n",
              "    <tr>\n",
              "      <th>7</th>\n",
              "      <td>3.75</td>\n",
              "      <td>3.43</td>\n",
              "      <td>3.83</td>\n",
              "      <td>3.47</td>\n",
              "      <td>3.91</td>\n",
              "      <td>0.0</td>\n",
              "      <td>Belum tersedia</td>\n",
              "    </tr>\n",
              "    <tr>\n",
              "      <th>8</th>\n",
              "      <td>3.50</td>\n",
              "      <td>3.74</td>\n",
              "      <td>3.90</td>\n",
              "      <td>3.70</td>\n",
              "      <td>4.00</td>\n",
              "      <td>0.0</td>\n",
              "      <td>Belum tersedia</td>\n",
              "    </tr>\n",
              "    <tr>\n",
              "      <th>9</th>\n",
              "      <td>3.69</td>\n",
              "      <td>3.26</td>\n",
              "      <td>3.89</td>\n",
              "      <td>4.00</td>\n",
              "      <td>3.59</td>\n",
              "      <td>0.0</td>\n",
              "      <td>Belum tersedia</td>\n",
              "    </tr>\n",
              "  </tbody>\n",
              "</table>\n",
              "</div>\n",
              "      <button class=\"colab-df-convert\" onclick=\"convertToInteractive('df-7d67ba7d-528d-403b-ba1d-85f3801f9660')\"\n",
              "              title=\"Convert this dataframe to an interactive table.\"\n",
              "              style=\"display:none;\">\n",
              "        \n",
              "  <svg xmlns=\"http://www.w3.org/2000/svg\" height=\"24px\"viewBox=\"0 0 24 24\"\n",
              "       width=\"24px\">\n",
              "    <path d=\"M0 0h24v24H0V0z\" fill=\"none\"/>\n",
              "    <path d=\"M18.56 5.44l.94 2.06.94-2.06 2.06-.94-2.06-.94-.94-2.06-.94 2.06-2.06.94zm-11 1L8.5 8.5l.94-2.06 2.06-.94-2.06-.94L8.5 2.5l-.94 2.06-2.06.94zm10 10l.94 2.06.94-2.06 2.06-.94-2.06-.94-.94-2.06-.94 2.06-2.06.94z\"/><path d=\"M17.41 7.96l-1.37-1.37c-.4-.4-.92-.59-1.43-.59-.52 0-1.04.2-1.43.59L10.3 9.45l-7.72 7.72c-.78.78-.78 2.05 0 2.83L4 21.41c.39.39.9.59 1.41.59.51 0 1.02-.2 1.41-.59l7.78-7.78 2.81-2.81c.8-.78.8-2.07 0-2.86zM5.41 20L4 18.59l7.72-7.72 1.47 1.35L5.41 20z\"/>\n",
              "  </svg>\n",
              "      </button>\n",
              "      \n",
              "  <style>\n",
              "    .colab-df-container {\n",
              "      display:flex;\n",
              "      flex-wrap:wrap;\n",
              "      gap: 12px;\n",
              "    }\n",
              "\n",
              "    .colab-df-convert {\n",
              "      background-color: #E8F0FE;\n",
              "      border: none;\n",
              "      border-radius: 50%;\n",
              "      cursor: pointer;\n",
              "      display: none;\n",
              "      fill: #1967D2;\n",
              "      height: 32px;\n",
              "      padding: 0 0 0 0;\n",
              "      width: 32px;\n",
              "    }\n",
              "\n",
              "    .colab-df-convert:hover {\n",
              "      background-color: #E2EBFA;\n",
              "      box-shadow: 0px 1px 2px rgba(60, 64, 67, 0.3), 0px 1px 3px 1px rgba(60, 64, 67, 0.15);\n",
              "      fill: #174EA6;\n",
              "    }\n",
              "\n",
              "    [theme=dark] .colab-df-convert {\n",
              "      background-color: #3B4455;\n",
              "      fill: #D2E3FC;\n",
              "    }\n",
              "\n",
              "    [theme=dark] .colab-df-convert:hover {\n",
              "      background-color: #434B5C;\n",
              "      box-shadow: 0px 1px 3px 1px rgba(0, 0, 0, 0.15);\n",
              "      filter: drop-shadow(0px 1px 2px rgba(0, 0, 0, 0.3));\n",
              "      fill: #FFFFFF;\n",
              "    }\n",
              "  </style>\n",
              "\n",
              "      <script>\n",
              "        const buttonEl =\n",
              "          document.querySelector('#df-7d67ba7d-528d-403b-ba1d-85f3801f9660 button.colab-df-convert');\n",
              "        buttonEl.style.display =\n",
              "          google.colab.kernel.accessAllowed ? 'block' : 'none';\n",
              "\n",
              "        async function convertToInteractive(key) {\n",
              "          const element = document.querySelector('#df-7d67ba7d-528d-403b-ba1d-85f3801f9660');\n",
              "          const dataTable =\n",
              "            await google.colab.kernel.invokeFunction('convertToInteractive',\n",
              "                                                     [key], {});\n",
              "          if (!dataTable) return;\n",
              "\n",
              "          const docLinkHtml = 'Like what you see? Visit the ' +\n",
              "            '<a target=\"_blank\" href=https://colab.research.google.com/notebooks/data_table.ipynb>data table notebook</a>'\n",
              "            + ' to learn more about interactive tables.';\n",
              "          element.innerHTML = '';\n",
              "          dataTable['output_type'] = 'display_data';\n",
              "          await google.colab.output.renderOutput(dataTable, element);\n",
              "          const docLink = document.createElement('div');\n",
              "          docLink.innerHTML = docLinkHtml;\n",
              "          element.appendChild(docLink);\n",
              "        }\n",
              "      </script>\n",
              "    </div>\n",
              "  </div>\n",
              "  "
            ]
          },
          "metadata": {},
          "execution_count": 47
        }
      ]
    },
    {
      "cell_type": "code",
      "source": [
        "data_clean.head(10)"
      ],
      "metadata": {
        "colab": {
          "base_uri": "https://localhost:8080/",
          "height": 363
        },
        "id": "0t_bvRg9397S",
        "outputId": "e796ac64-c862-4496-88b9-e561453f7d20"
      },
      "execution_count": 48,
      "outputs": [
        {
          "output_type": "execute_result",
          "data": {
            "text/plain": [
              "   IPS (semester 1)  IPS (semester 2)  IPS (semester 3)  IPS (semester 4)  \\\n",
              "0              4.00              3.74              4.00              3.90   \n",
              "1              4.00              3.74              4.00              3.85   \n",
              "2              3.45              3.61              3.27              3.79   \n",
              "3              4.00              3.61              3.89              3.65   \n",
              "4              4.00              3.74              3.94              3.80   \n",
              "5              4.00              3.61              4.00              3.90   \n",
              "6              4.00              3.61              3.89              3.90   \n",
              "7              3.75              3.43              3.83              3.47   \n",
              "8              3.50              3.74              3.90              3.70   \n",
              "9              3.69              3.26              3.89              4.00   \n",
              "\n",
              "   IPS (semester 5)  kelulusan           hasil  \n",
              "0              4.00        0.0  Belum tersedia  \n",
              "1              3.95        0.0  Belum tersedia  \n",
              "2              3.64        0.0  Belum tersedia  \n",
              "3              3.80        0.0  Belum tersedia  \n",
              "4              3.77        0.0  Belum tersedia  \n",
              "5              4.00        0.0  Belum tersedia  \n",
              "6              4.00        0.0  Belum tersedia  \n",
              "7              3.91        0.0  Belum tersedia  \n",
              "8              4.00        0.0  Belum tersedia  \n",
              "9              3.59        0.0  Belum tersedia  "
            ],
            "text/html": [
              "\n",
              "  <div id=\"df-5b0f7ef8-e5c2-4e39-9015-1755579223c4\">\n",
              "    <div class=\"colab-df-container\">\n",
              "      <div>\n",
              "<style scoped>\n",
              "    .dataframe tbody tr th:only-of-type {\n",
              "        vertical-align: middle;\n",
              "    }\n",
              "\n",
              "    .dataframe tbody tr th {\n",
              "        vertical-align: top;\n",
              "    }\n",
              "\n",
              "    .dataframe thead th {\n",
              "        text-align: right;\n",
              "    }\n",
              "</style>\n",
              "<table border=\"1\" class=\"dataframe\">\n",
              "  <thead>\n",
              "    <tr style=\"text-align: right;\">\n",
              "      <th></th>\n",
              "      <th>IPS (semester 1)</th>\n",
              "      <th>IPS (semester 2)</th>\n",
              "      <th>IPS (semester 3)</th>\n",
              "      <th>IPS (semester 4)</th>\n",
              "      <th>IPS (semester 5)</th>\n",
              "      <th>kelulusan</th>\n",
              "      <th>hasil</th>\n",
              "    </tr>\n",
              "  </thead>\n",
              "  <tbody>\n",
              "    <tr>\n",
              "      <th>0</th>\n",
              "      <td>4.00</td>\n",
              "      <td>3.74</td>\n",
              "      <td>4.00</td>\n",
              "      <td>3.90</td>\n",
              "      <td>4.00</td>\n",
              "      <td>0.0</td>\n",
              "      <td>Belum tersedia</td>\n",
              "    </tr>\n",
              "    <tr>\n",
              "      <th>1</th>\n",
              "      <td>4.00</td>\n",
              "      <td>3.74</td>\n",
              "      <td>4.00</td>\n",
              "      <td>3.85</td>\n",
              "      <td>3.95</td>\n",
              "      <td>0.0</td>\n",
              "      <td>Belum tersedia</td>\n",
              "    </tr>\n",
              "    <tr>\n",
              "      <th>2</th>\n",
              "      <td>3.45</td>\n",
              "      <td>3.61</td>\n",
              "      <td>3.27</td>\n",
              "      <td>3.79</td>\n",
              "      <td>3.64</td>\n",
              "      <td>0.0</td>\n",
              "      <td>Belum tersedia</td>\n",
              "    </tr>\n",
              "    <tr>\n",
              "      <th>3</th>\n",
              "      <td>4.00</td>\n",
              "      <td>3.61</td>\n",
              "      <td>3.89</td>\n",
              "      <td>3.65</td>\n",
              "      <td>3.80</td>\n",
              "      <td>0.0</td>\n",
              "      <td>Belum tersedia</td>\n",
              "    </tr>\n",
              "    <tr>\n",
              "      <th>4</th>\n",
              "      <td>4.00</td>\n",
              "      <td>3.74</td>\n",
              "      <td>3.94</td>\n",
              "      <td>3.80</td>\n",
              "      <td>3.77</td>\n",
              "      <td>0.0</td>\n",
              "      <td>Belum tersedia</td>\n",
              "    </tr>\n",
              "    <tr>\n",
              "      <th>5</th>\n",
              "      <td>4.00</td>\n",
              "      <td>3.61</td>\n",
              "      <td>4.00</td>\n",
              "      <td>3.90</td>\n",
              "      <td>4.00</td>\n",
              "      <td>0.0</td>\n",
              "      <td>Belum tersedia</td>\n",
              "    </tr>\n",
              "    <tr>\n",
              "      <th>6</th>\n",
              "      <td>4.00</td>\n",
              "      <td>3.61</td>\n",
              "      <td>3.89</td>\n",
              "      <td>3.90</td>\n",
              "      <td>4.00</td>\n",
              "      <td>0.0</td>\n",
              "      <td>Belum tersedia</td>\n",
              "    </tr>\n",
              "    <tr>\n",
              "      <th>7</th>\n",
              "      <td>3.75</td>\n",
              "      <td>3.43</td>\n",
              "      <td>3.83</td>\n",
              "      <td>3.47</td>\n",
              "      <td>3.91</td>\n",
              "      <td>0.0</td>\n",
              "      <td>Belum tersedia</td>\n",
              "    </tr>\n",
              "    <tr>\n",
              "      <th>8</th>\n",
              "      <td>3.50</td>\n",
              "      <td>3.74</td>\n",
              "      <td>3.90</td>\n",
              "      <td>3.70</td>\n",
              "      <td>4.00</td>\n",
              "      <td>0.0</td>\n",
              "      <td>Belum tersedia</td>\n",
              "    </tr>\n",
              "    <tr>\n",
              "      <th>9</th>\n",
              "      <td>3.69</td>\n",
              "      <td>3.26</td>\n",
              "      <td>3.89</td>\n",
              "      <td>4.00</td>\n",
              "      <td>3.59</td>\n",
              "      <td>0.0</td>\n",
              "      <td>Belum tersedia</td>\n",
              "    </tr>\n",
              "  </tbody>\n",
              "</table>\n",
              "</div>\n",
              "      <button class=\"colab-df-convert\" onclick=\"convertToInteractive('df-5b0f7ef8-e5c2-4e39-9015-1755579223c4')\"\n",
              "              title=\"Convert this dataframe to an interactive table.\"\n",
              "              style=\"display:none;\">\n",
              "        \n",
              "  <svg xmlns=\"http://www.w3.org/2000/svg\" height=\"24px\"viewBox=\"0 0 24 24\"\n",
              "       width=\"24px\">\n",
              "    <path d=\"M0 0h24v24H0V0z\" fill=\"none\"/>\n",
              "    <path d=\"M18.56 5.44l.94 2.06.94-2.06 2.06-.94-2.06-.94-.94-2.06-.94 2.06-2.06.94zm-11 1L8.5 8.5l.94-2.06 2.06-.94-2.06-.94L8.5 2.5l-.94 2.06-2.06.94zm10 10l.94 2.06.94-2.06 2.06-.94-2.06-.94-.94-2.06-.94 2.06-2.06.94z\"/><path d=\"M17.41 7.96l-1.37-1.37c-.4-.4-.92-.59-1.43-.59-.52 0-1.04.2-1.43.59L10.3 9.45l-7.72 7.72c-.78.78-.78 2.05 0 2.83L4 21.41c.39.39.9.59 1.41.59.51 0 1.02-.2 1.41-.59l7.78-7.78 2.81-2.81c.8-.78.8-2.07 0-2.86zM5.41 20L4 18.59l7.72-7.72 1.47 1.35L5.41 20z\"/>\n",
              "  </svg>\n",
              "      </button>\n",
              "      \n",
              "  <style>\n",
              "    .colab-df-container {\n",
              "      display:flex;\n",
              "      flex-wrap:wrap;\n",
              "      gap: 12px;\n",
              "    }\n",
              "\n",
              "    .colab-df-convert {\n",
              "      background-color: #E8F0FE;\n",
              "      border: none;\n",
              "      border-radius: 50%;\n",
              "      cursor: pointer;\n",
              "      display: none;\n",
              "      fill: #1967D2;\n",
              "      height: 32px;\n",
              "      padding: 0 0 0 0;\n",
              "      width: 32px;\n",
              "    }\n",
              "\n",
              "    .colab-df-convert:hover {\n",
              "      background-color: #E2EBFA;\n",
              "      box-shadow: 0px 1px 2px rgba(60, 64, 67, 0.3), 0px 1px 3px 1px rgba(60, 64, 67, 0.15);\n",
              "      fill: #174EA6;\n",
              "    }\n",
              "\n",
              "    [theme=dark] .colab-df-convert {\n",
              "      background-color: #3B4455;\n",
              "      fill: #D2E3FC;\n",
              "    }\n",
              "\n",
              "    [theme=dark] .colab-df-convert:hover {\n",
              "      background-color: #434B5C;\n",
              "      box-shadow: 0px 1px 3px 1px rgba(0, 0, 0, 0.15);\n",
              "      filter: drop-shadow(0px 1px 2px rgba(0, 0, 0, 0.3));\n",
              "      fill: #FFFFFF;\n",
              "    }\n",
              "  </style>\n",
              "\n",
              "      <script>\n",
              "        const buttonEl =\n",
              "          document.querySelector('#df-5b0f7ef8-e5c2-4e39-9015-1755579223c4 button.colab-df-convert');\n",
              "        buttonEl.style.display =\n",
              "          google.colab.kernel.accessAllowed ? 'block' : 'none';\n",
              "\n",
              "        async function convertToInteractive(key) {\n",
              "          const element = document.querySelector('#df-5b0f7ef8-e5c2-4e39-9015-1755579223c4');\n",
              "          const dataTable =\n",
              "            await google.colab.kernel.invokeFunction('convertToInteractive',\n",
              "                                                     [key], {});\n",
              "          if (!dataTable) return;\n",
              "\n",
              "          const docLinkHtml = 'Like what you see? Visit the ' +\n",
              "            '<a target=\"_blank\" href=https://colab.research.google.com/notebooks/data_table.ipynb>data table notebook</a>'\n",
              "            + ' to learn more about interactive tables.';\n",
              "          element.innerHTML = '';\n",
              "          dataTable['output_type'] = 'display_data';\n",
              "          await google.colab.output.renderOutput(dataTable, element);\n",
              "          const docLink = document.createElement('div');\n",
              "          docLink.innerHTML = docLinkHtml;\n",
              "          element.appendChild(docLink);\n",
              "        }\n",
              "      </script>\n",
              "    </div>\n",
              "  </div>\n",
              "  "
            ]
          },
          "metadata": {},
          "execution_count": 48
        }
      ]
    },
    {
      "cell_type": "code",
      "source": [
        "df = pd.DataFrame(data_clean)"
      ],
      "metadata": {
        "id": "DKOCszh64nxB"
      },
      "execution_count": 49,
      "outputs": []
    },
    {
      "cell_type": "code",
      "source": [
        "def calculate_row(row):\n",
        "    return row['IPS (semester 1)'] + row['IPS (semester 2)'] + row['IPS (semester 3)'] + row['IPS (semester 4)'] + row['IPS (semester 5)']"
      ],
      "metadata": {
        "id": "aJfYBAdl6FLY"
      },
      "execution_count": 50,
      "outputs": []
    },
    {
      "cell_type": "code",
      "source": [
        "df['hasil'] = df.apply(calculate_row, axis=1)"
      ],
      "metadata": {
        "id": "8wAWe-o-6T4Z"
      },
      "execution_count": 51,
      "outputs": []
    },
    {
      "cell_type": "code",
      "source": [
        "df.info()"
      ],
      "metadata": {
        "colab": {
          "base_uri": "https://localhost:8080/"
        },
        "id": "dyPBirxk8eQo",
        "outputId": "5331ade6-74f5-4910-e5eb-c4c7dc9b34ee"
      },
      "execution_count": 52,
      "outputs": [
        {
          "output_type": "stream",
          "name": "stdout",
          "text": [
            "<class 'pandas.core.frame.DataFrame'>\n",
            "Int64Index: 87 entries, 0 to 87\n",
            "Data columns (total 7 columns):\n",
            " #   Column            Non-Null Count  Dtype  \n",
            "---  ------            --------------  -----  \n",
            " 0   IPS (semester 1)  87 non-null     float64\n",
            " 1   IPS (semester 2)  87 non-null     float64\n",
            " 2   IPS (semester 3)  87 non-null     float64\n",
            " 3   IPS (semester 4)  87 non-null     float64\n",
            " 4   IPS (semester 5)  87 non-null     float64\n",
            " 5   kelulusan         87 non-null     float64\n",
            " 6   hasil             87 non-null     float64\n",
            "dtypes: float64(7)\n",
            "memory usage: 5.4 KB\n"
          ]
        }
      ]
    },
    {
      "cell_type": "code",
      "source": [
        "# Membuat fungsi lulus dan tidak lulus\n",
        "def graduation(nilai):\n",
        "  if nilai >= 19.00:\n",
        "    return 'Lulus Tepat Waktu'\n",
        "  else:\n",
        "    return 'Lulus Tidak Tepat Waktu'"
      ],
      "metadata": {
        "id": "k-WekHwC8Mtq"
      },
      "execution_count": 57,
      "outputs": []
    },
    {
      "cell_type": "code",
      "source": [
        "#  Menerapkan fungsi pada kolom 'hasil' untuk membuat kolom 'kelulusan'\n",
        "df['kelulusan'] = df['hasil'].apply(graduation)"
      ],
      "metadata": {
        "id": "V2tb6EBe8wL4"
      },
      "execution_count": 58,
      "outputs": []
    },
    {
      "cell_type": "code",
      "source": [
        "df.head(10)"
      ],
      "metadata": {
        "colab": {
          "base_uri": "https://localhost:8080/",
          "height": 363
        },
        "id": "5dr-ZeXwCrZC",
        "outputId": "4bf79c85-6e3e-4fe8-b7b2-fabef05a4aa6"
      },
      "execution_count": 59,
      "outputs": [
        {
          "output_type": "execute_result",
          "data": {
            "text/plain": [
              "   IPS (semester 1)  IPS (semester 2)  IPS (semester 3)  IPS (semester 4)  \\\n",
              "0              4.00              3.74              4.00              3.90   \n",
              "1              4.00              3.74              4.00              3.85   \n",
              "2              3.45              3.61              3.27              3.79   \n",
              "3              4.00              3.61              3.89              3.65   \n",
              "4              4.00              3.74              3.94              3.80   \n",
              "5              4.00              3.61              4.00              3.90   \n",
              "6              4.00              3.61              3.89              3.90   \n",
              "7              3.75              3.43              3.83              3.47   \n",
              "8              3.50              3.74              3.90              3.70   \n",
              "9              3.69              3.26              3.89              4.00   \n",
              "\n",
              "   IPS (semester 5)                kelulusan  hasil  \n",
              "0              4.00        Lulus Tepat Waktu  19.64  \n",
              "1              3.95        Lulus Tepat Waktu  19.54  \n",
              "2              3.64  Lulus Tidak Tepat Waktu  17.76  \n",
              "3              3.80  Lulus Tidak Tepat Waktu  18.95  \n",
              "4              3.77        Lulus Tepat Waktu  19.25  \n",
              "5              4.00        Lulus Tepat Waktu  19.51  \n",
              "6              4.00        Lulus Tepat Waktu  19.40  \n",
              "7              3.91  Lulus Tidak Tepat Waktu  18.39  \n",
              "8              4.00  Lulus Tidak Tepat Waktu  18.84  \n",
              "9              3.59  Lulus Tidak Tepat Waktu  18.43  "
            ],
            "text/html": [
              "\n",
              "  <div id=\"df-33aa44ae-b289-4104-82a5-d907629d0f8a\">\n",
              "    <div class=\"colab-df-container\">\n",
              "      <div>\n",
              "<style scoped>\n",
              "    .dataframe tbody tr th:only-of-type {\n",
              "        vertical-align: middle;\n",
              "    }\n",
              "\n",
              "    .dataframe tbody tr th {\n",
              "        vertical-align: top;\n",
              "    }\n",
              "\n",
              "    .dataframe thead th {\n",
              "        text-align: right;\n",
              "    }\n",
              "</style>\n",
              "<table border=\"1\" class=\"dataframe\">\n",
              "  <thead>\n",
              "    <tr style=\"text-align: right;\">\n",
              "      <th></th>\n",
              "      <th>IPS (semester 1)</th>\n",
              "      <th>IPS (semester 2)</th>\n",
              "      <th>IPS (semester 3)</th>\n",
              "      <th>IPS (semester 4)</th>\n",
              "      <th>IPS (semester 5)</th>\n",
              "      <th>kelulusan</th>\n",
              "      <th>hasil</th>\n",
              "    </tr>\n",
              "  </thead>\n",
              "  <tbody>\n",
              "    <tr>\n",
              "      <th>0</th>\n",
              "      <td>4.00</td>\n",
              "      <td>3.74</td>\n",
              "      <td>4.00</td>\n",
              "      <td>3.90</td>\n",
              "      <td>4.00</td>\n",
              "      <td>Lulus Tepat Waktu</td>\n",
              "      <td>19.64</td>\n",
              "    </tr>\n",
              "    <tr>\n",
              "      <th>1</th>\n",
              "      <td>4.00</td>\n",
              "      <td>3.74</td>\n",
              "      <td>4.00</td>\n",
              "      <td>3.85</td>\n",
              "      <td>3.95</td>\n",
              "      <td>Lulus Tepat Waktu</td>\n",
              "      <td>19.54</td>\n",
              "    </tr>\n",
              "    <tr>\n",
              "      <th>2</th>\n",
              "      <td>3.45</td>\n",
              "      <td>3.61</td>\n",
              "      <td>3.27</td>\n",
              "      <td>3.79</td>\n",
              "      <td>3.64</td>\n",
              "      <td>Lulus Tidak Tepat Waktu</td>\n",
              "      <td>17.76</td>\n",
              "    </tr>\n",
              "    <tr>\n",
              "      <th>3</th>\n",
              "      <td>4.00</td>\n",
              "      <td>3.61</td>\n",
              "      <td>3.89</td>\n",
              "      <td>3.65</td>\n",
              "      <td>3.80</td>\n",
              "      <td>Lulus Tidak Tepat Waktu</td>\n",
              "      <td>18.95</td>\n",
              "    </tr>\n",
              "    <tr>\n",
              "      <th>4</th>\n",
              "      <td>4.00</td>\n",
              "      <td>3.74</td>\n",
              "      <td>3.94</td>\n",
              "      <td>3.80</td>\n",
              "      <td>3.77</td>\n",
              "      <td>Lulus Tepat Waktu</td>\n",
              "      <td>19.25</td>\n",
              "    </tr>\n",
              "    <tr>\n",
              "      <th>5</th>\n",
              "      <td>4.00</td>\n",
              "      <td>3.61</td>\n",
              "      <td>4.00</td>\n",
              "      <td>3.90</td>\n",
              "      <td>4.00</td>\n",
              "      <td>Lulus Tepat Waktu</td>\n",
              "      <td>19.51</td>\n",
              "    </tr>\n",
              "    <tr>\n",
              "      <th>6</th>\n",
              "      <td>4.00</td>\n",
              "      <td>3.61</td>\n",
              "      <td>3.89</td>\n",
              "      <td>3.90</td>\n",
              "      <td>4.00</td>\n",
              "      <td>Lulus Tepat Waktu</td>\n",
              "      <td>19.40</td>\n",
              "    </tr>\n",
              "    <tr>\n",
              "      <th>7</th>\n",
              "      <td>3.75</td>\n",
              "      <td>3.43</td>\n",
              "      <td>3.83</td>\n",
              "      <td>3.47</td>\n",
              "      <td>3.91</td>\n",
              "      <td>Lulus Tidak Tepat Waktu</td>\n",
              "      <td>18.39</td>\n",
              "    </tr>\n",
              "    <tr>\n",
              "      <th>8</th>\n",
              "      <td>3.50</td>\n",
              "      <td>3.74</td>\n",
              "      <td>3.90</td>\n",
              "      <td>3.70</td>\n",
              "      <td>4.00</td>\n",
              "      <td>Lulus Tidak Tepat Waktu</td>\n",
              "      <td>18.84</td>\n",
              "    </tr>\n",
              "    <tr>\n",
              "      <th>9</th>\n",
              "      <td>3.69</td>\n",
              "      <td>3.26</td>\n",
              "      <td>3.89</td>\n",
              "      <td>4.00</td>\n",
              "      <td>3.59</td>\n",
              "      <td>Lulus Tidak Tepat Waktu</td>\n",
              "      <td>18.43</td>\n",
              "    </tr>\n",
              "  </tbody>\n",
              "</table>\n",
              "</div>\n",
              "      <button class=\"colab-df-convert\" onclick=\"convertToInteractive('df-33aa44ae-b289-4104-82a5-d907629d0f8a')\"\n",
              "              title=\"Convert this dataframe to an interactive table.\"\n",
              "              style=\"display:none;\">\n",
              "        \n",
              "  <svg xmlns=\"http://www.w3.org/2000/svg\" height=\"24px\"viewBox=\"0 0 24 24\"\n",
              "       width=\"24px\">\n",
              "    <path d=\"M0 0h24v24H0V0z\" fill=\"none\"/>\n",
              "    <path d=\"M18.56 5.44l.94 2.06.94-2.06 2.06-.94-2.06-.94-.94-2.06-.94 2.06-2.06.94zm-11 1L8.5 8.5l.94-2.06 2.06-.94-2.06-.94L8.5 2.5l-.94 2.06-2.06.94zm10 10l.94 2.06.94-2.06 2.06-.94-2.06-.94-.94-2.06-.94 2.06-2.06.94z\"/><path d=\"M17.41 7.96l-1.37-1.37c-.4-.4-.92-.59-1.43-.59-.52 0-1.04.2-1.43.59L10.3 9.45l-7.72 7.72c-.78.78-.78 2.05 0 2.83L4 21.41c.39.39.9.59 1.41.59.51 0 1.02-.2 1.41-.59l7.78-7.78 2.81-2.81c.8-.78.8-2.07 0-2.86zM5.41 20L4 18.59l7.72-7.72 1.47 1.35L5.41 20z\"/>\n",
              "  </svg>\n",
              "      </button>\n",
              "      \n",
              "  <style>\n",
              "    .colab-df-container {\n",
              "      display:flex;\n",
              "      flex-wrap:wrap;\n",
              "      gap: 12px;\n",
              "    }\n",
              "\n",
              "    .colab-df-convert {\n",
              "      background-color: #E8F0FE;\n",
              "      border: none;\n",
              "      border-radius: 50%;\n",
              "      cursor: pointer;\n",
              "      display: none;\n",
              "      fill: #1967D2;\n",
              "      height: 32px;\n",
              "      padding: 0 0 0 0;\n",
              "      width: 32px;\n",
              "    }\n",
              "\n",
              "    .colab-df-convert:hover {\n",
              "      background-color: #E2EBFA;\n",
              "      box-shadow: 0px 1px 2px rgba(60, 64, 67, 0.3), 0px 1px 3px 1px rgba(60, 64, 67, 0.15);\n",
              "      fill: #174EA6;\n",
              "    }\n",
              "\n",
              "    [theme=dark] .colab-df-convert {\n",
              "      background-color: #3B4455;\n",
              "      fill: #D2E3FC;\n",
              "    }\n",
              "\n",
              "    [theme=dark] .colab-df-convert:hover {\n",
              "      background-color: #434B5C;\n",
              "      box-shadow: 0px 1px 3px 1px rgba(0, 0, 0, 0.15);\n",
              "      filter: drop-shadow(0px 1px 2px rgba(0, 0, 0, 0.3));\n",
              "      fill: #FFFFFF;\n",
              "    }\n",
              "  </style>\n",
              "\n",
              "      <script>\n",
              "        const buttonEl =\n",
              "          document.querySelector('#df-33aa44ae-b289-4104-82a5-d907629d0f8a button.colab-df-convert');\n",
              "        buttonEl.style.display =\n",
              "          google.colab.kernel.accessAllowed ? 'block' : 'none';\n",
              "\n",
              "        async function convertToInteractive(key) {\n",
              "          const element = document.querySelector('#df-33aa44ae-b289-4104-82a5-d907629d0f8a');\n",
              "          const dataTable =\n",
              "            await google.colab.kernel.invokeFunction('convertToInteractive',\n",
              "                                                     [key], {});\n",
              "          if (!dataTable) return;\n",
              "\n",
              "          const docLinkHtml = 'Like what you see? Visit the ' +\n",
              "            '<a target=\"_blank\" href=https://colab.research.google.com/notebooks/data_table.ipynb>data table notebook</a>'\n",
              "            + ' to learn more about interactive tables.';\n",
              "          element.innerHTML = '';\n",
              "          dataTable['output_type'] = 'display_data';\n",
              "          await google.colab.output.renderOutput(dataTable, element);\n",
              "          const docLink = document.createElement('div');\n",
              "          docLink.innerHTML = docLinkHtml;\n",
              "          element.appendChild(docLink);\n",
              "        }\n",
              "      </script>\n",
              "    </div>\n",
              "  </div>\n",
              "  "
            ]
          },
          "metadata": {},
          "execution_count": 59
        }
      ]
    },
    {
      "cell_type": "code",
      "source": [
        "# Mengubah data \"Lulus\" menjadi 1 dan \"Tidak Lulus\" menjadi 0\n",
        "df['kelulusan'] = df['kelulusan'].map({'Lulus Tepat Waktu': 1, 'Lulus Tidak Tepat Waktu': 0})"
      ],
      "metadata": {
        "id": "mOJGE2xuDArC"
      },
      "execution_count": 60,
      "outputs": []
    },
    {
      "cell_type": "code",
      "source": [
        "df.head(10)"
      ],
      "metadata": {
        "colab": {
          "base_uri": "https://localhost:8080/",
          "height": 363
        },
        "id": "o4ke9fHCDJgW",
        "outputId": "310d1743-043a-4830-a630-3e97883c1fb0"
      },
      "execution_count": 61,
      "outputs": [
        {
          "output_type": "execute_result",
          "data": {
            "text/plain": [
              "   IPS (semester 1)  IPS (semester 2)  IPS (semester 3)  IPS (semester 4)  \\\n",
              "0              4.00              3.74              4.00              3.90   \n",
              "1              4.00              3.74              4.00              3.85   \n",
              "2              3.45              3.61              3.27              3.79   \n",
              "3              4.00              3.61              3.89              3.65   \n",
              "4              4.00              3.74              3.94              3.80   \n",
              "5              4.00              3.61              4.00              3.90   \n",
              "6              4.00              3.61              3.89              3.90   \n",
              "7              3.75              3.43              3.83              3.47   \n",
              "8              3.50              3.74              3.90              3.70   \n",
              "9              3.69              3.26              3.89              4.00   \n",
              "\n",
              "   IPS (semester 5)  kelulusan  hasil  \n",
              "0              4.00          1  19.64  \n",
              "1              3.95          1  19.54  \n",
              "2              3.64          0  17.76  \n",
              "3              3.80          0  18.95  \n",
              "4              3.77          1  19.25  \n",
              "5              4.00          1  19.51  \n",
              "6              4.00          1  19.40  \n",
              "7              3.91          0  18.39  \n",
              "8              4.00          0  18.84  \n",
              "9              3.59          0  18.43  "
            ],
            "text/html": [
              "\n",
              "  <div id=\"df-e971f92b-6047-443f-898f-67705c29a104\">\n",
              "    <div class=\"colab-df-container\">\n",
              "      <div>\n",
              "<style scoped>\n",
              "    .dataframe tbody tr th:only-of-type {\n",
              "        vertical-align: middle;\n",
              "    }\n",
              "\n",
              "    .dataframe tbody tr th {\n",
              "        vertical-align: top;\n",
              "    }\n",
              "\n",
              "    .dataframe thead th {\n",
              "        text-align: right;\n",
              "    }\n",
              "</style>\n",
              "<table border=\"1\" class=\"dataframe\">\n",
              "  <thead>\n",
              "    <tr style=\"text-align: right;\">\n",
              "      <th></th>\n",
              "      <th>IPS (semester 1)</th>\n",
              "      <th>IPS (semester 2)</th>\n",
              "      <th>IPS (semester 3)</th>\n",
              "      <th>IPS (semester 4)</th>\n",
              "      <th>IPS (semester 5)</th>\n",
              "      <th>kelulusan</th>\n",
              "      <th>hasil</th>\n",
              "    </tr>\n",
              "  </thead>\n",
              "  <tbody>\n",
              "    <tr>\n",
              "      <th>0</th>\n",
              "      <td>4.00</td>\n",
              "      <td>3.74</td>\n",
              "      <td>4.00</td>\n",
              "      <td>3.90</td>\n",
              "      <td>4.00</td>\n",
              "      <td>1</td>\n",
              "      <td>19.64</td>\n",
              "    </tr>\n",
              "    <tr>\n",
              "      <th>1</th>\n",
              "      <td>4.00</td>\n",
              "      <td>3.74</td>\n",
              "      <td>4.00</td>\n",
              "      <td>3.85</td>\n",
              "      <td>3.95</td>\n",
              "      <td>1</td>\n",
              "      <td>19.54</td>\n",
              "    </tr>\n",
              "    <tr>\n",
              "      <th>2</th>\n",
              "      <td>3.45</td>\n",
              "      <td>3.61</td>\n",
              "      <td>3.27</td>\n",
              "      <td>3.79</td>\n",
              "      <td>3.64</td>\n",
              "      <td>0</td>\n",
              "      <td>17.76</td>\n",
              "    </tr>\n",
              "    <tr>\n",
              "      <th>3</th>\n",
              "      <td>4.00</td>\n",
              "      <td>3.61</td>\n",
              "      <td>3.89</td>\n",
              "      <td>3.65</td>\n",
              "      <td>3.80</td>\n",
              "      <td>0</td>\n",
              "      <td>18.95</td>\n",
              "    </tr>\n",
              "    <tr>\n",
              "      <th>4</th>\n",
              "      <td>4.00</td>\n",
              "      <td>3.74</td>\n",
              "      <td>3.94</td>\n",
              "      <td>3.80</td>\n",
              "      <td>3.77</td>\n",
              "      <td>1</td>\n",
              "      <td>19.25</td>\n",
              "    </tr>\n",
              "    <tr>\n",
              "      <th>5</th>\n",
              "      <td>4.00</td>\n",
              "      <td>3.61</td>\n",
              "      <td>4.00</td>\n",
              "      <td>3.90</td>\n",
              "      <td>4.00</td>\n",
              "      <td>1</td>\n",
              "      <td>19.51</td>\n",
              "    </tr>\n",
              "    <tr>\n",
              "      <th>6</th>\n",
              "      <td>4.00</td>\n",
              "      <td>3.61</td>\n",
              "      <td>3.89</td>\n",
              "      <td>3.90</td>\n",
              "      <td>4.00</td>\n",
              "      <td>1</td>\n",
              "      <td>19.40</td>\n",
              "    </tr>\n",
              "    <tr>\n",
              "      <th>7</th>\n",
              "      <td>3.75</td>\n",
              "      <td>3.43</td>\n",
              "      <td>3.83</td>\n",
              "      <td>3.47</td>\n",
              "      <td>3.91</td>\n",
              "      <td>0</td>\n",
              "      <td>18.39</td>\n",
              "    </tr>\n",
              "    <tr>\n",
              "      <th>8</th>\n",
              "      <td>3.50</td>\n",
              "      <td>3.74</td>\n",
              "      <td>3.90</td>\n",
              "      <td>3.70</td>\n",
              "      <td>4.00</td>\n",
              "      <td>0</td>\n",
              "      <td>18.84</td>\n",
              "    </tr>\n",
              "    <tr>\n",
              "      <th>9</th>\n",
              "      <td>3.69</td>\n",
              "      <td>3.26</td>\n",
              "      <td>3.89</td>\n",
              "      <td>4.00</td>\n",
              "      <td>3.59</td>\n",
              "      <td>0</td>\n",
              "      <td>18.43</td>\n",
              "    </tr>\n",
              "  </tbody>\n",
              "</table>\n",
              "</div>\n",
              "      <button class=\"colab-df-convert\" onclick=\"convertToInteractive('df-e971f92b-6047-443f-898f-67705c29a104')\"\n",
              "              title=\"Convert this dataframe to an interactive table.\"\n",
              "              style=\"display:none;\">\n",
              "        \n",
              "  <svg xmlns=\"http://www.w3.org/2000/svg\" height=\"24px\"viewBox=\"0 0 24 24\"\n",
              "       width=\"24px\">\n",
              "    <path d=\"M0 0h24v24H0V0z\" fill=\"none\"/>\n",
              "    <path d=\"M18.56 5.44l.94 2.06.94-2.06 2.06-.94-2.06-.94-.94-2.06-.94 2.06-2.06.94zm-11 1L8.5 8.5l.94-2.06 2.06-.94-2.06-.94L8.5 2.5l-.94 2.06-2.06.94zm10 10l.94 2.06.94-2.06 2.06-.94-2.06-.94-.94-2.06-.94 2.06-2.06.94z\"/><path d=\"M17.41 7.96l-1.37-1.37c-.4-.4-.92-.59-1.43-.59-.52 0-1.04.2-1.43.59L10.3 9.45l-7.72 7.72c-.78.78-.78 2.05 0 2.83L4 21.41c.39.39.9.59 1.41.59.51 0 1.02-.2 1.41-.59l7.78-7.78 2.81-2.81c.8-.78.8-2.07 0-2.86zM5.41 20L4 18.59l7.72-7.72 1.47 1.35L5.41 20z\"/>\n",
              "  </svg>\n",
              "      </button>\n",
              "      \n",
              "  <style>\n",
              "    .colab-df-container {\n",
              "      display:flex;\n",
              "      flex-wrap:wrap;\n",
              "      gap: 12px;\n",
              "    }\n",
              "\n",
              "    .colab-df-convert {\n",
              "      background-color: #E8F0FE;\n",
              "      border: none;\n",
              "      border-radius: 50%;\n",
              "      cursor: pointer;\n",
              "      display: none;\n",
              "      fill: #1967D2;\n",
              "      height: 32px;\n",
              "      padding: 0 0 0 0;\n",
              "      width: 32px;\n",
              "    }\n",
              "\n",
              "    .colab-df-convert:hover {\n",
              "      background-color: #E2EBFA;\n",
              "      box-shadow: 0px 1px 2px rgba(60, 64, 67, 0.3), 0px 1px 3px 1px rgba(60, 64, 67, 0.15);\n",
              "      fill: #174EA6;\n",
              "    }\n",
              "\n",
              "    [theme=dark] .colab-df-convert {\n",
              "      background-color: #3B4455;\n",
              "      fill: #D2E3FC;\n",
              "    }\n",
              "\n",
              "    [theme=dark] .colab-df-convert:hover {\n",
              "      background-color: #434B5C;\n",
              "      box-shadow: 0px 1px 3px 1px rgba(0, 0, 0, 0.15);\n",
              "      filter: drop-shadow(0px 1px 2px rgba(0, 0, 0, 0.3));\n",
              "      fill: #FFFFFF;\n",
              "    }\n",
              "  </style>\n",
              "\n",
              "      <script>\n",
              "        const buttonEl =\n",
              "          document.querySelector('#df-e971f92b-6047-443f-898f-67705c29a104 button.colab-df-convert');\n",
              "        buttonEl.style.display =\n",
              "          google.colab.kernel.accessAllowed ? 'block' : 'none';\n",
              "\n",
              "        async function convertToInteractive(key) {\n",
              "          const element = document.querySelector('#df-e971f92b-6047-443f-898f-67705c29a104');\n",
              "          const dataTable =\n",
              "            await google.colab.kernel.invokeFunction('convertToInteractive',\n",
              "                                                     [key], {});\n",
              "          if (!dataTable) return;\n",
              "\n",
              "          const docLinkHtml = 'Like what you see? Visit the ' +\n",
              "            '<a target=\"_blank\" href=https://colab.research.google.com/notebooks/data_table.ipynb>data table notebook</a>'\n",
              "            + ' to learn more about interactive tables.';\n",
              "          element.innerHTML = '';\n",
              "          dataTable['output_type'] = 'display_data';\n",
              "          await google.colab.output.renderOutput(dataTable, element);\n",
              "          const docLink = document.createElement('div');\n",
              "          docLink.innerHTML = docLinkHtml;\n",
              "          element.appendChild(docLink);\n",
              "        }\n",
              "      </script>\n",
              "    </div>\n",
              "  </div>\n",
              "  "
            ]
          },
          "metadata": {},
          "execution_count": 61
        }
      ]
    },
    {
      "cell_type": "markdown",
      "source": [
        "# Membuat Model Dengan Algoritma SVM"
      ],
      "metadata": {
        "id": "Bua3vSChDtN0"
      }
    },
    {
      "cell_type": "code",
      "source": [
        "df.info()"
      ],
      "metadata": {
        "colab": {
          "base_uri": "https://localhost:8080/"
        },
        "id": "rQMCWp3RDOIe",
        "outputId": "aa5f1305-fe78-4009-ad6f-666ac1393724"
      },
      "execution_count": 62,
      "outputs": [
        {
          "output_type": "stream",
          "name": "stdout",
          "text": [
            "<class 'pandas.core.frame.DataFrame'>\n",
            "Int64Index: 87 entries, 0 to 87\n",
            "Data columns (total 7 columns):\n",
            " #   Column            Non-Null Count  Dtype  \n",
            "---  ------            --------------  -----  \n",
            " 0   IPS (semester 1)  87 non-null     float64\n",
            " 1   IPS (semester 2)  87 non-null     float64\n",
            " 2   IPS (semester 3)  87 non-null     float64\n",
            " 3   IPS (semester 4)  87 non-null     float64\n",
            " 4   IPS (semester 5)  87 non-null     float64\n",
            " 5   kelulusan         87 non-null     int64  \n",
            " 6   hasil             87 non-null     float64\n",
            "dtypes: float64(6), int64(1)\n",
            "memory usage: 5.4 KB\n"
          ]
        }
      ]
    },
    {
      "cell_type": "code",
      "source": [
        "X = df[df.columns[:6]]"
      ],
      "metadata": {
        "id": "eYrBWbSGDyAX"
      },
      "execution_count": 63,
      "outputs": []
    },
    {
      "cell_type": "code",
      "source": [
        "# memisahkan label pada dataset dan menyimpannya pada sebuah variabel\n",
        "y = df['kelulusan']"
      ],
      "metadata": {
        "id": "4t9W8gBLDrhB"
      },
      "execution_count": 64,
      "outputs": []
    },
    {
      "cell_type": "code",
      "source": [
        " # standarisasi nilai-nilai dari dataset\n",
        "scaler = StandardScaler()\n",
        "scaler.fit(X)\n",
        "X = scaler.transform(X)"
      ],
      "metadata": {
        "id": "6gxtupqFED0R"
      },
      "execution_count": 65,
      "outputs": []
    },
    {
      "cell_type": "code",
      "source": [
        "X_train, X_test, y_train, y_test = train_test_split(X, y, test_size=0.2, random_state=42)"
      ],
      "metadata": {
        "id": "ckvW1ZxDELl_"
      },
      "execution_count": 66,
      "outputs": []
    },
    {
      "cell_type": "code",
      "source": [
        "# membuat objek SVC dan memanggil fungsi fit untuk melatih model\n",
        "svm_model = SVC(kernel='linear')"
      ],
      "metadata": {
        "id": "oXNAa4naEP0n"
      },
      "execution_count": 67,
      "outputs": []
    },
    {
      "cell_type": "code",
      "source": [
        "svm_model.fit(X_train, y_train)"
      ],
      "metadata": {
        "colab": {
          "base_uri": "https://localhost:8080/",
          "height": 75
        },
        "id": "gjCk8DNAHIub",
        "outputId": "fe68c798-3fd1-420d-84e6-9c0c4e1f72fb"
      },
      "execution_count": 68,
      "outputs": [
        {
          "output_type": "execute_result",
          "data": {
            "text/plain": [
              "SVC(kernel='linear')"
            ],
            "text/html": [
              "<style>#sk-container-id-1 {color: black;background-color: white;}#sk-container-id-1 pre{padding: 0;}#sk-container-id-1 div.sk-toggleable {background-color: white;}#sk-container-id-1 label.sk-toggleable__label {cursor: pointer;display: block;width: 100%;margin-bottom: 0;padding: 0.3em;box-sizing: border-box;text-align: center;}#sk-container-id-1 label.sk-toggleable__label-arrow:before {content: \"▸\";float: left;margin-right: 0.25em;color: #696969;}#sk-container-id-1 label.sk-toggleable__label-arrow:hover:before {color: black;}#sk-container-id-1 div.sk-estimator:hover label.sk-toggleable__label-arrow:before {color: black;}#sk-container-id-1 div.sk-toggleable__content {max-height: 0;max-width: 0;overflow: hidden;text-align: left;background-color: #f0f8ff;}#sk-container-id-1 div.sk-toggleable__content pre {margin: 0.2em;color: black;border-radius: 0.25em;background-color: #f0f8ff;}#sk-container-id-1 input.sk-toggleable__control:checked~div.sk-toggleable__content {max-height: 200px;max-width: 100%;overflow: auto;}#sk-container-id-1 input.sk-toggleable__control:checked~label.sk-toggleable__label-arrow:before {content: \"▾\";}#sk-container-id-1 div.sk-estimator input.sk-toggleable__control:checked~label.sk-toggleable__label {background-color: #d4ebff;}#sk-container-id-1 div.sk-label input.sk-toggleable__control:checked~label.sk-toggleable__label {background-color: #d4ebff;}#sk-container-id-1 input.sk-hidden--visually {border: 0;clip: rect(1px 1px 1px 1px);clip: rect(1px, 1px, 1px, 1px);height: 1px;margin: -1px;overflow: hidden;padding: 0;position: absolute;width: 1px;}#sk-container-id-1 div.sk-estimator {font-family: monospace;background-color: #f0f8ff;border: 1px dotted black;border-radius: 0.25em;box-sizing: border-box;margin-bottom: 0.5em;}#sk-container-id-1 div.sk-estimator:hover {background-color: #d4ebff;}#sk-container-id-1 div.sk-parallel-item::after {content: \"\";width: 100%;border-bottom: 1px solid gray;flex-grow: 1;}#sk-container-id-1 div.sk-label:hover label.sk-toggleable__label {background-color: #d4ebff;}#sk-container-id-1 div.sk-serial::before {content: \"\";position: absolute;border-left: 1px solid gray;box-sizing: border-box;top: 0;bottom: 0;left: 50%;z-index: 0;}#sk-container-id-1 div.sk-serial {display: flex;flex-direction: column;align-items: center;background-color: white;padding-right: 0.2em;padding-left: 0.2em;position: relative;}#sk-container-id-1 div.sk-item {position: relative;z-index: 1;}#sk-container-id-1 div.sk-parallel {display: flex;align-items: stretch;justify-content: center;background-color: white;position: relative;}#sk-container-id-1 div.sk-item::before, #sk-container-id-1 div.sk-parallel-item::before {content: \"\";position: absolute;border-left: 1px solid gray;box-sizing: border-box;top: 0;bottom: 0;left: 50%;z-index: -1;}#sk-container-id-1 div.sk-parallel-item {display: flex;flex-direction: column;z-index: 1;position: relative;background-color: white;}#sk-container-id-1 div.sk-parallel-item:first-child::after {align-self: flex-end;width: 50%;}#sk-container-id-1 div.sk-parallel-item:last-child::after {align-self: flex-start;width: 50%;}#sk-container-id-1 div.sk-parallel-item:only-child::after {width: 0;}#sk-container-id-1 div.sk-dashed-wrapped {border: 1px dashed gray;margin: 0 0.4em 0.5em 0.4em;box-sizing: border-box;padding-bottom: 0.4em;background-color: white;}#sk-container-id-1 div.sk-label label {font-family: monospace;font-weight: bold;display: inline-block;line-height: 1.2em;}#sk-container-id-1 div.sk-label-container {text-align: center;}#sk-container-id-1 div.sk-container {/* jupyter's `normalize.less` sets `[hidden] { display: none; }` but bootstrap.min.css set `[hidden] { display: none !important; }` so we also need the `!important` here to be able to override the default hidden behavior on the sphinx rendered scikit-learn.org. See: https://github.com/scikit-learn/scikit-learn/issues/21755 */display: inline-block !important;position: relative;}#sk-container-id-1 div.sk-text-repr-fallback {display: none;}</style><div id=\"sk-container-id-1\" class=\"sk-top-container\"><div class=\"sk-text-repr-fallback\"><pre>SVC(kernel=&#x27;linear&#x27;)</pre><b>In a Jupyter environment, please rerun this cell to show the HTML representation or trust the notebook. <br />On GitHub, the HTML representation is unable to render, please try loading this page with nbviewer.org.</b></div><div class=\"sk-container\" hidden><div class=\"sk-item\"><div class=\"sk-estimator sk-toggleable\"><input class=\"sk-toggleable__control sk-hidden--visually\" id=\"sk-estimator-id-1\" type=\"checkbox\" checked><label for=\"sk-estimator-id-1\" class=\"sk-toggleable__label sk-toggleable__label-arrow\">SVC</label><div class=\"sk-toggleable__content\"><pre>SVC(kernel=&#x27;linear&#x27;)</pre></div></div></div></div></div>"
            ]
          },
          "metadata": {},
          "execution_count": 68
        }
      ]
    },
    {
      "cell_type": "code",
      "source": [
        "svm_predictions = svm_model.predict(X_test)\n",
        "svm_accuracy = accuracy_score(y_test, svm_predictions)\n",
        "print('Accuracy SVM: %.2f' % (svm_accuracy*100))"
      ],
      "metadata": {
        "colab": {
          "base_uri": "https://localhost:8080/"
        },
        "id": "bkxssK7NEX9G",
        "outputId": "bb810716-6305-4917-edac-861991f9b7ab"
      },
      "execution_count": 69,
      "outputs": [
        {
          "output_type": "stream",
          "name": "stdout",
          "text": [
            "Accuracy SVM: 100.00\n"
          ]
        }
      ]
    },
    {
      "cell_type": "code",
      "source": [
        "print('Accuracy SVM: %.2f' % (svm_accuracy*100))"
      ],
      "metadata": {
        "colab": {
          "base_uri": "https://localhost:8080/"
        },
        "id": "q5LJ4GuyIHnV",
        "outputId": "782bb3ba-5985-4243-e0f7-0dff1f135e26"
      },
      "execution_count": null,
      "outputs": [
        {
          "output_type": "stream",
          "name": "stdout",
          "text": [
            "Accuracy SVM: 100.00\n"
          ]
        }
      ]
    },
    {
      "cell_type": "code",
      "source": [
        "jumlah_data_testing = X_test.shape[0]\n",
        "print(\"Jumlah data testing pada data Data_Mahasiswa_2019.xlsx: \",jumlah_data_testing)"
      ],
      "metadata": {
        "colab": {
          "base_uri": "https://localhost:8080/"
        },
        "id": "tvw9lk0A_FZ7",
        "outputId": "30ab4f7a-be38-4e41-dc13-5f61ec214bfa"
      },
      "execution_count": 75,
      "outputs": [
        {
          "output_type": "stream",
          "name": "stdout",
          "text": [
            "Jumlah data testing pada data Data_Mahasiswa_2019.xlsx:  18\n"
          ]
        }
      ]
    },
    {
      "cell_type": "code",
      "source": [
        "jumlah_data_latih = X_train.shape[0]\n",
        "print('Jumlah data latih pada Data_Mahasiswa_2019.xlsx ',jumlah_data_latih)"
      ],
      "metadata": {
        "colab": {
          "base_uri": "https://localhost:8080/"
        },
        "id": "bulYceKH_tft",
        "outputId": "ca445ada-7a77-4b0e-b75a-99969f53c5e5"
      },
      "execution_count": 76,
      "outputs": [
        {
          "output_type": "stream",
          "name": "stdout",
          "text": [
            "Jumlah data latih pada Data_Mahasiswa_2019.xlsx  69\n"
          ]
        }
      ]
    },
    {
      "cell_type": "code",
      "source": [
        "jumlah_data_target_latih = y_train.shape[0]\n",
        "print('Jumlah data target latih ',jumlah_data_target_latih)"
      ],
      "metadata": {
        "colab": {
          "base_uri": "https://localhost:8080/"
        },
        "id": "kQy0GYi9A0Me",
        "outputId": "9daba9e0-48d4-41dd-ad52-86a92d24b10f"
      },
      "execution_count": 77,
      "outputs": [
        {
          "output_type": "stream",
          "name": "stdout",
          "text": [
            "Jumlah data target latih  69\n"
          ]
        }
      ]
    },
    {
      "cell_type": "code",
      "source": [
        "total_jumlah_data_seluruh = jumlah_data_latih + jumlah_data_testing\n",
        "print('Total keseluruhan jumlah data: ',total_jumlah_data_seluruh)"
      ],
      "metadata": {
        "colab": {
          "base_uri": "https://localhost:8080/"
        },
        "id": "cGdF45uqBNmg",
        "outputId": "a0842cc8-6db8-41ce-8e6c-18636b7c7a94"
      },
      "execution_count": 79,
      "outputs": [
        {
          "output_type": "stream",
          "name": "stdout",
          "text": [
            "Total keseluruhan jumlah data:  87\n"
          ]
        }
      ]
    },
    {
      "cell_type": "code",
      "source": [
        "data = len(y_train)\n",
        "print(data)"
      ],
      "metadata": {
        "colab": {
          "base_uri": "https://localhost:8080/"
        },
        "id": "_5-MHnrSBGlb",
        "outputId": "00e337e3-fcfe-42f4-97de-50aca23383b3"
      },
      "execution_count": 78,
      "outputs": [
        {
          "output_type": "stream",
          "name": "stdout",
          "text": [
            "69\n"
          ]
        }
      ]
    },
    {
      "cell_type": "markdown",
      "source": [
        "# Menguji persentase lulus dan tidak lulus mahasiswa berdasarkan data dengan algoritma SVM."
      ],
      "metadata": {
        "id": "FX2JCrRIJZSm"
      }
    },
    {
      "cell_type": "code",
      "source": [
        "# Memprediksi data pengujian\n",
        "y_pred = svm_model.predict(X_test)"
      ],
      "metadata": {
        "id": "CeaOJBb2Jdm-"
      },
      "execution_count": 96,
      "outputs": []
    },
    {
      "cell_type": "code",
      "source": [
        "# Menghitung persentase lulus dan tidak lulus\n",
        "accuracy = accuracy_score(y_test, y_pred)\n",
        "percentage_lulus = (y_pred.sum() / len(y_pred)) * 100\n",
        "percentage_tidak_lulus = 100 - percentage_lulus\n"
      ],
      "metadata": {
        "id": "dbE29tWxJomc"
      },
      "execution_count": 97,
      "outputs": []
    },
    {
      "cell_type": "code",
      "source": [
        "print(\"Persentase Lulus: {:.2f}%\".format(percentage_lulus))\n",
        "print(\"Persentase Tidak Lulus: {:.2f}%\".format(percentage_tidak_lulus))\n",
        "print(\"Akurasi: {:.2f}%\".format(accuracy * 100))"
      ],
      "metadata": {
        "colab": {
          "base_uri": "https://localhost:8080/"
        },
        "id": "bLFb-gbOJp4o",
        "outputId": "a56b9a34-3ba1-4bcb-f847-dd5df8e7a5c6"
      },
      "execution_count": 98,
      "outputs": [
        {
          "output_type": "stream",
          "name": "stdout",
          "text": [
            "Persentase Lulus: 22.22%\n",
            "Persentase Tidak Lulus: 77.78%\n",
            "Akurasi: 100.00%\n"
          ]
        }
      ]
    },
    {
      "cell_type": "markdown",
      "source": [
        "## Membuat Confusion Matrix Dengan Algoritma SVM pada data testing"
      ],
      "metadata": {
        "id": "c-U6SSfLMiQM"
      }
    },
    {
      "cell_type": "code",
      "source": [
        "from sklearn.metrics import confusion_matrix\n",
        "cm = confusion_matrix(y_test, y_pred)"
      ],
      "metadata": {
        "id": "9E_AQOSUMlMQ"
      },
      "execution_count": 99,
      "outputs": []
    },
    {
      "cell_type": "code",
      "source": [
        "print(cm)"
      ],
      "metadata": {
        "colab": {
          "base_uri": "https://localhost:8080/"
        },
        "id": "lOIeMHdYM0r3",
        "outputId": "e86192f5-03b9-455b-88b2-365691bd2b7b"
      },
      "execution_count": 100,
      "outputs": [
        {
          "output_type": "stream",
          "name": "stdout",
          "text": [
            "[[14  0]\n",
            " [ 0  4]]\n"
          ]
        }
      ]
    },
    {
      "cell_type": "markdown",
      "source": [
        "### Menampilkan Grafik Confusion Matrix Dengan Algoritma SVM"
      ],
      "metadata": {
        "id": "CGUwch2YNK_D"
      }
    },
    {
      "cell_type": "code",
      "source": [
        "labels = ['Lulus Tidak Tepat Waktu', 'Lulus Tepat Waktu']\n",
        "fig, ax = plt.subplots()\n",
        "im = ax.imshow(cm, interpolation='nearest', cmap=plt.cm.Blues)\n",
        "ax.figure.colorbar(im, ax=ax)\n",
        "ax.set(xticks=np.arange(cm.shape[1]),\n",
        "       yticks=np.arange(cm.shape[0]),\n",
        "       xticklabels=labels,\n",
        "       yticklabels=labels,\n",
        "       title='Confusion Matrix Pada Data Testing',\n",
        "       ylabel='True Label',\n",
        "       xlabel='Predicted Label')\n",
        "\n",
        "thresh = cm.max() / 2\n",
        "for i in range(cm.shape[0]):\n",
        "    for j in range(cm.shape[1]):\n",
        "        ax.text(j, i, format(cm[i, j], 'd'),\n",
        "                ha=\"center\", va=\"center\",\n",
        "                color=\"white\" if cm[i, j] > thresh else \"black\")\n",
        "\n",
        "plt.show()"
      ],
      "metadata": {
        "colab": {
          "base_uri": "https://localhost:8080/",
          "height": 472
        },
        "id": "tDuhnedNNRLm",
        "outputId": "a36b40f8-3957-489c-9f34-2ac4099b3293"
      },
      "execution_count": 102,
      "outputs": [
        {
          "output_type": "display_data",
          "data": {
            "text/plain": [
              "<Figure size 640x480 with 2 Axes>"
            ],
            "image/png": "[encoded data removed]"
          },
          "metadata": {}
        }
      ]
    },
    {
      "cell_type": "code",
      "source": [
        "# Menghitung metrics pada prediksi data\n",
        "from sklearn.metrics import classification_report\n",
        "report_data_testing = classification_report(y_test,y_pred)\n",
        "print('Laporan Metriks Pada Data Testing ',report_data_testing)"
      ],
      "metadata": {
        "colab": {
          "base_uri": "https://localhost:8080/"
        },
        "id": "rRE7zFL9GH9B",
        "outputId": "4807dfa7-3d05-4865-827f-788916f6cb13"
      },
      "execution_count": 104,
      "outputs": [
        {
          "output_type": "stream",
          "name": "stdout",
          "text": [
            "Laporan Metriks Pada Data Testing                precision    recall  f1-score   support\n",
            "\n",
            "           0       1.00      1.00      1.00        14\n",
            "           1       1.00      1.00      1.00         4\n",
            "\n",
            "    accuracy                           1.00        18\n",
            "   macro avg       1.00      1.00      1.00        18\n",
            "weighted avg       1.00      1.00      1.00        18\n",
            "\n"
          ]
        }
      ]
    },
    {
      "cell_type": "markdown",
      "source": [
        "# Membuat Confusion Matrix Dengan Algoritma SVM pada data latih"
      ],
      "metadata": {
        "id": "EnIW4anHCNY7"
      }
    },
    {
      "cell_type": "code",
      "source": [
        "# Memprediksi pengujian data latih\n",
        "y_pred_train = y_pred = svm_model.predict(X_train)"
      ],
      "metadata": {
        "id": "_dLvxc0ZCWds"
      },
      "execution_count": 105,
      "outputs": []
    },
    {
      "cell_type": "code",
      "source": [
        "# Menghitung persentase lulus dan tidak lulus\n",
        "accuracy = accuracy_score(y_train, y_pred_train)\n",
        "percentage_lulus = (y_pred.sum() / len(y_pred)) * 100\n",
        "percentage_tidak_lulus = 100 - percentage_lulus"
      ],
      "metadata": {
        "id": "zBklKwIgCspF"
      },
      "execution_count": 106,
      "outputs": []
    },
    {
      "cell_type": "code",
      "source": [
        "print(\"Persentase Lulus Tepat Waktu: {:.2f}%\".format(percentage_lulus))\n",
        "print(\"Persentase Lulus Tidak Tepat Waktu: {:.2f}%\".format(percentage_tidak_lulus))\n",
        "print(\"Akurasi: {:.2f}%\".format(accuracy * 100))"
      ],
      "metadata": {
        "colab": {
          "base_uri": "https://localhost:8080/"
        },
        "id": "MT3cESdDC3Va",
        "outputId": "81c09655-7c76-4a4c-a0e7-a9d884801732"
      },
      "execution_count": 107,
      "outputs": [
        {
          "output_type": "stream",
          "name": "stdout",
          "text": [
            "Persentase Lulus Tepat Waktu: 10.14%\n",
            "Persentase Lulus Tidak Tepat Waktu: 89.86%\n",
            "Akurasi: 100.00%\n"
          ]
        }
      ]
    },
    {
      "cell_type": "code",
      "source": [
        "from sklearn.metrics import confusion_matrix\n",
        "cm_data_latih = confusion_matrix(y_train, y_pred_train)"
      ],
      "metadata": {
        "id": "QGnAWiQXC7Df"
      },
      "execution_count": 108,
      "outputs": []
    },
    {
      "cell_type": "code",
      "source": [
        "print('Confusion Matrix Pada Data Train di Data Latih ')\n",
        "print(cm_data_latih)"
      ],
      "metadata": {
        "colab": {
          "base_uri": "https://localhost:8080/"
        },
        "id": "urfmJd7cDH_x",
        "outputId": "1950b089-d0c7-43d6-c174-db5f660652d4"
      },
      "execution_count": 109,
      "outputs": [
        {
          "output_type": "stream",
          "name": "stdout",
          "text": [
            "Confusion Matrix Pada Data Train di Data Latih \n",
            "[[62  0]\n",
            " [ 0  7]]\n"
          ]
        }
      ]
    },
    {
      "cell_type": "code",
      "source": [
        "labels = ['Lulus Tidak Tepat Waktu', 'Lulus Tepat Waktu']\n",
        "fig, ax = plt.subplots()\n",
        "im = ax.imshow(cm_data_latih, interpolation='nearest', cmap=plt.cm.Blues)\n",
        "ax.figure.colorbar(im, ax=ax)\n",
        "ax.set(xticks=np.arange(cm.shape[1]),\n",
        "       yticks=np.arange(cm.shape[0]),\n",
        "       xticklabels=labels,\n",
        "       yticklabels=labels,\n",
        "       title='Confusion Matrix Pada Data Latih',\n",
        "       ylabel='True Label',\n",
        "       xlabel='Predicted Label')\n",
        "\n",
        "thresh = cm.max() / 2\n",
        "for i in range(cm.shape[0]):\n",
        "    for j in range(cm.shape[1]):\n",
        "        ax.text(j, i, format(cm[i, j], 'd'),\n",
        "                ha=\"center\", va=\"center\",\n",
        "                color=\"white\" if cm[i, j] > thresh else \"black\")\n",
        "\n",
        "plt.show()"
      ],
      "metadata": {
        "colab": {
          "base_uri": "https://localhost:8080/",
          "height": 472
        },
        "id": "F9hgCsEADQVX",
        "outputId": "8b62fdb0-f894-4ab1-9a1e-9791b1e6742d"
      },
      "execution_count": 111,
      "outputs": [
        {
          "output_type": "display_data",
          "data": {
            "text/plain": [
              "<Figure size 640x480 with 2 Axes>"
            ],
            "image/png": "[encoded data removed]"
          },
          "metadata": {}
        }
      ]
    },
    {
      "cell_type": "code",
      "source": [
        "# Menghitung metrics pada data\n",
        "from sklearn.metrics import classification_report\n",
        "report_data_latih = classification_report(y_train,y_pred_train)"
      ],
      "metadata": {
        "id": "-8vPfRHGGdJ-"
      },
      "execution_count": 113,
      "outputs": []
    },
    {
      "cell_type": "code",
      "source": [
        "print('Laporan Metrik Pada Data Latih ',report_data_latih)"
      ],
      "metadata": {
        "colab": {
          "base_uri": "https://localhost:8080/"
        },
        "id": "ONIDaOxXGnqo",
        "outputId": "4d58436b-82fb-4436-bb65-dcc247aa068c"
      },
      "execution_count": 114,
      "outputs": [
        {
          "output_type": "stream",
          "name": "stdout",
          "text": [
            "Laporan Metrik Pada Data Latih                precision    recall  f1-score   support\n",
            "\n",
            "           0       1.00      1.00      1.00        62\n",
            "           1       1.00      1.00      1.00         7\n",
            "\n",
            "    accuracy                           1.00        69\n",
            "   macro avg       1.00      1.00      1.00        69\n",
            "weighted avg       1.00      1.00      1.00        69\n",
            "\n"
          ]
        }
      ]
    }
  ],
  "metadata": {
    "colab": {
      "provenance": [],
      "gpuType": "T4",
      "authorship_tag": "ABX9TyM2gs2jV5AQsMEqi4snJyVX",
      "include_colab_link": true
    },
    "kernelspec": {
      "display_name": "Python 3",
      "name": "python3"
    },
    "language_info": {
      "name": "python"
    },
    "accelerator": "GPU"
  },
  "nbformat": 4,
  "nbformat_minor": 0
}
