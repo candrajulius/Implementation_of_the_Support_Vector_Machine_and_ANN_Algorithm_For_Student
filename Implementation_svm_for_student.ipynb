{
  "nbformat": 4,
  "nbformat_minor": 0,
  "metadata": {
    "colab": {
      "provenance": [],
      "gpuType": "T4"
    },
    "kernelspec": {
      "name": "python3",
      "display_name": "Python 3"
    },
    "language_info": {
      "name": "python"
    },
    "accelerator": "GPU"
  },
  "cells": [
    {
      "cell_type": "code",
      "execution_count": 33,
      "metadata": {
        "id": "aCMrV3n57RNI"
      },
      "outputs": [],
      "source": [
        "# Import beberapa library\n",
        "from google.colab import files\n",
        "import pandas as pd\n",
        "import numpy as np\n",
        "from sklearn.model_selection import train_test_split\n",
        "from sklearn.utils import resample\n",
        "from sklearn.preprocessing import StandardScaler, LabelEncoder, OneHotEncoder\n",
        "from sklearn.svm import SVC\n",
        "from sklearn.metrics import accuracy_score\n",
        "from keras.models import Sequential\n",
        "from keras.layers import Dense\n",
        "\n",
        "# Untuk memvisualisasi data\n",
        "import matplotlib.pyplot as plt\n",
        "%matplotlib inline\n",
        "import seaborn as sns"
      ]
    },
    {
      "cell_type": "code",
      "source": [
        "def convert_excel_to_csv(excel_file,csv_file):\n",
        "  # Baca file Excel menggunakan pandas\n",
        "  data_frame = pd.read_excel(excel_file)\n",
        "\n",
        "  # Konversi data frame menjadi file CSV\n",
        "  data_frame.to_csv(csv_file,index=False)\n",
        "excel_file = \"sample_data/data_mahasiswa.xlsx\"\n",
        "csv_file = \"sample_data/data_mahasiswa.csv\"\n",
        "convert_excel_to_csv(excel_file,csv_file)"
      ],
      "metadata": {
        "id": "OsntyXdI9C7o"
      },
      "execution_count": 34,
      "outputs": []
    },
    {
      "cell_type": "code",
      "source": [
        "data = pd.read_csv('sample_data/data_mahasiswa.csv')"
      ],
      "metadata": {
        "id": "1hZ8jW-p9aP1"
      },
      "execution_count": 35,
      "outputs": []
    },
    {
      "cell_type": "code",
      "source": [
        "total_data = len(data)\n",
        "print(\"Jumalh total data keseluruhannya : \",total_data)"
      ],
      "metadata": {
        "colab": {
          "base_uri": "https://localhost:8080/"
        },
        "id": "POYac9FC9DyZ",
        "outputId": "6a6012ea-721e-4a33-9e40-c9deb910894e"
      },
      "execution_count": 36,
      "outputs": [
        {
          "output_type": "stream",
          "name": "stdout",
          "text": [
            "Jumalh total data keseluruhannya :  277\n"
          ]
        }
      ]
    },
    {
      "cell_type": "code",
      "source": [
        "data.head(10)"
      ],
      "metadata": {
        "colab": {
          "base_uri": "https://localhost:8080/",
          "height": 363
        },
        "id": "7RqoCWsy9zsI",
        "outputId": "c7f07392-0c28-4cd6-8557-680b91d20332"
      },
      "execution_count": 37,
      "outputs": [
        {
          "output_type": "execute_result",
          "data": {
            "text/plain": [
              "     No           NIM                 NAMA IPS (semester 1)  IPS (semester 2)  \\\n",
              "0   1.0  193303030001         Sallyana Yek              4.0              3.74   \n",
              "1   2.0  193303030002              Anthony              4.0              3.74   \n",
              "2   3.0  193303030003      William Chandra             3.45              3.61   \n",
              "3   4.0  193303030004      Valentino Damar              4.0              3.61   \n",
              "4   5.0  193303030005     Nicholas Livando              4.0              3.74   \n",
              "5   6.0  193303030006          Alvin Rasid              4.0              3.61   \n",
              "6   7.0  193303030009  Matthew Evan Phanie              4,0              3.61   \n",
              "7   8.0  193303030011              Michael             3.75              3.43   \n",
              "8   9.0  193303030012         Windy Candra              3.5              3.74   \n",
              "9  10.0  193303030014           Steven Lie             3.69              3.26   \n",
              "\n",
              "  IPS (semester 3)  IPS (semester 4)  IPS (semester 5)    kelulusan  \n",
              "0             3,55              3.90              4.00        lulus  \n",
              "1              4,0              3.85              3.95  tidak lulus  \n",
              "2             3.27              3.79              3.64  tidak lulus  \n",
              "3             3.89              3.65              3.80  tidak lulus  \n",
              "4             3.94              3.80              3.77  tidak lulus  \n",
              "5              4,0              3.90              4.00  tidak lulus  \n",
              "6             3.89              3.90              4.00  tidak lulus  \n",
              "7             3.83              3.47              3.91  tidak lulus  \n",
              "8              3.9              3.70              4.00  tidak lulus  \n",
              "9             3.89              4.00              3.59  tidak lulus  "
            ],
            "text/html": [
              "\n",
              "\n",
              "  <div id=\"df-1bd1b2f8-1bd8-4474-8d95-6e656ea48355\">\n",
              "    <div class=\"colab-df-container\">\n",
              "      <div>\n",
              "<style scoped>\n",
              "    .dataframe tbody tr th:only-of-type {\n",
              "        vertical-align: middle;\n",
              "    }\n",
              "\n",
              "    .dataframe tbody tr th {\n",
              "        vertical-align: top;\n",
              "    }\n",
              "\n",
              "    .dataframe thead th {\n",
              "        text-align: right;\n",
              "    }\n",
              "</style>\n",
              "<table border=\"1\" class=\"dataframe\">\n",
              "  <thead>\n",
              "    <tr style=\"text-align: right;\">\n",
              "      <th></th>\n",
              "      <th>No</th>\n",
              "      <th>NIM</th>\n",
              "      <th>NAMA</th>\n",
              "      <th>IPS (semester 1)</th>\n",
              "      <th>IPS (semester 2)</th>\n",
              "      <th>IPS (semester 3)</th>\n",
              "      <th>IPS (semester 4)</th>\n",
              "      <th>IPS (semester 5)</th>\n",
              "      <th>kelulusan</th>\n",
              "    </tr>\n",
              "  </thead>\n",
              "  <tbody>\n",
              "    <tr>\n",
              "      <th>0</th>\n",
              "      <td>1.0</td>\n",
              "      <td>193303030001</td>\n",
              "      <td>Sallyana Yek</td>\n",
              "      <td>4.0</td>\n",
              "      <td>3.74</td>\n",
              "      <td>3,55</td>\n",
              "      <td>3.90</td>\n",
              "      <td>4.00</td>\n",
              "      <td>lulus</td>\n",
              "    </tr>\n",
              "    <tr>\n",
              "      <th>1</th>\n",
              "      <td>2.0</td>\n",
              "      <td>193303030002</td>\n",
              "      <td>Anthony</td>\n",
              "      <td>4.0</td>\n",
              "      <td>3.74</td>\n",
              "      <td>4,0</td>\n",
              "      <td>3.85</td>\n",
              "      <td>3.95</td>\n",
              "      <td>tidak lulus</td>\n",
              "    </tr>\n",
              "    <tr>\n",
              "      <th>2</th>\n",
              "      <td>3.0</td>\n",
              "      <td>193303030003</td>\n",
              "      <td>William Chandra</td>\n",
              "      <td>3.45</td>\n",
              "      <td>3.61</td>\n",
              "      <td>3.27</td>\n",
              "      <td>3.79</td>\n",
              "      <td>3.64</td>\n",
              "      <td>tidak lulus</td>\n",
              "    </tr>\n",
              "    <tr>\n",
              "      <th>3</th>\n",
              "      <td>4.0</td>\n",
              "      <td>193303030004</td>\n",
              "      <td>Valentino Damar</td>\n",
              "      <td>4.0</td>\n",
              "      <td>3.61</td>\n",
              "      <td>3.89</td>\n",
              "      <td>3.65</td>\n",
              "      <td>3.80</td>\n",
              "      <td>tidak lulus</td>\n",
              "    </tr>\n",
              "    <tr>\n",
              "      <th>4</th>\n",
              "      <td>5.0</td>\n",
              "      <td>193303030005</td>\n",
              "      <td>Nicholas Livando</td>\n",
              "      <td>4.0</td>\n",
              "      <td>3.74</td>\n",
              "      <td>3.94</td>\n",
              "      <td>3.80</td>\n",
              "      <td>3.77</td>\n",
              "      <td>tidak lulus</td>\n",
              "    </tr>\n",
              "    <tr>\n",
              "      <th>5</th>\n",
              "      <td>6.0</td>\n",
              "      <td>193303030006</td>\n",
              "      <td>Alvin Rasid</td>\n",
              "      <td>4.0</td>\n",
              "      <td>3.61</td>\n",
              "      <td>4,0</td>\n",
              "      <td>3.90</td>\n",
              "      <td>4.00</td>\n",
              "      <td>tidak lulus</td>\n",
              "    </tr>\n",
              "    <tr>\n",
              "      <th>6</th>\n",
              "      <td>7.0</td>\n",
              "      <td>193303030009</td>\n",
              "      <td>Matthew Evan Phanie</td>\n",
              "      <td>4,0</td>\n",
              "      <td>3.61</td>\n",
              "      <td>3.89</td>\n",
              "      <td>3.90</td>\n",
              "      <td>4.00</td>\n",
              "      <td>tidak lulus</td>\n",
              "    </tr>\n",
              "    <tr>\n",
              "      <th>7</th>\n",
              "      <td>8.0</td>\n",
              "      <td>193303030011</td>\n",
              "      <td>Michael</td>\n",
              "      <td>3.75</td>\n",
              "      <td>3.43</td>\n",
              "      <td>3.83</td>\n",
              "      <td>3.47</td>\n",
              "      <td>3.91</td>\n",
              "      <td>tidak lulus</td>\n",
              "    </tr>\n",
              "    <tr>\n",
              "      <th>8</th>\n",
              "      <td>9.0</td>\n",
              "      <td>193303030012</td>\n",
              "      <td>Windy Candra</td>\n",
              "      <td>3.5</td>\n",
              "      <td>3.74</td>\n",
              "      <td>3.9</td>\n",
              "      <td>3.70</td>\n",
              "      <td>4.00</td>\n",
              "      <td>tidak lulus</td>\n",
              "    </tr>\n",
              "    <tr>\n",
              "      <th>9</th>\n",
              "      <td>10.0</td>\n",
              "      <td>193303030014</td>\n",
              "      <td>Steven Lie</td>\n",
              "      <td>3.69</td>\n",
              "      <td>3.26</td>\n",
              "      <td>3.89</td>\n",
              "      <td>4.00</td>\n",
              "      <td>3.59</td>\n",
              "      <td>tidak lulus</td>\n",
              "    </tr>\n",
              "  </tbody>\n",
              "</table>\n",
              "</div>\n",
              "      <button class=\"colab-df-convert\" onclick=\"convertToInteractive('df-1bd1b2f8-1bd8-4474-8d95-6e656ea48355')\"\n",
              "              title=\"Convert this dataframe to an interactive table.\"\n",
              "              style=\"display:none;\">\n",
              "\n",
              "  <svg xmlns=\"http://www.w3.org/2000/svg\" height=\"24px\"viewBox=\"0 0 24 24\"\n",
              "       width=\"24px\">\n",
              "    <path d=\"M0 0h24v24H0V0z\" fill=\"none\"/>\n",
              "    <path d=\"M18.56 5.44l.94 2.06.94-2.06 2.06-.94-2.06-.94-.94-2.06-.94 2.06-2.06.94zm-11 1L8.5 8.5l.94-2.06 2.06-.94-2.06-.94L8.5 2.5l-.94 2.06-2.06.94zm10 10l.94 2.06.94-2.06 2.06-.94-2.06-.94-.94-2.06-.94 2.06-2.06.94z\"/><path d=\"M17.41 7.96l-1.37-1.37c-.4-.4-.92-.59-1.43-.59-.52 0-1.04.2-1.43.59L10.3 9.45l-7.72 7.72c-.78.78-.78 2.05 0 2.83L4 21.41c.39.39.9.59 1.41.59.51 0 1.02-.2 1.41-.59l7.78-7.78 2.81-2.81c.8-.78.8-2.07 0-2.86zM5.41 20L4 18.59l7.72-7.72 1.47 1.35L5.41 20z\"/>\n",
              "  </svg>\n",
              "      </button>\n",
              "\n",
              "\n",
              "\n",
              "    <div id=\"df-1c94e5d2-d65c-40f9-9fdc-b260bf6cda3a\">\n",
              "      <button class=\"colab-df-quickchart\" onclick=\"quickchart('df-1c94e5d2-d65c-40f9-9fdc-b260bf6cda3a')\"\n",
              "              title=\"Suggest charts.\"\n",
              "              style=\"display:none;\">\n",
              "\n",
              "<svg xmlns=\"http://www.w3.org/2000/svg\" height=\"24px\"viewBox=\"0 0 24 24\"\n",
              "     width=\"24px\">\n",
              "    <g>\n",
              "        <path d=\"M19 3H5c-1.1 0-2 .9-2 2v14c0 1.1.9 2 2 2h14c1.1 0 2-.9 2-2V5c0-1.1-.9-2-2-2zM9 17H7v-7h2v7zm4 0h-2V7h2v10zm4 0h-2v-4h2v4z\"/>\n",
              "    </g>\n",
              "</svg>\n",
              "      </button>\n",
              "    </div>\n",
              "\n",
              "<style>\n",
              "  .colab-df-quickchart {\n",
              "    background-color: #E8F0FE;\n",
              "    border: none;\n",
              "    border-radius: 50%;\n",
              "    cursor: pointer;\n",
              "    display: none;\n",
              "    fill: #1967D2;\n",
              "    height: 32px;\n",
              "    padding: 0 0 0 0;\n",
              "    width: 32px;\n",
              "  }\n",
              "\n",
              "  .colab-df-quickchart:hover {\n",
              "    background-color: #E2EBFA;\n",
              "    box-shadow: 0px 1px 2px rgba(60, 64, 67, 0.3), 0px 1px 3px 1px rgba(60, 64, 67, 0.15);\n",
              "    fill: #174EA6;\n",
              "  }\n",
              "\n",
              "  [theme=dark] .colab-df-quickchart {\n",
              "    background-color: #3B4455;\n",
              "    fill: #D2E3FC;\n",
              "  }\n",
              "\n",
              "  [theme=dark] .colab-df-quickchart:hover {\n",
              "    background-color: #434B5C;\n",
              "    box-shadow: 0px 1px 3px 1px rgba(0, 0, 0, 0.15);\n",
              "    filter: drop-shadow(0px 1px 2px rgba(0, 0, 0, 0.3));\n",
              "    fill: #FFFFFF;\n",
              "  }\n",
              "</style>\n",
              "\n",
              "    <script>\n",
              "      async function quickchart(key) {\n",
              "        const containerElement = document.querySelector('#' + key);\n",
              "        const charts = await google.colab.kernel.invokeFunction(\n",
              "            'suggestCharts', [key], {});\n",
              "      }\n",
              "    </script>\n",
              "\n",
              "      <script>\n",
              "\n",
              "function displayQuickchartButton(domScope) {\n",
              "  let quickchartButtonEl =\n",
              "    domScope.querySelector('#df-1c94e5d2-d65c-40f9-9fdc-b260bf6cda3a button.colab-df-quickchart');\n",
              "  quickchartButtonEl.style.display =\n",
              "    google.colab.kernel.accessAllowed ? 'block' : 'none';\n",
              "}\n",
              "\n",
              "        displayQuickchartButton(document);\n",
              "      </script>\n",
              "      <style>\n",
              "    .colab-df-container {\n",
              "      display:flex;\n",
              "      flex-wrap:wrap;\n",
              "      gap: 12px;\n",
              "    }\n",
              "\n",
              "    .colab-df-convert {\n",
              "      background-color: #E8F0FE;\n",
              "      border: none;\n",
              "      border-radius: 50%;\n",
              "      cursor: pointer;\n",
              "      display: none;\n",
              "      fill: #1967D2;\n",
              "      height: 32px;\n",
              "      padding: 0 0 0 0;\n",
              "      width: 32px;\n",
              "    }\n",
              "\n",
              "    .colab-df-convert:hover {\n",
              "      background-color: #E2EBFA;\n",
              "      box-shadow: 0px 1px 2px rgba(60, 64, 67, 0.3), 0px 1px 3px 1px rgba(60, 64, 67, 0.15);\n",
              "      fill: #174EA6;\n",
              "    }\n",
              "\n",
              "    [theme=dark] .colab-df-convert {\n",
              "      background-color: #3B4455;\n",
              "      fill: #D2E3FC;\n",
              "    }\n",
              "\n",
              "    [theme=dark] .colab-df-convert:hover {\n",
              "      background-color: #434B5C;\n",
              "      box-shadow: 0px 1px 3px 1px rgba(0, 0, 0, 0.15);\n",
              "      filter: drop-shadow(0px 1px 2px rgba(0, 0, 0, 0.3));\n",
              "      fill: #FFFFFF;\n",
              "    }\n",
              "  </style>\n",
              "\n",
              "      <script>\n",
              "        const buttonEl =\n",
              "          document.querySelector('#df-1bd1b2f8-1bd8-4474-8d95-6e656ea48355 button.colab-df-convert');\n",
              "        buttonEl.style.display =\n",
              "          google.colab.kernel.accessAllowed ? 'block' : 'none';\n",
              "\n",
              "        async function convertToInteractive(key) {\n",
              "          const element = document.querySelector('#df-1bd1b2f8-1bd8-4474-8d95-6e656ea48355');\n",
              "          const dataTable =\n",
              "            await google.colab.kernel.invokeFunction('convertToInteractive',\n",
              "                                                     [key], {});\n",
              "          if (!dataTable) return;\n",
              "\n",
              "          const docLinkHtml = 'Like what you see? Visit the ' +\n",
              "            '<a target=\"_blank\" href=https://colab.research.google.com/notebooks/data_table.ipynb>data table notebook</a>'\n",
              "            + ' to learn more about interactive tables.';\n",
              "          element.innerHTML = '';\n",
              "          dataTable['output_type'] = 'display_data';\n",
              "          await google.colab.output.renderOutput(dataTable, element);\n",
              "          const docLink = document.createElement('div');\n",
              "          docLink.innerHTML = docLinkHtml;\n",
              "          element.appendChild(docLink);\n",
              "        }\n",
              "      </script>\n",
              "    </div>\n",
              "  </div>\n"
            ]
          },
          "metadata": {},
          "execution_count": 37
        }
      ]
    },
    {
      "cell_type": "code",
      "source": [
        "data.info()"
      ],
      "metadata": {
        "colab": {
          "base_uri": "https://localhost:8080/"
        },
        "id": "PSIGIU2m9-yX",
        "outputId": "8f8ac05a-dbf4-4d9b-beaa-ba2a327d85c1"
      },
      "execution_count": 38,
      "outputs": [
        {
          "output_type": "stream",
          "name": "stdout",
          "text": [
            "<class 'pandas.core.frame.DataFrame'>\n",
            "RangeIndex: 277 entries, 0 to 276\n",
            "Data columns (total 9 columns):\n",
            " #   Column            Non-Null Count  Dtype  \n",
            "---  ------            --------------  -----  \n",
            " 0   No                88 non-null     float64\n",
            " 1   NIM               277 non-null    int64  \n",
            " 2   NAMA              277 non-null    object \n",
            " 3   IPS (semester 1)  277 non-null    object \n",
            " 4   IPS (semester 2)  277 non-null    float64\n",
            " 5   IPS (semester 3)  276 non-null    object \n",
            " 6   IPS (semester 4)  277 non-null    float64\n",
            " 7   IPS (semester 5)  274 non-null    float64\n",
            " 8   kelulusan         277 non-null    object \n",
            "dtypes: float64(4), int64(1), object(4)\n",
            "memory usage: 19.6+ KB\n"
          ]
        }
      ]
    },
    {
      "cell_type": "code",
      "source": [
        "data.drop('No',axis=1,inplace=True)\n",
        "data.drop('NAMA',axis=1,inplace=True)\n",
        "data.drop('NIM',axis=1,inplace=True)"
      ],
      "metadata": {
        "id": "rws0-HFL-FFQ"
      },
      "execution_count": 39,
      "outputs": []
    },
    {
      "cell_type": "code",
      "source": [
        "data.head(20)"
      ],
      "metadata": {
        "colab": {
          "base_uri": "https://localhost:8080/",
          "height": 677
        },
        "id": "LA9wp2Gd-HGK",
        "outputId": "e4330521-3d8b-46d3-b072-a9d0e75393cc"
      },
      "execution_count": 40,
      "outputs": [
        {
          "output_type": "execute_result",
          "data": {
            "text/plain": [
              "   IPS (semester 1)  IPS (semester 2) IPS (semester 3)  IPS (semester 4)  \\\n",
              "0               4.0              3.74             3,55              3.90   \n",
              "1               4.0              3.74              4,0              3.85   \n",
              "2              3.45              3.61             3.27              3.79   \n",
              "3               4.0              3.61             3.89              3.65   \n",
              "4               4.0              3.74             3.94              3.80   \n",
              "5               4.0              3.61              4,0              3.90   \n",
              "6               4,0              3.61             3.89              3.90   \n",
              "7              3.75              3.43             3.83              3.47   \n",
              "8               3.5              3.74              3.9              3.70   \n",
              "9              3.69              3.26             3.89              4.00   \n",
              "10              4.0              3.57              4,0              3.95   \n",
              "11              4.0              3.65              4,0              3.95   \n",
              "12              4.0              3.61             3.72              3.89   \n",
              "13              4.0              3.52             3.95              3.47   \n",
              "14              4.0              3.61              4,0              3.75   \n",
              "15             3.79              3.13             3.95              3.57   \n",
              "16              4.0              3.48             3.89              3.80   \n",
              "17              4.0              3.48              4,0              3.75   \n",
              "18              3.4              3.48              4,0              3.85   \n",
              "19             3.33              3.75             3.58              3.87   \n",
              "\n",
              "    IPS (semester 5)    kelulusan  \n",
              "0               4.00        lulus  \n",
              "1               3.95  tidak lulus  \n",
              "2               3.64  tidak lulus  \n",
              "3               3.80  tidak lulus  \n",
              "4               3.77  tidak lulus  \n",
              "5               4.00  tidak lulus  \n",
              "6               4.00  tidak lulus  \n",
              "7               3.91  tidak lulus  \n",
              "8               4.00  tidak lulus  \n",
              "9               3.59  tidak lulus  \n",
              "10              4.00  tidak lulus  \n",
              "11              4.00  tidak lulus  \n",
              "12              3.86  tidak lulus  \n",
              "13              3.73  tidak lulus  \n",
              "14              3.91  tidak lulus  \n",
              "15              3.53  tidak lulus  \n",
              "16              3.95  tidak lulus  \n",
              "17              3.91  tidak lulus  \n",
              "18              3.36  tidak lulus  \n",
              "19              3.90        lulus  "
            ],
            "text/html": [
              "\n",
              "\n",
              "  <div id=\"df-8d872928-3261-4023-96bd-0db97e59c73c\">\n",
              "    <div class=\"colab-df-container\">\n",
              "      <div>\n",
              "<style scoped>\n",
              "    .dataframe tbody tr th:only-of-type {\n",
              "        vertical-align: middle;\n",
              "    }\n",
              "\n",
              "    .dataframe tbody tr th {\n",
              "        vertical-align: top;\n",
              "    }\n",
              "\n",
              "    .dataframe thead th {\n",
              "        text-align: right;\n",
              "    }\n",
              "</style>\n",
              "<table border=\"1\" class=\"dataframe\">\n",
              "  <thead>\n",
              "    <tr style=\"text-align: right;\">\n",
              "      <th></th>\n",
              "      <th>IPS (semester 1)</th>\n",
              "      <th>IPS (semester 2)</th>\n",
              "      <th>IPS (semester 3)</th>\n",
              "      <th>IPS (semester 4)</th>\n",
              "      <th>IPS (semester 5)</th>\n",
              "      <th>kelulusan</th>\n",
              "    </tr>\n",
              "  </thead>\n",
              "  <tbody>\n",
              "    <tr>\n",
              "      <th>0</th>\n",
              "      <td>4.0</td>\n",
              "      <td>3.74</td>\n",
              "      <td>3,55</td>\n",
              "      <td>3.90</td>\n",
              "      <td>4.00</td>\n",
              "      <td>lulus</td>\n",
              "    </tr>\n",
              "    <tr>\n",
              "      <th>1</th>\n",
              "      <td>4.0</td>\n",
              "      <td>3.74</td>\n",
              "      <td>4,0</td>\n",
              "      <td>3.85</td>\n",
              "      <td>3.95</td>\n",
              "      <td>tidak lulus</td>\n",
              "    </tr>\n",
              "    <tr>\n",
              "      <th>2</th>\n",
              "      <td>3.45</td>\n",
              "      <td>3.61</td>\n",
              "      <td>3.27</td>\n",
              "      <td>3.79</td>\n",
              "      <td>3.64</td>\n",
              "      <td>tidak lulus</td>\n",
              "    </tr>\n",
              "    <tr>\n",
              "      <th>3</th>\n",
              "      <td>4.0</td>\n",
              "      <td>3.61</td>\n",
              "      <td>3.89</td>\n",
              "      <td>3.65</td>\n",
              "      <td>3.80</td>\n",
              "      <td>tidak lulus</td>\n",
              "    </tr>\n",
              "    <tr>\n",
              "      <th>4</th>\n",
              "      <td>4.0</td>\n",
              "      <td>3.74</td>\n",
              "      <td>3.94</td>\n",
              "      <td>3.80</td>\n",
              "      <td>3.77</td>\n",
              "      <td>tidak lulus</td>\n",
              "    </tr>\n",
              "    <tr>\n",
              "      <th>5</th>\n",
              "      <td>4.0</td>\n",
              "      <td>3.61</td>\n",
              "      <td>4,0</td>\n",
              "      <td>3.90</td>\n",
              "      <td>4.00</td>\n",
              "      <td>tidak lulus</td>\n",
              "    </tr>\n",
              "    <tr>\n",
              "      <th>6</th>\n",
              "      <td>4,0</td>\n",
              "      <td>3.61</td>\n",
              "      <td>3.89</td>\n",
              "      <td>3.90</td>\n",
              "      <td>4.00</td>\n",
              "      <td>tidak lulus</td>\n",
              "    </tr>\n",
              "    <tr>\n",
              "      <th>7</th>\n",
              "      <td>3.75</td>\n",
              "      <td>3.43</td>\n",
              "      <td>3.83</td>\n",
              "      <td>3.47</td>\n",
              "      <td>3.91</td>\n",
              "      <td>tidak lulus</td>\n",
              "    </tr>\n",
              "    <tr>\n",
              "      <th>8</th>\n",
              "      <td>3.5</td>\n",
              "      <td>3.74</td>\n",
              "      <td>3.9</td>\n",
              "      <td>3.70</td>\n",
              "      <td>4.00</td>\n",
              "      <td>tidak lulus</td>\n",
              "    </tr>\n",
              "    <tr>\n",
              "      <th>9</th>\n",
              "      <td>3.69</td>\n",
              "      <td>3.26</td>\n",
              "      <td>3.89</td>\n",
              "      <td>4.00</td>\n",
              "      <td>3.59</td>\n",
              "      <td>tidak lulus</td>\n",
              "    </tr>\n",
              "    <tr>\n",
              "      <th>10</th>\n",
              "      <td>4.0</td>\n",
              "      <td>3.57</td>\n",
              "      <td>4,0</td>\n",
              "      <td>3.95</td>\n",
              "      <td>4.00</td>\n",
              "      <td>tidak lulus</td>\n",
              "    </tr>\n",
              "    <tr>\n",
              "      <th>11</th>\n",
              "      <td>4.0</td>\n",
              "      <td>3.65</td>\n",
              "      <td>4,0</td>\n",
              "      <td>3.95</td>\n",
              "      <td>4.00</td>\n",
              "      <td>tidak lulus</td>\n",
              "    </tr>\n",
              "    <tr>\n",
              "      <th>12</th>\n",
              "      <td>4.0</td>\n",
              "      <td>3.61</td>\n",
              "      <td>3.72</td>\n",
              "      <td>3.89</td>\n",
              "      <td>3.86</td>\n",
              "      <td>tidak lulus</td>\n",
              "    </tr>\n",
              "    <tr>\n",
              "      <th>13</th>\n",
              "      <td>4.0</td>\n",
              "      <td>3.52</td>\n",
              "      <td>3.95</td>\n",
              "      <td>3.47</td>\n",
              "      <td>3.73</td>\n",
              "      <td>tidak lulus</td>\n",
              "    </tr>\n",
              "    <tr>\n",
              "      <th>14</th>\n",
              "      <td>4.0</td>\n",
              "      <td>3.61</td>\n",
              "      <td>4,0</td>\n",
              "      <td>3.75</td>\n",
              "      <td>3.91</td>\n",
              "      <td>tidak lulus</td>\n",
              "    </tr>\n",
              "    <tr>\n",
              "      <th>15</th>\n",
              "      <td>3.79</td>\n",
              "      <td>3.13</td>\n",
              "      <td>3.95</td>\n",
              "      <td>3.57</td>\n",
              "      <td>3.53</td>\n",
              "      <td>tidak lulus</td>\n",
              "    </tr>\n",
              "    <tr>\n",
              "      <th>16</th>\n",
              "      <td>4.0</td>\n",
              "      <td>3.48</td>\n",
              "      <td>3.89</td>\n",
              "      <td>3.80</td>\n",
              "      <td>3.95</td>\n",
              "      <td>tidak lulus</td>\n",
              "    </tr>\n",
              "    <tr>\n",
              "      <th>17</th>\n",
              "      <td>4.0</td>\n",
              "      <td>3.48</td>\n",
              "      <td>4,0</td>\n",
              "      <td>3.75</td>\n",
              "      <td>3.91</td>\n",
              "      <td>tidak lulus</td>\n",
              "    </tr>\n",
              "    <tr>\n",
              "      <th>18</th>\n",
              "      <td>3.4</td>\n",
              "      <td>3.48</td>\n",
              "      <td>4,0</td>\n",
              "      <td>3.85</td>\n",
              "      <td>3.36</td>\n",
              "      <td>tidak lulus</td>\n",
              "    </tr>\n",
              "    <tr>\n",
              "      <th>19</th>\n",
              "      <td>3.33</td>\n",
              "      <td>3.75</td>\n",
              "      <td>3.58</td>\n",
              "      <td>3.87</td>\n",
              "      <td>3.90</td>\n",
              "      <td>lulus</td>\n",
              "    </tr>\n",
              "  </tbody>\n",
              "</table>\n",
              "</div>\n",
              "      <button class=\"colab-df-convert\" onclick=\"convertToInteractive('df-8d872928-3261-4023-96bd-0db97e59c73c')\"\n",
              "              title=\"Convert this dataframe to an interactive table.\"\n",
              "              style=\"display:none;\">\n",
              "\n",
              "  <svg xmlns=\"http://www.w3.org/2000/svg\" height=\"24px\"viewBox=\"0 0 24 24\"\n",
              "       width=\"24px\">\n",
              "    <path d=\"M0 0h24v24H0V0z\" fill=\"none\"/>\n",
              "    <path d=\"M18.56 5.44l.94 2.06.94-2.06 2.06-.94-2.06-.94-.94-2.06-.94 2.06-2.06.94zm-11 1L8.5 8.5l.94-2.06 2.06-.94-2.06-.94L8.5 2.5l-.94 2.06-2.06.94zm10 10l.94 2.06.94-2.06 2.06-.94-2.06-.94-.94-2.06-.94 2.06-2.06.94z\"/><path d=\"M17.41 7.96l-1.37-1.37c-.4-.4-.92-.59-1.43-.59-.52 0-1.04.2-1.43.59L10.3 9.45l-7.72 7.72c-.78.78-.78 2.05 0 2.83L4 21.41c.39.39.9.59 1.41.59.51 0 1.02-.2 1.41-.59l7.78-7.78 2.81-2.81c.8-.78.8-2.07 0-2.86zM5.41 20L4 18.59l7.72-7.72 1.47 1.35L5.41 20z\"/>\n",
              "  </svg>\n",
              "      </button>\n",
              "\n",
              "\n",
              "\n",
              "    <div id=\"df-c36dea0c-a197-4524-8396-315772fd5e9a\">\n",
              "      <button class=\"colab-df-quickchart\" onclick=\"quickchart('df-c36dea0c-a197-4524-8396-315772fd5e9a')\"\n",
              "              title=\"Suggest charts.\"\n",
              "              style=\"display:none;\">\n",
              "\n",
              "<svg xmlns=\"http://www.w3.org/2000/svg\" height=\"24px\"viewBox=\"0 0 24 24\"\n",
              "     width=\"24px\">\n",
              "    <g>\n",
              "        <path d=\"M19 3H5c-1.1 0-2 .9-2 2v14c0 1.1.9 2 2 2h14c1.1 0 2-.9 2-2V5c0-1.1-.9-2-2-2zM9 17H7v-7h2v7zm4 0h-2V7h2v10zm4 0h-2v-4h2v4z\"/>\n",
              "    </g>\n",
              "</svg>\n",
              "      </button>\n",
              "    </div>\n",
              "\n",
              "<style>\n",
              "  .colab-df-quickchart {\n",
              "    background-color: #E8F0FE;\n",
              "    border: none;\n",
              "    border-radius: 50%;\n",
              "    cursor: pointer;\n",
              "    display: none;\n",
              "    fill: #1967D2;\n",
              "    height: 32px;\n",
              "    padding: 0 0 0 0;\n",
              "    width: 32px;\n",
              "  }\n",
              "\n",
              "  .colab-df-quickchart:hover {\n",
              "    background-color: #E2EBFA;\n",
              "    box-shadow: 0px 1px 2px rgba(60, 64, 67, 0.3), 0px 1px 3px 1px rgba(60, 64, 67, 0.15);\n",
              "    fill: #174EA6;\n",
              "  }\n",
              "\n",
              "  [theme=dark] .colab-df-quickchart {\n",
              "    background-color: #3B4455;\n",
              "    fill: #D2E3FC;\n",
              "  }\n",
              "\n",
              "  [theme=dark] .colab-df-quickchart:hover {\n",
              "    background-color: #434B5C;\n",
              "    box-shadow: 0px 1px 3px 1px rgba(0, 0, 0, 0.15);\n",
              "    filter: drop-shadow(0px 1px 2px rgba(0, 0, 0, 0.3));\n",
              "    fill: #FFFFFF;\n",
              "  }\n",
              "</style>\n",
              "\n",
              "    <script>\n",
              "      async function quickchart(key) {\n",
              "        const containerElement = document.querySelector('#' + key);\n",
              "        const charts = await google.colab.kernel.invokeFunction(\n",
              "            'suggestCharts', [key], {});\n",
              "      }\n",
              "    </script>\n",
              "\n",
              "      <script>\n",
              "\n",
              "function displayQuickchartButton(domScope) {\n",
              "  let quickchartButtonEl =\n",
              "    domScope.querySelector('#df-c36dea0c-a197-4524-8396-315772fd5e9a button.colab-df-quickchart');\n",
              "  quickchartButtonEl.style.display =\n",
              "    google.colab.kernel.accessAllowed ? 'block' : 'none';\n",
              "}\n",
              "\n",
              "        displayQuickchartButton(document);\n",
              "      </script>\n",
              "      <style>\n",
              "    .colab-df-container {\n",
              "      display:flex;\n",
              "      flex-wrap:wrap;\n",
              "      gap: 12px;\n",
              "    }\n",
              "\n",
              "    .colab-df-convert {\n",
              "      background-color: #E8F0FE;\n",
              "      border: none;\n",
              "      border-radius: 50%;\n",
              "      cursor: pointer;\n",
              "      display: none;\n",
              "      fill: #1967D2;\n",
              "      height: 32px;\n",
              "      padding: 0 0 0 0;\n",
              "      width: 32px;\n",
              "    }\n",
              "\n",
              "    .colab-df-convert:hover {\n",
              "      background-color: #E2EBFA;\n",
              "      box-shadow: 0px 1px 2px rgba(60, 64, 67, 0.3), 0px 1px 3px 1px rgba(60, 64, 67, 0.15);\n",
              "      fill: #174EA6;\n",
              "    }\n",
              "\n",
              "    [theme=dark] .colab-df-convert {\n",
              "      background-color: #3B4455;\n",
              "      fill: #D2E3FC;\n",
              "    }\n",
              "\n",
              "    [theme=dark] .colab-df-convert:hover {\n",
              "      background-color: #434B5C;\n",
              "      box-shadow: 0px 1px 3px 1px rgba(0, 0, 0, 0.15);\n",
              "      filter: drop-shadow(0px 1px 2px rgba(0, 0, 0, 0.3));\n",
              "      fill: #FFFFFF;\n",
              "    }\n",
              "  </style>\n",
              "\n",
              "      <script>\n",
              "        const buttonEl =\n",
              "          document.querySelector('#df-8d872928-3261-4023-96bd-0db97e59c73c button.colab-df-convert');\n",
              "        buttonEl.style.display =\n",
              "          google.colab.kernel.accessAllowed ? 'block' : 'none';\n",
              "\n",
              "        async function convertToInteractive(key) {\n",
              "          const element = document.querySelector('#df-8d872928-3261-4023-96bd-0db97e59c73c');\n",
              "          const dataTable =\n",
              "            await google.colab.kernel.invokeFunction('convertToInteractive',\n",
              "                                                     [key], {});\n",
              "          if (!dataTable) return;\n",
              "\n",
              "          const docLinkHtml = 'Like what you see? Visit the ' +\n",
              "            '<a target=\"_blank\" href=https://colab.research.google.com/notebooks/data_table.ipynb>data table notebook</a>'\n",
              "            + ' to learn more about interactive tables.';\n",
              "          element.innerHTML = '';\n",
              "          dataTable['output_type'] = 'display_data';\n",
              "          await google.colab.output.renderOutput(dataTable, element);\n",
              "          const docLink = document.createElement('div');\n",
              "          docLink.innerHTML = docLinkHtml;\n",
              "          element.appendChild(docLink);\n",
              "        }\n",
              "      </script>\n",
              "    </div>\n",
              "  </div>\n"
            ]
          },
          "metadata": {},
          "execution_count": 40
        }
      ]
    },
    {
      "cell_type": "code",
      "source": [
        "data.isnull().sum()"
      ],
      "metadata": {
        "colab": {
          "base_uri": "https://localhost:8080/"
        },
        "id": "mDn1q5QJ-Ko3",
        "outputId": "3d8e7fb0-a976-40e4-ba02-01e672006e5a"
      },
      "execution_count": 41,
      "outputs": [
        {
          "output_type": "execute_result",
          "data": {
            "text/plain": [
              "IPS (semester 1)    0\n",
              "IPS (semester 2)    0\n",
              "IPS (semester 3)    1\n",
              "IPS (semester 4)    0\n",
              "IPS (semester 5)    3\n",
              "kelulusan           0\n",
              "dtype: int64"
            ]
          },
          "metadata": {},
          "execution_count": 41
        }
      ]
    },
    {
      "cell_type": "code",
      "source": [
        "data_clean = data.dropna()"
      ],
      "metadata": {
        "id": "3t0HsSGU-PoX"
      },
      "execution_count": 42,
      "outputs": []
    },
    {
      "cell_type": "code",
      "source": [
        "data_clean.isnull().sum()"
      ],
      "metadata": {
        "colab": {
          "base_uri": "https://localhost:8080/"
        },
        "id": "VrrrWTKz-Uz4",
        "outputId": "862c8bda-7aea-4a5c-9313-5ca1e0c68f58"
      },
      "execution_count": 43,
      "outputs": [
        {
          "output_type": "execute_result",
          "data": {
            "text/plain": [
              "IPS (semester 1)    0\n",
              "IPS (semester 2)    0\n",
              "IPS (semester 3)    0\n",
              "IPS (semester 4)    0\n",
              "IPS (semester 5)    0\n",
              "kelulusan           0\n",
              "dtype: int64"
            ]
          },
          "metadata": {},
          "execution_count": 43
        }
      ]
    },
    {
      "cell_type": "code",
      "source": [
        "data_clean.info()"
      ],
      "metadata": {
        "colab": {
          "base_uri": "https://localhost:8080/"
        },
        "id": "Dddp_8Ms-X1f",
        "outputId": "027b5024-f442-426f-8bb4-9bc8fe59396a"
      },
      "execution_count": 44,
      "outputs": [
        {
          "output_type": "stream",
          "name": "stdout",
          "text": [
            "<class 'pandas.core.frame.DataFrame'>\n",
            "Int64Index: 273 entries, 0 to 276\n",
            "Data columns (total 6 columns):\n",
            " #   Column            Non-Null Count  Dtype  \n",
            "---  ------            --------------  -----  \n",
            " 0   IPS (semester 1)  273 non-null    object \n",
            " 1   IPS (semester 2)  273 non-null    float64\n",
            " 2   IPS (semester 3)  273 non-null    object \n",
            " 3   IPS (semester 4)  273 non-null    float64\n",
            " 4   IPS (semester 5)  273 non-null    float64\n",
            " 5   kelulusan         273 non-null    object \n",
            "dtypes: float64(3), object(3)\n",
            "memory usage: 14.9+ KB\n"
          ]
        }
      ]
    },
    {
      "cell_type": "code",
      "source": [
        "# Mengecek apakah ada data yang duplicated\n",
        "data_clean.duplicated()"
      ],
      "metadata": {
        "colab": {
          "base_uri": "https://localhost:8080/"
        },
        "id": "r4PTUS_0-e6_",
        "outputId": "91960c31-ba16-4d7a-f627-a4e26ff537f9"
      },
      "execution_count": 46,
      "outputs": [
        {
          "output_type": "execute_result",
          "data": {
            "text/plain": [
              "0      False\n",
              "1      False\n",
              "2      False\n",
              "3      False\n",
              "4      False\n",
              "       ...  \n",
              "272    False\n",
              "273    False\n",
              "274    False\n",
              "275    False\n",
              "276    False\n",
              "Length: 273, dtype: bool"
            ]
          },
          "metadata": {},
          "execution_count": 46
        }
      ]
    },
    {
      "cell_type": "code",
      "source": [
        "# Mengubah data \"Lulus\" menjadi 1 dan \"Tidak Lulus\" menjadi 0\n",
        "data_clean['kelulusan'] = data_clean['kelulusan'].map({'lulus': 1, 'tidak lulus': 0})"
      ],
      "metadata": {
        "colab": {
          "base_uri": "https://localhost:8080/"
        },
        "id": "I6PCIS5i-f4G",
        "outputId": "0f896454-387b-4304-99da-54a855082c78"
      },
      "execution_count": 47,
      "outputs": [
        {
          "output_type": "stream",
          "name": "stderr",
          "text": [
            "<ipython-input-47-ec98cc9a3842>:2: SettingWithCopyWarning: \n",
            "A value is trying to be set on a copy of a slice from a DataFrame.\n",
            "Try using .loc[row_indexer,col_indexer] = value instead\n",
            "\n",
            "See the caveats in the documentation: https://pandas.pydata.org/pandas-docs/stable/user_guide/indexing.html#returning-a-view-versus-a-copy\n",
            "  data_clean['kelulusan'] = data_clean['kelulusan'].map({'lulus': 1, 'tidak lulus': 0})\n"
          ]
        }
      ]
    },
    {
      "cell_type": "code",
      "source": [
        "data_clean.head(10)"
      ],
      "metadata": {
        "colab": {
          "base_uri": "https://localhost:8080/",
          "height": 363
        },
        "id": "eISn07SC_aHo",
        "outputId": "5a42f920-146f-4b5f-ae30-5e13d788df30"
      },
      "execution_count": 48,
      "outputs": [
        {
          "output_type": "execute_result",
          "data": {
            "text/plain": [
              "  IPS (semester 1)  IPS (semester 2) IPS (semester 3)  IPS (semester 4)  \\\n",
              "0              4.0              3.74             3,55              3.90   \n",
              "1              4.0              3.74              4,0              3.85   \n",
              "2             3.45              3.61             3.27              3.79   \n",
              "3              4.0              3.61             3.89              3.65   \n",
              "4              4.0              3.74             3.94              3.80   \n",
              "5              4.0              3.61              4,0              3.90   \n",
              "6              4,0              3.61             3.89              3.90   \n",
              "7             3.75              3.43             3.83              3.47   \n",
              "8              3.5              3.74              3.9              3.70   \n",
              "9             3.69              3.26             3.89              4.00   \n",
              "\n",
              "   IPS (semester 5)  kelulusan  \n",
              "0              4.00          1  \n",
              "1              3.95          0  \n",
              "2              3.64          0  \n",
              "3              3.80          0  \n",
              "4              3.77          0  \n",
              "5              4.00          0  \n",
              "6              4.00          0  \n",
              "7              3.91          0  \n",
              "8              4.00          0  \n",
              "9              3.59          0  "
            ],
            "text/html": [
              "\n",
              "\n",
              "  <div id=\"df-29299192-dae3-4d12-af72-e84c6cd8fabd\">\n",
              "    <div class=\"colab-df-container\">\n",
              "      <div>\n",
              "<style scoped>\n",
              "    .dataframe tbody tr th:only-of-type {\n",
              "        vertical-align: middle;\n",
              "    }\n",
              "\n",
              "    .dataframe tbody tr th {\n",
              "        vertical-align: top;\n",
              "    }\n",
              "\n",
              "    .dataframe thead th {\n",
              "        text-align: right;\n",
              "    }\n",
              "</style>\n",
              "<table border=\"1\" class=\"dataframe\">\n",
              "  <thead>\n",
              "    <tr style=\"text-align: right;\">\n",
              "      <th></th>\n",
              "      <th>IPS (semester 1)</th>\n",
              "      <th>IPS (semester 2)</th>\n",
              "      <th>IPS (semester 3)</th>\n",
              "      <th>IPS (semester 4)</th>\n",
              "      <th>IPS (semester 5)</th>\n",
              "      <th>kelulusan</th>\n",
              "    </tr>\n",
              "  </thead>\n",
              "  <tbody>\n",
              "    <tr>\n",
              "      <th>0</th>\n",
              "      <td>4.0</td>\n",
              "      <td>3.74</td>\n",
              "      <td>3,55</td>\n",
              "      <td>3.90</td>\n",
              "      <td>4.00</td>\n",
              "      <td>1</td>\n",
              "    </tr>\n",
              "    <tr>\n",
              "      <th>1</th>\n",
              "      <td>4.0</td>\n",
              "      <td>3.74</td>\n",
              "      <td>4,0</td>\n",
              "      <td>3.85</td>\n",
              "      <td>3.95</td>\n",
              "      <td>0</td>\n",
              "    </tr>\n",
              "    <tr>\n",
              "      <th>2</th>\n",
              "      <td>3.45</td>\n",
              "      <td>3.61</td>\n",
              "      <td>3.27</td>\n",
              "      <td>3.79</td>\n",
              "      <td>3.64</td>\n",
              "      <td>0</td>\n",
              "    </tr>\n",
              "    <tr>\n",
              "      <th>3</th>\n",
              "      <td>4.0</td>\n",
              "      <td>3.61</td>\n",
              "      <td>3.89</td>\n",
              "      <td>3.65</td>\n",
              "      <td>3.80</td>\n",
              "      <td>0</td>\n",
              "    </tr>\n",
              "    <tr>\n",
              "      <th>4</th>\n",
              "      <td>4.0</td>\n",
              "      <td>3.74</td>\n",
              "      <td>3.94</td>\n",
              "      <td>3.80</td>\n",
              "      <td>3.77</td>\n",
              "      <td>0</td>\n",
              "    </tr>\n",
              "    <tr>\n",
              "      <th>5</th>\n",
              "      <td>4.0</td>\n",
              "      <td>3.61</td>\n",
              "      <td>4,0</td>\n",
              "      <td>3.90</td>\n",
              "      <td>4.00</td>\n",
              "      <td>0</td>\n",
              "    </tr>\n",
              "    <tr>\n",
              "      <th>6</th>\n",
              "      <td>4,0</td>\n",
              "      <td>3.61</td>\n",
              "      <td>3.89</td>\n",
              "      <td>3.90</td>\n",
              "      <td>4.00</td>\n",
              "      <td>0</td>\n",
              "    </tr>\n",
              "    <tr>\n",
              "      <th>7</th>\n",
              "      <td>3.75</td>\n",
              "      <td>3.43</td>\n",
              "      <td>3.83</td>\n",
              "      <td>3.47</td>\n",
              "      <td>3.91</td>\n",
              "      <td>0</td>\n",
              "    </tr>\n",
              "    <tr>\n",
              "      <th>8</th>\n",
              "      <td>3.5</td>\n",
              "      <td>3.74</td>\n",
              "      <td>3.9</td>\n",
              "      <td>3.70</td>\n",
              "      <td>4.00</td>\n",
              "      <td>0</td>\n",
              "    </tr>\n",
              "    <tr>\n",
              "      <th>9</th>\n",
              "      <td>3.69</td>\n",
              "      <td>3.26</td>\n",
              "      <td>3.89</td>\n",
              "      <td>4.00</td>\n",
              "      <td>3.59</td>\n",
              "      <td>0</td>\n",
              "    </tr>\n",
              "  </tbody>\n",
              "</table>\n",
              "</div>\n",
              "      <button class=\"colab-df-convert\" onclick=\"convertToInteractive('df-29299192-dae3-4d12-af72-e84c6cd8fabd')\"\n",
              "              title=\"Convert this dataframe to an interactive table.\"\n",
              "              style=\"display:none;\">\n",
              "\n",
              "  <svg xmlns=\"http://www.w3.org/2000/svg\" height=\"24px\"viewBox=\"0 0 24 24\"\n",
              "       width=\"24px\">\n",
              "    <path d=\"M0 0h24v24H0V0z\" fill=\"none\"/>\n",
              "    <path d=\"M18.56 5.44l.94 2.06.94-2.06 2.06-.94-2.06-.94-.94-2.06-.94 2.06-2.06.94zm-11 1L8.5 8.5l.94-2.06 2.06-.94-2.06-.94L8.5 2.5l-.94 2.06-2.06.94zm10 10l.94 2.06.94-2.06 2.06-.94-2.06-.94-.94-2.06-.94 2.06-2.06.94z\"/><path d=\"M17.41 7.96l-1.37-1.37c-.4-.4-.92-.59-1.43-.59-.52 0-1.04.2-1.43.59L10.3 9.45l-7.72 7.72c-.78.78-.78 2.05 0 2.83L4 21.41c.39.39.9.59 1.41.59.51 0 1.02-.2 1.41-.59l7.78-7.78 2.81-2.81c.8-.78.8-2.07 0-2.86zM5.41 20L4 18.59l7.72-7.72 1.47 1.35L5.41 20z\"/>\n",
              "  </svg>\n",
              "      </button>\n",
              "\n",
              "\n",
              "\n",
              "    <div id=\"df-f0afd902-35dd-4656-82aa-8b3c8f928ee0\">\n",
              "      <button class=\"colab-df-quickchart\" onclick=\"quickchart('df-f0afd902-35dd-4656-82aa-8b3c8f928ee0')\"\n",
              "              title=\"Suggest charts.\"\n",
              "              style=\"display:none;\">\n",
              "\n",
              "<svg xmlns=\"http://www.w3.org/2000/svg\" height=\"24px\"viewBox=\"0 0 24 24\"\n",
              "     width=\"24px\">\n",
              "    <g>\n",
              "        <path d=\"M19 3H5c-1.1 0-2 .9-2 2v14c0 1.1.9 2 2 2h14c1.1 0 2-.9 2-2V5c0-1.1-.9-2-2-2zM9 17H7v-7h2v7zm4 0h-2V7h2v10zm4 0h-2v-4h2v4z\"/>\n",
              "    </g>\n",
              "</svg>\n",
              "      </button>\n",
              "    </div>\n",
              "\n",
              "<style>\n",
              "  .colab-df-quickchart {\n",
              "    background-color: #E8F0FE;\n",
              "    border: none;\n",
              "    border-radius: 50%;\n",
              "    cursor: pointer;\n",
              "    display: none;\n",
              "    fill: #1967D2;\n",
              "    height: 32px;\n",
              "    padding: 0 0 0 0;\n",
              "    width: 32px;\n",
              "  }\n",
              "\n",
              "  .colab-df-quickchart:hover {\n",
              "    background-color: #E2EBFA;\n",
              "    box-shadow: 0px 1px 2px rgba(60, 64, 67, 0.3), 0px 1px 3px 1px rgba(60, 64, 67, 0.15);\n",
              "    fill: #174EA6;\n",
              "  }\n",
              "\n",
              "  [theme=dark] .colab-df-quickchart {\n",
              "    background-color: #3B4455;\n",
              "    fill: #D2E3FC;\n",
              "  }\n",
              "\n",
              "  [theme=dark] .colab-df-quickchart:hover {\n",
              "    background-color: #434B5C;\n",
              "    box-shadow: 0px 1px 3px 1px rgba(0, 0, 0, 0.15);\n",
              "    filter: drop-shadow(0px 1px 2px rgba(0, 0, 0, 0.3));\n",
              "    fill: #FFFFFF;\n",
              "  }\n",
              "</style>\n",
              "\n",
              "    <script>\n",
              "      async function quickchart(key) {\n",
              "        const containerElement = document.querySelector('#' + key);\n",
              "        const charts = await google.colab.kernel.invokeFunction(\n",
              "            'suggestCharts', [key], {});\n",
              "      }\n",
              "    </script>\n",
              "\n",
              "      <script>\n",
              "\n",
              "function displayQuickchartButton(domScope) {\n",
              "  let quickchartButtonEl =\n",
              "    domScope.querySelector('#df-f0afd902-35dd-4656-82aa-8b3c8f928ee0 button.colab-df-quickchart');\n",
              "  quickchartButtonEl.style.display =\n",
              "    google.colab.kernel.accessAllowed ? 'block' : 'none';\n",
              "}\n",
              "\n",
              "        displayQuickchartButton(document);\n",
              "      </script>\n",
              "      <style>\n",
              "    .colab-df-container {\n",
              "      display:flex;\n",
              "      flex-wrap:wrap;\n",
              "      gap: 12px;\n",
              "    }\n",
              "\n",
              "    .colab-df-convert {\n",
              "      background-color: #E8F0FE;\n",
              "      border: none;\n",
              "      border-radius: 50%;\n",
              "      cursor: pointer;\n",
              "      display: none;\n",
              "      fill: #1967D2;\n",
              "      height: 32px;\n",
              "      padding: 0 0 0 0;\n",
              "      width: 32px;\n",
              "    }\n",
              "\n",
              "    .colab-df-convert:hover {\n",
              "      background-color: #E2EBFA;\n",
              "      box-shadow: 0px 1px 2px rgba(60, 64, 67, 0.3), 0px 1px 3px 1px rgba(60, 64, 67, 0.15);\n",
              "      fill: #174EA6;\n",
              "    }\n",
              "\n",
              "    [theme=dark] .colab-df-convert {\n",
              "      background-color: #3B4455;\n",
              "      fill: #D2E3FC;\n",
              "    }\n",
              "\n",
              "    [theme=dark] .colab-df-convert:hover {\n",
              "      background-color: #434B5C;\n",
              "      box-shadow: 0px 1px 3px 1px rgba(0, 0, 0, 0.15);\n",
              "      filter: drop-shadow(0px 1px 2px rgba(0, 0, 0, 0.3));\n",
              "      fill: #FFFFFF;\n",
              "    }\n",
              "  </style>\n",
              "\n",
              "      <script>\n",
              "        const buttonEl =\n",
              "          document.querySelector('#df-29299192-dae3-4d12-af72-e84c6cd8fabd button.colab-df-convert');\n",
              "        buttonEl.style.display =\n",
              "          google.colab.kernel.accessAllowed ? 'block' : 'none';\n",
              "\n",
              "        async function convertToInteractive(key) {\n",
              "          const element = document.querySelector('#df-29299192-dae3-4d12-af72-e84c6cd8fabd');\n",
              "          const dataTable =\n",
              "            await google.colab.kernel.invokeFunction('convertToInteractive',\n",
              "                                                     [key], {});\n",
              "          if (!dataTable) return;\n",
              "\n",
              "          const docLinkHtml = 'Like what you see? Visit the ' +\n",
              "            '<a target=\"_blank\" href=https://colab.research.google.com/notebooks/data_table.ipynb>data table notebook</a>'\n",
              "            + ' to learn more about interactive tables.';\n",
              "          element.innerHTML = '';\n",
              "          dataTable['output_type'] = 'display_data';\n",
              "          await google.colab.output.renderOutput(dataTable, element);\n",
              "          const docLink = document.createElement('div');\n",
              "          docLink.innerHTML = docLinkHtml;\n",
              "          element.appendChild(docLink);\n",
              "        }\n",
              "      </script>\n",
              "    </div>\n",
              "  </div>\n"
            ]
          },
          "metadata": {},
          "execution_count": 48
        }
      ]
    },
    {
      "cell_type": "code",
      "source": [
        "data_clean = pd.DataFrame(data_clean)"
      ],
      "metadata": {
        "id": "TnjSFpDU_0Em"
      },
      "execution_count": 49,
      "outputs": []
    },
    {
      "cell_type": "code",
      "source": [
        "data_clean.info()"
      ],
      "metadata": {
        "colab": {
          "base_uri": "https://localhost:8080/"
        },
        "id": "8h_Q5cyV_4hU",
        "outputId": "51a52e15-2fa9-4c3b-e6fe-9f56b5aacaa6"
      },
      "execution_count": 50,
      "outputs": [
        {
          "output_type": "stream",
          "name": "stdout",
          "text": [
            "<class 'pandas.core.frame.DataFrame'>\n",
            "Int64Index: 273 entries, 0 to 276\n",
            "Data columns (total 6 columns):\n",
            " #   Column            Non-Null Count  Dtype  \n",
            "---  ------            --------------  -----  \n",
            " 0   IPS (semester 1)  273 non-null    object \n",
            " 1   IPS (semester 2)  273 non-null    float64\n",
            " 2   IPS (semester 3)  273 non-null    object \n",
            " 3   IPS (semester 4)  273 non-null    float64\n",
            " 4   IPS (semester 5)  273 non-null    float64\n",
            " 5   kelulusan         273 non-null    int64  \n",
            "dtypes: float64(3), int64(1), object(2)\n",
            "memory usage: 14.9+ KB\n"
          ]
        }
      ]
    },
    {
      "cell_type": "code",
      "source": [
        "# Mengkonversi data string ke float\n",
        "data_clean['IPS (semester 1)'] = pd.to_numeric(data_clean['IPS (semester 1)'],errors='coerce')\n",
        "data_clean['IPS (semester 3)'] = pd.to_numeric(data_clean['IPS (semester 3)'], errors='coerce')"
      ],
      "metadata": {
        "id": "0M_OSCRb_9WD"
      },
      "execution_count": 51,
      "outputs": []
    },
    {
      "cell_type": "code",
      "source": [
        "data_clean.head(10)"
      ],
      "metadata": {
        "colab": {
          "base_uri": "https://localhost:8080/",
          "height": 363
        },
        "id": "mhCQjVKh__BA",
        "outputId": "73403760-0f2c-4a63-b33b-17936602394d"
      },
      "execution_count": 52,
      "outputs": [
        {
          "output_type": "execute_result",
          "data": {
            "text/plain": [
              "   IPS (semester 1)  IPS (semester 2)  IPS (semester 3)  IPS (semester 4)  \\\n",
              "0              4.00              3.74               NaN              3.90   \n",
              "1              4.00              3.74               NaN              3.85   \n",
              "2              3.45              3.61              3.27              3.79   \n",
              "3              4.00              3.61              3.89              3.65   \n",
              "4              4.00              3.74              3.94              3.80   \n",
              "5              4.00              3.61               NaN              3.90   \n",
              "6               NaN              3.61              3.89              3.90   \n",
              "7              3.75              3.43              3.83              3.47   \n",
              "8              3.50              3.74              3.90              3.70   \n",
              "9              3.69              3.26              3.89              4.00   \n",
              "\n",
              "   IPS (semester 5)  kelulusan  \n",
              "0              4.00          1  \n",
              "1              3.95          0  \n",
              "2              3.64          0  \n",
              "3              3.80          0  \n",
              "4              3.77          0  \n",
              "5              4.00          0  \n",
              "6              4.00          0  \n",
              "7              3.91          0  \n",
              "8              4.00          0  \n",
              "9              3.59          0  "
            ],
            "text/html": [
              "\n",
              "\n",
              "  <div id=\"df-09f36b3b-6756-4c93-96cf-e930d22c8487\">\n",
              "    <div class=\"colab-df-container\">\n",
              "      <div>\n",
              "<style scoped>\n",
              "    .dataframe tbody tr th:only-of-type {\n",
              "        vertical-align: middle;\n",
              "    }\n",
              "\n",
              "    .dataframe tbody tr th {\n",
              "        vertical-align: top;\n",
              "    }\n",
              "\n",
              "    .dataframe thead th {\n",
              "        text-align: right;\n",
              "    }\n",
              "</style>\n",
              "<table border=\"1\" class=\"dataframe\">\n",
              "  <thead>\n",
              "    <tr style=\"text-align: right;\">\n",
              "      <th></th>\n",
              "      <th>IPS (semester 1)</th>\n",
              "      <th>IPS (semester 2)</th>\n",
              "      <th>IPS (semester 3)</th>\n",
              "      <th>IPS (semester 4)</th>\n",
              "      <th>IPS (semester 5)</th>\n",
              "      <th>kelulusan</th>\n",
              "    </tr>\n",
              "  </thead>\n",
              "  <tbody>\n",
              "    <tr>\n",
              "      <th>0</th>\n",
              "      <td>4.00</td>\n",
              "      <td>3.74</td>\n",
              "      <td>NaN</td>\n",
              "      <td>3.90</td>\n",
              "      <td>4.00</td>\n",
              "      <td>1</td>\n",
              "    </tr>\n",
              "    <tr>\n",
              "      <th>1</th>\n",
              "      <td>4.00</td>\n",
              "      <td>3.74</td>\n",
              "      <td>NaN</td>\n",
              "      <td>3.85</td>\n",
              "      <td>3.95</td>\n",
              "      <td>0</td>\n",
              "    </tr>\n",
              "    <tr>\n",
              "      <th>2</th>\n",
              "      <td>3.45</td>\n",
              "      <td>3.61</td>\n",
              "      <td>3.27</td>\n",
              "      <td>3.79</td>\n",
              "      <td>3.64</td>\n",
              "      <td>0</td>\n",
              "    </tr>\n",
              "    <tr>\n",
              "      <th>3</th>\n",
              "      <td>4.00</td>\n",
              "      <td>3.61</td>\n",
              "      <td>3.89</td>\n",
              "      <td>3.65</td>\n",
              "      <td>3.80</td>\n",
              "      <td>0</td>\n",
              "    </tr>\n",
              "    <tr>\n",
              "      <th>4</th>\n",
              "      <td>4.00</td>\n",
              "      <td>3.74</td>\n",
              "      <td>3.94</td>\n",
              "      <td>3.80</td>\n",
              "      <td>3.77</td>\n",
              "      <td>0</td>\n",
              "    </tr>\n",
              "    <tr>\n",
              "      <th>5</th>\n",
              "      <td>4.00</td>\n",
              "      <td>3.61</td>\n",
              "      <td>NaN</td>\n",
              "      <td>3.90</td>\n",
              "      <td>4.00</td>\n",
              "      <td>0</td>\n",
              "    </tr>\n",
              "    <tr>\n",
              "      <th>6</th>\n",
              "      <td>NaN</td>\n",
              "      <td>3.61</td>\n",
              "      <td>3.89</td>\n",
              "      <td>3.90</td>\n",
              "      <td>4.00</td>\n",
              "      <td>0</td>\n",
              "    </tr>\n",
              "    <tr>\n",
              "      <th>7</th>\n",
              "      <td>3.75</td>\n",
              "      <td>3.43</td>\n",
              "      <td>3.83</td>\n",
              "      <td>3.47</td>\n",
              "      <td>3.91</td>\n",
              "      <td>0</td>\n",
              "    </tr>\n",
              "    <tr>\n",
              "      <th>8</th>\n",
              "      <td>3.50</td>\n",
              "      <td>3.74</td>\n",
              "      <td>3.90</td>\n",
              "      <td>3.70</td>\n",
              "      <td>4.00</td>\n",
              "      <td>0</td>\n",
              "    </tr>\n",
              "    <tr>\n",
              "      <th>9</th>\n",
              "      <td>3.69</td>\n",
              "      <td>3.26</td>\n",
              "      <td>3.89</td>\n",
              "      <td>4.00</td>\n",
              "      <td>3.59</td>\n",
              "      <td>0</td>\n",
              "    </tr>\n",
              "  </tbody>\n",
              "</table>\n",
              "</div>\n",
              "      <button class=\"colab-df-convert\" onclick=\"convertToInteractive('df-09f36b3b-6756-4c93-96cf-e930d22c8487')\"\n",
              "              title=\"Convert this dataframe to an interactive table.\"\n",
              "              style=\"display:none;\">\n",
              "\n",
              "  <svg xmlns=\"http://www.w3.org/2000/svg\" height=\"24px\"viewBox=\"0 0 24 24\"\n",
              "       width=\"24px\">\n",
              "    <path d=\"M0 0h24v24H0V0z\" fill=\"none\"/>\n",
              "    <path d=\"M18.56 5.44l.94 2.06.94-2.06 2.06-.94-2.06-.94-.94-2.06-.94 2.06-2.06.94zm-11 1L8.5 8.5l.94-2.06 2.06-.94-2.06-.94L8.5 2.5l-.94 2.06-2.06.94zm10 10l.94 2.06.94-2.06 2.06-.94-2.06-.94-.94-2.06-.94 2.06-2.06.94z\"/><path d=\"M17.41 7.96l-1.37-1.37c-.4-.4-.92-.59-1.43-.59-.52 0-1.04.2-1.43.59L10.3 9.45l-7.72 7.72c-.78.78-.78 2.05 0 2.83L4 21.41c.39.39.9.59 1.41.59.51 0 1.02-.2 1.41-.59l7.78-7.78 2.81-2.81c.8-.78.8-2.07 0-2.86zM5.41 20L4 18.59l7.72-7.72 1.47 1.35L5.41 20z\"/>\n",
              "  </svg>\n",
              "      </button>\n",
              "\n",
              "\n",
              "\n",
              "    <div id=\"df-a7f927bd-d9aa-4d14-a0c7-88bb457ab31e\">\n",
              "      <button class=\"colab-df-quickchart\" onclick=\"quickchart('df-a7f927bd-d9aa-4d14-a0c7-88bb457ab31e')\"\n",
              "              title=\"Suggest charts.\"\n",
              "              style=\"display:none;\">\n",
              "\n",
              "<svg xmlns=\"http://www.w3.org/2000/svg\" height=\"24px\"viewBox=\"0 0 24 24\"\n",
              "     width=\"24px\">\n",
              "    <g>\n",
              "        <path d=\"M19 3H5c-1.1 0-2 .9-2 2v14c0 1.1.9 2 2 2h14c1.1 0 2-.9 2-2V5c0-1.1-.9-2-2-2zM9 17H7v-7h2v7zm4 0h-2V7h2v10zm4 0h-2v-4h2v4z\"/>\n",
              "    </g>\n",
              "</svg>\n",
              "      </button>\n",
              "    </div>\n",
              "\n",
              "<style>\n",
              "  .colab-df-quickchart {\n",
              "    background-color: #E8F0FE;\n",
              "    border: none;\n",
              "    border-radius: 50%;\n",
              "    cursor: pointer;\n",
              "    display: none;\n",
              "    fill: #1967D2;\n",
              "    height: 32px;\n",
              "    padding: 0 0 0 0;\n",
              "    width: 32px;\n",
              "  }\n",
              "\n",
              "  .colab-df-quickchart:hover {\n",
              "    background-color: #E2EBFA;\n",
              "    box-shadow: 0px 1px 2px rgba(60, 64, 67, 0.3), 0px 1px 3px 1px rgba(60, 64, 67, 0.15);\n",
              "    fill: #174EA6;\n",
              "  }\n",
              "\n",
              "  [theme=dark] .colab-df-quickchart {\n",
              "    background-color: #3B4455;\n",
              "    fill: #D2E3FC;\n",
              "  }\n",
              "\n",
              "  [theme=dark] .colab-df-quickchart:hover {\n",
              "    background-color: #434B5C;\n",
              "    box-shadow: 0px 1px 3px 1px rgba(0, 0, 0, 0.15);\n",
              "    filter: drop-shadow(0px 1px 2px rgba(0, 0, 0, 0.3));\n",
              "    fill: #FFFFFF;\n",
              "  }\n",
              "</style>\n",
              "\n",
              "    <script>\n",
              "      async function quickchart(key) {\n",
              "        const containerElement = document.querySelector('#' + key);\n",
              "        const charts = await google.colab.kernel.invokeFunction(\n",
              "            'suggestCharts', [key], {});\n",
              "      }\n",
              "    </script>\n",
              "\n",
              "      <script>\n",
              "\n",
              "function displayQuickchartButton(domScope) {\n",
              "  let quickchartButtonEl =\n",
              "    domScope.querySelector('#df-a7f927bd-d9aa-4d14-a0c7-88bb457ab31e button.colab-df-quickchart');\n",
              "  quickchartButtonEl.style.display =\n",
              "    google.colab.kernel.accessAllowed ? 'block' : 'none';\n",
              "}\n",
              "\n",
              "        displayQuickchartButton(document);\n",
              "      </script>\n",
              "      <style>\n",
              "    .colab-df-container {\n",
              "      display:flex;\n",
              "      flex-wrap:wrap;\n",
              "      gap: 12px;\n",
              "    }\n",
              "\n",
              "    .colab-df-convert {\n",
              "      background-color: #E8F0FE;\n",
              "      border: none;\n",
              "      border-radius: 50%;\n",
              "      cursor: pointer;\n",
              "      display: none;\n",
              "      fill: #1967D2;\n",
              "      height: 32px;\n",
              "      padding: 0 0 0 0;\n",
              "      width: 32px;\n",
              "    }\n",
              "\n",
              "    .colab-df-convert:hover {\n",
              "      background-color: #E2EBFA;\n",
              "      box-shadow: 0px 1px 2px rgba(60, 64, 67, 0.3), 0px 1px 3px 1px rgba(60, 64, 67, 0.15);\n",
              "      fill: #174EA6;\n",
              "    }\n",
              "\n",
              "    [theme=dark] .colab-df-convert {\n",
              "      background-color: #3B4455;\n",
              "      fill: #D2E3FC;\n",
              "    }\n",
              "\n",
              "    [theme=dark] .colab-df-convert:hover {\n",
              "      background-color: #434B5C;\n",
              "      box-shadow: 0px 1px 3px 1px rgba(0, 0, 0, 0.15);\n",
              "      filter: drop-shadow(0px 1px 2px rgba(0, 0, 0, 0.3));\n",
              "      fill: #FFFFFF;\n",
              "    }\n",
              "  </style>\n",
              "\n",
              "      <script>\n",
              "        const buttonEl =\n",
              "          document.querySelector('#df-09f36b3b-6756-4c93-96cf-e930d22c8487 button.colab-df-convert');\n",
              "        buttonEl.style.display =\n",
              "          google.colab.kernel.accessAllowed ? 'block' : 'none';\n",
              "\n",
              "        async function convertToInteractive(key) {\n",
              "          const element = document.querySelector('#df-09f36b3b-6756-4c93-96cf-e930d22c8487');\n",
              "          const dataTable =\n",
              "            await google.colab.kernel.invokeFunction('convertToInteractive',\n",
              "                                                     [key], {});\n",
              "          if (!dataTable) return;\n",
              "\n",
              "          const docLinkHtml = 'Like what you see? Visit the ' +\n",
              "            '<a target=\"_blank\" href=https://colab.research.google.com/notebooks/data_table.ipynb>data table notebook</a>'\n",
              "            + ' to learn more about interactive tables.';\n",
              "          element.innerHTML = '';\n",
              "          dataTable['output_type'] = 'display_data';\n",
              "          await google.colab.output.renderOutput(dataTable, element);\n",
              "          const docLink = document.createElement('div');\n",
              "          docLink.innerHTML = docLinkHtml;\n",
              "          element.appendChild(docLink);\n",
              "        }\n",
              "      </script>\n",
              "    </div>\n",
              "  </div>\n"
            ]
          },
          "metadata": {},
          "execution_count": 52
        }
      ]
    },
    {
      "cell_type": "code",
      "source": [
        "data_clean.isna().sum()"
      ],
      "metadata": {
        "colab": {
          "base_uri": "https://localhost:8080/"
        },
        "id": "O8P6oGnPAosX",
        "outputId": "5e39afee-fee5-42ec-b297-1b3cf6762250"
      },
      "execution_count": 54,
      "outputs": [
        {
          "output_type": "execute_result",
          "data": {
            "text/plain": [
              "IPS (semester 1)     1\n",
              "IPS (semester 2)     0\n",
              "IPS (semester 3)    40\n",
              "IPS (semester 4)     0\n",
              "IPS (semester 5)     0\n",
              "kelulusan            0\n",
              "dtype: int64"
            ]
          },
          "metadata": {},
          "execution_count": 54
        }
      ]
    },
    {
      "cell_type": "code",
      "source": [
        "data_clean.head(10)"
      ],
      "metadata": {
        "colab": {
          "base_uri": "https://localhost:8080/",
          "height": 363
        },
        "id": "r_6U7n9GBt45",
        "outputId": "f70fef65-9597-49f0-b90e-c17860355efe"
      },
      "execution_count": 56,
      "outputs": [
        {
          "output_type": "execute_result",
          "data": {
            "text/plain": [
              "   IPS (semester 1)  IPS (semester 2)  IPS (semester 3)  IPS (semester 4)  \\\n",
              "0              4.00              3.74              4.00              3.90   \n",
              "1              4.00              3.74              4.00              3.85   \n",
              "2              3.45              3.61              3.27              3.79   \n",
              "3              4.00              3.61              3.89              3.65   \n",
              "4              4.00              3.74              3.94              3.80   \n",
              "5              4.00              3.61              4.00              3.90   \n",
              "6              4.00              3.61              3.89              3.90   \n",
              "7              3.75              3.43              3.83              3.47   \n",
              "8              3.50              3.74              3.90              3.70   \n",
              "9              3.69              3.26              3.89              4.00   \n",
              "\n",
              "   IPS (semester 5)  kelulusan  \n",
              "0              4.00          1  \n",
              "1              3.95          0  \n",
              "2              3.64          0  \n",
              "3              3.80          0  \n",
              "4              3.77          0  \n",
              "5              4.00          0  \n",
              "6              4.00          0  \n",
              "7              3.91          0  \n",
              "8              4.00          0  \n",
              "9              3.59          0  "
            ],
            "text/html": [
              "\n",
              "\n",
              "  <div id=\"df-9a7c9a11-3506-4e58-870e-387e725afe04\">\n",
              "    <div class=\"colab-df-container\">\n",
              "      <div>\n",
              "<style scoped>\n",
              "    .dataframe tbody tr th:only-of-type {\n",
              "        vertical-align: middle;\n",
              "    }\n",
              "\n",
              "    .dataframe tbody tr th {\n",
              "        vertical-align: top;\n",
              "    }\n",
              "\n",
              "    .dataframe thead th {\n",
              "        text-align: right;\n",
              "    }\n",
              "</style>\n",
              "<table border=\"1\" class=\"dataframe\">\n",
              "  <thead>\n",
              "    <tr style=\"text-align: right;\">\n",
              "      <th></th>\n",
              "      <th>IPS (semester 1)</th>\n",
              "      <th>IPS (semester 2)</th>\n",
              "      <th>IPS (semester 3)</th>\n",
              "      <th>IPS (semester 4)</th>\n",
              "      <th>IPS (semester 5)</th>\n",
              "      <th>kelulusan</th>\n",
              "    </tr>\n",
              "  </thead>\n",
              "  <tbody>\n",
              "    <tr>\n",
              "      <th>0</th>\n",
              "      <td>4.00</td>\n",
              "      <td>3.74</td>\n",
              "      <td>4.00</td>\n",
              "      <td>3.90</td>\n",
              "      <td>4.00</td>\n",
              "      <td>1</td>\n",
              "    </tr>\n",
              "    <tr>\n",
              "      <th>1</th>\n",
              "      <td>4.00</td>\n",
              "      <td>3.74</td>\n",
              "      <td>4.00</td>\n",
              "      <td>3.85</td>\n",
              "      <td>3.95</td>\n",
              "      <td>0</td>\n",
              "    </tr>\n",
              "    <tr>\n",
              "      <th>2</th>\n",
              "      <td>3.45</td>\n",
              "      <td>3.61</td>\n",
              "      <td>3.27</td>\n",
              "      <td>3.79</td>\n",
              "      <td>3.64</td>\n",
              "      <td>0</td>\n",
              "    </tr>\n",
              "    <tr>\n",
              "      <th>3</th>\n",
              "      <td>4.00</td>\n",
              "      <td>3.61</td>\n",
              "      <td>3.89</td>\n",
              "      <td>3.65</td>\n",
              "      <td>3.80</td>\n",
              "      <td>0</td>\n",
              "    </tr>\n",
              "    <tr>\n",
              "      <th>4</th>\n",
              "      <td>4.00</td>\n",
              "      <td>3.74</td>\n",
              "      <td>3.94</td>\n",
              "      <td>3.80</td>\n",
              "      <td>3.77</td>\n",
              "      <td>0</td>\n",
              "    </tr>\n",
              "    <tr>\n",
              "      <th>5</th>\n",
              "      <td>4.00</td>\n",
              "      <td>3.61</td>\n",
              "      <td>4.00</td>\n",
              "      <td>3.90</td>\n",
              "      <td>4.00</td>\n",
              "      <td>0</td>\n",
              "    </tr>\n",
              "    <tr>\n",
              "      <th>6</th>\n",
              "      <td>4.00</td>\n",
              "      <td>3.61</td>\n",
              "      <td>3.89</td>\n",
              "      <td>3.90</td>\n",
              "      <td>4.00</td>\n",
              "      <td>0</td>\n",
              "    </tr>\n",
              "    <tr>\n",
              "      <th>7</th>\n",
              "      <td>3.75</td>\n",
              "      <td>3.43</td>\n",
              "      <td>3.83</td>\n",
              "      <td>3.47</td>\n",
              "      <td>3.91</td>\n",
              "      <td>0</td>\n",
              "    </tr>\n",
              "    <tr>\n",
              "      <th>8</th>\n",
              "      <td>3.50</td>\n",
              "      <td>3.74</td>\n",
              "      <td>3.90</td>\n",
              "      <td>3.70</td>\n",
              "      <td>4.00</td>\n",
              "      <td>0</td>\n",
              "    </tr>\n",
              "    <tr>\n",
              "      <th>9</th>\n",
              "      <td>3.69</td>\n",
              "      <td>3.26</td>\n",
              "      <td>3.89</td>\n",
              "      <td>4.00</td>\n",
              "      <td>3.59</td>\n",
              "      <td>0</td>\n",
              "    </tr>\n",
              "  </tbody>\n",
              "</table>\n",
              "</div>\n",
              "      <button class=\"colab-df-convert\" onclick=\"convertToInteractive('df-9a7c9a11-3506-4e58-870e-387e725afe04')\"\n",
              "              title=\"Convert this dataframe to an interactive table.\"\n",
              "              style=\"display:none;\">\n",
              "\n",
              "  <svg xmlns=\"http://www.w3.org/2000/svg\" height=\"24px\"viewBox=\"0 0 24 24\"\n",
              "       width=\"24px\">\n",
              "    <path d=\"M0 0h24v24H0V0z\" fill=\"none\"/>\n",
              "    <path d=\"M18.56 5.44l.94 2.06.94-2.06 2.06-.94-2.06-.94-.94-2.06-.94 2.06-2.06.94zm-11 1L8.5 8.5l.94-2.06 2.06-.94-2.06-.94L8.5 2.5l-.94 2.06-2.06.94zm10 10l.94 2.06.94-2.06 2.06-.94-2.06-.94-.94-2.06-.94 2.06-2.06.94z\"/><path d=\"M17.41 7.96l-1.37-1.37c-.4-.4-.92-.59-1.43-.59-.52 0-1.04.2-1.43.59L10.3 9.45l-7.72 7.72c-.78.78-.78 2.05 0 2.83L4 21.41c.39.39.9.59 1.41.59.51 0 1.02-.2 1.41-.59l7.78-7.78 2.81-2.81c.8-.78.8-2.07 0-2.86zM5.41 20L4 18.59l7.72-7.72 1.47 1.35L5.41 20z\"/>\n",
              "  </svg>\n",
              "      </button>\n",
              "\n",
              "\n",
              "\n",
              "    <div id=\"df-b5c48c5d-5186-442f-8d38-8ae8a06325b7\">\n",
              "      <button class=\"colab-df-quickchart\" onclick=\"quickchart('df-b5c48c5d-5186-442f-8d38-8ae8a06325b7')\"\n",
              "              title=\"Suggest charts.\"\n",
              "              style=\"display:none;\">\n",
              "\n",
              "<svg xmlns=\"http://www.w3.org/2000/svg\" height=\"24px\"viewBox=\"0 0 24 24\"\n",
              "     width=\"24px\">\n",
              "    <g>\n",
              "        <path d=\"M19 3H5c-1.1 0-2 .9-2 2v14c0 1.1.9 2 2 2h14c1.1 0 2-.9 2-2V5c0-1.1-.9-2-2-2zM9 17H7v-7h2v7zm4 0h-2V7h2v10zm4 0h-2v-4h2v4z\"/>\n",
              "    </g>\n",
              "</svg>\n",
              "      </button>\n",
              "    </div>\n",
              "\n",
              "<style>\n",
              "  .colab-df-quickchart {\n",
              "    background-color: #E8F0FE;\n",
              "    border: none;\n",
              "    border-radius: 50%;\n",
              "    cursor: pointer;\n",
              "    display: none;\n",
              "    fill: #1967D2;\n",
              "    height: 32px;\n",
              "    padding: 0 0 0 0;\n",
              "    width: 32px;\n",
              "  }\n",
              "\n",
              "  .colab-df-quickchart:hover {\n",
              "    background-color: #E2EBFA;\n",
              "    box-shadow: 0px 1px 2px rgba(60, 64, 67, 0.3), 0px 1px 3px 1px rgba(60, 64, 67, 0.15);\n",
              "    fill: #174EA6;\n",
              "  }\n",
              "\n",
              "  [theme=dark] .colab-df-quickchart {\n",
              "    background-color: #3B4455;\n",
              "    fill: #D2E3FC;\n",
              "  }\n",
              "\n",
              "  [theme=dark] .colab-df-quickchart:hover {\n",
              "    background-color: #434B5C;\n",
              "    box-shadow: 0px 1px 3px 1px rgba(0, 0, 0, 0.15);\n",
              "    filter: drop-shadow(0px 1px 2px rgba(0, 0, 0, 0.3));\n",
              "    fill: #FFFFFF;\n",
              "  }\n",
              "</style>\n",
              "\n",
              "    <script>\n",
              "      async function quickchart(key) {\n",
              "        const containerElement = document.querySelector('#' + key);\n",
              "        const charts = await google.colab.kernel.invokeFunction(\n",
              "            'suggestCharts', [key], {});\n",
              "      }\n",
              "    </script>\n",
              "\n",
              "      <script>\n",
              "\n",
              "function displayQuickchartButton(domScope) {\n",
              "  let quickchartButtonEl =\n",
              "    domScope.querySelector('#df-b5c48c5d-5186-442f-8d38-8ae8a06325b7 button.colab-df-quickchart');\n",
              "  quickchartButtonEl.style.display =\n",
              "    google.colab.kernel.accessAllowed ? 'block' : 'none';\n",
              "}\n",
              "\n",
              "        displayQuickchartButton(document);\n",
              "      </script>\n",
              "      <style>\n",
              "    .colab-df-container {\n",
              "      display:flex;\n",
              "      flex-wrap:wrap;\n",
              "      gap: 12px;\n",
              "    }\n",
              "\n",
              "    .colab-df-convert {\n",
              "      background-color: #E8F0FE;\n",
              "      border: none;\n",
              "      border-radius: 50%;\n",
              "      cursor: pointer;\n",
              "      display: none;\n",
              "      fill: #1967D2;\n",
              "      height: 32px;\n",
              "      padding: 0 0 0 0;\n",
              "      width: 32px;\n",
              "    }\n",
              "\n",
              "    .colab-df-convert:hover {\n",
              "      background-color: #E2EBFA;\n",
              "      box-shadow: 0px 1px 2px rgba(60, 64, 67, 0.3), 0px 1px 3px 1px rgba(60, 64, 67, 0.15);\n",
              "      fill: #174EA6;\n",
              "    }\n",
              "\n",
              "    [theme=dark] .colab-df-convert {\n",
              "      background-color: #3B4455;\n",
              "      fill: #D2E3FC;\n",
              "    }\n",
              "\n",
              "    [theme=dark] .colab-df-convert:hover {\n",
              "      background-color: #434B5C;\n",
              "      box-shadow: 0px 1px 3px 1px rgba(0, 0, 0, 0.15);\n",
              "      filter: drop-shadow(0px 1px 2px rgba(0, 0, 0, 0.3));\n",
              "      fill: #FFFFFF;\n",
              "    }\n",
              "  </style>\n",
              "\n",
              "      <script>\n",
              "        const buttonEl =\n",
              "          document.querySelector('#df-9a7c9a11-3506-4e58-870e-387e725afe04 button.colab-df-convert');\n",
              "        buttonEl.style.display =\n",
              "          google.colab.kernel.accessAllowed ? 'block' : 'none';\n",
              "\n",
              "        async function convertToInteractive(key) {\n",
              "          const element = document.querySelector('#df-9a7c9a11-3506-4e58-870e-387e725afe04');\n",
              "          const dataTable =\n",
              "            await google.colab.kernel.invokeFunction('convertToInteractive',\n",
              "                                                     [key], {});\n",
              "          if (!dataTable) return;\n",
              "\n",
              "          const docLinkHtml = 'Like what you see? Visit the ' +\n",
              "            '<a target=\"_blank\" href=https://colab.research.google.com/notebooks/data_table.ipynb>data table notebook</a>'\n",
              "            + ' to learn more about interactive tables.';\n",
              "          element.innerHTML = '';\n",
              "          dataTable['output_type'] = 'display_data';\n",
              "          await google.colab.output.renderOutput(dataTable, element);\n",
              "          const docLink = document.createElement('div');\n",
              "          docLink.innerHTML = docLinkHtml;\n",
              "          element.appendChild(docLink);\n",
              "        }\n",
              "      </script>\n",
              "    </div>\n",
              "  </div>\n"
            ]
          },
          "metadata": {},
          "execution_count": 56
        }
      ]
    },
    {
      "cell_type": "code",
      "source": [
        "data_clean.info()"
      ],
      "metadata": {
        "colab": {
          "base_uri": "https://localhost:8080/"
        },
        "id": "_gInZbZxBx1B",
        "outputId": "66b11c41-d622-4add-9aae-4d5315d8ed38"
      },
      "execution_count": 57,
      "outputs": [
        {
          "output_type": "stream",
          "name": "stdout",
          "text": [
            "<class 'pandas.core.frame.DataFrame'>\n",
            "Int64Index: 273 entries, 0 to 276\n",
            "Data columns (total 6 columns):\n",
            " #   Column            Non-Null Count  Dtype  \n",
            "---  ------            --------------  -----  \n",
            " 0   IPS (semester 1)  273 non-null    float64\n",
            " 1   IPS (semester 2)  273 non-null    float64\n",
            " 2   IPS (semester 3)  273 non-null    float64\n",
            " 3   IPS (semester 4)  273 non-null    float64\n",
            " 4   IPS (semester 5)  273 non-null    float64\n",
            " 5   kelulusan         273 non-null    int64  \n",
            "dtypes: float64(5), int64(1)\n",
            "memory usage: 14.9 KB\n"
          ]
        }
      ]
    },
    {
      "cell_type": "code",
      "source": [
        "data_clean.isnull().sum()"
      ],
      "metadata": {
        "colab": {
          "base_uri": "https://localhost:8080/"
        },
        "id": "QftVe8j9B0zh",
        "outputId": "d4227f94-08a7-4a63-c8ef-2d62b6446675"
      },
      "execution_count": 59,
      "outputs": [
        {
          "output_type": "execute_result",
          "data": {
            "text/plain": [
              "IPS (semester 1)    0\n",
              "IPS (semester 2)    0\n",
              "IPS (semester 3)    0\n",
              "IPS (semester 4)    0\n",
              "IPS (semester 5)    0\n",
              "kelulusan           0\n",
              "dtype: int64"
            ]
          },
          "metadata": {},
          "execution_count": 59
        }
      ]
    },
    {
      "cell_type": "markdown",
      "source": [
        "# Membuat Model Dengan Algoritma SVM"
      ],
      "metadata": {
        "id": "VTidnUqwCGC5"
      }
    },
    {
      "cell_type": "code",
      "source": [
        "# Data yang mau digunakan\n",
        "X = data_clean[data_clean.columns[:5]]\n",
        "print(X)"
      ],
      "metadata": {
        "colab": {
          "base_uri": "https://localhost:8080/"
        },
        "id": "YBjLI7P0B5id",
        "outputId": "35eb2606-4c89-4d8d-c488-8d2825e7cc19"
      },
      "execution_count": 61,
      "outputs": [
        {
          "output_type": "stream",
          "name": "stdout",
          "text": [
            "     IPS (semester 1)  IPS (semester 2)  IPS (semester 3)  IPS (semester 4)  \\\n",
            "0                4.00              3.74              4.00              3.90   \n",
            "1                4.00              3.74              4.00              3.85   \n",
            "2                3.45              3.61              3.27              3.79   \n",
            "3                4.00              3.61              3.89              3.65   \n",
            "4                4.00              3.74              3.94              3.80   \n",
            "..                ...               ...               ...               ...   \n",
            "272              3.09              3.47              3.63              2.82   \n",
            "273              3.14              3.63              3.84              3.00   \n",
            "274              3.52              4.00              4.00              3.73   \n",
            "275              3.24              3.79              3.58              3.55   \n",
            "276              4.00              4.00              3.84              3.55   \n",
            "\n",
            "     IPS (semester 5)  \n",
            "0                4.00  \n",
            "1                3.95  \n",
            "2                3.64  \n",
            "3                3.80  \n",
            "4                3.77  \n",
            "..                ...  \n",
            "272              3.15  \n",
            "273              3.17  \n",
            "274              3.70  \n",
            "275              3.61  \n",
            "276              3.85  \n",
            "\n",
            "[273 rows x 5 columns]\n"
          ]
        }
      ]
    },
    {
      "cell_type": "code",
      "source": [
        "# Data target\n",
        "y = data_clean['kelulusan']"
      ],
      "metadata": {
        "id": "k1sjRkwjCUUX"
      },
      "execution_count": 62,
      "outputs": []
    },
    {
      "cell_type": "code",
      "source": [
        "# standarisasi nilai-nilai dari dataset\n",
        "scaler = StandardScaler()\n",
        "scaler.fit(X)\n",
        "X = scaler.transform(X)"
      ],
      "metadata": {
        "id": "W3XnN7baCa1R"
      },
      "execution_count": 63,
      "outputs": []
    },
    {
      "cell_type": "code",
      "source": [
        "# Membagi dataset traning 705 dan testing 30%\n",
        "X_train, X_test, y_train, y_test = train_test_split(X, y, test_size=0.3, random_state=42)"
      ],
      "metadata": {
        "id": "1_Urtgd1CdZ9"
      },
      "execution_count": 64,
      "outputs": []
    },
    {
      "cell_type": "code",
      "source": [
        "# Melihat berapa data training\n",
        "data_X_train = len(X_train)\n",
        "data_y_train = len(y_train)\n",
        "print(\"Jumlah Data training dari X_train = \",data_X_train)\n",
        "print(\"Jumlah Data training dari y_train = \",data_y_train)"
      ],
      "metadata": {
        "colab": {
          "base_uri": "https://localhost:8080/"
        },
        "id": "pj_LXRG8CjoA",
        "outputId": "f1ed114d-a1f4-49d1-b804-7787290240ce"
      },
      "execution_count": 67,
      "outputs": [
        {
          "output_type": "stream",
          "name": "stdout",
          "text": [
            "Jumlah Data training dari X_train =  191\n",
            "Jumlah Data training dari y_train =  191\n"
          ]
        }
      ]
    },
    {
      "cell_type": "code",
      "source": [
        "# Melihat berapa data testing\n",
        "data_X_testing = len(X_test)\n",
        "data_y_testing = len(y_test)\n",
        "print(\"Jumlah data testing dari X_testing = \",data_X_testing)\n",
        "print(\"Jumlah data testing dari y_testing = \",data_y_testing)"
      ],
      "metadata": {
        "colab": {
          "base_uri": "https://localhost:8080/"
        },
        "id": "WR_o7t99C5mx",
        "outputId": "e9184b41-7590-4074-a994-03576a398ebb"
      },
      "execution_count": 68,
      "outputs": [
        {
          "output_type": "stream",
          "name": "stdout",
          "text": [
            "Jumlah data testing dari X_testing =  82\n",
            "Jumlah data testing dari y_testing =  82\n"
          ]
        }
      ]
    },
    {
      "cell_type": "code",
      "source": [
        "# membuat objek SVC dan memanggil fungsi fit untuk melatih model\n",
        "svm_model = SVC(kernel='linear')"
      ],
      "metadata": {
        "id": "KRkTe77ODMGQ"
      },
      "execution_count": 69,
      "outputs": []
    },
    {
      "cell_type": "code",
      "source": [
        "svm_model.fit(X_train, y_train)"
      ],
      "metadata": {
        "colab": {
          "base_uri": "https://localhost:8080/",
          "height": 75
        },
        "id": "IlYeiF6BDPRp",
        "outputId": "14a09699-a257-4b3d-90db-257a6bda4ca5"
      },
      "execution_count": 70,
      "outputs": [
        {
          "output_type": "execute_result",
          "data": {
            "text/plain": [
              "SVC(kernel='linear')"
            ],
            "text/html": [
              "<style>#sk-container-id-1 {color: black;background-color: white;}#sk-container-id-1 pre{padding: 0;}#sk-container-id-1 div.sk-toggleable {background-color: white;}#sk-container-id-1 label.sk-toggleable__label {cursor: pointer;display: block;width: 100%;margin-bottom: 0;padding: 0.3em;box-sizing: border-box;text-align: center;}#sk-container-id-1 label.sk-toggleable__label-arrow:before {content: \"▸\";float: left;margin-right: 0.25em;color: #696969;}#sk-container-id-1 label.sk-toggleable__label-arrow:hover:before {color: black;}#sk-container-id-1 div.sk-estimator:hover label.sk-toggleable__label-arrow:before {color: black;}#sk-container-id-1 div.sk-toggleable__content {max-height: 0;max-width: 0;overflow: hidden;text-align: left;background-color: #f0f8ff;}#sk-container-id-1 div.sk-toggleable__content pre {margin: 0.2em;color: black;border-radius: 0.25em;background-color: #f0f8ff;}#sk-container-id-1 input.sk-toggleable__control:checked~div.sk-toggleable__content {max-height: 200px;max-width: 100%;overflow: auto;}#sk-container-id-1 input.sk-toggleable__control:checked~label.sk-toggleable__label-arrow:before {content: \"▾\";}#sk-container-id-1 div.sk-estimator input.sk-toggleable__control:checked~label.sk-toggleable__label {background-color: #d4ebff;}#sk-container-id-1 div.sk-label input.sk-toggleable__control:checked~label.sk-toggleable__label {background-color: #d4ebff;}#sk-container-id-1 input.sk-hidden--visually {border: 0;clip: rect(1px 1px 1px 1px);clip: rect(1px, 1px, 1px, 1px);height: 1px;margin: -1px;overflow: hidden;padding: 0;position: absolute;width: 1px;}#sk-container-id-1 div.sk-estimator {font-family: monospace;background-color: #f0f8ff;border: 1px dotted black;border-radius: 0.25em;box-sizing: border-box;margin-bottom: 0.5em;}#sk-container-id-1 div.sk-estimator:hover {background-color: #d4ebff;}#sk-container-id-1 div.sk-parallel-item::after {content: \"\";width: 100%;border-bottom: 1px solid gray;flex-grow: 1;}#sk-container-id-1 div.sk-label:hover label.sk-toggleable__label {background-color: #d4ebff;}#sk-container-id-1 div.sk-serial::before {content: \"\";position: absolute;border-left: 1px solid gray;box-sizing: border-box;top: 0;bottom: 0;left: 50%;z-index: 0;}#sk-container-id-1 div.sk-serial {display: flex;flex-direction: column;align-items: center;background-color: white;padding-right: 0.2em;padding-left: 0.2em;position: relative;}#sk-container-id-1 div.sk-item {position: relative;z-index: 1;}#sk-container-id-1 div.sk-parallel {display: flex;align-items: stretch;justify-content: center;background-color: white;position: relative;}#sk-container-id-1 div.sk-item::before, #sk-container-id-1 div.sk-parallel-item::before {content: \"\";position: absolute;border-left: 1px solid gray;box-sizing: border-box;top: 0;bottom: 0;left: 50%;z-index: -1;}#sk-container-id-1 div.sk-parallel-item {display: flex;flex-direction: column;z-index: 1;position: relative;background-color: white;}#sk-container-id-1 div.sk-parallel-item:first-child::after {align-self: flex-end;width: 50%;}#sk-container-id-1 div.sk-parallel-item:last-child::after {align-self: flex-start;width: 50%;}#sk-container-id-1 div.sk-parallel-item:only-child::after {width: 0;}#sk-container-id-1 div.sk-dashed-wrapped {border: 1px dashed gray;margin: 0 0.4em 0.5em 0.4em;box-sizing: border-box;padding-bottom: 0.4em;background-color: white;}#sk-container-id-1 div.sk-label label {font-family: monospace;font-weight: bold;display: inline-block;line-height: 1.2em;}#sk-container-id-1 div.sk-label-container {text-align: center;}#sk-container-id-1 div.sk-container {/* jupyter's `normalize.less` sets `[hidden] { display: none; }` but bootstrap.min.css set `[hidden] { display: none !important; }` so we also need the `!important` here to be able to override the default hidden behavior on the sphinx rendered scikit-learn.org. See: https://github.com/scikit-learn/scikit-learn/issues/21755 */display: inline-block !important;position: relative;}#sk-container-id-1 div.sk-text-repr-fallback {display: none;}</style><div id=\"sk-container-id-1\" class=\"sk-top-container\"><div class=\"sk-text-repr-fallback\"><pre>SVC(kernel=&#x27;linear&#x27;)</pre><b>In a Jupyter environment, please rerun this cell to show the HTML representation or trust the notebook. <br />On GitHub, the HTML representation is unable to render, please try loading this page with nbviewer.org.</b></div><div class=\"sk-container\" hidden><div class=\"sk-item\"><div class=\"sk-estimator sk-toggleable\"><input class=\"sk-toggleable__control sk-hidden--visually\" id=\"sk-estimator-id-1\" type=\"checkbox\" checked><label for=\"sk-estimator-id-1\" class=\"sk-toggleable__label sk-toggleable__label-arrow\">SVC</label><div class=\"sk-toggleable__content\"><pre>SVC(kernel=&#x27;linear&#x27;)</pre></div></div></div></div></div>"
            ]
          },
          "metadata": {},
          "execution_count": 70
        }
      ]
    },
    {
      "cell_type": "markdown",
      "source": [
        "# Membuat Model SVM dengan Data Testing"
      ],
      "metadata": {
        "id": "WJABe4lTHVvr"
      }
    },
    {
      "cell_type": "code",
      "source": [
        "# Memprediksi Data Testing\n",
        "svm_testing = svm_model.predict(X_test)\n",
        "svm_accuracy = accuracy_score(y_test, svm_testing)\n",
        "print('Accuracy SVM: %.2f' % (svm_accuracy*100))"
      ],
      "metadata": {
        "colab": {
          "base_uri": "https://localhost:8080/"
        },
        "id": "T0CZu95GDRC6",
        "outputId": "c5b9d0ee-96e7-45a9-8336-4a4ec584f531"
      },
      "execution_count": 74,
      "outputs": [
        {
          "output_type": "stream",
          "name": "stdout",
          "text": [
            "Accuracy SVM: 96.34\n"
          ]
        }
      ]
    },
    {
      "cell_type": "code",
      "source": [
        "print('Accuracy SVM: %.2f' % (svm_accuracy*100))"
      ],
      "metadata": {
        "colab": {
          "base_uri": "https://localhost:8080/"
        },
        "id": "jhaJB2KqDp4R",
        "outputId": "679e62b7-e2c0-4044-f9e0-254797529b86"
      },
      "execution_count": 75,
      "outputs": [
        {
          "output_type": "stream",
          "name": "stdout",
          "text": [
            "Accuracy SVM: 96.34\n"
          ]
        }
      ]
    },
    {
      "cell_type": "code",
      "source": [
        "# Menghitung persentase lulus dan tidak lulus\n",
        "accuracy = accuracy_score(y_test, svm_testing)\n",
        "percentage_lulus = (svm_testing.sum() / len(svm_testing)) * 100\n",
        "percentage_tidak_lulus = 100 - percentage_lulus"
      ],
      "metadata": {
        "id": "Yz_v0aRaEPJi"
      },
      "execution_count": 78,
      "outputs": []
    },
    {
      "cell_type": "code",
      "source": [
        "print(\"Persentase Lulus: {:.2f}%\".format(percentage_lulus))\n",
        "print(\"Persentase Tidak Lulus: {:.2f}%\".format(percentage_tidak_lulus))\n",
        "print(\"Akurasi: {:.2f}%\".format(accuracy * 100))"
      ],
      "metadata": {
        "id": "6KmEejPfEXfS",
        "outputId": "0ce95b01-c43c-49d1-9b46-64595c7df5f4",
        "colab": {
          "base_uri": "https://localhost:8080/"
        }
      },
      "execution_count": 79,
      "outputs": [
        {
          "output_type": "stream",
          "name": "stdout",
          "text": [
            "Persentase Lulus: 91.46%\n",
            "Persentase Tidak Lulus: 8.54%\n",
            "Akurasi: 96.34%\n"
          ]
        }
      ]
    },
    {
      "cell_type": "markdown",
      "source": [
        "## Membuat Confusion Matriks pada data testing dengan algoritma SVM"
      ],
      "metadata": {
        "id": "YSHdLXyxEdMa"
      }
    },
    {
      "cell_type": "code",
      "source": [
        "from sklearn.metrics import confusion_matrix\n",
        "cm = confusion_matrix(y_test, svm_testing)"
      ],
      "metadata": {
        "id": "3ZmNqOfuEa_z"
      },
      "execution_count": 80,
      "outputs": []
    },
    {
      "cell_type": "code",
      "source": [
        "print(cm)"
      ],
      "metadata": {
        "id": "X2up_Lt3Emee",
        "outputId": "54f920d3-bbcb-4f9e-b766-c875960ac8ed",
        "colab": {
          "base_uri": "https://localhost:8080/"
        }
      },
      "execution_count": 81,
      "outputs": [
        {
          "output_type": "stream",
          "name": "stdout",
          "text": [
            "[[ 7  3]\n",
            " [ 0 72]]\n"
          ]
        }
      ]
    },
    {
      "cell_type": "code",
      "source": [
        "labels = ['Tidak Lulus', 'Lulus']\n",
        "fig, ax = plt.subplots()\n",
        "im = ax.imshow(cm, interpolation='nearest', cmap=plt.cm.Blues)\n",
        "ax.figure.colorbar(im, ax=ax)\n",
        "ax.set(xticks=np.arange(cm.shape[0]),\n",
        "       yticks=np.arange(cm.shape[1]),\n",
        "       xticklabels=labels,\n",
        "       yticklabels=labels,\n",
        "       title='Confusion Matrix',\n",
        "       ylabel='True Label',\n",
        "       xlabel='Predicted Label')\n",
        "\n",
        "thresh = cm.max() / 2\n",
        "for i in range(cm.shape[0]):\n",
        "    for j in range(cm.shape[1]):\n",
        "        ax.text(j, i, format(cm[i, j], 'd'),\n",
        "                ha=\"center\", va=\"center\",\n",
        "                color=\"white\" if cm[i, j] > thresh else \"black\")\n",
        "\n",
        "plt.show()"
      ],
      "metadata": {
        "id": "MZFpWi6ZErBK",
        "outputId": "cacc55ea-382d-4f56-da32-8ce2d3d9f537",
        "colab": {
          "base_uri": "https://localhost:8080/",
          "height": 472
        }
      },
      "execution_count": 86,
      "outputs": [
        {
          "output_type": "display_data",
          "data": {
            "text/plain": [
              "<Figure size 640x480 with 2 Axes>"
            ],
            "image/png": "[encoded data removed]"
          },
          "metadata": {}
        }
      ]
    },
    {
      "cell_type": "code",
      "source": [
        "# Menghitung metrics pada data\n",
        "from sklearn.metrics import classification_report\n",
        "report_data_testing = classification_report(y_test,svm_testing)"
      ],
      "metadata": {
        "id": "ewCsPXU9FBcy"
      },
      "execution_count": 92,
      "outputs": []
    },
    {
      "cell_type": "code",
      "source": [
        "print(\"Berikut laporan metrics untuk data testing \\n\",report_data_testing)"
      ],
      "metadata": {
        "id": "Z7V2fOnhFNQR",
        "outputId": "3926d128-5387-4158-f78c-2ccb47c07747",
        "colab": {
          "base_uri": "https://localhost:8080/"
        }
      },
      "execution_count": 94,
      "outputs": [
        {
          "output_type": "stream",
          "name": "stdout",
          "text": [
            "Berikut laporan metrics untuk data testing \n",
            "               precision    recall  f1-score   support\n",
            "\n",
            "           0       1.00      0.70      0.82        10\n",
            "           1       0.96      1.00      0.98        72\n",
            "\n",
            "    accuracy                           0.96        82\n",
            "   macro avg       0.98      0.85      0.90        82\n",
            "weighted avg       0.96      0.96      0.96        82\n",
            "\n"
          ]
        }
      ]
    },
    {
      "cell_type": "markdown",
      "source": [
        "# Membuat model SVM dengan data latih"
      ],
      "metadata": {
        "id": "E_HRtGvaFykD"
      }
    },
    {
      "cell_type": "code",
      "source": [
        "svm_train = svm_model.predict(X_train)\n",
        "svm_accuracy_train = accuracy_score(y_train, svm_train)\n",
        "print('Accuracy SVM: %.2f' % (svm_accuracy_train*100))"
      ],
      "metadata": {
        "id": "kDfJPaNLF3RB",
        "outputId": "c77d48ea-1611-48ea-b69e-607d7fc02fab",
        "colab": {
          "base_uri": "https://localhost:8080/"
        }
      },
      "execution_count": 95,
      "outputs": [
        {
          "output_type": "stream",
          "name": "stdout",
          "text": [
            "Accuracy SVM: 93.19\n"
          ]
        }
      ]
    },
    {
      "cell_type": "code",
      "source": [
        "# Menghitung persentase lulus dan tidak lulus di data latih\n",
        "accuracy_train = accuracy_score(y_train, svm_train)\n",
        "percentage_lulus = (svm_train.sum() / len(svm_train)) * 100\n",
        "percentage_tidak_lulus = 100 - percentage_lulus"
      ],
      "metadata": {
        "id": "ZjhwjAMzGDZy"
      },
      "execution_count": 97,
      "outputs": []
    },
    {
      "cell_type": "code",
      "source": [
        "print(\"Persentase Lulus: {:.2f}%\".format(percentage_lulus))\n",
        "print(\"Persentase Tidak Lulus: {:.2f}%\".format(percentage_tidak_lulus))\n",
        "print(\"Akurasi: {:.2f}%\".format(accuracy_train * 100))"
      ],
      "metadata": {
        "id": "8qzuXcaTGSvS",
        "outputId": "fead61e6-3b0b-40e2-f46f-4115c1e38686",
        "colab": {
          "base_uri": "https://localhost:8080/"
        }
      },
      "execution_count": 98,
      "outputs": [
        {
          "output_type": "stream",
          "name": "stdout",
          "text": [
            "Persentase Lulus: 90.05%\n",
            "Persentase Tidak Lulus: 9.95%\n",
            "Akurasi: 93.19%\n"
          ]
        }
      ]
    },
    {
      "cell_type": "markdown",
      "source": [
        "## Membuat Confusion Matriks Dengan Data Latih Menggunakan Algoritma SVM"
      ],
      "metadata": {
        "id": "gQops56zGYD7"
      }
    },
    {
      "cell_type": "code",
      "source": [
        "from sklearn.metrics import confusion_matrix\n",
        "cm_data_latih = confusion_matrix(y_train, svm_train)\n",
        "print(cm_data_latih)"
      ],
      "metadata": {
        "id": "b75OrYK0Gc37",
        "outputId": "3f0ccb9c-ade1-434b-a388-6916297c1128",
        "colab": {
          "base_uri": "https://localhost:8080/"
        }
      },
      "execution_count": 103,
      "outputs": [
        {
          "output_type": "stream",
          "name": "stdout",
          "text": [
            "[[ 17  11]\n",
            " [  2 161]]\n"
          ]
        }
      ]
    },
    {
      "cell_type": "code",
      "source": [
        "labels = ['Tidak Lulus', 'Lulus']\n",
        "fig, ax = plt.subplots()\n",
        "im = ax.imshow(cm_data_latih, interpolation='nearest', cmap=plt.cm.Blues)\n",
        "ax.figure.colorbar(im, ax=ax)\n",
        "ax.set(xticks=np.arange(cm_data_latih.shape[0]),\n",
        "       yticks=np.arange(cm_data_latih.shape[1]),\n",
        "       xticklabels=labels,\n",
        "       yticklabels=labels,\n",
        "       title='Confusion Matrix Pada Data Latih',\n",
        "       ylabel='True Label',\n",
        "       xlabel='Predicted Label')\n",
        "\n",
        "thresh = cm_data_latih.max() / 2\n",
        "for i in range(cm_data_latih.shape[0]):\n",
        "    for j in range(cm_data_latih.shape[1]):\n",
        "        ax.text(j, i, format(cm_data_latih[i, j], 'd'),\n",
        "                ha=\"center\", va=\"center\",\n",
        "                color=\"white\" if cm_data_latih[i, j] > thresh else \"black\")"
      ],
      "metadata": {
        "id": "loqMLSx1GlGb",
        "outputId": "a6925f0c-5bfa-4541-fb91-6efd84ba9e4d",
        "colab": {
          "base_uri": "https://localhost:8080/",
          "height": 472
        }
      },
      "execution_count": 107,
      "outputs": [
        {
          "output_type": "display_data",
          "data": {
            "text/plain": [
              "<Figure size 640x480 with 2 Axes>"
            ],
            "image/png": "[encoded data removed]"
          },
          "metadata": {}
        }
      ]
    },
    {
      "cell_type": "code",
      "source": [
        "# Menghitung metrics pada data latih\n",
        "from sklearn.metrics import classification_report\n",
        "report_data_latih = classification_report(y_train,svm_train)"
      ],
      "metadata": {
        "id": "KfmDbxuFHg_k"
      },
      "execution_count": 109,
      "outputs": []
    },
    {
      "cell_type": "code",
      "source": [
        "print(\"Berikut laporan metrics untuk data training \\n\",report_data_latih)"
      ],
      "metadata": {
        "id": "t6u6K7ukHm2L",
        "outputId": "6cbb380e-5a32-46fe-b3a3-ad66583a464f",
        "colab": {
          "base_uri": "https://localhost:8080/"
        }
      },
      "execution_count": 111,
      "outputs": [
        {
          "output_type": "stream",
          "name": "stdout",
          "text": [
            "Berikut laporan metrics untuk data training \n",
            "               precision    recall  f1-score   support\n",
            "\n",
            "           0       0.89      0.61      0.72        28\n",
            "           1       0.94      0.99      0.96       163\n",
            "\n",
            "    accuracy                           0.93       191\n",
            "   macro avg       0.92      0.80      0.84       191\n",
            "weighted avg       0.93      0.93      0.93       191\n",
            "\n"
          ]
        }
      ]
    }
  ]
}