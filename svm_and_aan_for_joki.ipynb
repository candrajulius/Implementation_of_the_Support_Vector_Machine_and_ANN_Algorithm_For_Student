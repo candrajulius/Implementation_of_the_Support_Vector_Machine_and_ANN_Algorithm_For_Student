{
  "cells": [
    {
      "cell_type": "markdown",
      "metadata": {
        "id": "view-in-github",
        "colab_type": "text"
      },
      "source": [
        "<a href=\"https://colab.research.google.com/github/candrajulius/Implementation_of_the_Support_Vector_Machine_and_ANN_Algorithm_For_Student/blob/main/svm_and_aan_for_joki.ipynb\" target=\"_parent\"><img src=\"https://colab.research.google.com/assets/colab-badge.svg\" alt=\"Open In Colab\"/></a>"
      ]
    },
    {
      "cell_type": "code",
      "execution_count": null,
      "metadata": {
        "id": "VVSyq7RsiSFh"
      },
      "outputs": [],
      "source": [
        "# Import beberapa library\n",
        "from google.colab import files\n",
        "import pandas as pd\n",
        "import numpy as np\n",
        "from sklearn.model_selection import train_test_split\n",
        "from sklearn.utils import resample\n",
        "from sklearn.preprocessing import StandardScaler, LabelEncoder, OneHotEncoder\n",
        "from sklearn.svm import SVC\n",
        "from sklearn.metrics import accuracy_score\n",
        "from keras.models import Sequential\n",
        "from keras.layers import Dense\n",
        "\n",
        "# Untuk memvisualisasi data\n",
        "import matplotlib.pyplot as plt\n",
        "%matplotlib inline\n",
        "import seaborn as sns"
      ]
    },
    {
      "cell_type": "code",
      "source": [
        "def convert_excel_to_csv(excel_file,csv_file):\n",
        "  # Baca file Excel menggunakan pandas\n",
        "  data_frame = pd.read_excel(excel_file)\n",
        "\n",
        "  # Konversi data frame menjadi file CSV\n",
        "  data_frame.to_csv(csv_file,index=False)\n",
        "excel_file = \"sample_data/Data_Mahasiswa_2019.xlsx\"\n",
        "csv_file = \"sample_data/data_mahasiswa.csv\"\n",
        "convert_excel_to_csv(excel_file,csv_file)"
      ],
      "metadata": {
        "id": "TrUBNYZQjKTn"
      },
      "execution_count": null,
      "outputs": []
    },
    {
      "cell_type": "code",
      "source": [
        "data = pd.read_csv('sample_data/data_mahasiswa.csv')"
      ],
      "metadata": {
        "id": "DoJWJmoNjRM-"
      },
      "execution_count": null,
      "outputs": []
    },
    {
      "cell_type": "code",
      "source": [
        "data.head(10)"
      ],
      "metadata": {
        "colab": {
          "base_uri": "https://localhost:8080/",
          "height": 363
        },
        "id": "QUo3h1qJjUcH",
        "outputId": "6e29256c-2330-4fe8-d71b-f44152c7ffb1"
      },
      "execution_count": null,
      "outputs": [
        {
          "output_type": "execute_result",
          "data": {
            "text/plain": [
              "   No           NIM                 NAMA IPS (semester 1)  IPS (semester 2)  \\\n",
              "0   1  193303030001         Sallyana Yek              4.0              3.74   \n",
              "1   2  193303030002              Anthony              4.0              3.74   \n",
              "2   3  193303030003      William Chandra             3.45              3.61   \n",
              "3   4  193303030004      Valentino Damar              4.0              3.61   \n",
              "4   5  193303030005     Nicholas Livando              4.0              3.74   \n",
              "5   6  193303030006          Alvin Rasid              4.0              3.61   \n",
              "6   7  193303030009  Matthew Evan Phanie              4,0              3.61   \n",
              "7   8  193303030011              Michael             3.75              3.43   \n",
              "8   9  193303030012         Windy Candra              3.5              3.74   \n",
              "9  10  193303030014           Steven Lie             3.69              3.26   \n",
              "\n",
              "  IPS (semester 3)  IPS (semester 4)  IPS (semester 5)  \n",
              "0             3,55              3.90              4.00  \n",
              "1              4,0              3.85              3.95  \n",
              "2             3.27              3.79              3.64  \n",
              "3             3.89              3.65              3.80  \n",
              "4             3.94              3.80              3.77  \n",
              "5              4,0              3.90              4.00  \n",
              "6             3.89              3.90              4.00  \n",
              "7             3.83              3.47              3.91  \n",
              "8              3.9              3.70              4.00  \n",
              "9             3.89              4.00              3.59  "
            ],
            "text/html": [
              "\n",
              "  <div id=\"df-e80750dd-f5cc-407b-8ad5-052ad0cd370a\">\n",
              "    <div class=\"colab-df-container\">\n",
              "      <div>\n",
              "<style scoped>\n",
              "    .dataframe tbody tr th:only-of-type {\n",
              "        vertical-align: middle;\n",
              "    }\n",
              "\n",
              "    .dataframe tbody tr th {\n",
              "        vertical-align: top;\n",
              "    }\n",
              "\n",
              "    .dataframe thead th {\n",
              "        text-align: right;\n",
              "    }\n",
              "</style>\n",
              "<table border=\"1\" class=\"dataframe\">\n",
              "  <thead>\n",
              "    <tr style=\"text-align: right;\">\n",
              "      <th></th>\n",
              "      <th>No</th>\n",
              "      <th>NIM</th>\n",
              "      <th>NAMA</th>\n",
              "      <th>IPS (semester 1)</th>\n",
              "      <th>IPS (semester 2)</th>\n",
              "      <th>IPS (semester 3)</th>\n",
              "      <th>IPS (semester 4)</th>\n",
              "      <th>IPS (semester 5)</th>\n",
              "    </tr>\n",
              "  </thead>\n",
              "  <tbody>\n",
              "    <tr>\n",
              "      <th>0</th>\n",
              "      <td>1</td>\n",
              "      <td>193303030001</td>\n",
              "      <td>Sallyana Yek</td>\n",
              "      <td>4.0</td>\n",
              "      <td>3.74</td>\n",
              "      <td>3,55</td>\n",
              "      <td>3.90</td>\n",
              "      <td>4.00</td>\n",
              "    </tr>\n",
              "    <tr>\n",
              "      <th>1</th>\n",
              "      <td>2</td>\n",
              "      <td>193303030002</td>\n",
              "      <td>Anthony</td>\n",
              "      <td>4.0</td>\n",
              "      <td>3.74</td>\n",
              "      <td>4,0</td>\n",
              "      <td>3.85</td>\n",
              "      <td>3.95</td>\n",
              "    </tr>\n",
              "    <tr>\n",
              "      <th>2</th>\n",
              "      <td>3</td>\n",
              "      <td>193303030003</td>\n",
              "      <td>William Chandra</td>\n",
              "      <td>3.45</td>\n",
              "      <td>3.61</td>\n",
              "      <td>3.27</td>\n",
              "      <td>3.79</td>\n",
              "      <td>3.64</td>\n",
              "    </tr>\n",
              "    <tr>\n",
              "      <th>3</th>\n",
              "      <td>4</td>\n",
              "      <td>193303030004</td>\n",
              "      <td>Valentino Damar</td>\n",
              "      <td>4.0</td>\n",
              "      <td>3.61</td>\n",
              "      <td>3.89</td>\n",
              "      <td>3.65</td>\n",
              "      <td>3.80</td>\n",
              "    </tr>\n",
              "    <tr>\n",
              "      <th>4</th>\n",
              "      <td>5</td>\n",
              "      <td>193303030005</td>\n",
              "      <td>Nicholas Livando</td>\n",
              "      <td>4.0</td>\n",
              "      <td>3.74</td>\n",
              "      <td>3.94</td>\n",
              "      <td>3.80</td>\n",
              "      <td>3.77</td>\n",
              "    </tr>\n",
              "    <tr>\n",
              "      <th>5</th>\n",
              "      <td>6</td>\n",
              "      <td>193303030006</td>\n",
              "      <td>Alvin Rasid</td>\n",
              "      <td>4.0</td>\n",
              "      <td>3.61</td>\n",
              "      <td>4,0</td>\n",
              "      <td>3.90</td>\n",
              "      <td>4.00</td>\n",
              "    </tr>\n",
              "    <tr>\n",
              "      <th>6</th>\n",
              "      <td>7</td>\n",
              "      <td>193303030009</td>\n",
              "      <td>Matthew Evan Phanie</td>\n",
              "      <td>4,0</td>\n",
              "      <td>3.61</td>\n",
              "      <td>3.89</td>\n",
              "      <td>3.90</td>\n",
              "      <td>4.00</td>\n",
              "    </tr>\n",
              "    <tr>\n",
              "      <th>7</th>\n",
              "      <td>8</td>\n",
              "      <td>193303030011</td>\n",
              "      <td>Michael</td>\n",
              "      <td>3.75</td>\n",
              "      <td>3.43</td>\n",
              "      <td>3.83</td>\n",
              "      <td>3.47</td>\n",
              "      <td>3.91</td>\n",
              "    </tr>\n",
              "    <tr>\n",
              "      <th>8</th>\n",
              "      <td>9</td>\n",
              "      <td>193303030012</td>\n",
              "      <td>Windy Candra</td>\n",
              "      <td>3.5</td>\n",
              "      <td>3.74</td>\n",
              "      <td>3.9</td>\n",
              "      <td>3.70</td>\n",
              "      <td>4.00</td>\n",
              "    </tr>\n",
              "    <tr>\n",
              "      <th>9</th>\n",
              "      <td>10</td>\n",
              "      <td>193303030014</td>\n",
              "      <td>Steven Lie</td>\n",
              "      <td>3.69</td>\n",
              "      <td>3.26</td>\n",
              "      <td>3.89</td>\n",
              "      <td>4.00</td>\n",
              "      <td>3.59</td>\n",
              "    </tr>\n",
              "  </tbody>\n",
              "</table>\n",
              "</div>\n",
              "      <button class=\"colab-df-convert\" onclick=\"convertToInteractive('df-e80750dd-f5cc-407b-8ad5-052ad0cd370a')\"\n",
              "              title=\"Convert this dataframe to an interactive table.\"\n",
              "              style=\"display:none;\">\n",
              "        \n",
              "  <svg xmlns=\"http://www.w3.org/2000/svg\" height=\"24px\"viewBox=\"0 0 24 24\"\n",
              "       width=\"24px\">\n",
              "    <path d=\"M0 0h24v24H0V0z\" fill=\"none\"/>\n",
              "    <path d=\"M18.56 5.44l.94 2.06.94-2.06 2.06-.94-2.06-.94-.94-2.06-.94 2.06-2.06.94zm-11 1L8.5 8.5l.94-2.06 2.06-.94-2.06-.94L8.5 2.5l-.94 2.06-2.06.94zm10 10l.94 2.06.94-2.06 2.06-.94-2.06-.94-.94-2.06-.94 2.06-2.06.94z\"/><path d=\"M17.41 7.96l-1.37-1.37c-.4-.4-.92-.59-1.43-.59-.52 0-1.04.2-1.43.59L10.3 9.45l-7.72 7.72c-.78.78-.78 2.05 0 2.83L4 21.41c.39.39.9.59 1.41.59.51 0 1.02-.2 1.41-.59l7.78-7.78 2.81-2.81c.8-.78.8-2.07 0-2.86zM5.41 20L4 18.59l7.72-7.72 1.47 1.35L5.41 20z\"/>\n",
              "  </svg>\n",
              "      </button>\n",
              "      \n",
              "  <style>\n",
              "    .colab-df-container {\n",
              "      display:flex;\n",
              "      flex-wrap:wrap;\n",
              "      gap: 12px;\n",
              "    }\n",
              "\n",
              "    .colab-df-convert {\n",
              "      background-color: #E8F0FE;\n",
              "      border: none;\n",
              "      border-radius: 50%;\n",
              "      cursor: pointer;\n",
              "      display: none;\n",
              "      fill: #1967D2;\n",
              "      height: 32px;\n",
              "      padding: 0 0 0 0;\n",
              "      width: 32px;\n",
              "    }\n",
              "\n",
              "    .colab-df-convert:hover {\n",
              "      background-color: #E2EBFA;\n",
              "      box-shadow: 0px 1px 2px rgba(60, 64, 67, 0.3), 0px 1px 3px 1px rgba(60, 64, 67, 0.15);\n",
              "      fill: #174EA6;\n",
              "    }\n",
              "\n",
              "    [theme=dark] .colab-df-convert {\n",
              "      background-color: #3B4455;\n",
              "      fill: #D2E3FC;\n",
              "    }\n",
              "\n",
              "    [theme=dark] .colab-df-convert:hover {\n",
              "      background-color: #434B5C;\n",
              "      box-shadow: 0px 1px 3px 1px rgba(0, 0, 0, 0.15);\n",
              "      filter: drop-shadow(0px 1px 2px rgba(0, 0, 0, 0.3));\n",
              "      fill: #FFFFFF;\n",
              "    }\n",
              "  </style>\n",
              "\n",
              "      <script>\n",
              "        const buttonEl =\n",
              "          document.querySelector('#df-e80750dd-f5cc-407b-8ad5-052ad0cd370a button.colab-df-convert');\n",
              "        buttonEl.style.display =\n",
              "          google.colab.kernel.accessAllowed ? 'block' : 'none';\n",
              "\n",
              "        async function convertToInteractive(key) {\n",
              "          const element = document.querySelector('#df-e80750dd-f5cc-407b-8ad5-052ad0cd370a');\n",
              "          const dataTable =\n",
              "            await google.colab.kernel.invokeFunction('convertToInteractive',\n",
              "                                                     [key], {});\n",
              "          if (!dataTable) return;\n",
              "\n",
              "          const docLinkHtml = 'Like what you see? Visit the ' +\n",
              "            '<a target=\"_blank\" href=https://colab.research.google.com/notebooks/data_table.ipynb>data table notebook</a>'\n",
              "            + ' to learn more about interactive tables.';\n",
              "          element.innerHTML = '';\n",
              "          dataTable['output_type'] = 'display_data';\n",
              "          await google.colab.output.renderOutput(dataTable, element);\n",
              "          const docLink = document.createElement('div');\n",
              "          docLink.innerHTML = docLinkHtml;\n",
              "          element.appendChild(docLink);\n",
              "        }\n",
              "      </script>\n",
              "    </div>\n",
              "  </div>\n",
              "  "
            ]
          },
          "metadata": {},
          "execution_count": 5
        }
      ]
    },
    {
      "cell_type": "code",
      "source": [
        "data.info()"
      ],
      "metadata": {
        "colab": {
          "base_uri": "https://localhost:8080/"
        },
        "id": "KNrRQwI_jWDJ",
        "outputId": "7279de68-5e61-4b55-c3c4-b23d5eee020e"
      },
      "execution_count": null,
      "outputs": [
        {
          "output_type": "stream",
          "name": "stdout",
          "text": [
            "<class 'pandas.core.frame.DataFrame'>\n",
            "RangeIndex: 88 entries, 0 to 87\n",
            "Data columns (total 8 columns):\n",
            " #   Column            Non-Null Count  Dtype  \n",
            "---  ------            --------------  -----  \n",
            " 0   No                88 non-null     int64  \n",
            " 1   NIM               88 non-null     int64  \n",
            " 2   NAMA              88 non-null     object \n",
            " 3   IPS (semester 1)  88 non-null     object \n",
            " 4   IPS (semester 2)  87 non-null     float64\n",
            " 5   IPS (semester 3)  88 non-null     object \n",
            " 6   IPS (semester 4)  88 non-null     float64\n",
            " 7   IPS (semester 5)  88 non-null     float64\n",
            "dtypes: float64(3), int64(2), object(3)\n",
            "memory usage: 5.6+ KB\n"
          ]
        }
      ]
    },
    {
      "cell_type": "code",
      "source": [
        "data.drop('No',axis=1,inplace=True)\n",
        "data.drop('NAMA',axis=1,inplace=True)\n",
        "data.drop('NIM',axis=1,inplace=True)"
      ],
      "metadata": {
        "id": "lcj_8lMJjZ33"
      },
      "execution_count": null,
      "outputs": []
    },
    {
      "cell_type": "code",
      "source": [
        "data.head(10)"
      ],
      "metadata": {
        "colab": {
          "base_uri": "https://localhost:8080/",
          "height": 363
        },
        "id": "ono4sd9qjfz_",
        "outputId": "b0b9741a-7e57-4ad4-899c-699c3abfc114"
      },
      "execution_count": null,
      "outputs": [
        {
          "output_type": "execute_result",
          "data": {
            "text/plain": [
              "  IPS (semester 1)  IPS (semester 2) IPS (semester 3)  IPS (semester 4)  \\\n",
              "0              4.0              3.74             3,55              3.90   \n",
              "1              4.0              3.74              4,0              3.85   \n",
              "2             3.45              3.61             3.27              3.79   \n",
              "3              4.0              3.61             3.89              3.65   \n",
              "4              4.0              3.74             3.94              3.80   \n",
              "5              4.0              3.61              4,0              3.90   \n",
              "6              4,0              3.61             3.89              3.90   \n",
              "7             3.75              3.43             3.83              3.47   \n",
              "8              3.5              3.74              3.9              3.70   \n",
              "9             3.69              3.26             3.89              4.00   \n",
              "\n",
              "   IPS (semester 5)  \n",
              "0              4.00  \n",
              "1              3.95  \n",
              "2              3.64  \n",
              "3              3.80  \n",
              "4              3.77  \n",
              "5              4.00  \n",
              "6              4.00  \n",
              "7              3.91  \n",
              "8              4.00  \n",
              "9              3.59  "
            ],
            "text/html": [
              "\n",
              "  <div id=\"df-5d0e7183-e874-49e2-8f65-60acacb701b8\">\n",
              "    <div class=\"colab-df-container\">\n",
              "      <div>\n",
              "<style scoped>\n",
              "    .dataframe tbody tr th:only-of-type {\n",
              "        vertical-align: middle;\n",
              "    }\n",
              "\n",
              "    .dataframe tbody tr th {\n",
              "        vertical-align: top;\n",
              "    }\n",
              "\n",
              "    .dataframe thead th {\n",
              "        text-align: right;\n",
              "    }\n",
              "</style>\n",
              "<table border=\"1\" class=\"dataframe\">\n",
              "  <thead>\n",
              "    <tr style=\"text-align: right;\">\n",
              "      <th></th>\n",
              "      <th>IPS (semester 1)</th>\n",
              "      <th>IPS (semester 2)</th>\n",
              "      <th>IPS (semester 3)</th>\n",
              "      <th>IPS (semester 4)</th>\n",
              "      <th>IPS (semester 5)</th>\n",
              "    </tr>\n",
              "  </thead>\n",
              "  <tbody>\n",
              "    <tr>\n",
              "      <th>0</th>\n",
              "      <td>4.0</td>\n",
              "      <td>3.74</td>\n",
              "      <td>3,55</td>\n",
              "      <td>3.90</td>\n",
              "      <td>4.00</td>\n",
              "    </tr>\n",
              "    <tr>\n",
              "      <th>1</th>\n",
              "      <td>4.0</td>\n",
              "      <td>3.74</td>\n",
              "      <td>4,0</td>\n",
              "      <td>3.85</td>\n",
              "      <td>3.95</td>\n",
              "    </tr>\n",
              "    <tr>\n",
              "      <th>2</th>\n",
              "      <td>3.45</td>\n",
              "      <td>3.61</td>\n",
              "      <td>3.27</td>\n",
              "      <td>3.79</td>\n",
              "      <td>3.64</td>\n",
              "    </tr>\n",
              "    <tr>\n",
              "      <th>3</th>\n",
              "      <td>4.0</td>\n",
              "      <td>3.61</td>\n",
              "      <td>3.89</td>\n",
              "      <td>3.65</td>\n",
              "      <td>3.80</td>\n",
              "    </tr>\n",
              "    <tr>\n",
              "      <th>4</th>\n",
              "      <td>4.0</td>\n",
              "      <td>3.74</td>\n",
              "      <td>3.94</td>\n",
              "      <td>3.80</td>\n",
              "      <td>3.77</td>\n",
              "    </tr>\n",
              "    <tr>\n",
              "      <th>5</th>\n",
              "      <td>4.0</td>\n",
              "      <td>3.61</td>\n",
              "      <td>4,0</td>\n",
              "      <td>3.90</td>\n",
              "      <td>4.00</td>\n",
              "    </tr>\n",
              "    <tr>\n",
              "      <th>6</th>\n",
              "      <td>4,0</td>\n",
              "      <td>3.61</td>\n",
              "      <td>3.89</td>\n",
              "      <td>3.90</td>\n",
              "      <td>4.00</td>\n",
              "    </tr>\n",
              "    <tr>\n",
              "      <th>7</th>\n",
              "      <td>3.75</td>\n",
              "      <td>3.43</td>\n",
              "      <td>3.83</td>\n",
              "      <td>3.47</td>\n",
              "      <td>3.91</td>\n",
              "    </tr>\n",
              "    <tr>\n",
              "      <th>8</th>\n",
              "      <td>3.5</td>\n",
              "      <td>3.74</td>\n",
              "      <td>3.9</td>\n",
              "      <td>3.70</td>\n",
              "      <td>4.00</td>\n",
              "    </tr>\n",
              "    <tr>\n",
              "      <th>9</th>\n",
              "      <td>3.69</td>\n",
              "      <td>3.26</td>\n",
              "      <td>3.89</td>\n",
              "      <td>4.00</td>\n",
              "      <td>3.59</td>\n",
              "    </tr>\n",
              "  </tbody>\n",
              "</table>\n",
              "</div>\n",
              "      <button class=\"colab-df-convert\" onclick=\"convertToInteractive('df-5d0e7183-e874-49e2-8f65-60acacb701b8')\"\n",
              "              title=\"Convert this dataframe to an interactive table.\"\n",
              "              style=\"display:none;\">\n",
              "        \n",
              "  <svg xmlns=\"http://www.w3.org/2000/svg\" height=\"24px\"viewBox=\"0 0 24 24\"\n",
              "       width=\"24px\">\n",
              "    <path d=\"M0 0h24v24H0V0z\" fill=\"none\"/>\n",
              "    <path d=\"M18.56 5.44l.94 2.06.94-2.06 2.06-.94-2.06-.94-.94-2.06-.94 2.06-2.06.94zm-11 1L8.5 8.5l.94-2.06 2.06-.94-2.06-.94L8.5 2.5l-.94 2.06-2.06.94zm10 10l.94 2.06.94-2.06 2.06-.94-2.06-.94-.94-2.06-.94 2.06-2.06.94z\"/><path d=\"M17.41 7.96l-1.37-1.37c-.4-.4-.92-.59-1.43-.59-.52 0-1.04.2-1.43.59L10.3 9.45l-7.72 7.72c-.78.78-.78 2.05 0 2.83L4 21.41c.39.39.9.59 1.41.59.51 0 1.02-.2 1.41-.59l7.78-7.78 2.81-2.81c.8-.78.8-2.07 0-2.86zM5.41 20L4 18.59l7.72-7.72 1.47 1.35L5.41 20z\"/>\n",
              "  </svg>\n",
              "      </button>\n",
              "      \n",
              "  <style>\n",
              "    .colab-df-container {\n",
              "      display:flex;\n",
              "      flex-wrap:wrap;\n",
              "      gap: 12px;\n",
              "    }\n",
              "\n",
              "    .colab-df-convert {\n",
              "      background-color: #E8F0FE;\n",
              "      border: none;\n",
              "      border-radius: 50%;\n",
              "      cursor: pointer;\n",
              "      display: none;\n",
              "      fill: #1967D2;\n",
              "      height: 32px;\n",
              "      padding: 0 0 0 0;\n",
              "      width: 32px;\n",
              "    }\n",
              "\n",
              "    .colab-df-convert:hover {\n",
              "      background-color: #E2EBFA;\n",
              "      box-shadow: 0px 1px 2px rgba(60, 64, 67, 0.3), 0px 1px 3px 1px rgba(60, 64, 67, 0.15);\n",
              "      fill: #174EA6;\n",
              "    }\n",
              "\n",
              "    [theme=dark] .colab-df-convert {\n",
              "      background-color: #3B4455;\n",
              "      fill: #D2E3FC;\n",
              "    }\n",
              "\n",
              "    [theme=dark] .colab-df-convert:hover {\n",
              "      background-color: #434B5C;\n",
              "      box-shadow: 0px 1px 3px 1px rgba(0, 0, 0, 0.15);\n",
              "      filter: drop-shadow(0px 1px 2px rgba(0, 0, 0, 0.3));\n",
              "      fill: #FFFFFF;\n",
              "    }\n",
              "  </style>\n",
              "\n",
              "      <script>\n",
              "        const buttonEl =\n",
              "          document.querySelector('#df-5d0e7183-e874-49e2-8f65-60acacb701b8 button.colab-df-convert');\n",
              "        buttonEl.style.display =\n",
              "          google.colab.kernel.accessAllowed ? 'block' : 'none';\n",
              "\n",
              "        async function convertToInteractive(key) {\n",
              "          const element = document.querySelector('#df-5d0e7183-e874-49e2-8f65-60acacb701b8');\n",
              "          const dataTable =\n",
              "            await google.colab.kernel.invokeFunction('convertToInteractive',\n",
              "                                                     [key], {});\n",
              "          if (!dataTable) return;\n",
              "\n",
              "          const docLinkHtml = 'Like what you see? Visit the ' +\n",
              "            '<a target=\"_blank\" href=https://colab.research.google.com/notebooks/data_table.ipynb>data table notebook</a>'\n",
              "            + ' to learn more about interactive tables.';\n",
              "          element.innerHTML = '';\n",
              "          dataTable['output_type'] = 'display_data';\n",
              "          await google.colab.output.renderOutput(dataTable, element);\n",
              "          const docLink = document.createElement('div');\n",
              "          docLink.innerHTML = docLinkHtml;\n",
              "          element.appendChild(docLink);\n",
              "        }\n",
              "      </script>\n",
              "    </div>\n",
              "  </div>\n",
              "  "
            ]
          },
          "metadata": {},
          "execution_count": 8
        }
      ]
    },
    {
      "cell_type": "code",
      "source": [
        "# Mengecek apakah ada data yang null atau tidak\n",
        "data.isnull().sum()"
      ],
      "metadata": {
        "colab": {
          "base_uri": "https://localhost:8080/"
        },
        "id": "ortc_CcTjicA",
        "outputId": "b3ccadb3-34e8-4385-9491-98dd6a4b1d44"
      },
      "execution_count": null,
      "outputs": [
        {
          "output_type": "execute_result",
          "data": {
            "text/plain": [
              "IPS (semester 1)    0\n",
              "IPS (semester 2)    1\n",
              "IPS (semester 3)    0\n",
              "IPS (semester 4)    0\n",
              "IPS (semester 5)    0\n",
              "dtype: int64"
            ]
          },
          "metadata": {},
          "execution_count": 9
        }
      ]
    },
    {
      "cell_type": "code",
      "source": [
        "# Membersihakan data yang null\n",
        "data_clean = data.dropna()"
      ],
      "metadata": {
        "id": "uUo1e-nMjpXX"
      },
      "execution_count": null,
      "outputs": []
    },
    {
      "cell_type": "code",
      "source": [
        "data_clean.isnull().sum()"
      ],
      "metadata": {
        "colab": {
          "base_uri": "https://localhost:8080/"
        },
        "id": "td7BL4bjj1RZ",
        "outputId": "9febf1a6-492c-4c6f-b4e7-b3fd73e63c30"
      },
      "execution_count": null,
      "outputs": [
        {
          "output_type": "execute_result",
          "data": {
            "text/plain": [
              "IPS (semester 1)    0\n",
              "IPS (semester 2)    0\n",
              "IPS (semester 3)    0\n",
              "IPS (semester 4)    0\n",
              "IPS (semester 5)    0\n",
              "dtype: int64"
            ]
          },
          "metadata": {},
          "execution_count": 12
        }
      ]
    },
    {
      "cell_type": "code",
      "source": [
        "data_clean.info()"
      ],
      "metadata": {
        "colab": {
          "base_uri": "https://localhost:8080/"
        },
        "id": "TU21l8Vxj4yO",
        "outputId": "a4dff6d7-89f5-4a0a-9cf9-53071fd47d77"
      },
      "execution_count": null,
      "outputs": [
        {
          "output_type": "stream",
          "name": "stdout",
          "text": [
            "<class 'pandas.core.frame.DataFrame'>\n",
            "Int64Index: 87 entries, 0 to 87\n",
            "Data columns (total 5 columns):\n",
            " #   Column            Non-Null Count  Dtype  \n",
            "---  ------            --------------  -----  \n",
            " 0   IPS (semester 1)  87 non-null     object \n",
            " 1   IPS (semester 2)  87 non-null     float64\n",
            " 2   IPS (semester 3)  87 non-null     object \n",
            " 3   IPS (semester 4)  87 non-null     float64\n",
            " 4   IPS (semester 5)  87 non-null     float64\n",
            "dtypes: float64(3), object(2)\n",
            "memory usage: 4.1+ KB\n"
          ]
        }
      ]
    },
    {
      "cell_type": "code",
      "source": [
        "# Mengecek apakah ada data yang duplicated\n",
        "data_clean.duplicated()"
      ],
      "metadata": {
        "colab": {
          "base_uri": "https://localhost:8080/"
        },
        "id": "Iu35vVW8j9tw",
        "outputId": "35987401-adb7-48d8-bb3e-a389fe973901"
      },
      "execution_count": null,
      "outputs": [
        {
          "output_type": "execute_result",
          "data": {
            "text/plain": [
              "0     False\n",
              "1     False\n",
              "2     False\n",
              "3     False\n",
              "4     False\n",
              "      ...  \n",
              "83    False\n",
              "84    False\n",
              "85    False\n",
              "86    False\n",
              "87    False\n",
              "Length: 87, dtype: bool"
            ]
          },
          "metadata": {},
          "execution_count": 14
        }
      ]
    },
    {
      "cell_type": "code",
      "source": [
        "data_clean = pd.DataFrame(data_clean)"
      ],
      "metadata": {
        "id": "puAEhxs8kEn-"
      },
      "execution_count": null,
      "outputs": []
    },
    {
      "cell_type": "code",
      "source": [
        "# Mengkonversi data string ke float\n",
        "data_clean['IPS (semester 1)'] = pd.to_numeric(data_clean['IPS (semester 1)'],errors='coerce')\n",
        "data_clean['IPS (semester 3)'] = pd.to_numeric(data_clean['IPS (semester 3)'], errors='coerce')"
      ],
      "metadata": {
        "id": "B8uJi3ddkMI3"
      },
      "execution_count": null,
      "outputs": []
    },
    {
      "cell_type": "code",
      "source": [
        "data_clean.isnull().sum()"
      ],
      "metadata": {
        "colab": {
          "base_uri": "https://localhost:8080/"
        },
        "id": "wS23LkXAkouQ",
        "outputId": "4551e35f-7f64-46c4-a3e9-80644aa7cd29"
      },
      "execution_count": null,
      "outputs": [
        {
          "output_type": "execute_result",
          "data": {
            "text/plain": [
              "IPS (semester 1)     1\n",
              "IPS (semester 2)     0\n",
              "IPS (semester 3)    18\n",
              "IPS (semester 4)     0\n",
              "IPS (semester 5)     0\n",
              "dtype: int64"
            ]
          },
          "metadata": {},
          "execution_count": 18
        }
      ]
    },
    {
      "cell_type": "code",
      "source": [
        "data_clean.head"
      ],
      "metadata": {
        "colab": {
          "base_uri": "https://localhost:8080/"
        },
        "id": "E0KRpbiNkuJg",
        "outputId": "b60db3fc-5a8b-4c1b-94d2-4307c697601d"
      },
      "execution_count": null,
      "outputs": [
        {
          "output_type": "execute_result",
          "data": {
            "text/plain": [
              "<bound method NDFrame.head of     IPS (semester 1)  IPS (semester 2)  IPS (semester 3)  IPS (semester 4)  \\\n",
              "0               4.00              3.74               NaN              3.90   \n",
              "1               4.00              3.74               NaN              3.85   \n",
              "2               3.45              3.61              3.27              3.79   \n",
              "3               4.00              3.61              3.89              3.65   \n",
              "4               4.00              3.74              3.94              3.80   \n",
              "..               ...               ...               ...               ...   \n",
              "83              3.18              3.54              3.81              3.74   \n",
              "84              3.73              3.67              3.14              3.35   \n",
              "85              3.60              3.67              3.47              3.78   \n",
              "86              3.00              3.75              2.90              3.26   \n",
              "87              2.91              4.00              3.21              3.87   \n",
              "\n",
              "    IPS (semester 5)  \n",
              "0               4.00  \n",
              "1               3.95  \n",
              "2               3.64  \n",
              "3               3.80  \n",
              "4               3.77  \n",
              "..               ...  \n",
              "83              3.53  \n",
              "84              3.80  \n",
              "85              3.95  \n",
              "86              3.50  \n",
              "87              3.75  \n",
              "\n",
              "[87 rows x 5 columns]>"
            ]
          },
          "metadata": {},
          "execution_count": 22
        }
      ]
    },
    {
      "cell_type": "code",
      "source": [
        "data_clean['IPS (semester 1)'].fillna(4.0,inplace=True)\n",
        "data_clean['IPS (semester 3)'].fillna(4.0,inplace=True)"
      ],
      "metadata": {
        "id": "cK4BuVmul3wY"
      },
      "execution_count": null,
      "outputs": []
    },
    {
      "cell_type": "code",
      "source": [
        "data_clean.info()"
      ],
      "metadata": {
        "colab": {
          "base_uri": "https://localhost:8080/"
        },
        "id": "_ucX87JAmUim",
        "outputId": "237ec589-efe2-4a90-c9b7-84ddc5d0bebb"
      },
      "execution_count": null,
      "outputs": [
        {
          "output_type": "stream",
          "name": "stdout",
          "text": [
            "<class 'pandas.core.frame.DataFrame'>\n",
            "Int64Index: 87 entries, 0 to 87\n",
            "Data columns (total 5 columns):\n",
            " #   Column            Non-Null Count  Dtype  \n",
            "---  ------            --------------  -----  \n",
            " 0   IPS (semester 1)  87 non-null     float64\n",
            " 1   IPS (semester 2)  87 non-null     float64\n",
            " 2   IPS (semester 3)  87 non-null     float64\n",
            " 3   IPS (semester 4)  87 non-null     float64\n",
            " 4   IPS (semester 5)  87 non-null     float64\n",
            "dtypes: float64(5)\n",
            "memory usage: 4.1 KB\n"
          ]
        }
      ]
    },
    {
      "cell_type": "code",
      "source": [
        "data_clean['kelulusan'] = 0.0"
      ],
      "metadata": {
        "id": "oK56QCmum2wY"
      },
      "execution_count": null,
      "outputs": []
    },
    {
      "cell_type": "code",
      "source": [
        "data_clean.info()"
      ],
      "metadata": {
        "colab": {
          "base_uri": "https://localhost:8080/"
        },
        "id": "aZlseST_nJce",
        "outputId": "03493d59-d071-407d-f09a-69670d7b0932"
      },
      "execution_count": null,
      "outputs": [
        {
          "output_type": "stream",
          "name": "stdout",
          "text": [
            "<class 'pandas.core.frame.DataFrame'>\n",
            "Int64Index: 87 entries, 0 to 87\n",
            "Data columns (total 6 columns):\n",
            " #   Column            Non-Null Count  Dtype  \n",
            "---  ------            --------------  -----  \n",
            " 0   IPS (semester 1)  87 non-null     float64\n",
            " 1   IPS (semester 2)  87 non-null     float64\n",
            " 2   IPS (semester 3)  87 non-null     float64\n",
            " 3   IPS (semester 4)  87 non-null     float64\n",
            " 4   IPS (semester 5)  87 non-null     float64\n",
            " 5   kelulusan         87 non-null     float64\n",
            "dtypes: float64(6)\n",
            "memory usage: 6.8 KB\n"
          ]
        }
      ]
    },
    {
      "cell_type": "code",
      "source": [
        "data_clean.head(10)\n",
        "data_clean['hasil'] = 'Belum tersedia'"
      ],
      "metadata": {
        "id": "WiK3X65f3ZrV"
      },
      "execution_count": null,
      "outputs": []
    },
    {
      "cell_type": "code",
      "source": [
        "data_clean.head(10)"
      ],
      "metadata": {
        "colab": {
          "base_uri": "https://localhost:8080/",
          "height": 363
        },
        "id": "0t_bvRg9397S",
        "outputId": "37090da4-503b-4f19-a630-216b74486a2f"
      },
      "execution_count": null,
      "outputs": [
        {
          "output_type": "execute_result",
          "data": {
            "text/plain": [
              "   IPS (semester 1)  IPS (semester 2)  IPS (semester 3)  IPS (semester 4)  \\\n",
              "0              4.00              3.74              4.00              3.90   \n",
              "1              4.00              3.74              4.00              3.85   \n",
              "2              3.45              3.61              3.27              3.79   \n",
              "3              4.00              3.61              3.89              3.65   \n",
              "4              4.00              3.74              3.94              3.80   \n",
              "5              4.00              3.61              4.00              3.90   \n",
              "6              4.00              3.61              3.89              3.90   \n",
              "7              3.75              3.43              3.83              3.47   \n",
              "8              3.50              3.74              3.90              3.70   \n",
              "9              3.69              3.26              3.89              4.00   \n",
              "\n",
              "   IPS (semester 5)           hasil  \n",
              "0              4.00  Belum tersedia  \n",
              "1              3.95  Belum tersedia  \n",
              "2              3.64  Belum tersedia  \n",
              "3              3.80  Belum tersedia  \n",
              "4              3.77  Belum tersedia  \n",
              "5              4.00  Belum tersedia  \n",
              "6              4.00  Belum tersedia  \n",
              "7              3.91  Belum tersedia  \n",
              "8              4.00  Belum tersedia  \n",
              "9              3.59  Belum tersedia  "
            ],
            "text/html": [
              "\n",
              "  <div id=\"df-6c4d6266-40b7-4d9a-be4f-e657ed667a71\">\n",
              "    <div class=\"colab-df-container\">\n",
              "      <div>\n",
              "<style scoped>\n",
              "    .dataframe tbody tr th:only-of-type {\n",
              "        vertical-align: middle;\n",
              "    }\n",
              "\n",
              "    .dataframe tbody tr th {\n",
              "        vertical-align: top;\n",
              "    }\n",
              "\n",
              "    .dataframe thead th {\n",
              "        text-align: right;\n",
              "    }\n",
              "</style>\n",
              "<table border=\"1\" class=\"dataframe\">\n",
              "  <thead>\n",
              "    <tr style=\"text-align: right;\">\n",
              "      <th></th>\n",
              "      <th>IPS (semester 1)</th>\n",
              "      <th>IPS (semester 2)</th>\n",
              "      <th>IPS (semester 3)</th>\n",
              "      <th>IPS (semester 4)</th>\n",
              "      <th>IPS (semester 5)</th>\n",
              "      <th>hasil</th>\n",
              "    </tr>\n",
              "  </thead>\n",
              "  <tbody>\n",
              "    <tr>\n",
              "      <th>0</th>\n",
              "      <td>4.00</td>\n",
              "      <td>3.74</td>\n",
              "      <td>4.00</td>\n",
              "      <td>3.90</td>\n",
              "      <td>4.00</td>\n",
              "      <td>Belum tersedia</td>\n",
              "    </tr>\n",
              "    <tr>\n",
              "      <th>1</th>\n",
              "      <td>4.00</td>\n",
              "      <td>3.74</td>\n",
              "      <td>4.00</td>\n",
              "      <td>3.85</td>\n",
              "      <td>3.95</td>\n",
              "      <td>Belum tersedia</td>\n",
              "    </tr>\n",
              "    <tr>\n",
              "      <th>2</th>\n",
              "      <td>3.45</td>\n",
              "      <td>3.61</td>\n",
              "      <td>3.27</td>\n",
              "      <td>3.79</td>\n",
              "      <td>3.64</td>\n",
              "      <td>Belum tersedia</td>\n",
              "    </tr>\n",
              "    <tr>\n",
              "      <th>3</th>\n",
              "      <td>4.00</td>\n",
              "      <td>3.61</td>\n",
              "      <td>3.89</td>\n",
              "      <td>3.65</td>\n",
              "      <td>3.80</td>\n",
              "      <td>Belum tersedia</td>\n",
              "    </tr>\n",
              "    <tr>\n",
              "      <th>4</th>\n",
              "      <td>4.00</td>\n",
              "      <td>3.74</td>\n",
              "      <td>3.94</td>\n",
              "      <td>3.80</td>\n",
              "      <td>3.77</td>\n",
              "      <td>Belum tersedia</td>\n",
              "    </tr>\n",
              "    <tr>\n",
              "      <th>5</th>\n",
              "      <td>4.00</td>\n",
              "      <td>3.61</td>\n",
              "      <td>4.00</td>\n",
              "      <td>3.90</td>\n",
              "      <td>4.00</td>\n",
              "      <td>Belum tersedia</td>\n",
              "    </tr>\n",
              "    <tr>\n",
              "      <th>6</th>\n",
              "      <td>4.00</td>\n",
              "      <td>3.61</td>\n",
              "      <td>3.89</td>\n",
              "      <td>3.90</td>\n",
              "      <td>4.00</td>\n",
              "      <td>Belum tersedia</td>\n",
              "    </tr>\n",
              "    <tr>\n",
              "      <th>7</th>\n",
              "      <td>3.75</td>\n",
              "      <td>3.43</td>\n",
              "      <td>3.83</td>\n",
              "      <td>3.47</td>\n",
              "      <td>3.91</td>\n",
              "      <td>Belum tersedia</td>\n",
              "    </tr>\n",
              "    <tr>\n",
              "      <th>8</th>\n",
              "      <td>3.50</td>\n",
              "      <td>3.74</td>\n",
              "      <td>3.90</td>\n",
              "      <td>3.70</td>\n",
              "      <td>4.00</td>\n",
              "      <td>Belum tersedia</td>\n",
              "    </tr>\n",
              "    <tr>\n",
              "      <th>9</th>\n",
              "      <td>3.69</td>\n",
              "      <td>3.26</td>\n",
              "      <td>3.89</td>\n",
              "      <td>4.00</td>\n",
              "      <td>3.59</td>\n",
              "      <td>Belum tersedia</td>\n",
              "    </tr>\n",
              "  </tbody>\n",
              "</table>\n",
              "</div>\n",
              "      <button class=\"colab-df-convert\" onclick=\"convertToInteractive('df-6c4d6266-40b7-4d9a-be4f-e657ed667a71')\"\n",
              "              title=\"Convert this dataframe to an interactive table.\"\n",
              "              style=\"display:none;\">\n",
              "        \n",
              "  <svg xmlns=\"http://www.w3.org/2000/svg\" height=\"24px\"viewBox=\"0 0 24 24\"\n",
              "       width=\"24px\">\n",
              "    <path d=\"M0 0h24v24H0V0z\" fill=\"none\"/>\n",
              "    <path d=\"M18.56 5.44l.94 2.06.94-2.06 2.06-.94-2.06-.94-.94-2.06-.94 2.06-2.06.94zm-11 1L8.5 8.5l.94-2.06 2.06-.94-2.06-.94L8.5 2.5l-.94 2.06-2.06.94zm10 10l.94 2.06.94-2.06 2.06-.94-2.06-.94-.94-2.06-.94 2.06-2.06.94z\"/><path d=\"M17.41 7.96l-1.37-1.37c-.4-.4-.92-.59-1.43-.59-.52 0-1.04.2-1.43.59L10.3 9.45l-7.72 7.72c-.78.78-.78 2.05 0 2.83L4 21.41c.39.39.9.59 1.41.59.51 0 1.02-.2 1.41-.59l7.78-7.78 2.81-2.81c.8-.78.8-2.07 0-2.86zM5.41 20L4 18.59l7.72-7.72 1.47 1.35L5.41 20z\"/>\n",
              "  </svg>\n",
              "      </button>\n",
              "      \n",
              "  <style>\n",
              "    .colab-df-container {\n",
              "      display:flex;\n",
              "      flex-wrap:wrap;\n",
              "      gap: 12px;\n",
              "    }\n",
              "\n",
              "    .colab-df-convert {\n",
              "      background-color: #E8F0FE;\n",
              "      border: none;\n",
              "      border-radius: 50%;\n",
              "      cursor: pointer;\n",
              "      display: none;\n",
              "      fill: #1967D2;\n",
              "      height: 32px;\n",
              "      padding: 0 0 0 0;\n",
              "      width: 32px;\n",
              "    }\n",
              "\n",
              "    .colab-df-convert:hover {\n",
              "      background-color: #E2EBFA;\n",
              "      box-shadow: 0px 1px 2px rgba(60, 64, 67, 0.3), 0px 1px 3px 1px rgba(60, 64, 67, 0.15);\n",
              "      fill: #174EA6;\n",
              "    }\n",
              "\n",
              "    [theme=dark] .colab-df-convert {\n",
              "      background-color: #3B4455;\n",
              "      fill: #D2E3FC;\n",
              "    }\n",
              "\n",
              "    [theme=dark] .colab-df-convert:hover {\n",
              "      background-color: #434B5C;\n",
              "      box-shadow: 0px 1px 3px 1px rgba(0, 0, 0, 0.15);\n",
              "      filter: drop-shadow(0px 1px 2px rgba(0, 0, 0, 0.3));\n",
              "      fill: #FFFFFF;\n",
              "    }\n",
              "  </style>\n",
              "\n",
              "      <script>\n",
              "        const buttonEl =\n",
              "          document.querySelector('#df-6c4d6266-40b7-4d9a-be4f-e657ed667a71 button.colab-df-convert');\n",
              "        buttonEl.style.display =\n",
              "          google.colab.kernel.accessAllowed ? 'block' : 'none';\n",
              "\n",
              "        async function convertToInteractive(key) {\n",
              "          const element = document.querySelector('#df-6c4d6266-40b7-4d9a-be4f-e657ed667a71');\n",
              "          const dataTable =\n",
              "            await google.colab.kernel.invokeFunction('convertToInteractive',\n",
              "                                                     [key], {});\n",
              "          if (!dataTable) return;\n",
              "\n",
              "          const docLinkHtml = 'Like what you see? Visit the ' +\n",
              "            '<a target=\"_blank\" href=https://colab.research.google.com/notebooks/data_table.ipynb>data table notebook</a>'\n",
              "            + ' to learn more about interactive tables.';\n",
              "          element.innerHTML = '';\n",
              "          dataTable['output_type'] = 'display_data';\n",
              "          await google.colab.output.renderOutput(dataTable, element);\n",
              "          const docLink = document.createElement('div');\n",
              "          docLink.innerHTML = docLinkHtml;\n",
              "          element.appendChild(docLink);\n",
              "        }\n",
              "      </script>\n",
              "    </div>\n",
              "  </div>\n",
              "  "
            ]
          },
          "metadata": {},
          "execution_count": 70
        }
      ]
    },
    {
      "cell_type": "code",
      "source": [
        "df = pd.DataFrame(data_clean)"
      ],
      "metadata": {
        "id": "DKOCszh64nxB"
      },
      "execution_count": null,
      "outputs": []
    },
    {
      "cell_type": "code",
      "source": [
        "def calculate_row(row):\n",
        "    return row['IPS (semester 1)'] + row['IPS (semester 2)'] + row['IPS (semester 3)'] + row['IPS (semester 4)'] + row['IPS (semester 5)']"
      ],
      "metadata": {
        "id": "aJfYBAdl6FLY"
      },
      "execution_count": null,
      "outputs": []
    },
    {
      "cell_type": "code",
      "source": [
        "df['hasil'] = df.apply(calculate_row, axis=1)"
      ],
      "metadata": {
        "id": "8wAWe-o-6T4Z"
      },
      "execution_count": null,
      "outputs": []
    },
    {
      "cell_type": "code",
      "source": [
        "df.info()"
      ],
      "metadata": {
        "colab": {
          "base_uri": "https://localhost:8080/"
        },
        "id": "dyPBirxk8eQo",
        "outputId": "a317062c-6483-484b-cfda-fe3d4d4763a8"
      },
      "execution_count": null,
      "outputs": [
        {
          "output_type": "stream",
          "name": "stdout",
          "text": [
            "<class 'pandas.core.frame.DataFrame'>\n",
            "Int64Index: 87 entries, 0 to 87\n",
            "Data columns (total 7 columns):\n",
            " #   Column            Non-Null Count  Dtype  \n",
            "---  ------            --------------  -----  \n",
            " 0   IPS (semester 1)  87 non-null     float64\n",
            " 1   IPS (semester 2)  87 non-null     float64\n",
            " 2   IPS (semester 3)  87 non-null     float64\n",
            " 3   IPS (semester 4)  87 non-null     float64\n",
            " 4   IPS (semester 5)  87 non-null     float64\n",
            " 5   hasil             87 non-null     float64\n",
            " 6   kelulusan         87 non-null     object \n",
            "dtypes: float64(6), object(1)\n",
            "memory usage: 7.5+ KB\n"
          ]
        }
      ]
    },
    {
      "cell_type": "code",
      "source": [
        "# Membuat fungsi lulus dan tidak lulus\n",
        "def graduation(nilai):\n",
        "  if nilai >= 19.00:\n",
        "    return 'Lulus'\n",
        "  else:\n",
        "    return 'Tidak Lulus'"
      ],
      "metadata": {
        "id": "k-WekHwC8Mtq"
      },
      "execution_count": null,
      "outputs": []
    },
    {
      "cell_type": "code",
      "source": [
        "#  Menerapkan fungsi pada kolom 'hasil' untuk membuat kolom 'kelulusan'\n",
        "df['kelulusan'] = df['hasil'].apply(graduation)"
      ],
      "metadata": {
        "id": "V2tb6EBe8wL4"
      },
      "execution_count": null,
      "outputs": []
    },
    {
      "cell_type": "code",
      "source": [
        "df.head(10)"
      ],
      "metadata": {
        "colab": {
          "base_uri": "https://localhost:8080/",
          "height": 363
        },
        "id": "5dr-ZeXwCrZC",
        "outputId": "2ee292ef-5e09-43d9-b9d5-24c706b712f4"
      },
      "execution_count": null,
      "outputs": [
        {
          "output_type": "execute_result",
          "data": {
            "text/plain": [
              "   IPS (semester 1)  IPS (semester 2)  IPS (semester 3)  IPS (semester 4)  \\\n",
              "0              4.00              3.74              4.00              3.90   \n",
              "1              4.00              3.74              4.00              3.85   \n",
              "2              3.45              3.61              3.27              3.79   \n",
              "3              4.00              3.61              3.89              3.65   \n",
              "4              4.00              3.74              3.94              3.80   \n",
              "5              4.00              3.61              4.00              3.90   \n",
              "6              4.00              3.61              3.89              3.90   \n",
              "7              3.75              3.43              3.83              3.47   \n",
              "8              3.50              3.74              3.90              3.70   \n",
              "9              3.69              3.26              3.89              4.00   \n",
              "\n",
              "   IPS (semester 5)  hasil    kelulusan  \n",
              "0              4.00  19.64        Lulus  \n",
              "1              3.95  19.54        Lulus  \n",
              "2              3.64  17.76  Tidak Lulus  \n",
              "3              3.80  18.95  Tidak Lulus  \n",
              "4              3.77  19.25        Lulus  \n",
              "5              4.00  19.51        Lulus  \n",
              "6              4.00  19.40        Lulus  \n",
              "7              3.91  18.39  Tidak Lulus  \n",
              "8              4.00  18.84  Tidak Lulus  \n",
              "9              3.59  18.43  Tidak Lulus  "
            ],
            "text/html": [
              "\n",
              "  <div id=\"df-de01c152-1736-499e-adfe-1aaef25d5c7b\">\n",
              "    <div class=\"colab-df-container\">\n",
              "      <div>\n",
              "<style scoped>\n",
              "    .dataframe tbody tr th:only-of-type {\n",
              "        vertical-align: middle;\n",
              "    }\n",
              "\n",
              "    .dataframe tbody tr th {\n",
              "        vertical-align: top;\n",
              "    }\n",
              "\n",
              "    .dataframe thead th {\n",
              "        text-align: right;\n",
              "    }\n",
              "</style>\n",
              "<table border=\"1\" class=\"dataframe\">\n",
              "  <thead>\n",
              "    <tr style=\"text-align: right;\">\n",
              "      <th></th>\n",
              "      <th>IPS (semester 1)</th>\n",
              "      <th>IPS (semester 2)</th>\n",
              "      <th>IPS (semester 3)</th>\n",
              "      <th>IPS (semester 4)</th>\n",
              "      <th>IPS (semester 5)</th>\n",
              "      <th>hasil</th>\n",
              "      <th>kelulusan</th>\n",
              "    </tr>\n",
              "  </thead>\n",
              "  <tbody>\n",
              "    <tr>\n",
              "      <th>0</th>\n",
              "      <td>4.00</td>\n",
              "      <td>3.74</td>\n",
              "      <td>4.00</td>\n",
              "      <td>3.90</td>\n",
              "      <td>4.00</td>\n",
              "      <td>19.64</td>\n",
              "      <td>Lulus</td>\n",
              "    </tr>\n",
              "    <tr>\n",
              "      <th>1</th>\n",
              "      <td>4.00</td>\n",
              "      <td>3.74</td>\n",
              "      <td>4.00</td>\n",
              "      <td>3.85</td>\n",
              "      <td>3.95</td>\n",
              "      <td>19.54</td>\n",
              "      <td>Lulus</td>\n",
              "    </tr>\n",
              "    <tr>\n",
              "      <th>2</th>\n",
              "      <td>3.45</td>\n",
              "      <td>3.61</td>\n",
              "      <td>3.27</td>\n",
              "      <td>3.79</td>\n",
              "      <td>3.64</td>\n",
              "      <td>17.76</td>\n",
              "      <td>Tidak Lulus</td>\n",
              "    </tr>\n",
              "    <tr>\n",
              "      <th>3</th>\n",
              "      <td>4.00</td>\n",
              "      <td>3.61</td>\n",
              "      <td>3.89</td>\n",
              "      <td>3.65</td>\n",
              "      <td>3.80</td>\n",
              "      <td>18.95</td>\n",
              "      <td>Tidak Lulus</td>\n",
              "    </tr>\n",
              "    <tr>\n",
              "      <th>4</th>\n",
              "      <td>4.00</td>\n",
              "      <td>3.74</td>\n",
              "      <td>3.94</td>\n",
              "      <td>3.80</td>\n",
              "      <td>3.77</td>\n",
              "      <td>19.25</td>\n",
              "      <td>Lulus</td>\n",
              "    </tr>\n",
              "    <tr>\n",
              "      <th>5</th>\n",
              "      <td>4.00</td>\n",
              "      <td>3.61</td>\n",
              "      <td>4.00</td>\n",
              "      <td>3.90</td>\n",
              "      <td>4.00</td>\n",
              "      <td>19.51</td>\n",
              "      <td>Lulus</td>\n",
              "    </tr>\n",
              "    <tr>\n",
              "      <th>6</th>\n",
              "      <td>4.00</td>\n",
              "      <td>3.61</td>\n",
              "      <td>3.89</td>\n",
              "      <td>3.90</td>\n",
              "      <td>4.00</td>\n",
              "      <td>19.40</td>\n",
              "      <td>Lulus</td>\n",
              "    </tr>\n",
              "    <tr>\n",
              "      <th>7</th>\n",
              "      <td>3.75</td>\n",
              "      <td>3.43</td>\n",
              "      <td>3.83</td>\n",
              "      <td>3.47</td>\n",
              "      <td>3.91</td>\n",
              "      <td>18.39</td>\n",
              "      <td>Tidak Lulus</td>\n",
              "    </tr>\n",
              "    <tr>\n",
              "      <th>8</th>\n",
              "      <td>3.50</td>\n",
              "      <td>3.74</td>\n",
              "      <td>3.90</td>\n",
              "      <td>3.70</td>\n",
              "      <td>4.00</td>\n",
              "      <td>18.84</td>\n",
              "      <td>Tidak Lulus</td>\n",
              "    </tr>\n",
              "    <tr>\n",
              "      <th>9</th>\n",
              "      <td>3.69</td>\n",
              "      <td>3.26</td>\n",
              "      <td>3.89</td>\n",
              "      <td>4.00</td>\n",
              "      <td>3.59</td>\n",
              "      <td>18.43</td>\n",
              "      <td>Tidak Lulus</td>\n",
              "    </tr>\n",
              "  </tbody>\n",
              "</table>\n",
              "</div>\n",
              "      <button class=\"colab-df-convert\" onclick=\"convertToInteractive('df-de01c152-1736-499e-adfe-1aaef25d5c7b')\"\n",
              "              title=\"Convert this dataframe to an interactive table.\"\n",
              "              style=\"display:none;\">\n",
              "        \n",
              "  <svg xmlns=\"http://www.w3.org/2000/svg\" height=\"24px\"viewBox=\"0 0 24 24\"\n",
              "       width=\"24px\">\n",
              "    <path d=\"M0 0h24v24H0V0z\" fill=\"none\"/>\n",
              "    <path d=\"M18.56 5.44l.94 2.06.94-2.06 2.06-.94-2.06-.94-.94-2.06-.94 2.06-2.06.94zm-11 1L8.5 8.5l.94-2.06 2.06-.94-2.06-.94L8.5 2.5l-.94 2.06-2.06.94zm10 10l.94 2.06.94-2.06 2.06-.94-2.06-.94-.94-2.06-.94 2.06-2.06.94z\"/><path d=\"M17.41 7.96l-1.37-1.37c-.4-.4-.92-.59-1.43-.59-.52 0-1.04.2-1.43.59L10.3 9.45l-7.72 7.72c-.78.78-.78 2.05 0 2.83L4 21.41c.39.39.9.59 1.41.59.51 0 1.02-.2 1.41-.59l7.78-7.78 2.81-2.81c.8-.78.8-2.07 0-2.86zM5.41 20L4 18.59l7.72-7.72 1.47 1.35L5.41 20z\"/>\n",
              "  </svg>\n",
              "      </button>\n",
              "      \n",
              "  <style>\n",
              "    .colab-df-container {\n",
              "      display:flex;\n",
              "      flex-wrap:wrap;\n",
              "      gap: 12px;\n",
              "    }\n",
              "\n",
              "    .colab-df-convert {\n",
              "      background-color: #E8F0FE;\n",
              "      border: none;\n",
              "      border-radius: 50%;\n",
              "      cursor: pointer;\n",
              "      display: none;\n",
              "      fill: #1967D2;\n",
              "      height: 32px;\n",
              "      padding: 0 0 0 0;\n",
              "      width: 32px;\n",
              "    }\n",
              "\n",
              "    .colab-df-convert:hover {\n",
              "      background-color: #E2EBFA;\n",
              "      box-shadow: 0px 1px 2px rgba(60, 64, 67, 0.3), 0px 1px 3px 1px rgba(60, 64, 67, 0.15);\n",
              "      fill: #174EA6;\n",
              "    }\n",
              "\n",
              "    [theme=dark] .colab-df-convert {\n",
              "      background-color: #3B4455;\n",
              "      fill: #D2E3FC;\n",
              "    }\n",
              "\n",
              "    [theme=dark] .colab-df-convert:hover {\n",
              "      background-color: #434B5C;\n",
              "      box-shadow: 0px 1px 3px 1px rgba(0, 0, 0, 0.15);\n",
              "      filter: drop-shadow(0px 1px 2px rgba(0, 0, 0, 0.3));\n",
              "      fill: #FFFFFF;\n",
              "    }\n",
              "  </style>\n",
              "\n",
              "      <script>\n",
              "        const buttonEl =\n",
              "          document.querySelector('#df-de01c152-1736-499e-adfe-1aaef25d5c7b button.colab-df-convert');\n",
              "        buttonEl.style.display =\n",
              "          google.colab.kernel.accessAllowed ? 'block' : 'none';\n",
              "\n",
              "        async function convertToInteractive(key) {\n",
              "          const element = document.querySelector('#df-de01c152-1736-499e-adfe-1aaef25d5c7b');\n",
              "          const dataTable =\n",
              "            await google.colab.kernel.invokeFunction('convertToInteractive',\n",
              "                                                     [key], {});\n",
              "          if (!dataTable) return;\n",
              "\n",
              "          const docLinkHtml = 'Like what you see? Visit the ' +\n",
              "            '<a target=\"_blank\" href=https://colab.research.google.com/notebooks/data_table.ipynb>data table notebook</a>'\n",
              "            + ' to learn more about interactive tables.';\n",
              "          element.innerHTML = '';\n",
              "          dataTable['output_type'] = 'display_data';\n",
              "          await google.colab.output.renderOutput(dataTable, element);\n",
              "          const docLink = document.createElement('div');\n",
              "          docLink.innerHTML = docLinkHtml;\n",
              "          element.appendChild(docLink);\n",
              "        }\n",
              "      </script>\n",
              "    </div>\n",
              "  </div>\n",
              "  "
            ]
          },
          "metadata": {},
          "execution_count": 165
        }
      ]
    },
    {
      "cell_type": "code",
      "source": [
        "# Mengubah data \"Lulus\" menjadi 1 dan \"Tidak Lulus\" menjadi 0\n",
        "df['kelulusan'] = df['kelulusan'].map({'Lulus': 1, 'Tidak Lulus': 0})"
      ],
      "metadata": {
        "id": "mOJGE2xuDArC"
      },
      "execution_count": null,
      "outputs": []
    },
    {
      "cell_type": "code",
      "source": [
        "df.head(10)"
      ],
      "metadata": {
        "colab": {
          "base_uri": "https://localhost:8080/",
          "height": 363
        },
        "id": "o4ke9fHCDJgW",
        "outputId": "c2ee99da-e372-4091-a52b-451f121baab8"
      },
      "execution_count": null,
      "outputs": [
        {
          "output_type": "execute_result",
          "data": {
            "text/plain": [
              "   IPS (semester 1)  IPS (semester 2)  IPS (semester 3)  IPS (semester 4)  \\\n",
              "0              4.00              3.74              4.00              3.90   \n",
              "1              4.00              3.74              4.00              3.85   \n",
              "2              3.45              3.61              3.27              3.79   \n",
              "3              4.00              3.61              3.89              3.65   \n",
              "4              4.00              3.74              3.94              3.80   \n",
              "5              4.00              3.61              4.00              3.90   \n",
              "6              4.00              3.61              3.89              3.90   \n",
              "7              3.75              3.43              3.83              3.47   \n",
              "8              3.50              3.74              3.90              3.70   \n",
              "9              3.69              3.26              3.89              4.00   \n",
              "\n",
              "   IPS (semester 5)  hasil  kelulusan  \n",
              "0              4.00  19.64          1  \n",
              "1              3.95  19.54          1  \n",
              "2              3.64  17.76          0  \n",
              "3              3.80  18.95          0  \n",
              "4              3.77  19.25          1  \n",
              "5              4.00  19.51          1  \n",
              "6              4.00  19.40          1  \n",
              "7              3.91  18.39          0  \n",
              "8              4.00  18.84          0  \n",
              "9              3.59  18.43          0  "
            ],
            "text/html": [
              "\n",
              "  <div id=\"df-f3eba33b-a75d-4b75-811d-49fab909e57b\">\n",
              "    <div class=\"colab-df-container\">\n",
              "      <div>\n",
              "<style scoped>\n",
              "    .dataframe tbody tr th:only-of-type {\n",
              "        vertical-align: middle;\n",
              "    }\n",
              "\n",
              "    .dataframe tbody tr th {\n",
              "        vertical-align: top;\n",
              "    }\n",
              "\n",
              "    .dataframe thead th {\n",
              "        text-align: right;\n",
              "    }\n",
              "</style>\n",
              "<table border=\"1\" class=\"dataframe\">\n",
              "  <thead>\n",
              "    <tr style=\"text-align: right;\">\n",
              "      <th></th>\n",
              "      <th>IPS (semester 1)</th>\n",
              "      <th>IPS (semester 2)</th>\n",
              "      <th>IPS (semester 3)</th>\n",
              "      <th>IPS (semester 4)</th>\n",
              "      <th>IPS (semester 5)</th>\n",
              "      <th>hasil</th>\n",
              "      <th>kelulusan</th>\n",
              "    </tr>\n",
              "  </thead>\n",
              "  <tbody>\n",
              "    <tr>\n",
              "      <th>0</th>\n",
              "      <td>4.00</td>\n",
              "      <td>3.74</td>\n",
              "      <td>4.00</td>\n",
              "      <td>3.90</td>\n",
              "      <td>4.00</td>\n",
              "      <td>19.64</td>\n",
              "      <td>1</td>\n",
              "    </tr>\n",
              "    <tr>\n",
              "      <th>1</th>\n",
              "      <td>4.00</td>\n",
              "      <td>3.74</td>\n",
              "      <td>4.00</td>\n",
              "      <td>3.85</td>\n",
              "      <td>3.95</td>\n",
              "      <td>19.54</td>\n",
              "      <td>1</td>\n",
              "    </tr>\n",
              "    <tr>\n",
              "      <th>2</th>\n",
              "      <td>3.45</td>\n",
              "      <td>3.61</td>\n",
              "      <td>3.27</td>\n",
              "      <td>3.79</td>\n",
              "      <td>3.64</td>\n",
              "      <td>17.76</td>\n",
              "      <td>0</td>\n",
              "    </tr>\n",
              "    <tr>\n",
              "      <th>3</th>\n",
              "      <td>4.00</td>\n",
              "      <td>3.61</td>\n",
              "      <td>3.89</td>\n",
              "      <td>3.65</td>\n",
              "      <td>3.80</td>\n",
              "      <td>18.95</td>\n",
              "      <td>0</td>\n",
              "    </tr>\n",
              "    <tr>\n",
              "      <th>4</th>\n",
              "      <td>4.00</td>\n",
              "      <td>3.74</td>\n",
              "      <td>3.94</td>\n",
              "      <td>3.80</td>\n",
              "      <td>3.77</td>\n",
              "      <td>19.25</td>\n",
              "      <td>1</td>\n",
              "    </tr>\n",
              "    <tr>\n",
              "      <th>5</th>\n",
              "      <td>4.00</td>\n",
              "      <td>3.61</td>\n",
              "      <td>4.00</td>\n",
              "      <td>3.90</td>\n",
              "      <td>4.00</td>\n",
              "      <td>19.51</td>\n",
              "      <td>1</td>\n",
              "    </tr>\n",
              "    <tr>\n",
              "      <th>6</th>\n",
              "      <td>4.00</td>\n",
              "      <td>3.61</td>\n",
              "      <td>3.89</td>\n",
              "      <td>3.90</td>\n",
              "      <td>4.00</td>\n",
              "      <td>19.40</td>\n",
              "      <td>1</td>\n",
              "    </tr>\n",
              "    <tr>\n",
              "      <th>7</th>\n",
              "      <td>3.75</td>\n",
              "      <td>3.43</td>\n",
              "      <td>3.83</td>\n",
              "      <td>3.47</td>\n",
              "      <td>3.91</td>\n",
              "      <td>18.39</td>\n",
              "      <td>0</td>\n",
              "    </tr>\n",
              "    <tr>\n",
              "      <th>8</th>\n",
              "      <td>3.50</td>\n",
              "      <td>3.74</td>\n",
              "      <td>3.90</td>\n",
              "      <td>3.70</td>\n",
              "      <td>4.00</td>\n",
              "      <td>18.84</td>\n",
              "      <td>0</td>\n",
              "    </tr>\n",
              "    <tr>\n",
              "      <th>9</th>\n",
              "      <td>3.69</td>\n",
              "      <td>3.26</td>\n",
              "      <td>3.89</td>\n",
              "      <td>4.00</td>\n",
              "      <td>3.59</td>\n",
              "      <td>18.43</td>\n",
              "      <td>0</td>\n",
              "    </tr>\n",
              "  </tbody>\n",
              "</table>\n",
              "</div>\n",
              "      <button class=\"colab-df-convert\" onclick=\"convertToInteractive('df-f3eba33b-a75d-4b75-811d-49fab909e57b')\"\n",
              "              title=\"Convert this dataframe to an interactive table.\"\n",
              "              style=\"display:none;\">\n",
              "        \n",
              "  <svg xmlns=\"http://www.w3.org/2000/svg\" height=\"24px\"viewBox=\"0 0 24 24\"\n",
              "       width=\"24px\">\n",
              "    <path d=\"M0 0h24v24H0V0z\" fill=\"none\"/>\n",
              "    <path d=\"M18.56 5.44l.94 2.06.94-2.06 2.06-.94-2.06-.94-.94-2.06-.94 2.06-2.06.94zm-11 1L8.5 8.5l.94-2.06 2.06-.94-2.06-.94L8.5 2.5l-.94 2.06-2.06.94zm10 10l.94 2.06.94-2.06 2.06-.94-2.06-.94-.94-2.06-.94 2.06-2.06.94z\"/><path d=\"M17.41 7.96l-1.37-1.37c-.4-.4-.92-.59-1.43-.59-.52 0-1.04.2-1.43.59L10.3 9.45l-7.72 7.72c-.78.78-.78 2.05 0 2.83L4 21.41c.39.39.9.59 1.41.59.51 0 1.02-.2 1.41-.59l7.78-7.78 2.81-2.81c.8-.78.8-2.07 0-2.86zM5.41 20L4 18.59l7.72-7.72 1.47 1.35L5.41 20z\"/>\n",
              "  </svg>\n",
              "      </button>\n",
              "      \n",
              "  <style>\n",
              "    .colab-df-container {\n",
              "      display:flex;\n",
              "      flex-wrap:wrap;\n",
              "      gap: 12px;\n",
              "    }\n",
              "\n",
              "    .colab-df-convert {\n",
              "      background-color: #E8F0FE;\n",
              "      border: none;\n",
              "      border-radius: 50%;\n",
              "      cursor: pointer;\n",
              "      display: none;\n",
              "      fill: #1967D2;\n",
              "      height: 32px;\n",
              "      padding: 0 0 0 0;\n",
              "      width: 32px;\n",
              "    }\n",
              "\n",
              "    .colab-df-convert:hover {\n",
              "      background-color: #E2EBFA;\n",
              "      box-shadow: 0px 1px 2px rgba(60, 64, 67, 0.3), 0px 1px 3px 1px rgba(60, 64, 67, 0.15);\n",
              "      fill: #174EA6;\n",
              "    }\n",
              "\n",
              "    [theme=dark] .colab-df-convert {\n",
              "      background-color: #3B4455;\n",
              "      fill: #D2E3FC;\n",
              "    }\n",
              "\n",
              "    [theme=dark] .colab-df-convert:hover {\n",
              "      background-color: #434B5C;\n",
              "      box-shadow: 0px 1px 3px 1px rgba(0, 0, 0, 0.15);\n",
              "      filter: drop-shadow(0px 1px 2px rgba(0, 0, 0, 0.3));\n",
              "      fill: #FFFFFF;\n",
              "    }\n",
              "  </style>\n",
              "\n",
              "      <script>\n",
              "        const buttonEl =\n",
              "          document.querySelector('#df-f3eba33b-a75d-4b75-811d-49fab909e57b button.colab-df-convert');\n",
              "        buttonEl.style.display =\n",
              "          google.colab.kernel.accessAllowed ? 'block' : 'none';\n",
              "\n",
              "        async function convertToInteractive(key) {\n",
              "          const element = document.querySelector('#df-f3eba33b-a75d-4b75-811d-49fab909e57b');\n",
              "          const dataTable =\n",
              "            await google.colab.kernel.invokeFunction('convertToInteractive',\n",
              "                                                     [key], {});\n",
              "          if (!dataTable) return;\n",
              "\n",
              "          const docLinkHtml = 'Like what you see? Visit the ' +\n",
              "            '<a target=\"_blank\" href=https://colab.research.google.com/notebooks/data_table.ipynb>data table notebook</a>'\n",
              "            + ' to learn more about interactive tables.';\n",
              "          element.innerHTML = '';\n",
              "          dataTable['output_type'] = 'display_data';\n",
              "          await google.colab.output.renderOutput(dataTable, element);\n",
              "          const docLink = document.createElement('div');\n",
              "          docLink.innerHTML = docLinkHtml;\n",
              "          element.appendChild(docLink);\n",
              "        }\n",
              "      </script>\n",
              "    </div>\n",
              "  </div>\n",
              "  "
            ]
          },
          "metadata": {},
          "execution_count": 167
        }
      ]
    },
    {
      "cell_type": "markdown",
      "source": [
        "# Membuat Model Dengan Algoritma SVM"
      ],
      "metadata": {
        "id": "Bua3vSChDtN0"
      }
    },
    {
      "cell_type": "code",
      "source": [
        "df.info()"
      ],
      "metadata": {
        "colab": {
          "base_uri": "https://localhost:8080/"
        },
        "id": "rQMCWp3RDOIe",
        "outputId": "211408ec-0f66-4c38-9f30-901ed4021297"
      },
      "execution_count": null,
      "outputs": [
        {
          "output_type": "stream",
          "name": "stdout",
          "text": [
            "<class 'pandas.core.frame.DataFrame'>\n",
            "Int64Index: 87 entries, 0 to 87\n",
            "Data columns (total 7 columns):\n",
            " #   Column            Non-Null Count  Dtype  \n",
            "---  ------            --------------  -----  \n",
            " 0   IPS (semester 1)  87 non-null     float64\n",
            " 1   IPS (semester 2)  87 non-null     float64\n",
            " 2   IPS (semester 3)  87 non-null     float64\n",
            " 3   IPS (semester 4)  87 non-null     float64\n",
            " 4   IPS (semester 5)  87 non-null     float64\n",
            " 5   hasil             87 non-null     float64\n",
            " 6   kelulusan         87 non-null     int64  \n",
            "dtypes: float64(6), int64(1)\n",
            "memory usage: 7.5 KB\n"
          ]
        }
      ]
    },
    {
      "cell_type": "code",
      "source": [
        "X = df[df.columns[:6]]"
      ],
      "metadata": {
        "id": "eYrBWbSGDyAX"
      },
      "execution_count": null,
      "outputs": []
    },
    {
      "cell_type": "code",
      "source": [
        "# memisahkan label pada dataset dan menyimpannya pada sebuah variabel\n",
        "y = df['kelulusan']"
      ],
      "metadata": {
        "id": "4t9W8gBLDrhB"
      },
      "execution_count": null,
      "outputs": []
    },
    {
      "cell_type": "code",
      "source": [
        " # standarisasi nilai-nilai dari dataset\n",
        "scaler = StandardScaler()\n",
        "scaler.fit(X)\n",
        "X = scaler.transform(X)"
      ],
      "metadata": {
        "id": "6gxtupqFED0R"
      },
      "execution_count": null,
      "outputs": []
    },
    {
      "cell_type": "code",
      "source": [
        "X_train, X_test, y_train, y_test = train_test_split(X, y, test_size=0.2, random_state=42)"
      ],
      "metadata": {
        "id": "ckvW1ZxDELl_"
      },
      "execution_count": null,
      "outputs": []
    },
    {
      "cell_type": "code",
      "source": [
        "# membuat objek SVC dan memanggil fungsi fit untuk melatih model\n",
        "svm_model = SVC(kernel='linear')"
      ],
      "metadata": {
        "id": "oXNAa4naEP0n"
      },
      "execution_count": null,
      "outputs": []
    },
    {
      "cell_type": "code",
      "source": [
        "svm_model.fit(X_train, y_train)"
      ],
      "metadata": {
        "colab": {
          "base_uri": "https://localhost:8080/",
          "height": 75
        },
        "id": "gjCk8DNAHIub",
        "outputId": "7c2daa48-8f56-4ab2-d080-c8c3b6cbcdbf"
      },
      "execution_count": null,
      "outputs": [
        {
          "output_type": "execute_result",
          "data": {
            "text/plain": [
              "SVC(kernel='linear')"
            ],
            "text/html": [
              "<style>#sk-container-id-4 {color: black;background-color: white;}#sk-container-id-4 pre{padding: 0;}#sk-container-id-4 div.sk-toggleable {background-color: white;}#sk-container-id-4 label.sk-toggleable__label {cursor: pointer;display: block;width: 100%;margin-bottom: 0;padding: 0.3em;box-sizing: border-box;text-align: center;}#sk-container-id-4 label.sk-toggleable__label-arrow:before {content: \"▸\";float: left;margin-right: 0.25em;color: #696969;}#sk-container-id-4 label.sk-toggleable__label-arrow:hover:before {color: black;}#sk-container-id-4 div.sk-estimator:hover label.sk-toggleable__label-arrow:before {color: black;}#sk-container-id-4 div.sk-toggleable__content {max-height: 0;max-width: 0;overflow: hidden;text-align: left;background-color: #f0f8ff;}#sk-container-id-4 div.sk-toggleable__content pre {margin: 0.2em;color: black;border-radius: 0.25em;background-color: #f0f8ff;}#sk-container-id-4 input.sk-toggleable__control:checked~div.sk-toggleable__content {max-height: 200px;max-width: 100%;overflow: auto;}#sk-container-id-4 input.sk-toggleable__control:checked~label.sk-toggleable__label-arrow:before {content: \"▾\";}#sk-container-id-4 div.sk-estimator input.sk-toggleable__control:checked~label.sk-toggleable__label {background-color: #d4ebff;}#sk-container-id-4 div.sk-label input.sk-toggleable__control:checked~label.sk-toggleable__label {background-color: #d4ebff;}#sk-container-id-4 input.sk-hidden--visually {border: 0;clip: rect(1px 1px 1px 1px);clip: rect(1px, 1px, 1px, 1px);height: 1px;margin: -1px;overflow: hidden;padding: 0;position: absolute;width: 1px;}#sk-container-id-4 div.sk-estimator {font-family: monospace;background-color: #f0f8ff;border: 1px dotted black;border-radius: 0.25em;box-sizing: border-box;margin-bottom: 0.5em;}#sk-container-id-4 div.sk-estimator:hover {background-color: #d4ebff;}#sk-container-id-4 div.sk-parallel-item::after {content: \"\";width: 100%;border-bottom: 1px solid gray;flex-grow: 1;}#sk-container-id-4 div.sk-label:hover label.sk-toggleable__label {background-color: #d4ebff;}#sk-container-id-4 div.sk-serial::before {content: \"\";position: absolute;border-left: 1px solid gray;box-sizing: border-box;top: 0;bottom: 0;left: 50%;z-index: 0;}#sk-container-id-4 div.sk-serial {display: flex;flex-direction: column;align-items: center;background-color: white;padding-right: 0.2em;padding-left: 0.2em;position: relative;}#sk-container-id-4 div.sk-item {position: relative;z-index: 1;}#sk-container-id-4 div.sk-parallel {display: flex;align-items: stretch;justify-content: center;background-color: white;position: relative;}#sk-container-id-4 div.sk-item::before, #sk-container-id-4 div.sk-parallel-item::before {content: \"\";position: absolute;border-left: 1px solid gray;box-sizing: border-box;top: 0;bottom: 0;left: 50%;z-index: -1;}#sk-container-id-4 div.sk-parallel-item {display: flex;flex-direction: column;z-index: 1;position: relative;background-color: white;}#sk-container-id-4 div.sk-parallel-item:first-child::after {align-self: flex-end;width: 50%;}#sk-container-id-4 div.sk-parallel-item:last-child::after {align-self: flex-start;width: 50%;}#sk-container-id-4 div.sk-parallel-item:only-child::after {width: 0;}#sk-container-id-4 div.sk-dashed-wrapped {border: 1px dashed gray;margin: 0 0.4em 0.5em 0.4em;box-sizing: border-box;padding-bottom: 0.4em;background-color: white;}#sk-container-id-4 div.sk-label label {font-family: monospace;font-weight: bold;display: inline-block;line-height: 1.2em;}#sk-container-id-4 div.sk-label-container {text-align: center;}#sk-container-id-4 div.sk-container {/* jupyter's `normalize.less` sets `[hidden] { display: none; }` but bootstrap.min.css set `[hidden] { display: none !important; }` so we also need the `!important` here to be able to override the default hidden behavior on the sphinx rendered scikit-learn.org. See: https://github.com/scikit-learn/scikit-learn/issues/21755 */display: inline-block !important;position: relative;}#sk-container-id-4 div.sk-text-repr-fallback {display: none;}</style><div id=\"sk-container-id-4\" class=\"sk-top-container\"><div class=\"sk-text-repr-fallback\"><pre>SVC(kernel=&#x27;linear&#x27;)</pre><b>In a Jupyter environment, please rerun this cell to show the HTML representation or trust the notebook. <br />On GitHub, the HTML representation is unable to render, please try loading this page with nbviewer.org.</b></div><div class=\"sk-container\" hidden><div class=\"sk-item\"><div class=\"sk-estimator sk-toggleable\"><input class=\"sk-toggleable__control sk-hidden--visually\" id=\"sk-estimator-id-4\" type=\"checkbox\" checked><label for=\"sk-estimator-id-4\" class=\"sk-toggleable__label sk-toggleable__label-arrow\">SVC</label><div class=\"sk-toggleable__content\"><pre>SVC(kernel=&#x27;linear&#x27;)</pre></div></div></div></div></div>"
            ]
          },
          "metadata": {},
          "execution_count": 174
        }
      ]
    },
    {
      "cell_type": "code",
      "source": [
        "svm_predictions = svm_model.predict(X_test)\n",
        "svm_accuracy = accuracy_score(y_test, svm_predictions)\n",
        "print('Accuracy SVM: %.2f' % (svm_accuracy*100))"
      ],
      "metadata": {
        "colab": {
          "base_uri": "https://localhost:8080/"
        },
        "id": "bkxssK7NEX9G",
        "outputId": "8952e0be-80e4-47be-ef3b-ace6f625201b"
      },
      "execution_count": null,
      "outputs": [
        {
          "output_type": "stream",
          "name": "stdout",
          "text": [
            "Accuracy SVM: 100.00\n"
          ]
        }
      ]
    },
    {
      "cell_type": "code",
      "source": [
        "svm_new_data = pd.DataFrame([[5, 3.5, 10,2.5,10.0,2.3]])  # Contoh data baru untuk SVM"
      ],
      "metadata": {
        "id": "YEoLpgthHOVv"
      },
      "execution_count": null,
      "outputs": []
    },
    {
      "cell_type": "code",
      "source": [
        "svm_prediction = svm_model.predict(svm_new_data)"
      ],
      "metadata": {
        "id": "-u46e_TMHvWt"
      },
      "execution_count": null,
      "outputs": []
    },
    {
      "cell_type": "code",
      "source": [
        "print('SVM Prediction:', svm_prediction)\n",
        "svm_accuracy = accuracy_score(y_test, svm_predictions)"
      ],
      "metadata": {
        "colab": {
          "base_uri": "https://localhost:8080/"
        },
        "id": "-Pr7noCMH6ys",
        "outputId": "19e0c698-8c5d-4156-cd4f-2048e8f81577"
      },
      "execution_count": null,
      "outputs": [
        {
          "output_type": "stream",
          "name": "stdout",
          "text": [
            "SVM Prediction: [1]\n"
          ]
        }
      ]
    },
    {
      "cell_type": "code",
      "source": [
        "print('Accuracy SVM: %.2f' % (svm_accuracy*100))"
      ],
      "metadata": {
        "colab": {
          "base_uri": "https://localhost:8080/"
        },
        "id": "q5LJ4GuyIHnV",
        "outputId": "782bb3ba-5985-4243-e0f7-0dff1f135e26"
      },
      "execution_count": null,
      "outputs": [
        {
          "output_type": "stream",
          "name": "stdout",
          "text": [
            "Accuracy SVM: 100.00\n"
          ]
        }
      ]
    },
    {
      "cell_type": "markdown",
      "source": [
        "# Menguji persentase lulus dan tidak lulus mahasiswa berdasarkan data dengan algoritma SVM."
      ],
      "metadata": {
        "id": "FX2JCrRIJZSm"
      }
    },
    {
      "cell_type": "code",
      "source": [
        "# Memprediksi data pengujian\n",
        "y_pred = svm_model.predict(X_test)"
      ],
      "metadata": {
        "id": "CeaOJBb2Jdm-"
      },
      "execution_count": null,
      "outputs": []
    },
    {
      "cell_type": "code",
      "source": [
        "# Menghitung persentase lulus dan tidak lulus\n",
        "accuracy = accuracy_score(y_test, y_pred)\n",
        "percentage_lulus = (y_pred.sum() / len(y_pred)) * 100\n",
        "percentage_tidak_lulus = 100 - percentage_lulus\n"
      ],
      "metadata": {
        "id": "dbE29tWxJomc"
      },
      "execution_count": null,
      "outputs": []
    },
    {
      "cell_type": "code",
      "source": [
        "print(\"Persentase Lulus: {:.2f}%\".format(percentage_lulus))\n",
        "print(\"Persentase Tidak Lulus: {:.2f}%\".format(percentage_tidak_lulus))\n",
        "print(\"Akurasi: {:.2f}%\".format(accuracy * 100))"
      ],
      "metadata": {
        "colab": {
          "base_uri": "https://localhost:8080/"
        },
        "id": "bLFb-gbOJp4o",
        "outputId": "c96ec342-f98e-47e0-b3b0-8e9d1817a1eb"
      },
      "execution_count": null,
      "outputs": [
        {
          "output_type": "stream",
          "name": "stdout",
          "text": [
            "Persentase Lulus: 22.22%\n",
            "Persentase Tidak Lulus: 77.78%\n",
            "Akurasi: 100.00%\n"
          ]
        }
      ]
    },
    {
      "cell_type": "markdown",
      "source": [
        "## Membuat Confusion Matrix Dengan Algoritma SVM"
      ],
      "metadata": {
        "id": "c-U6SSfLMiQM"
      }
    },
    {
      "cell_type": "code",
      "source": [
        "from sklearn.metrics import confusion_matrix\n",
        "cm = confusion_matrix(y_test, y_pred)"
      ],
      "metadata": {
        "id": "9E_AQOSUMlMQ"
      },
      "execution_count": null,
      "outputs": []
    },
    {
      "cell_type": "code",
      "source": [
        "print(cm)"
      ],
      "metadata": {
        "colab": {
          "base_uri": "https://localhost:8080/"
        },
        "id": "lOIeMHdYM0r3",
        "outputId": "bf789eab-10af-46e3-8a4d-2c68dbbb6a59"
      },
      "execution_count": null,
      "outputs": [
        {
          "output_type": "stream",
          "name": "stdout",
          "text": [
            "[[14  0]\n",
            " [ 0  4]]\n"
          ]
        }
      ]
    },
    {
      "cell_type": "markdown",
      "source": [
        "### Menampilkan Grafik Confusion Matrix Dengan Algoritma SVM"
      ],
      "metadata": {
        "id": "CGUwch2YNK_D"
      }
    },
    {
      "cell_type": "code",
      "source": [
        "labels = ['Tidak Lulus', 'Lulus']\n",
        "fig, ax = plt.subplots()\n",
        "im = ax.imshow(cm, interpolation='nearest', cmap=plt.cm.Blues)\n",
        "ax.figure.colorbar(im, ax=ax)\n",
        "ax.set(xticks=np.arange(cm.shape[1]),\n",
        "       yticks=np.arange(cm.shape[0]),\n",
        "       xticklabels=labels,\n",
        "       yticklabels=labels,\n",
        "       title='Confusion Matrix',\n",
        "       ylabel='True Label',\n",
        "       xlabel='Predicted Label')\n",
        "\n",
        "thresh = cm.max() / 2\n",
        "for i in range(cm.shape[0]):\n",
        "    for j in range(cm.shape[1]):\n",
        "        ax.text(j, i, format(cm[i, j], 'd'),\n",
        "                ha=\"center\", va=\"center\",\n",
        "                color=\"white\" if cm[i, j] > thresh else \"black\")\n",
        "\n",
        "plt.show()"
      ],
      "metadata": {
        "colab": {
          "base_uri": "https://localhost:8080/",
          "height": 472
        },
        "id": "tDuhnedNNRLm",
        "outputId": "d879b3da-db7d-4d88-a797-5f25ba655e30"
      },
      "execution_count": null,
      "outputs": [
        {
          "output_type": "display_data",
          "data": {
            "text/plain": [
              "<Figure size 640x480 with 2 Axes>"
            ],
            "image/png": "[encoded data removed]"
          },
          "metadata": {}
        }
      ]
    },
    {
      "cell_type": "code",
      "source": [
        "\n"
      ],
      "metadata": {
        "id": "7d83gJ_hNR-P"
      },
      "execution_count": null,
      "outputs": []
    },
    {
      "cell_type": "code",
      "source": [],
      "metadata": {
        "id": "dAdNjD4pNayX"
      },
      "execution_count": null,
      "outputs": []
    }
  ],
  "metadata": {
    "colab": {
      "provenance": [],
      "gpuType": "T4",
      "authorship_tag": "ABX9TyPoIjIdPTi1kcFGe1FIXv2n",
      "include_colab_link": true
    },
    "kernelspec": {
      "display_name": "Python 3",
      "name": "python3"
    },
    "language_info": {
      "name": "python"
    },
    "accelerator": "GPU"
  },
  "nbformat": 4,
  "nbformat_minor": 0
}