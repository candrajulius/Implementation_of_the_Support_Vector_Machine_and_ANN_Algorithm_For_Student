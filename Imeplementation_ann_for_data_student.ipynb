{
  "nbformat": 4,
  "nbformat_minor": 0,
  "metadata": {
    "colab": {
      "provenance": []
    },
    "kernelspec": {
      "name": "python3",
      "display_name": "Python 3"
    },
    "language_info": {
      "name": "python"
    }
  },
  "cells": [
    {
      "cell_type": "code",
      "execution_count": 48,
      "metadata": {
        "id": "3BdkeEpdIDVE"
      },
      "outputs": [],
      "source": [
        "# Import beberapa library\n",
        "from google.colab import files\n",
        "import pandas as pd\n",
        "import numpy as np\n",
        "from sklearn.model_selection import train_test_split\n",
        "from sklearn.utils import resample\n",
        "from sklearn.preprocessing import StandardScaler, LabelEncoder, OneHotEncoder\n",
        "from sklearn.svm import SVC\n",
        "from sklearn.metrics import accuracy_score\n",
        "from keras.models import Sequential\n",
        "from keras.layers import Dense\n",
        "\n",
        "# Untuk memvisualisasi data\n",
        "import matplotlib.pyplot as plt\n",
        "%matplotlib inline\n",
        "import seaborn as sns"
      ]
    },
    {
      "cell_type": "code",
      "source": [
        "def convert_excel_to_csv(excel_file,csv_file):\n",
        "  # Baca file Excel menggunakan pandas\n",
        "  data_frame = pd.read_excel(excel_file)\n",
        "\n",
        "  # Konversi data frame menjadi file CSV\n",
        "  data_frame.to_csv(csv_file,index=False)\n",
        "excel_file = \"sample_data/data_mahasiswa.xlsx\"\n",
        "csv_file = \"sample_data/data_mahasiswa.csv\"\n",
        "convert_excel_to_csv(excel_file,csv_file)"
      ],
      "metadata": {
        "id": "ZnMgDbq6I1gA"
      },
      "execution_count": 49,
      "outputs": []
    },
    {
      "cell_type": "code",
      "source": [
        "data = pd.read_csv('sample_data/data_mahasiswa.csv')"
      ],
      "metadata": {
        "id": "atv2VkjNJB7a"
      },
      "execution_count": 50,
      "outputs": []
    },
    {
      "cell_type": "code",
      "source": [
        "data.head(10)"
      ],
      "metadata": {
        "colab": {
          "base_uri": "https://localhost:8080/",
          "height": 363
        },
        "id": "3JCn8SfdJDwg",
        "outputId": "571707e2-5e7d-479d-d860-b14bec4b864f"
      },
      "execution_count": 51,
      "outputs": [
        {
          "output_type": "execute_result",
          "data": {
            "text/plain": [
              "     No           NIM                 NAMA IPS (semester 1)  IPS (semester 2)  \\\n",
              "0   1.0  193303030001         Sallyana Yek              4.0              3.74   \n",
              "1   2.0  193303030002              Anthony              4.0              3.74   \n",
              "2   3.0  193303030003      William Chandra             3.45              3.61   \n",
              "3   4.0  193303030004      Valentino Damar              4.0              3.61   \n",
              "4   5.0  193303030005     Nicholas Livando              4.0              3.74   \n",
              "5   6.0  193303030006          Alvin Rasid              4.0              3.61   \n",
              "6   7.0  193303030009  Matthew Evan Phanie              4,0              3.61   \n",
              "7   8.0  193303030011              Michael             3.75              3.43   \n",
              "8   9.0  193303030012         Windy Candra              3.5              3.74   \n",
              "9  10.0  193303030014           Steven Lie             3.69              3.26   \n",
              "\n",
              "  IPS (semester 3)  IPS (semester 4)  IPS (semester 5)    kelulusan  \n",
              "0             3,55              3.90              4.00        lulus  \n",
              "1              4,0              3.85              3.95  tidak lulus  \n",
              "2             3.27              3.79              3.64  tidak lulus  \n",
              "3             3.89              3.65              3.80  tidak lulus  \n",
              "4             3.94              3.80              3.77  tidak lulus  \n",
              "5              4,0              3.90              4.00  tidak lulus  \n",
              "6             3.89              3.90              4.00  tidak lulus  \n",
              "7             3.83              3.47              3.91  tidak lulus  \n",
              "8              3.9              3.70              4.00  tidak lulus  \n",
              "9             3.89              4.00              3.59  tidak lulus  "
            ],
            "text/html": [
              "\n",
              "\n",
              "  <div id=\"df-63cf9777-3a36-4440-bbb8-d4e9390c3dd3\">\n",
              "    <div class=\"colab-df-container\">\n",
              "      <div>\n",
              "<style scoped>\n",
              "    .dataframe tbody tr th:only-of-type {\n",
              "        vertical-align: middle;\n",
              "    }\n",
              "\n",
              "    .dataframe tbody tr th {\n",
              "        vertical-align: top;\n",
              "    }\n",
              "\n",
              "    .dataframe thead th {\n",
              "        text-align: right;\n",
              "    }\n",
              "</style>\n",
              "<table border=\"1\" class=\"dataframe\">\n",
              "  <thead>\n",
              "    <tr style=\"text-align: right;\">\n",
              "      <th></th>\n",
              "      <th>No</th>\n",
              "      <th>NIM</th>\n",
              "      <th>NAMA</th>\n",
              "      <th>IPS (semester 1)</th>\n",
              "      <th>IPS (semester 2)</th>\n",
              "      <th>IPS (semester 3)</th>\n",
              "      <th>IPS (semester 4)</th>\n",
              "      <th>IPS (semester 5)</th>\n",
              "      <th>kelulusan</th>\n",
              "    </tr>\n",
              "  </thead>\n",
              "  <tbody>\n",
              "    <tr>\n",
              "      <th>0</th>\n",
              "      <td>1.0</td>\n",
              "      <td>193303030001</td>\n",
              "      <td>Sallyana Yek</td>\n",
              "      <td>4.0</td>\n",
              "      <td>3.74</td>\n",
              "      <td>3,55</td>\n",
              "      <td>3.90</td>\n",
              "      <td>4.00</td>\n",
              "      <td>lulus</td>\n",
              "    </tr>\n",
              "    <tr>\n",
              "      <th>1</th>\n",
              "      <td>2.0</td>\n",
              "      <td>193303030002</td>\n",
              "      <td>Anthony</td>\n",
              "      <td>4.0</td>\n",
              "      <td>3.74</td>\n",
              "      <td>4,0</td>\n",
              "      <td>3.85</td>\n",
              "      <td>3.95</td>\n",
              "      <td>tidak lulus</td>\n",
              "    </tr>\n",
              "    <tr>\n",
              "      <th>2</th>\n",
              "      <td>3.0</td>\n",
              "      <td>193303030003</td>\n",
              "      <td>William Chandra</td>\n",
              "      <td>3.45</td>\n",
              "      <td>3.61</td>\n",
              "      <td>3.27</td>\n",
              "      <td>3.79</td>\n",
              "      <td>3.64</td>\n",
              "      <td>tidak lulus</td>\n",
              "    </tr>\n",
              "    <tr>\n",
              "      <th>3</th>\n",
              "      <td>4.0</td>\n",
              "      <td>193303030004</td>\n",
              "      <td>Valentino Damar</td>\n",
              "      <td>4.0</td>\n",
              "      <td>3.61</td>\n",
              "      <td>3.89</td>\n",
              "      <td>3.65</td>\n",
              "      <td>3.80</td>\n",
              "      <td>tidak lulus</td>\n",
              "    </tr>\n",
              "    <tr>\n",
              "      <th>4</th>\n",
              "      <td>5.0</td>\n",
              "      <td>193303030005</td>\n",
              "      <td>Nicholas Livando</td>\n",
              "      <td>4.0</td>\n",
              "      <td>3.74</td>\n",
              "      <td>3.94</td>\n",
              "      <td>3.80</td>\n",
              "      <td>3.77</td>\n",
              "      <td>tidak lulus</td>\n",
              "    </tr>\n",
              "    <tr>\n",
              "      <th>5</th>\n",
              "      <td>6.0</td>\n",
              "      <td>193303030006</td>\n",
              "      <td>Alvin Rasid</td>\n",
              "      <td>4.0</td>\n",
              "      <td>3.61</td>\n",
              "      <td>4,0</td>\n",
              "      <td>3.90</td>\n",
              "      <td>4.00</td>\n",
              "      <td>tidak lulus</td>\n",
              "    </tr>\n",
              "    <tr>\n",
              "      <th>6</th>\n",
              "      <td>7.0</td>\n",
              "      <td>193303030009</td>\n",
              "      <td>Matthew Evan Phanie</td>\n",
              "      <td>4,0</td>\n",
              "      <td>3.61</td>\n",
              "      <td>3.89</td>\n",
              "      <td>3.90</td>\n",
              "      <td>4.00</td>\n",
              "      <td>tidak lulus</td>\n",
              "    </tr>\n",
              "    <tr>\n",
              "      <th>7</th>\n",
              "      <td>8.0</td>\n",
              "      <td>193303030011</td>\n",
              "      <td>Michael</td>\n",
              "      <td>3.75</td>\n",
              "      <td>3.43</td>\n",
              "      <td>3.83</td>\n",
              "      <td>3.47</td>\n",
              "      <td>3.91</td>\n",
              "      <td>tidak lulus</td>\n",
              "    </tr>\n",
              "    <tr>\n",
              "      <th>8</th>\n",
              "      <td>9.0</td>\n",
              "      <td>193303030012</td>\n",
              "      <td>Windy Candra</td>\n",
              "      <td>3.5</td>\n",
              "      <td>3.74</td>\n",
              "      <td>3.9</td>\n",
              "      <td>3.70</td>\n",
              "      <td>4.00</td>\n",
              "      <td>tidak lulus</td>\n",
              "    </tr>\n",
              "    <tr>\n",
              "      <th>9</th>\n",
              "      <td>10.0</td>\n",
              "      <td>193303030014</td>\n",
              "      <td>Steven Lie</td>\n",
              "      <td>3.69</td>\n",
              "      <td>3.26</td>\n",
              "      <td>3.89</td>\n",
              "      <td>4.00</td>\n",
              "      <td>3.59</td>\n",
              "      <td>tidak lulus</td>\n",
              "    </tr>\n",
              "  </tbody>\n",
              "</table>\n",
              "</div>\n",
              "      <button class=\"colab-df-convert\" onclick=\"convertToInteractive('df-63cf9777-3a36-4440-bbb8-d4e9390c3dd3')\"\n",
              "              title=\"Convert this dataframe to an interactive table.\"\n",
              "              style=\"display:none;\">\n",
              "\n",
              "  <svg xmlns=\"http://www.w3.org/2000/svg\" height=\"24px\"viewBox=\"0 0 24 24\"\n",
              "       width=\"24px\">\n",
              "    <path d=\"M0 0h24v24H0V0z\" fill=\"none\"/>\n",
              "    <path d=\"M18.56 5.44l.94 2.06.94-2.06 2.06-.94-2.06-.94-.94-2.06-.94 2.06-2.06.94zm-11 1L8.5 8.5l.94-2.06 2.06-.94-2.06-.94L8.5 2.5l-.94 2.06-2.06.94zm10 10l.94 2.06.94-2.06 2.06-.94-2.06-.94-.94-2.06-.94 2.06-2.06.94z\"/><path d=\"M17.41 7.96l-1.37-1.37c-.4-.4-.92-.59-1.43-.59-.52 0-1.04.2-1.43.59L10.3 9.45l-7.72 7.72c-.78.78-.78 2.05 0 2.83L4 21.41c.39.39.9.59 1.41.59.51 0 1.02-.2 1.41-.59l7.78-7.78 2.81-2.81c.8-.78.8-2.07 0-2.86zM5.41 20L4 18.59l7.72-7.72 1.47 1.35L5.41 20z\"/>\n",
              "  </svg>\n",
              "      </button>\n",
              "\n",
              "\n",
              "\n",
              "    <div id=\"df-23262498-00bd-49c1-9fd7-a86c8b73e2f6\">\n",
              "      <button class=\"colab-df-quickchart\" onclick=\"quickchart('df-23262498-00bd-49c1-9fd7-a86c8b73e2f6')\"\n",
              "              title=\"Suggest charts.\"\n",
              "              style=\"display:none;\">\n",
              "\n",
              "<svg xmlns=\"http://www.w3.org/2000/svg\" height=\"24px\"viewBox=\"0 0 24 24\"\n",
              "     width=\"24px\">\n",
              "    <g>\n",
              "        <path d=\"M19 3H5c-1.1 0-2 .9-2 2v14c0 1.1.9 2 2 2h14c1.1 0 2-.9 2-2V5c0-1.1-.9-2-2-2zM9 17H7v-7h2v7zm4 0h-2V7h2v10zm4 0h-2v-4h2v4z\"/>\n",
              "    </g>\n",
              "</svg>\n",
              "      </button>\n",
              "    </div>\n",
              "\n",
              "<style>\n",
              "  .colab-df-quickchart {\n",
              "    background-color: #E8F0FE;\n",
              "    border: none;\n",
              "    border-radius: 50%;\n",
              "    cursor: pointer;\n",
              "    display: none;\n",
              "    fill: #1967D2;\n",
              "    height: 32px;\n",
              "    padding: 0 0 0 0;\n",
              "    width: 32px;\n",
              "  }\n",
              "\n",
              "  .colab-df-quickchart:hover {\n",
              "    background-color: #E2EBFA;\n",
              "    box-shadow: 0px 1px 2px rgba(60, 64, 67, 0.3), 0px 1px 3px 1px rgba(60, 64, 67, 0.15);\n",
              "    fill: #174EA6;\n",
              "  }\n",
              "\n",
              "  [theme=dark] .colab-df-quickchart {\n",
              "    background-color: #3B4455;\n",
              "    fill: #D2E3FC;\n",
              "  }\n",
              "\n",
              "  [theme=dark] .colab-df-quickchart:hover {\n",
              "    background-color: #434B5C;\n",
              "    box-shadow: 0px 1px 3px 1px rgba(0, 0, 0, 0.15);\n",
              "    filter: drop-shadow(0px 1px 2px rgba(0, 0, 0, 0.3));\n",
              "    fill: #FFFFFF;\n",
              "  }\n",
              "</style>\n",
              "\n",
              "    <script>\n",
              "      async function quickchart(key) {\n",
              "        const containerElement = document.querySelector('#' + key);\n",
              "        const charts = await google.colab.kernel.invokeFunction(\n",
              "            'suggestCharts', [key], {});\n",
              "      }\n",
              "    </script>\n",
              "\n",
              "      <script>\n",
              "\n",
              "function displayQuickchartButton(domScope) {\n",
              "  let quickchartButtonEl =\n",
              "    domScope.querySelector('#df-23262498-00bd-49c1-9fd7-a86c8b73e2f6 button.colab-df-quickchart');\n",
              "  quickchartButtonEl.style.display =\n",
              "    google.colab.kernel.accessAllowed ? 'block' : 'none';\n",
              "}\n",
              "\n",
              "        displayQuickchartButton(document);\n",
              "      </script>\n",
              "      <style>\n",
              "    .colab-df-container {\n",
              "      display:flex;\n",
              "      flex-wrap:wrap;\n",
              "      gap: 12px;\n",
              "    }\n",
              "\n",
              "    .colab-df-convert {\n",
              "      background-color: #E8F0FE;\n",
              "      border: none;\n",
              "      border-radius: 50%;\n",
              "      cursor: pointer;\n",
              "      display: none;\n",
              "      fill: #1967D2;\n",
              "      height: 32px;\n",
              "      padding: 0 0 0 0;\n",
              "      width: 32px;\n",
              "    }\n",
              "\n",
              "    .colab-df-convert:hover {\n",
              "      background-color: #E2EBFA;\n",
              "      box-shadow: 0px 1px 2px rgba(60, 64, 67, 0.3), 0px 1px 3px 1px rgba(60, 64, 67, 0.15);\n",
              "      fill: #174EA6;\n",
              "    }\n",
              "\n",
              "    [theme=dark] .colab-df-convert {\n",
              "      background-color: #3B4455;\n",
              "      fill: #D2E3FC;\n",
              "    }\n",
              "\n",
              "    [theme=dark] .colab-df-convert:hover {\n",
              "      background-color: #434B5C;\n",
              "      box-shadow: 0px 1px 3px 1px rgba(0, 0, 0, 0.15);\n",
              "      filter: drop-shadow(0px 1px 2px rgba(0, 0, 0, 0.3));\n",
              "      fill: #FFFFFF;\n",
              "    }\n",
              "  </style>\n",
              "\n",
              "      <script>\n",
              "        const buttonEl =\n",
              "          document.querySelector('#df-63cf9777-3a36-4440-bbb8-d4e9390c3dd3 button.colab-df-convert');\n",
              "        buttonEl.style.display =\n",
              "          google.colab.kernel.accessAllowed ? 'block' : 'none';\n",
              "\n",
              "        async function convertToInteractive(key) {\n",
              "          const element = document.querySelector('#df-63cf9777-3a36-4440-bbb8-d4e9390c3dd3');\n",
              "          const dataTable =\n",
              "            await google.colab.kernel.invokeFunction('convertToInteractive',\n",
              "                                                     [key], {});\n",
              "          if (!dataTable) return;\n",
              "\n",
              "          const docLinkHtml = 'Like what you see? Visit the ' +\n",
              "            '<a target=\"_blank\" href=https://colab.research.google.com/notebooks/data_table.ipynb>data table notebook</a>'\n",
              "            + ' to learn more about interactive tables.';\n",
              "          element.innerHTML = '';\n",
              "          dataTable['output_type'] = 'display_data';\n",
              "          await google.colab.output.renderOutput(dataTable, element);\n",
              "          const docLink = document.createElement('div');\n",
              "          docLink.innerHTML = docLinkHtml;\n",
              "          element.appendChild(docLink);\n",
              "        }\n",
              "      </script>\n",
              "    </div>\n",
              "  </div>\n"
            ]
          },
          "metadata": {},
          "execution_count": 51
        }
      ]
    },
    {
      "cell_type": "code",
      "source": [
        "data.info()"
      ],
      "metadata": {
        "colab": {
          "base_uri": "https://localhost:8080/"
        },
        "id": "n6RqPtrEJG9K",
        "outputId": "fc8816e7-7c72-4f9a-8314-9d1af4b5351a"
      },
      "execution_count": 52,
      "outputs": [
        {
          "output_type": "stream",
          "name": "stdout",
          "text": [
            "<class 'pandas.core.frame.DataFrame'>\n",
            "RangeIndex: 277 entries, 0 to 276\n",
            "Data columns (total 9 columns):\n",
            " #   Column            Non-Null Count  Dtype  \n",
            "---  ------            --------------  -----  \n",
            " 0   No                88 non-null     float64\n",
            " 1   NIM               277 non-null    int64  \n",
            " 2   NAMA              277 non-null    object \n",
            " 3   IPS (semester 1)  277 non-null    object \n",
            " 4   IPS (semester 2)  277 non-null    float64\n",
            " 5   IPS (semester 3)  276 non-null    object \n",
            " 6   IPS (semester 4)  277 non-null    float64\n",
            " 7   IPS (semester 5)  274 non-null    float64\n",
            " 8   kelulusan         277 non-null    object \n",
            "dtypes: float64(4), int64(1), object(4)\n",
            "memory usage: 19.6+ KB\n"
          ]
        }
      ]
    },
    {
      "cell_type": "code",
      "source": [
        "data.drop('No',axis=1,inplace=True)\n",
        "data.drop('NAMA',axis=1,inplace=True)\n",
        "data.drop('NIM',axis=1,inplace=True)"
      ],
      "metadata": {
        "id": "22NywrTjJJ0Z"
      },
      "execution_count": 53,
      "outputs": []
    },
    {
      "cell_type": "code",
      "source": [
        "total_jumlah_data_sebelum_dibersihkan = len(data)\n",
        "print(\"Jumlah keseluruhan data sebelum dibersihkan = \",total_jumlah_data_sebelum_dibersihkan)"
      ],
      "metadata": {
        "colab": {
          "base_uri": "https://localhost:8080/"
        },
        "id": "gS4t32kxMF4w",
        "outputId": "3064f66e-cb4a-424e-86e2-24ab4cfd2cc7"
      },
      "execution_count": 54,
      "outputs": [
        {
          "output_type": "stream",
          "name": "stdout",
          "text": [
            "Jumlah keseluruhan data sebelum dibersihkan =  277\n"
          ]
        }
      ]
    },
    {
      "cell_type": "code",
      "source": [
        "data.head(10)"
      ],
      "metadata": {
        "colab": {
          "base_uri": "https://localhost:8080/",
          "height": 363
        },
        "id": "UgJjAWe_JU1g",
        "outputId": "efc48614-e11b-47f2-f2f1-acdbad79e341"
      },
      "execution_count": 55,
      "outputs": [
        {
          "output_type": "execute_result",
          "data": {
            "text/plain": [
              "  IPS (semester 1)  IPS (semester 2) IPS (semester 3)  IPS (semester 4)  \\\n",
              "0              4.0              3.74             3,55              3.90   \n",
              "1              4.0              3.74              4,0              3.85   \n",
              "2             3.45              3.61             3.27              3.79   \n",
              "3              4.0              3.61             3.89              3.65   \n",
              "4              4.0              3.74             3.94              3.80   \n",
              "5              4.0              3.61              4,0              3.90   \n",
              "6              4,0              3.61             3.89              3.90   \n",
              "7             3.75              3.43             3.83              3.47   \n",
              "8              3.5              3.74              3.9              3.70   \n",
              "9             3.69              3.26             3.89              4.00   \n",
              "\n",
              "   IPS (semester 5)    kelulusan  \n",
              "0              4.00        lulus  \n",
              "1              3.95  tidak lulus  \n",
              "2              3.64  tidak lulus  \n",
              "3              3.80  tidak lulus  \n",
              "4              3.77  tidak lulus  \n",
              "5              4.00  tidak lulus  \n",
              "6              4.00  tidak lulus  \n",
              "7              3.91  tidak lulus  \n",
              "8              4.00  tidak lulus  \n",
              "9              3.59  tidak lulus  "
            ],
            "text/html": [
              "\n",
              "\n",
              "  <div id=\"df-85e3c5c7-fe1a-4858-a7ab-fde7c335f5da\">\n",
              "    <div class=\"colab-df-container\">\n",
              "      <div>\n",
              "<style scoped>\n",
              "    .dataframe tbody tr th:only-of-type {\n",
              "        vertical-align: middle;\n",
              "    }\n",
              "\n",
              "    .dataframe tbody tr th {\n",
              "        vertical-align: top;\n",
              "    }\n",
              "\n",
              "    .dataframe thead th {\n",
              "        text-align: right;\n",
              "    }\n",
              "</style>\n",
              "<table border=\"1\" class=\"dataframe\">\n",
              "  <thead>\n",
              "    <tr style=\"text-align: right;\">\n",
              "      <th></th>\n",
              "      <th>IPS (semester 1)</th>\n",
              "      <th>IPS (semester 2)</th>\n",
              "      <th>IPS (semester 3)</th>\n",
              "      <th>IPS (semester 4)</th>\n",
              "      <th>IPS (semester 5)</th>\n",
              "      <th>kelulusan</th>\n",
              "    </tr>\n",
              "  </thead>\n",
              "  <tbody>\n",
              "    <tr>\n",
              "      <th>0</th>\n",
              "      <td>4.0</td>\n",
              "      <td>3.74</td>\n",
              "      <td>3,55</td>\n",
              "      <td>3.90</td>\n",
              "      <td>4.00</td>\n",
              "      <td>lulus</td>\n",
              "    </tr>\n",
              "    <tr>\n",
              "      <th>1</th>\n",
              "      <td>4.0</td>\n",
              "      <td>3.74</td>\n",
              "      <td>4,0</td>\n",
              "      <td>3.85</td>\n",
              "      <td>3.95</td>\n",
              "      <td>tidak lulus</td>\n",
              "    </tr>\n",
              "    <tr>\n",
              "      <th>2</th>\n",
              "      <td>3.45</td>\n",
              "      <td>3.61</td>\n",
              "      <td>3.27</td>\n",
              "      <td>3.79</td>\n",
              "      <td>3.64</td>\n",
              "      <td>tidak lulus</td>\n",
              "    </tr>\n",
              "    <tr>\n",
              "      <th>3</th>\n",
              "      <td>4.0</td>\n",
              "      <td>3.61</td>\n",
              "      <td>3.89</td>\n",
              "      <td>3.65</td>\n",
              "      <td>3.80</td>\n",
              "      <td>tidak lulus</td>\n",
              "    </tr>\n",
              "    <tr>\n",
              "      <th>4</th>\n",
              "      <td>4.0</td>\n",
              "      <td>3.74</td>\n",
              "      <td>3.94</td>\n",
              "      <td>3.80</td>\n",
              "      <td>3.77</td>\n",
              "      <td>tidak lulus</td>\n",
              "    </tr>\n",
              "    <tr>\n",
              "      <th>5</th>\n",
              "      <td>4.0</td>\n",
              "      <td>3.61</td>\n",
              "      <td>4,0</td>\n",
              "      <td>3.90</td>\n",
              "      <td>4.00</td>\n",
              "      <td>tidak lulus</td>\n",
              "    </tr>\n",
              "    <tr>\n",
              "      <th>6</th>\n",
              "      <td>4,0</td>\n",
              "      <td>3.61</td>\n",
              "      <td>3.89</td>\n",
              "      <td>3.90</td>\n",
              "      <td>4.00</td>\n",
              "      <td>tidak lulus</td>\n",
              "    </tr>\n",
              "    <tr>\n",
              "      <th>7</th>\n",
              "      <td>3.75</td>\n",
              "      <td>3.43</td>\n",
              "      <td>3.83</td>\n",
              "      <td>3.47</td>\n",
              "      <td>3.91</td>\n",
              "      <td>tidak lulus</td>\n",
              "    </tr>\n",
              "    <tr>\n",
              "      <th>8</th>\n",
              "      <td>3.5</td>\n",
              "      <td>3.74</td>\n",
              "      <td>3.9</td>\n",
              "      <td>3.70</td>\n",
              "      <td>4.00</td>\n",
              "      <td>tidak lulus</td>\n",
              "    </tr>\n",
              "    <tr>\n",
              "      <th>9</th>\n",
              "      <td>3.69</td>\n",
              "      <td>3.26</td>\n",
              "      <td>3.89</td>\n",
              "      <td>4.00</td>\n",
              "      <td>3.59</td>\n",
              "      <td>tidak lulus</td>\n",
              "    </tr>\n",
              "  </tbody>\n",
              "</table>\n",
              "</div>\n",
              "      <button class=\"colab-df-convert\" onclick=\"convertToInteractive('df-85e3c5c7-fe1a-4858-a7ab-fde7c335f5da')\"\n",
              "              title=\"Convert this dataframe to an interactive table.\"\n",
              "              style=\"display:none;\">\n",
              "\n",
              "  <svg xmlns=\"http://www.w3.org/2000/svg\" height=\"24px\"viewBox=\"0 0 24 24\"\n",
              "       width=\"24px\">\n",
              "    <path d=\"M0 0h24v24H0V0z\" fill=\"none\"/>\n",
              "    <path d=\"M18.56 5.44l.94 2.06.94-2.06 2.06-.94-2.06-.94-.94-2.06-.94 2.06-2.06.94zm-11 1L8.5 8.5l.94-2.06 2.06-.94-2.06-.94L8.5 2.5l-.94 2.06-2.06.94zm10 10l.94 2.06.94-2.06 2.06-.94-2.06-.94-.94-2.06-.94 2.06-2.06.94z\"/><path d=\"M17.41 7.96l-1.37-1.37c-.4-.4-.92-.59-1.43-.59-.52 0-1.04.2-1.43.59L10.3 9.45l-7.72 7.72c-.78.78-.78 2.05 0 2.83L4 21.41c.39.39.9.59 1.41.59.51 0 1.02-.2 1.41-.59l7.78-7.78 2.81-2.81c.8-.78.8-2.07 0-2.86zM5.41 20L4 18.59l7.72-7.72 1.47 1.35L5.41 20z\"/>\n",
              "  </svg>\n",
              "      </button>\n",
              "\n",
              "\n",
              "\n",
              "    <div id=\"df-71481392-d4ea-484c-8198-5cdab1700ba6\">\n",
              "      <button class=\"colab-df-quickchart\" onclick=\"quickchart('df-71481392-d4ea-484c-8198-5cdab1700ba6')\"\n",
              "              title=\"Suggest charts.\"\n",
              "              style=\"display:none;\">\n",
              "\n",
              "<svg xmlns=\"http://www.w3.org/2000/svg\" height=\"24px\"viewBox=\"0 0 24 24\"\n",
              "     width=\"24px\">\n",
              "    <g>\n",
              "        <path d=\"M19 3H5c-1.1 0-2 .9-2 2v14c0 1.1.9 2 2 2h14c1.1 0 2-.9 2-2V5c0-1.1-.9-2-2-2zM9 17H7v-7h2v7zm4 0h-2V7h2v10zm4 0h-2v-4h2v4z\"/>\n",
              "    </g>\n",
              "</svg>\n",
              "      </button>\n",
              "    </div>\n",
              "\n",
              "<style>\n",
              "  .colab-df-quickchart {\n",
              "    background-color: #E8F0FE;\n",
              "    border: none;\n",
              "    border-radius: 50%;\n",
              "    cursor: pointer;\n",
              "    display: none;\n",
              "    fill: #1967D2;\n",
              "    height: 32px;\n",
              "    padding: 0 0 0 0;\n",
              "    width: 32px;\n",
              "  }\n",
              "\n",
              "  .colab-df-quickchart:hover {\n",
              "    background-color: #E2EBFA;\n",
              "    box-shadow: 0px 1px 2px rgba(60, 64, 67, 0.3), 0px 1px 3px 1px rgba(60, 64, 67, 0.15);\n",
              "    fill: #174EA6;\n",
              "  }\n",
              "\n",
              "  [theme=dark] .colab-df-quickchart {\n",
              "    background-color: #3B4455;\n",
              "    fill: #D2E3FC;\n",
              "  }\n",
              "\n",
              "  [theme=dark] .colab-df-quickchart:hover {\n",
              "    background-color: #434B5C;\n",
              "    box-shadow: 0px 1px 3px 1px rgba(0, 0, 0, 0.15);\n",
              "    filter: drop-shadow(0px 1px 2px rgba(0, 0, 0, 0.3));\n",
              "    fill: #FFFFFF;\n",
              "  }\n",
              "</style>\n",
              "\n",
              "    <script>\n",
              "      async function quickchart(key) {\n",
              "        const containerElement = document.querySelector('#' + key);\n",
              "        const charts = await google.colab.kernel.invokeFunction(\n",
              "            'suggestCharts', [key], {});\n",
              "      }\n",
              "    </script>\n",
              "\n",
              "      <script>\n",
              "\n",
              "function displayQuickchartButton(domScope) {\n",
              "  let quickchartButtonEl =\n",
              "    domScope.querySelector('#df-71481392-d4ea-484c-8198-5cdab1700ba6 button.colab-df-quickchart');\n",
              "  quickchartButtonEl.style.display =\n",
              "    google.colab.kernel.accessAllowed ? 'block' : 'none';\n",
              "}\n",
              "\n",
              "        displayQuickchartButton(document);\n",
              "      </script>\n",
              "      <style>\n",
              "    .colab-df-container {\n",
              "      display:flex;\n",
              "      flex-wrap:wrap;\n",
              "      gap: 12px;\n",
              "    }\n",
              "\n",
              "    .colab-df-convert {\n",
              "      background-color: #E8F0FE;\n",
              "      border: none;\n",
              "      border-radius: 50%;\n",
              "      cursor: pointer;\n",
              "      display: none;\n",
              "      fill: #1967D2;\n",
              "      height: 32px;\n",
              "      padding: 0 0 0 0;\n",
              "      width: 32px;\n",
              "    }\n",
              "\n",
              "    .colab-df-convert:hover {\n",
              "      background-color: #E2EBFA;\n",
              "      box-shadow: 0px 1px 2px rgba(60, 64, 67, 0.3), 0px 1px 3px 1px rgba(60, 64, 67, 0.15);\n",
              "      fill: #174EA6;\n",
              "    }\n",
              "\n",
              "    [theme=dark] .colab-df-convert {\n",
              "      background-color: #3B4455;\n",
              "      fill: #D2E3FC;\n",
              "    }\n",
              "\n",
              "    [theme=dark] .colab-df-convert:hover {\n",
              "      background-color: #434B5C;\n",
              "      box-shadow: 0px 1px 3px 1px rgba(0, 0, 0, 0.15);\n",
              "      filter: drop-shadow(0px 1px 2px rgba(0, 0, 0, 0.3));\n",
              "      fill: #FFFFFF;\n",
              "    }\n",
              "  </style>\n",
              "\n",
              "      <script>\n",
              "        const buttonEl =\n",
              "          document.querySelector('#df-85e3c5c7-fe1a-4858-a7ab-fde7c335f5da button.colab-df-convert');\n",
              "        buttonEl.style.display =\n",
              "          google.colab.kernel.accessAllowed ? 'block' : 'none';\n",
              "\n",
              "        async function convertToInteractive(key) {\n",
              "          const element = document.querySelector('#df-85e3c5c7-fe1a-4858-a7ab-fde7c335f5da');\n",
              "          const dataTable =\n",
              "            await google.colab.kernel.invokeFunction('convertToInteractive',\n",
              "                                                     [key], {});\n",
              "          if (!dataTable) return;\n",
              "\n",
              "          const docLinkHtml = 'Like what you see? Visit the ' +\n",
              "            '<a target=\"_blank\" href=https://colab.research.google.com/notebooks/data_table.ipynb>data table notebook</a>'\n",
              "            + ' to learn more about interactive tables.';\n",
              "          element.innerHTML = '';\n",
              "          dataTable['output_type'] = 'display_data';\n",
              "          await google.colab.output.renderOutput(dataTable, element);\n",
              "          const docLink = document.createElement('div');\n",
              "          docLink.innerHTML = docLinkHtml;\n",
              "          element.appendChild(docLink);\n",
              "        }\n",
              "      </script>\n",
              "    </div>\n",
              "  </div>\n"
            ]
          },
          "metadata": {},
          "execution_count": 55
        }
      ]
    },
    {
      "cell_type": "code",
      "source": [
        "# Mengecek apakah ada data yang null atau tidak\n",
        "data.isnull().sum()"
      ],
      "metadata": {
        "colab": {
          "base_uri": "https://localhost:8080/"
        },
        "id": "9CA1LgcSJXWx",
        "outputId": "fe5d2b0e-e148-4f6d-b37a-e8a564801569"
      },
      "execution_count": 56,
      "outputs": [
        {
          "output_type": "execute_result",
          "data": {
            "text/plain": [
              "IPS (semester 1)    0\n",
              "IPS (semester 2)    0\n",
              "IPS (semester 3)    1\n",
              "IPS (semester 4)    0\n",
              "IPS (semester 5)    3\n",
              "kelulusan           0\n",
              "dtype: int64"
            ]
          },
          "metadata": {},
          "execution_count": 56
        }
      ]
    },
    {
      "cell_type": "code",
      "source": [
        "# Membersihakan data yang null\n",
        "data_clean = data.dropna()"
      ],
      "metadata": {
        "id": "yVvK4Q0wKzyr"
      },
      "execution_count": 57,
      "outputs": []
    },
    {
      "cell_type": "code",
      "source": [
        "data_clean.isnull().sum()"
      ],
      "metadata": {
        "colab": {
          "base_uri": "https://localhost:8080/"
        },
        "id": "WoYeDs_eK2Pc",
        "outputId": "5d496bc3-a638-4ddf-9578-a36dc812d486"
      },
      "execution_count": 58,
      "outputs": [
        {
          "output_type": "execute_result",
          "data": {
            "text/plain": [
              "IPS (semester 1)    0\n",
              "IPS (semester 2)    0\n",
              "IPS (semester 3)    0\n",
              "IPS (semester 4)    0\n",
              "IPS (semester 5)    0\n",
              "kelulusan           0\n",
              "dtype: int64"
            ]
          },
          "metadata": {},
          "execution_count": 58
        }
      ]
    },
    {
      "cell_type": "code",
      "source": [
        "# Mengecek data duplicated\n",
        "data_clean.duplicated()"
      ],
      "metadata": {
        "colab": {
          "base_uri": "https://localhost:8080/"
        },
        "id": "LiSPOE1tP2KG",
        "outputId": "6a303173-acf7-4605-cd5e-dcc502f09145"
      },
      "execution_count": 59,
      "outputs": [
        {
          "output_type": "execute_result",
          "data": {
            "text/plain": [
              "0      False\n",
              "1      False\n",
              "2      False\n",
              "3      False\n",
              "4      False\n",
              "       ...  \n",
              "272    False\n",
              "273    False\n",
              "274    False\n",
              "275    False\n",
              "276    False\n",
              "Length: 273, dtype: bool"
            ]
          },
          "metadata": {},
          "execution_count": 59
        }
      ]
    },
    {
      "cell_type": "code",
      "source": [
        "data_clean.info()"
      ],
      "metadata": {
        "colab": {
          "base_uri": "https://localhost:8080/"
        },
        "id": "iZO9BMBEK5sb",
        "outputId": "af3e4307-613e-4c25-cf86-b6396e0fafde"
      },
      "execution_count": 60,
      "outputs": [
        {
          "output_type": "stream",
          "name": "stdout",
          "text": [
            "<class 'pandas.core.frame.DataFrame'>\n",
            "Int64Index: 273 entries, 0 to 276\n",
            "Data columns (total 6 columns):\n",
            " #   Column            Non-Null Count  Dtype  \n",
            "---  ------            --------------  -----  \n",
            " 0   IPS (semester 1)  273 non-null    object \n",
            " 1   IPS (semester 2)  273 non-null    float64\n",
            " 2   IPS (semester 3)  273 non-null    object \n",
            " 3   IPS (semester 4)  273 non-null    float64\n",
            " 4   IPS (semester 5)  273 non-null    float64\n",
            " 5   kelulusan         273 non-null    object \n",
            "dtypes: float64(3), object(3)\n",
            "memory usage: 14.9+ KB\n"
          ]
        }
      ]
    },
    {
      "cell_type": "code",
      "source": [
        "# Mengecek apakah ada data yang duplicated\n",
        "data_clean.duplicated()"
      ],
      "metadata": {
        "colab": {
          "base_uri": "https://localhost:8080/"
        },
        "id": "qbLmdinDK9Ey",
        "outputId": "d06fd3af-ee7b-4338-d5d2-b9904f771345"
      },
      "execution_count": 61,
      "outputs": [
        {
          "output_type": "execute_result",
          "data": {
            "text/plain": [
              "0      False\n",
              "1      False\n",
              "2      False\n",
              "3      False\n",
              "4      False\n",
              "       ...  \n",
              "272    False\n",
              "273    False\n",
              "274    False\n",
              "275    False\n",
              "276    False\n",
              "Length: 273, dtype: bool"
            ]
          },
          "metadata": {},
          "execution_count": 61
        }
      ]
    },
    {
      "cell_type": "code",
      "source": [
        "# Mengubah data \"Lulus\" menjadi 1 dan \"Tidak Lulus\" menjadi 0\n",
        "data_clean['kelulusan'] = data_clean['kelulusan'].map({'lulus': 1, 'tidak lulus': 0})"
      ],
      "metadata": {
        "colab": {
          "base_uri": "https://localhost:8080/"
        },
        "id": "p3ZAQuElK_Xa",
        "outputId": "a3ba2708-9b35-4c58-aa8f-db19beac5b86"
      },
      "execution_count": 62,
      "outputs": [
        {
          "output_type": "stream",
          "name": "stderr",
          "text": [
            "<ipython-input-62-ec98cc9a3842>:2: SettingWithCopyWarning: \n",
            "A value is trying to be set on a copy of a slice from a DataFrame.\n",
            "Try using .loc[row_indexer,col_indexer] = value instead\n",
            "\n",
            "See the caveats in the documentation: https://pandas.pydata.org/pandas-docs/stable/user_guide/indexing.html#returning-a-view-versus-a-copy\n",
            "  data_clean['kelulusan'] = data_clean['kelulusan'].map({'lulus': 1, 'tidak lulus': 0})\n"
          ]
        }
      ]
    },
    {
      "cell_type": "code",
      "source": [
        "data_clean.head(10)"
      ],
      "metadata": {
        "colab": {
          "base_uri": "https://localhost:8080/",
          "height": 363
        },
        "id": "WajguFK9LOGE",
        "outputId": "7524a468-54f9-4b50-fe17-c5078f12949b"
      },
      "execution_count": 63,
      "outputs": [
        {
          "output_type": "execute_result",
          "data": {
            "text/plain": [
              "  IPS (semester 1)  IPS (semester 2) IPS (semester 3)  IPS (semester 4)  \\\n",
              "0              4.0              3.74             3,55              3.90   \n",
              "1              4.0              3.74              4,0              3.85   \n",
              "2             3.45              3.61             3.27              3.79   \n",
              "3              4.0              3.61             3.89              3.65   \n",
              "4              4.0              3.74             3.94              3.80   \n",
              "5              4.0              3.61              4,0              3.90   \n",
              "6              4,0              3.61             3.89              3.90   \n",
              "7             3.75              3.43             3.83              3.47   \n",
              "8              3.5              3.74              3.9              3.70   \n",
              "9             3.69              3.26             3.89              4.00   \n",
              "\n",
              "   IPS (semester 5)  kelulusan  \n",
              "0              4.00          1  \n",
              "1              3.95          0  \n",
              "2              3.64          0  \n",
              "3              3.80          0  \n",
              "4              3.77          0  \n",
              "5              4.00          0  \n",
              "6              4.00          0  \n",
              "7              3.91          0  \n",
              "8              4.00          0  \n",
              "9              3.59          0  "
            ],
            "text/html": [
              "\n",
              "\n",
              "  <div id=\"df-0ccd7e3b-fa4f-440a-b218-a28e0ba5940a\">\n",
              "    <div class=\"colab-df-container\">\n",
              "      <div>\n",
              "<style scoped>\n",
              "    .dataframe tbody tr th:only-of-type {\n",
              "        vertical-align: middle;\n",
              "    }\n",
              "\n",
              "    .dataframe tbody tr th {\n",
              "        vertical-align: top;\n",
              "    }\n",
              "\n",
              "    .dataframe thead th {\n",
              "        text-align: right;\n",
              "    }\n",
              "</style>\n",
              "<table border=\"1\" class=\"dataframe\">\n",
              "  <thead>\n",
              "    <tr style=\"text-align: right;\">\n",
              "      <th></th>\n",
              "      <th>IPS (semester 1)</th>\n",
              "      <th>IPS (semester 2)</th>\n",
              "      <th>IPS (semester 3)</th>\n",
              "      <th>IPS (semester 4)</th>\n",
              "      <th>IPS (semester 5)</th>\n",
              "      <th>kelulusan</th>\n",
              "    </tr>\n",
              "  </thead>\n",
              "  <tbody>\n",
              "    <tr>\n",
              "      <th>0</th>\n",
              "      <td>4.0</td>\n",
              "      <td>3.74</td>\n",
              "      <td>3,55</td>\n",
              "      <td>3.90</td>\n",
              "      <td>4.00</td>\n",
              "      <td>1</td>\n",
              "    </tr>\n",
              "    <tr>\n",
              "      <th>1</th>\n",
              "      <td>4.0</td>\n",
              "      <td>3.74</td>\n",
              "      <td>4,0</td>\n",
              "      <td>3.85</td>\n",
              "      <td>3.95</td>\n",
              "      <td>0</td>\n",
              "    </tr>\n",
              "    <tr>\n",
              "      <th>2</th>\n",
              "      <td>3.45</td>\n",
              "      <td>3.61</td>\n",
              "      <td>3.27</td>\n",
              "      <td>3.79</td>\n",
              "      <td>3.64</td>\n",
              "      <td>0</td>\n",
              "    </tr>\n",
              "    <tr>\n",
              "      <th>3</th>\n",
              "      <td>4.0</td>\n",
              "      <td>3.61</td>\n",
              "      <td>3.89</td>\n",
              "      <td>3.65</td>\n",
              "      <td>3.80</td>\n",
              "      <td>0</td>\n",
              "    </tr>\n",
              "    <tr>\n",
              "      <th>4</th>\n",
              "      <td>4.0</td>\n",
              "      <td>3.74</td>\n",
              "      <td>3.94</td>\n",
              "      <td>3.80</td>\n",
              "      <td>3.77</td>\n",
              "      <td>0</td>\n",
              "    </tr>\n",
              "    <tr>\n",
              "      <th>5</th>\n",
              "      <td>4.0</td>\n",
              "      <td>3.61</td>\n",
              "      <td>4,0</td>\n",
              "      <td>3.90</td>\n",
              "      <td>4.00</td>\n",
              "      <td>0</td>\n",
              "    </tr>\n",
              "    <tr>\n",
              "      <th>6</th>\n",
              "      <td>4,0</td>\n",
              "      <td>3.61</td>\n",
              "      <td>3.89</td>\n",
              "      <td>3.90</td>\n",
              "      <td>4.00</td>\n",
              "      <td>0</td>\n",
              "    </tr>\n",
              "    <tr>\n",
              "      <th>7</th>\n",
              "      <td>3.75</td>\n",
              "      <td>3.43</td>\n",
              "      <td>3.83</td>\n",
              "      <td>3.47</td>\n",
              "      <td>3.91</td>\n",
              "      <td>0</td>\n",
              "    </tr>\n",
              "    <tr>\n",
              "      <th>8</th>\n",
              "      <td>3.5</td>\n",
              "      <td>3.74</td>\n",
              "      <td>3.9</td>\n",
              "      <td>3.70</td>\n",
              "      <td>4.00</td>\n",
              "      <td>0</td>\n",
              "    </tr>\n",
              "    <tr>\n",
              "      <th>9</th>\n",
              "      <td>3.69</td>\n",
              "      <td>3.26</td>\n",
              "      <td>3.89</td>\n",
              "      <td>4.00</td>\n",
              "      <td>3.59</td>\n",
              "      <td>0</td>\n",
              "    </tr>\n",
              "  </tbody>\n",
              "</table>\n",
              "</div>\n",
              "      <button class=\"colab-df-convert\" onclick=\"convertToInteractive('df-0ccd7e3b-fa4f-440a-b218-a28e0ba5940a')\"\n",
              "              title=\"Convert this dataframe to an interactive table.\"\n",
              "              style=\"display:none;\">\n",
              "\n",
              "  <svg xmlns=\"http://www.w3.org/2000/svg\" height=\"24px\"viewBox=\"0 0 24 24\"\n",
              "       width=\"24px\">\n",
              "    <path d=\"M0 0h24v24H0V0z\" fill=\"none\"/>\n",
              "    <path d=\"M18.56 5.44l.94 2.06.94-2.06 2.06-.94-2.06-.94-.94-2.06-.94 2.06-2.06.94zm-11 1L8.5 8.5l.94-2.06 2.06-.94-2.06-.94L8.5 2.5l-.94 2.06-2.06.94zm10 10l.94 2.06.94-2.06 2.06-.94-2.06-.94-.94-2.06-.94 2.06-2.06.94z\"/><path d=\"M17.41 7.96l-1.37-1.37c-.4-.4-.92-.59-1.43-.59-.52 0-1.04.2-1.43.59L10.3 9.45l-7.72 7.72c-.78.78-.78 2.05 0 2.83L4 21.41c.39.39.9.59 1.41.59.51 0 1.02-.2 1.41-.59l7.78-7.78 2.81-2.81c.8-.78.8-2.07 0-2.86zM5.41 20L4 18.59l7.72-7.72 1.47 1.35L5.41 20z\"/>\n",
              "  </svg>\n",
              "      </button>\n",
              "\n",
              "\n",
              "\n",
              "    <div id=\"df-3fc2e65a-81e9-497d-a9ca-6d1f4e67d139\">\n",
              "      <button class=\"colab-df-quickchart\" onclick=\"quickchart('df-3fc2e65a-81e9-497d-a9ca-6d1f4e67d139')\"\n",
              "              title=\"Suggest charts.\"\n",
              "              style=\"display:none;\">\n",
              "\n",
              "<svg xmlns=\"http://www.w3.org/2000/svg\" height=\"24px\"viewBox=\"0 0 24 24\"\n",
              "     width=\"24px\">\n",
              "    <g>\n",
              "        <path d=\"M19 3H5c-1.1 0-2 .9-2 2v14c0 1.1.9 2 2 2h14c1.1 0 2-.9 2-2V5c0-1.1-.9-2-2-2zM9 17H7v-7h2v7zm4 0h-2V7h2v10zm4 0h-2v-4h2v4z\"/>\n",
              "    </g>\n",
              "</svg>\n",
              "      </button>\n",
              "    </div>\n",
              "\n",
              "<style>\n",
              "  .colab-df-quickchart {\n",
              "    background-color: #E8F0FE;\n",
              "    border: none;\n",
              "    border-radius: 50%;\n",
              "    cursor: pointer;\n",
              "    display: none;\n",
              "    fill: #1967D2;\n",
              "    height: 32px;\n",
              "    padding: 0 0 0 0;\n",
              "    width: 32px;\n",
              "  }\n",
              "\n",
              "  .colab-df-quickchart:hover {\n",
              "    background-color: #E2EBFA;\n",
              "    box-shadow: 0px 1px 2px rgba(60, 64, 67, 0.3), 0px 1px 3px 1px rgba(60, 64, 67, 0.15);\n",
              "    fill: #174EA6;\n",
              "  }\n",
              "\n",
              "  [theme=dark] .colab-df-quickchart {\n",
              "    background-color: #3B4455;\n",
              "    fill: #D2E3FC;\n",
              "  }\n",
              "\n",
              "  [theme=dark] .colab-df-quickchart:hover {\n",
              "    background-color: #434B5C;\n",
              "    box-shadow: 0px 1px 3px 1px rgba(0, 0, 0, 0.15);\n",
              "    filter: drop-shadow(0px 1px 2px rgba(0, 0, 0, 0.3));\n",
              "    fill: #FFFFFF;\n",
              "  }\n",
              "</style>\n",
              "\n",
              "    <script>\n",
              "      async function quickchart(key) {\n",
              "        const containerElement = document.querySelector('#' + key);\n",
              "        const charts = await google.colab.kernel.invokeFunction(\n",
              "            'suggestCharts', [key], {});\n",
              "      }\n",
              "    </script>\n",
              "\n",
              "      <script>\n",
              "\n",
              "function displayQuickchartButton(domScope) {\n",
              "  let quickchartButtonEl =\n",
              "    domScope.querySelector('#df-3fc2e65a-81e9-497d-a9ca-6d1f4e67d139 button.colab-df-quickchart');\n",
              "  quickchartButtonEl.style.display =\n",
              "    google.colab.kernel.accessAllowed ? 'block' : 'none';\n",
              "}\n",
              "\n",
              "        displayQuickchartButton(document);\n",
              "      </script>\n",
              "      <style>\n",
              "    .colab-df-container {\n",
              "      display:flex;\n",
              "      flex-wrap:wrap;\n",
              "      gap: 12px;\n",
              "    }\n",
              "\n",
              "    .colab-df-convert {\n",
              "      background-color: #E8F0FE;\n",
              "      border: none;\n",
              "      border-radius: 50%;\n",
              "      cursor: pointer;\n",
              "      display: none;\n",
              "      fill: #1967D2;\n",
              "      height: 32px;\n",
              "      padding: 0 0 0 0;\n",
              "      width: 32px;\n",
              "    }\n",
              "\n",
              "    .colab-df-convert:hover {\n",
              "      background-color: #E2EBFA;\n",
              "      box-shadow: 0px 1px 2px rgba(60, 64, 67, 0.3), 0px 1px 3px 1px rgba(60, 64, 67, 0.15);\n",
              "      fill: #174EA6;\n",
              "    }\n",
              "\n",
              "    [theme=dark] .colab-df-convert {\n",
              "      background-color: #3B4455;\n",
              "      fill: #D2E3FC;\n",
              "    }\n",
              "\n",
              "    [theme=dark] .colab-df-convert:hover {\n",
              "      background-color: #434B5C;\n",
              "      box-shadow: 0px 1px 3px 1px rgba(0, 0, 0, 0.15);\n",
              "      filter: drop-shadow(0px 1px 2px rgba(0, 0, 0, 0.3));\n",
              "      fill: #FFFFFF;\n",
              "    }\n",
              "  </style>\n",
              "\n",
              "      <script>\n",
              "        const buttonEl =\n",
              "          document.querySelector('#df-0ccd7e3b-fa4f-440a-b218-a28e0ba5940a button.colab-df-convert');\n",
              "        buttonEl.style.display =\n",
              "          google.colab.kernel.accessAllowed ? 'block' : 'none';\n",
              "\n",
              "        async function convertToInteractive(key) {\n",
              "          const element = document.querySelector('#df-0ccd7e3b-fa4f-440a-b218-a28e0ba5940a');\n",
              "          const dataTable =\n",
              "            await google.colab.kernel.invokeFunction('convertToInteractive',\n",
              "                                                     [key], {});\n",
              "          if (!dataTable) return;\n",
              "\n",
              "          const docLinkHtml = 'Like what you see? Visit the ' +\n",
              "            '<a target=\"_blank\" href=https://colab.research.google.com/notebooks/data_table.ipynb>data table notebook</a>'\n",
              "            + ' to learn more about interactive tables.';\n",
              "          element.innerHTML = '';\n",
              "          dataTable['output_type'] = 'display_data';\n",
              "          await google.colab.output.renderOutput(dataTable, element);\n",
              "          const docLink = document.createElement('div');\n",
              "          docLink.innerHTML = docLinkHtml;\n",
              "          element.appendChild(docLink);\n",
              "        }\n",
              "      </script>\n",
              "    </div>\n",
              "  </div>\n"
            ]
          },
          "metadata": {},
          "execution_count": 63
        }
      ]
    },
    {
      "cell_type": "code",
      "source": [
        "data_clean = pd.DataFrame(data_clean)"
      ],
      "metadata": {
        "id": "idztahf-LYEx"
      },
      "execution_count": 64,
      "outputs": []
    },
    {
      "cell_type": "code",
      "source": [
        "data_clean.info()"
      ],
      "metadata": {
        "colab": {
          "base_uri": "https://localhost:8080/"
        },
        "id": "KLE4q6CeLZiq",
        "outputId": "d7da13ee-7018-4ae8-955c-ce044aedf7dc"
      },
      "execution_count": 65,
      "outputs": [
        {
          "output_type": "stream",
          "name": "stdout",
          "text": [
            "<class 'pandas.core.frame.DataFrame'>\n",
            "Int64Index: 273 entries, 0 to 276\n",
            "Data columns (total 6 columns):\n",
            " #   Column            Non-Null Count  Dtype  \n",
            "---  ------            --------------  -----  \n",
            " 0   IPS (semester 1)  273 non-null    object \n",
            " 1   IPS (semester 2)  273 non-null    float64\n",
            " 2   IPS (semester 3)  273 non-null    object \n",
            " 3   IPS (semester 4)  273 non-null    float64\n",
            " 4   IPS (semester 5)  273 non-null    float64\n",
            " 5   kelulusan         273 non-null    int64  \n",
            "dtypes: float64(3), int64(1), object(2)\n",
            "memory usage: 14.9+ KB\n"
          ]
        }
      ]
    },
    {
      "cell_type": "code",
      "source": [
        "# Mengkonversi data string ke float\n",
        "data_clean['IPS (semester 1)'] = pd.to_numeric(data_clean['IPS (semester 1)'],errors='coerce')\n",
        "data_clean['IPS (semester 3)'] = pd.to_numeric(data_clean['IPS (semester 3)'], errors='coerce')"
      ],
      "metadata": {
        "id": "yQ-f86BfLmQL"
      },
      "execution_count": 66,
      "outputs": []
    },
    {
      "cell_type": "code",
      "source": [
        "data_clean.head(10)"
      ],
      "metadata": {
        "colab": {
          "base_uri": "https://localhost:8080/",
          "height": 363
        },
        "id": "CRkrktIxLptr",
        "outputId": "d9328341-99bf-46f7-fded-d93472d0b83d"
      },
      "execution_count": 67,
      "outputs": [
        {
          "output_type": "execute_result",
          "data": {
            "text/plain": [
              "   IPS (semester 1)  IPS (semester 2)  IPS (semester 3)  IPS (semester 4)  \\\n",
              "0              4.00              3.74               NaN              3.90   \n",
              "1              4.00              3.74               NaN              3.85   \n",
              "2              3.45              3.61              3.27              3.79   \n",
              "3              4.00              3.61              3.89              3.65   \n",
              "4              4.00              3.74              3.94              3.80   \n",
              "5              4.00              3.61               NaN              3.90   \n",
              "6               NaN              3.61              3.89              3.90   \n",
              "7              3.75              3.43              3.83              3.47   \n",
              "8              3.50              3.74              3.90              3.70   \n",
              "9              3.69              3.26              3.89              4.00   \n",
              "\n",
              "   IPS (semester 5)  kelulusan  \n",
              "0              4.00          1  \n",
              "1              3.95          0  \n",
              "2              3.64          0  \n",
              "3              3.80          0  \n",
              "4              3.77          0  \n",
              "5              4.00          0  \n",
              "6              4.00          0  \n",
              "7              3.91          0  \n",
              "8              4.00          0  \n",
              "9              3.59          0  "
            ],
            "text/html": [
              "\n",
              "\n",
              "  <div id=\"df-7c438447-77d2-4539-a11a-05e9f1280d2b\">\n",
              "    <div class=\"colab-df-container\">\n",
              "      <div>\n",
              "<style scoped>\n",
              "    .dataframe tbody tr th:only-of-type {\n",
              "        vertical-align: middle;\n",
              "    }\n",
              "\n",
              "    .dataframe tbody tr th {\n",
              "        vertical-align: top;\n",
              "    }\n",
              "\n",
              "    .dataframe thead th {\n",
              "        text-align: right;\n",
              "    }\n",
              "</style>\n",
              "<table border=\"1\" class=\"dataframe\">\n",
              "  <thead>\n",
              "    <tr style=\"text-align: right;\">\n",
              "      <th></th>\n",
              "      <th>IPS (semester 1)</th>\n",
              "      <th>IPS (semester 2)</th>\n",
              "      <th>IPS (semester 3)</th>\n",
              "      <th>IPS (semester 4)</th>\n",
              "      <th>IPS (semester 5)</th>\n",
              "      <th>kelulusan</th>\n",
              "    </tr>\n",
              "  </thead>\n",
              "  <tbody>\n",
              "    <tr>\n",
              "      <th>0</th>\n",
              "      <td>4.00</td>\n",
              "      <td>3.74</td>\n",
              "      <td>NaN</td>\n",
              "      <td>3.90</td>\n",
              "      <td>4.00</td>\n",
              "      <td>1</td>\n",
              "    </tr>\n",
              "    <tr>\n",
              "      <th>1</th>\n",
              "      <td>4.00</td>\n",
              "      <td>3.74</td>\n",
              "      <td>NaN</td>\n",
              "      <td>3.85</td>\n",
              "      <td>3.95</td>\n",
              "      <td>0</td>\n",
              "    </tr>\n",
              "    <tr>\n",
              "      <th>2</th>\n",
              "      <td>3.45</td>\n",
              "      <td>3.61</td>\n",
              "      <td>3.27</td>\n",
              "      <td>3.79</td>\n",
              "      <td>3.64</td>\n",
              "      <td>0</td>\n",
              "    </tr>\n",
              "    <tr>\n",
              "      <th>3</th>\n",
              "      <td>4.00</td>\n",
              "      <td>3.61</td>\n",
              "      <td>3.89</td>\n",
              "      <td>3.65</td>\n",
              "      <td>3.80</td>\n",
              "      <td>0</td>\n",
              "    </tr>\n",
              "    <tr>\n",
              "      <th>4</th>\n",
              "      <td>4.00</td>\n",
              "      <td>3.74</td>\n",
              "      <td>3.94</td>\n",
              "      <td>3.80</td>\n",
              "      <td>3.77</td>\n",
              "      <td>0</td>\n",
              "    </tr>\n",
              "    <tr>\n",
              "      <th>5</th>\n",
              "      <td>4.00</td>\n",
              "      <td>3.61</td>\n",
              "      <td>NaN</td>\n",
              "      <td>3.90</td>\n",
              "      <td>4.00</td>\n",
              "      <td>0</td>\n",
              "    </tr>\n",
              "    <tr>\n",
              "      <th>6</th>\n",
              "      <td>NaN</td>\n",
              "      <td>3.61</td>\n",
              "      <td>3.89</td>\n",
              "      <td>3.90</td>\n",
              "      <td>4.00</td>\n",
              "      <td>0</td>\n",
              "    </tr>\n",
              "    <tr>\n",
              "      <th>7</th>\n",
              "      <td>3.75</td>\n",
              "      <td>3.43</td>\n",
              "      <td>3.83</td>\n",
              "      <td>3.47</td>\n",
              "      <td>3.91</td>\n",
              "      <td>0</td>\n",
              "    </tr>\n",
              "    <tr>\n",
              "      <th>8</th>\n",
              "      <td>3.50</td>\n",
              "      <td>3.74</td>\n",
              "      <td>3.90</td>\n",
              "      <td>3.70</td>\n",
              "      <td>4.00</td>\n",
              "      <td>0</td>\n",
              "    </tr>\n",
              "    <tr>\n",
              "      <th>9</th>\n",
              "      <td>3.69</td>\n",
              "      <td>3.26</td>\n",
              "      <td>3.89</td>\n",
              "      <td>4.00</td>\n",
              "      <td>3.59</td>\n",
              "      <td>0</td>\n",
              "    </tr>\n",
              "  </tbody>\n",
              "</table>\n",
              "</div>\n",
              "      <button class=\"colab-df-convert\" onclick=\"convertToInteractive('df-7c438447-77d2-4539-a11a-05e9f1280d2b')\"\n",
              "              title=\"Convert this dataframe to an interactive table.\"\n",
              "              style=\"display:none;\">\n",
              "\n",
              "  <svg xmlns=\"http://www.w3.org/2000/svg\" height=\"24px\"viewBox=\"0 0 24 24\"\n",
              "       width=\"24px\">\n",
              "    <path d=\"M0 0h24v24H0V0z\" fill=\"none\"/>\n",
              "    <path d=\"M18.56 5.44l.94 2.06.94-2.06 2.06-.94-2.06-.94-.94-2.06-.94 2.06-2.06.94zm-11 1L8.5 8.5l.94-2.06 2.06-.94-2.06-.94L8.5 2.5l-.94 2.06-2.06.94zm10 10l.94 2.06.94-2.06 2.06-.94-2.06-.94-.94-2.06-.94 2.06-2.06.94z\"/><path d=\"M17.41 7.96l-1.37-1.37c-.4-.4-.92-.59-1.43-.59-.52 0-1.04.2-1.43.59L10.3 9.45l-7.72 7.72c-.78.78-.78 2.05 0 2.83L4 21.41c.39.39.9.59 1.41.59.51 0 1.02-.2 1.41-.59l7.78-7.78 2.81-2.81c.8-.78.8-2.07 0-2.86zM5.41 20L4 18.59l7.72-7.72 1.47 1.35L5.41 20z\"/>\n",
              "  </svg>\n",
              "      </button>\n",
              "\n",
              "\n",
              "\n",
              "    <div id=\"df-63c0ba88-ec51-4c66-bd49-aa18b118a26f\">\n",
              "      <button class=\"colab-df-quickchart\" onclick=\"quickchart('df-63c0ba88-ec51-4c66-bd49-aa18b118a26f')\"\n",
              "              title=\"Suggest charts.\"\n",
              "              style=\"display:none;\">\n",
              "\n",
              "<svg xmlns=\"http://www.w3.org/2000/svg\" height=\"24px\"viewBox=\"0 0 24 24\"\n",
              "     width=\"24px\">\n",
              "    <g>\n",
              "        <path d=\"M19 3H5c-1.1 0-2 .9-2 2v14c0 1.1.9 2 2 2h14c1.1 0 2-.9 2-2V5c0-1.1-.9-2-2-2zM9 17H7v-7h2v7zm4 0h-2V7h2v10zm4 0h-2v-4h2v4z\"/>\n",
              "    </g>\n",
              "</svg>\n",
              "      </button>\n",
              "    </div>\n",
              "\n",
              "<style>\n",
              "  .colab-df-quickchart {\n",
              "    background-color: #E8F0FE;\n",
              "    border: none;\n",
              "    border-radius: 50%;\n",
              "    cursor: pointer;\n",
              "    display: none;\n",
              "    fill: #1967D2;\n",
              "    height: 32px;\n",
              "    padding: 0 0 0 0;\n",
              "    width: 32px;\n",
              "  }\n",
              "\n",
              "  .colab-df-quickchart:hover {\n",
              "    background-color: #E2EBFA;\n",
              "    box-shadow: 0px 1px 2px rgba(60, 64, 67, 0.3), 0px 1px 3px 1px rgba(60, 64, 67, 0.15);\n",
              "    fill: #174EA6;\n",
              "  }\n",
              "\n",
              "  [theme=dark] .colab-df-quickchart {\n",
              "    background-color: #3B4455;\n",
              "    fill: #D2E3FC;\n",
              "  }\n",
              "\n",
              "  [theme=dark] .colab-df-quickchart:hover {\n",
              "    background-color: #434B5C;\n",
              "    box-shadow: 0px 1px 3px 1px rgba(0, 0, 0, 0.15);\n",
              "    filter: drop-shadow(0px 1px 2px rgba(0, 0, 0, 0.3));\n",
              "    fill: #FFFFFF;\n",
              "  }\n",
              "</style>\n",
              "\n",
              "    <script>\n",
              "      async function quickchart(key) {\n",
              "        const containerElement = document.querySelector('#' + key);\n",
              "        const charts = await google.colab.kernel.invokeFunction(\n",
              "            'suggestCharts', [key], {});\n",
              "      }\n",
              "    </script>\n",
              "\n",
              "      <script>\n",
              "\n",
              "function displayQuickchartButton(domScope) {\n",
              "  let quickchartButtonEl =\n",
              "    domScope.querySelector('#df-63c0ba88-ec51-4c66-bd49-aa18b118a26f button.colab-df-quickchart');\n",
              "  quickchartButtonEl.style.display =\n",
              "    google.colab.kernel.accessAllowed ? 'block' : 'none';\n",
              "}\n",
              "\n",
              "        displayQuickchartButton(document);\n",
              "      </script>\n",
              "      <style>\n",
              "    .colab-df-container {\n",
              "      display:flex;\n",
              "      flex-wrap:wrap;\n",
              "      gap: 12px;\n",
              "    }\n",
              "\n",
              "    .colab-df-convert {\n",
              "      background-color: #E8F0FE;\n",
              "      border: none;\n",
              "      border-radius: 50%;\n",
              "      cursor: pointer;\n",
              "      display: none;\n",
              "      fill: #1967D2;\n",
              "      height: 32px;\n",
              "      padding: 0 0 0 0;\n",
              "      width: 32px;\n",
              "    }\n",
              "\n",
              "    .colab-df-convert:hover {\n",
              "      background-color: #E2EBFA;\n",
              "      box-shadow: 0px 1px 2px rgba(60, 64, 67, 0.3), 0px 1px 3px 1px rgba(60, 64, 67, 0.15);\n",
              "      fill: #174EA6;\n",
              "    }\n",
              "\n",
              "    [theme=dark] .colab-df-convert {\n",
              "      background-color: #3B4455;\n",
              "      fill: #D2E3FC;\n",
              "    }\n",
              "\n",
              "    [theme=dark] .colab-df-convert:hover {\n",
              "      background-color: #434B5C;\n",
              "      box-shadow: 0px 1px 3px 1px rgba(0, 0, 0, 0.15);\n",
              "      filter: drop-shadow(0px 1px 2px rgba(0, 0, 0, 0.3));\n",
              "      fill: #FFFFFF;\n",
              "    }\n",
              "  </style>\n",
              "\n",
              "      <script>\n",
              "        const buttonEl =\n",
              "          document.querySelector('#df-7c438447-77d2-4539-a11a-05e9f1280d2b button.colab-df-convert');\n",
              "        buttonEl.style.display =\n",
              "          google.colab.kernel.accessAllowed ? 'block' : 'none';\n",
              "\n",
              "        async function convertToInteractive(key) {\n",
              "          const element = document.querySelector('#df-7c438447-77d2-4539-a11a-05e9f1280d2b');\n",
              "          const dataTable =\n",
              "            await google.colab.kernel.invokeFunction('convertToInteractive',\n",
              "                                                     [key], {});\n",
              "          if (!dataTable) return;\n",
              "\n",
              "          const docLinkHtml = 'Like what you see? Visit the ' +\n",
              "            '<a target=\"_blank\" href=https://colab.research.google.com/notebooks/data_table.ipynb>data table notebook</a>'\n",
              "            + ' to learn more about interactive tables.';\n",
              "          element.innerHTML = '';\n",
              "          dataTable['output_type'] = 'display_data';\n",
              "          await google.colab.output.renderOutput(dataTable, element);\n",
              "          const docLink = document.createElement('div');\n",
              "          docLink.innerHTML = docLinkHtml;\n",
              "          element.appendChild(docLink);\n",
              "        }\n",
              "      </script>\n",
              "    </div>\n",
              "  </div>\n"
            ]
          },
          "metadata": {},
          "execution_count": 67
        }
      ]
    },
    {
      "cell_type": "code",
      "source": [
        "data_clean['IPS (semester 1)'].fillna(4.0,inplace=True)\n",
        "data_clean['IPS (semester 3)'].fillna(4.0,inplace=True)"
      ],
      "metadata": {
        "id": "RvOVd2mKLswb"
      },
      "execution_count": 68,
      "outputs": []
    },
    {
      "cell_type": "code",
      "source": [
        "data_clean.isnull().sum()"
      ],
      "metadata": {
        "colab": {
          "base_uri": "https://localhost:8080/"
        },
        "id": "csH9CfDGLv77",
        "outputId": "3ad6fe94-a3b2-45ed-de84-1fdd83dd7239"
      },
      "execution_count": 69,
      "outputs": [
        {
          "output_type": "execute_result",
          "data": {
            "text/plain": [
              "IPS (semester 1)    0\n",
              "IPS (semester 2)    0\n",
              "IPS (semester 3)    0\n",
              "IPS (semester 4)    0\n",
              "IPS (semester 5)    0\n",
              "kelulusan           0\n",
              "dtype: int64"
            ]
          },
          "metadata": {},
          "execution_count": 69
        }
      ]
    },
    {
      "cell_type": "code",
      "source": [
        "data_clean.info()"
      ],
      "metadata": {
        "colab": {
          "base_uri": "https://localhost:8080/"
        },
        "id": "WC2HYqFnLz3b",
        "outputId": "f71cb8a1-6d8e-4dc8-b9b2-382c6472a6c3"
      },
      "execution_count": 70,
      "outputs": [
        {
          "output_type": "stream",
          "name": "stdout",
          "text": [
            "<class 'pandas.core.frame.DataFrame'>\n",
            "Int64Index: 273 entries, 0 to 276\n",
            "Data columns (total 6 columns):\n",
            " #   Column            Non-Null Count  Dtype  \n",
            "---  ------            --------------  -----  \n",
            " 0   IPS (semester 1)  273 non-null    float64\n",
            " 1   IPS (semester 2)  273 non-null    float64\n",
            " 2   IPS (semester 3)  273 non-null    float64\n",
            " 3   IPS (semester 4)  273 non-null    float64\n",
            " 4   IPS (semester 5)  273 non-null    float64\n",
            " 5   kelulusan         273 non-null    int64  \n",
            "dtypes: float64(5), int64(1)\n",
            "memory usage: 14.9 KB\n"
          ]
        }
      ]
    },
    {
      "cell_type": "code",
      "source": [
        "total_data = len(data_clean)\n",
        "print(\"Jumlah keseluruhan data = \",total_data)\n",
        "total_data_yang_hilang = total_jumlah_data_sebelum_dibersihkan - total_data\n",
        "print(\"Jumlah data yang hilang = \",total_data_yang_hilang)"
      ],
      "metadata": {
        "colab": {
          "base_uri": "https://localhost:8080/"
        },
        "id": "gX952LEpL41Q",
        "outputId": "907cc05d-7f34-49ea-c188-28d210a60938"
      },
      "execution_count": 71,
      "outputs": [
        {
          "output_type": "stream",
          "name": "stdout",
          "text": [
            "Jumlah keseluruhan data =  273\n",
            "Jumlah data yang hilang =  4\n"
          ]
        }
      ]
    },
    {
      "cell_type": "code",
      "source": [
        "X = data_clean[data_clean.columns[:5]]\n",
        "print(X)"
      ],
      "metadata": {
        "colab": {
          "base_uri": "https://localhost:8080/"
        },
        "id": "2jmLTNDoM7Y9",
        "outputId": "31bed897-c198-49c6-cc41-2aaad6c1fff9"
      },
      "execution_count": 72,
      "outputs": [
        {
          "output_type": "stream",
          "name": "stdout",
          "text": [
            "     IPS (semester 1)  IPS (semester 2)  IPS (semester 3)  IPS (semester 4)  \\\n",
            "0                4.00              3.74              4.00              3.90   \n",
            "1                4.00              3.74              4.00              3.85   \n",
            "2                3.45              3.61              3.27              3.79   \n",
            "3                4.00              3.61              3.89              3.65   \n",
            "4                4.00              3.74              3.94              3.80   \n",
            "..                ...               ...               ...               ...   \n",
            "272              3.09              3.47              3.63              2.82   \n",
            "273              3.14              3.63              3.84              3.00   \n",
            "274              3.52              4.00              4.00              3.73   \n",
            "275              3.24              3.79              3.58              3.55   \n",
            "276              4.00              4.00              3.84              3.55   \n",
            "\n",
            "     IPS (semester 5)  \n",
            "0                4.00  \n",
            "1                3.95  \n",
            "2                3.64  \n",
            "3                3.80  \n",
            "4                3.77  \n",
            "..                ...  \n",
            "272              3.15  \n",
            "273              3.17  \n",
            "274              3.70  \n",
            "275              3.61  \n",
            "276              3.85  \n",
            "\n",
            "[273 rows x 5 columns]\n"
          ]
        }
      ]
    },
    {
      "cell_type": "code",
      "source": [
        "y = data_clean['kelulusan']\n",
        "print(y)"
      ],
      "metadata": {
        "colab": {
          "base_uri": "https://localhost:8080/"
        },
        "id": "wscOWRZONJau",
        "outputId": "371f4a8e-3b5f-4c39-df06-beb3cd8f5de9"
      },
      "execution_count": 73,
      "outputs": [
        {
          "output_type": "stream",
          "name": "stdout",
          "text": [
            "0      1\n",
            "1      0\n",
            "2      0\n",
            "3      0\n",
            "4      0\n",
            "      ..\n",
            "272    1\n",
            "273    1\n",
            "274    1\n",
            "275    1\n",
            "276    1\n",
            "Name: kelulusan, Length: 273, dtype: int64\n"
          ]
        }
      ]
    },
    {
      "cell_type": "code",
      "source": [
        "# Membagi dataset menjadi data latih dan data uji => data latih 70% data testing 30%\n",
        "X_train, X_test, y_train, y_test = train_test_split(X, y, test_size=0.3)"
      ],
      "metadata": {
        "id": "4hDIg-WANRHr"
      },
      "execution_count": 74,
      "outputs": []
    },
    {
      "cell_type": "code",
      "source": [
        "data_latih = len(X_train)\n",
        "data_latih_y = len(y_train)\n",
        "print(\"Jumlah data latih X_train = \",data_latih)\n",
        "print(\"Jumlah data latih y_train = \",data_latih_y)"
      ],
      "metadata": {
        "colab": {
          "base_uri": "https://localhost:8080/"
        },
        "id": "OLt6HBFONZvV",
        "outputId": "8a2044b7-ccf4-43a6-daa0-bc23c2bd3e49"
      },
      "execution_count": 75,
      "outputs": [
        {
          "output_type": "stream",
          "name": "stdout",
          "text": [
            "Jumlah data latih X_train =  191\n",
            "Jumlah data latih y_train =  191\n"
          ]
        }
      ]
    },
    {
      "cell_type": "code",
      "source": [
        "data_testing = len(X_test)\n",
        "data_testing_y = len(y_test)\n",
        "print(\"Jumlah data testing X_test = \",data_testing)\n",
        "print(\"Jumlah data testing y_test = \",data_testing_y)"
      ],
      "metadata": {
        "colab": {
          "base_uri": "https://localhost:8080/"
        },
        "id": "3jcEKmkxNrNT",
        "outputId": "c1eda743-f5a0-4755-a375-739bf4e00c32"
      },
      "execution_count": 76,
      "outputs": [
        {
          "output_type": "stream",
          "name": "stdout",
          "text": [
            "Jumlah data testing X_test =  82\n",
            "Jumlah data testing y_test =  82\n"
          ]
        }
      ]
    },
    {
      "cell_type": "code",
      "source": [
        "model = Sequential()\n",
        "model.add(Dense(32, input_dim=X.shape[1], activation='relu'))\n",
        "model.add(Dense(1024,activation='relu'))\n",
        "model.add(Dense(512,activation='relu'))\n",
        "model.add(Dense(256,activation='relu'))\n",
        "model.add(Dense(128,activation='relu'))\n",
        "model.add(Dense(16,activation='relu'))\n",
        "model.add(Dense(1, activation='sigmoid'))"
      ],
      "metadata": {
        "id": "w4c_pXriN51D"
      },
      "execution_count": 77,
      "outputs": []
    },
    {
      "cell_type": "code",
      "source": [
        "# Mengompilasi model\n",
        "model.compile(loss='binary_crossentropy', optimizer='adam', metrics=['accuracy'])"
      ],
      "metadata": {
        "id": "n0aWNyllN8bV"
      },
      "execution_count": 78,
      "outputs": []
    },
    {
      "cell_type": "code",
      "source": [
        "# Melatih model\n",
        "model.fit(X_train, y_train, epochs=100, batch_size=10, validation_data = (X_test,y_test),verbose=1)"
      ],
      "metadata": {
        "colab": {
          "base_uri": "https://localhost:8080/"
        },
        "id": "8yRuE6_jN-dT",
        "outputId": "44500486-348c-4b16-ebfc-521f0d5596d2"
      },
      "execution_count": 79,
      "outputs": [
        {
          "output_type": "stream",
          "name": "stdout",
          "text": [
            "Epoch 1/100\n",
            "20/20 [==============================] - 3s 26ms/step - loss: 0.5010 - accuracy: 0.8063 - val_loss: 0.3553 - val_accuracy: 0.8902\n",
            "Epoch 2/100\n",
            "20/20 [==============================] - 0s 16ms/step - loss: 0.4497 - accuracy: 0.8482 - val_loss: 0.3469 - val_accuracy: 0.8902\n",
            "Epoch 3/100\n",
            "20/20 [==============================] - 0s 16ms/step - loss: 0.4418 - accuracy: 0.8482 - val_loss: 0.3484 - val_accuracy: 0.8902\n",
            "Epoch 4/100\n",
            "20/20 [==============================] - 0s 15ms/step - loss: 0.4223 - accuracy: 0.8482 - val_loss: 0.3410 - val_accuracy: 0.8902\n",
            "Epoch 5/100\n",
            "20/20 [==============================] - 0s 17ms/step - loss: 0.4045 - accuracy: 0.8482 - val_loss: 0.3962 - val_accuracy: 0.8902\n",
            "Epoch 6/100\n",
            "20/20 [==============================] - 0s 16ms/step - loss: 0.4305 - accuracy: 0.8534 - val_loss: 0.2753 - val_accuracy: 0.8902\n",
            "Epoch 7/100\n",
            "20/20 [==============================] - 0s 15ms/step - loss: 0.4007 - accuracy: 0.8534 - val_loss: 0.2560 - val_accuracy: 0.8902\n",
            "Epoch 8/100\n",
            "20/20 [==============================] - 0s 17ms/step - loss: 0.4119 - accuracy: 0.8534 - val_loss: 0.2861 - val_accuracy: 0.9024\n",
            "Epoch 9/100\n",
            "20/20 [==============================] - 0s 16ms/step - loss: 0.3639 - accuracy: 0.8586 - val_loss: 0.2530 - val_accuracy: 0.9024\n",
            "Epoch 10/100\n",
            "20/20 [==============================] - 0s 14ms/step - loss: 0.3553 - accuracy: 0.8586 - val_loss: 0.3431 - val_accuracy: 0.9146\n",
            "Epoch 11/100\n",
            "20/20 [==============================] - 0s 16ms/step - loss: 0.3908 - accuracy: 0.8639 - val_loss: 0.3138 - val_accuracy: 0.9390\n",
            "Epoch 12/100\n",
            "20/20 [==============================] - 0s 15ms/step - loss: 0.3646 - accuracy: 0.8743 - val_loss: 0.2378 - val_accuracy: 0.9390\n",
            "Epoch 13/100\n",
            "20/20 [==============================] - 0s 15ms/step - loss: 0.4102 - accuracy: 0.8220 - val_loss: 0.2582 - val_accuracy: 0.9512\n",
            "Epoch 14/100\n",
            "20/20 [==============================] - 0s 14ms/step - loss: 0.3353 - accuracy: 0.8848 - val_loss: 0.2021 - val_accuracy: 0.9512\n",
            "Epoch 15/100\n",
            "20/20 [==============================] - 0s 16ms/step - loss: 0.3585 - accuracy: 0.8482 - val_loss: 0.2592 - val_accuracy: 0.8902\n",
            "Epoch 16/100\n",
            "20/20 [==============================] - 0s 14ms/step - loss: 0.3363 - accuracy: 0.8534 - val_loss: 0.2799 - val_accuracy: 0.9512\n",
            "Epoch 17/100\n",
            "20/20 [==============================] - 0s 16ms/step - loss: 0.3918 - accuracy: 0.8534 - val_loss: 0.2732 - val_accuracy: 0.8902\n",
            "Epoch 18/100\n",
            "20/20 [==============================] - 0s 16ms/step - loss: 0.3474 - accuracy: 0.8639 - val_loss: 0.2940 - val_accuracy: 0.9024\n",
            "Epoch 19/100\n",
            "20/20 [==============================] - 0s 16ms/step - loss: 0.4804 - accuracy: 0.8115 - val_loss: 0.2671 - val_accuracy: 0.8902\n",
            "Epoch 20/100\n",
            "20/20 [==============================] - 0s 16ms/step - loss: 0.4329 - accuracy: 0.8482 - val_loss: 0.2638 - val_accuracy: 0.8902\n",
            "Epoch 21/100\n",
            "20/20 [==============================] - 0s 18ms/step - loss: 0.3489 - accuracy: 0.8586 - val_loss: 0.2176 - val_accuracy: 0.8902\n",
            "Epoch 22/100\n",
            "20/20 [==============================] - 0s 15ms/step - loss: 0.3283 - accuracy: 0.8377 - val_loss: 0.2046 - val_accuracy: 0.9756\n",
            "Epoch 23/100\n",
            "20/20 [==============================] - 0s 15ms/step - loss: 0.3211 - accuracy: 0.8848 - val_loss: 0.1918 - val_accuracy: 0.9634\n",
            "Epoch 24/100\n",
            "20/20 [==============================] - 0s 14ms/step - loss: 0.3104 - accuracy: 0.9005 - val_loss: 0.2379 - val_accuracy: 0.8902\n",
            "Epoch 25/100\n",
            "20/20 [==============================] - 0s 15ms/step - loss: 0.3693 - accuracy: 0.8743 - val_loss: 0.2318 - val_accuracy: 0.8902\n",
            "Epoch 26/100\n",
            "20/20 [==============================] - 0s 15ms/step - loss: 0.3170 - accuracy: 0.8691 - val_loss: 0.2332 - val_accuracy: 0.9512\n",
            "Epoch 27/100\n",
            "20/20 [==============================] - 0s 15ms/step - loss: 0.3799 - accuracy: 0.8168 - val_loss: 0.2430 - val_accuracy: 0.8902\n",
            "Epoch 28/100\n",
            "20/20 [==============================] - 0s 16ms/step - loss: 0.3337 - accuracy: 0.8586 - val_loss: 0.2141 - val_accuracy: 0.9024\n",
            "Epoch 29/100\n",
            "20/20 [==============================] - 0s 15ms/step - loss: 0.3408 - accuracy: 0.8586 - val_loss: 0.2098 - val_accuracy: 0.8902\n",
            "Epoch 30/100\n",
            "20/20 [==============================] - 0s 15ms/step - loss: 0.3662 - accuracy: 0.8482 - val_loss: 0.3051 - val_accuracy: 0.8902\n",
            "Epoch 31/100\n",
            "20/20 [==============================] - 0s 23ms/step - loss: 0.3430 - accuracy: 0.8586 - val_loss: 0.2199 - val_accuracy: 0.8902\n",
            "Epoch 32/100\n",
            "20/20 [==============================] - 0s 24ms/step - loss: 0.3204 - accuracy: 0.8534 - val_loss: 0.1939 - val_accuracy: 0.9512\n",
            "Epoch 33/100\n",
            "20/20 [==============================] - 0s 24ms/step - loss: 0.2987 - accuracy: 0.8953 - val_loss: 0.1955 - val_accuracy: 0.9146\n",
            "Epoch 34/100\n",
            "20/20 [==============================] - 0s 25ms/step - loss: 0.3010 - accuracy: 0.8901 - val_loss: 0.1933 - val_accuracy: 0.9268\n",
            "Epoch 35/100\n",
            "20/20 [==============================] - 0s 23ms/step - loss: 0.2977 - accuracy: 0.8953 - val_loss: 0.2385 - val_accuracy: 0.8902\n",
            "Epoch 36/100\n",
            "20/20 [==============================] - 0s 23ms/step - loss: 0.3398 - accuracy: 0.8586 - val_loss: 0.2577 - val_accuracy: 0.9268\n",
            "Epoch 37/100\n",
            "20/20 [==============================] - 0s 19ms/step - loss: 0.3235 - accuracy: 0.8586 - val_loss: 0.1968 - val_accuracy: 0.9634\n",
            "Epoch 38/100\n",
            "20/20 [==============================] - 0s 17ms/step - loss: 0.3754 - accuracy: 0.8586 - val_loss: 0.3010 - val_accuracy: 0.9024\n",
            "Epoch 39/100\n",
            "20/20 [==============================] - 0s 17ms/step - loss: 0.3501 - accuracy: 0.8586 - val_loss: 0.2493 - val_accuracy: 0.9024\n",
            "Epoch 40/100\n",
            "20/20 [==============================] - 0s 15ms/step - loss: 0.2922 - accuracy: 0.8743 - val_loss: 0.2040 - val_accuracy: 0.9024\n",
            "Epoch 41/100\n",
            "20/20 [==============================] - 0s 18ms/step - loss: 0.3040 - accuracy: 0.8848 - val_loss: 0.2233 - val_accuracy: 0.8902\n",
            "Epoch 42/100\n",
            "20/20 [==============================] - 0s 16ms/step - loss: 0.3234 - accuracy: 0.8848 - val_loss: 0.1842 - val_accuracy: 0.9634\n",
            "Epoch 43/100\n",
            "20/20 [==============================] - 0s 17ms/step - loss: 0.2858 - accuracy: 0.8953 - val_loss: 0.1800 - val_accuracy: 0.9390\n",
            "Epoch 44/100\n",
            "20/20 [==============================] - 0s 17ms/step - loss: 0.2984 - accuracy: 0.8901 - val_loss: 0.2041 - val_accuracy: 0.9024\n",
            "Epoch 45/100\n",
            "20/20 [==============================] - 0s 15ms/step - loss: 0.2967 - accuracy: 0.8901 - val_loss: 0.1842 - val_accuracy: 0.9268\n",
            "Epoch 46/100\n",
            "20/20 [==============================] - 0s 17ms/step - loss: 0.2868 - accuracy: 0.9058 - val_loss: 0.1878 - val_accuracy: 0.9512\n",
            "Epoch 47/100\n",
            "20/20 [==============================] - 0s 16ms/step - loss: 0.3196 - accuracy: 0.8691 - val_loss: 0.2332 - val_accuracy: 0.9268\n",
            "Epoch 48/100\n",
            "20/20 [==============================] - 0s 15ms/step - loss: 0.3251 - accuracy: 0.8691 - val_loss: 0.2168 - val_accuracy: 0.9634\n",
            "Epoch 49/100\n",
            "20/20 [==============================] - 0s 15ms/step - loss: 0.3279 - accuracy: 0.8691 - val_loss: 0.2687 - val_accuracy: 0.8902\n",
            "Epoch 50/100\n",
            "20/20 [==============================] - 0s 15ms/step - loss: 0.3061 - accuracy: 0.8586 - val_loss: 0.1987 - val_accuracy: 0.8902\n",
            "Epoch 51/100\n",
            "20/20 [==============================] - 0s 15ms/step - loss: 0.2879 - accuracy: 0.8796 - val_loss: 0.2369 - val_accuracy: 0.9512\n",
            "Epoch 52/100\n",
            "20/20 [==============================] - 0s 15ms/step - loss: 0.2625 - accuracy: 0.9058 - val_loss: 0.1790 - val_accuracy: 0.9268\n",
            "Epoch 53/100\n",
            "20/20 [==============================] - 0s 14ms/step - loss: 0.3131 - accuracy: 0.8796 - val_loss: 0.2000 - val_accuracy: 0.9512\n",
            "Epoch 54/100\n",
            "20/20 [==============================] - 0s 14ms/step - loss: 0.2840 - accuracy: 0.8953 - val_loss: 0.1531 - val_accuracy: 0.9634\n",
            "Epoch 55/100\n",
            "20/20 [==============================] - 0s 14ms/step - loss: 0.2528 - accuracy: 0.9110 - val_loss: 0.1890 - val_accuracy: 0.9268\n",
            "Epoch 56/100\n",
            "20/20 [==============================] - 0s 15ms/step - loss: 0.3182 - accuracy: 0.8848 - val_loss: 0.2091 - val_accuracy: 0.9634\n",
            "Epoch 57/100\n",
            "20/20 [==============================] - 0s 16ms/step - loss: 0.2626 - accuracy: 0.9058 - val_loss: 0.1491 - val_accuracy: 0.9512\n",
            "Epoch 58/100\n",
            "20/20 [==============================] - 0s 17ms/step - loss: 0.2573 - accuracy: 0.9005 - val_loss: 0.1619 - val_accuracy: 0.9512\n",
            "Epoch 59/100\n",
            "20/20 [==============================] - 0s 15ms/step - loss: 0.2595 - accuracy: 0.9110 - val_loss: 0.1604 - val_accuracy: 0.9634\n",
            "Epoch 60/100\n",
            "20/20 [==============================] - 0s 15ms/step - loss: 0.2644 - accuracy: 0.8848 - val_loss: 0.1836 - val_accuracy: 0.9390\n",
            "Epoch 61/100\n",
            "20/20 [==============================] - 0s 16ms/step - loss: 0.2448 - accuracy: 0.9058 - val_loss: 0.1625 - val_accuracy: 0.9634\n",
            "Epoch 62/100\n",
            "20/20 [==============================] - 0s 16ms/step - loss: 0.2331 - accuracy: 0.9058 - val_loss: 0.1869 - val_accuracy: 0.9390\n",
            "Epoch 63/100\n",
            "20/20 [==============================] - 0s 16ms/step - loss: 0.2452 - accuracy: 0.9058 - val_loss: 0.1723 - val_accuracy: 0.9512\n",
            "Epoch 64/100\n",
            "20/20 [==============================] - 0s 16ms/step - loss: 0.2245 - accuracy: 0.9162 - val_loss: 0.1816 - val_accuracy: 0.9512\n",
            "Epoch 65/100\n",
            "20/20 [==============================] - 0s 16ms/step - loss: 0.2413 - accuracy: 0.9058 - val_loss: 0.1946 - val_accuracy: 0.9634\n",
            "Epoch 66/100\n",
            "20/20 [==============================] - 0s 14ms/step - loss: 0.2584 - accuracy: 0.8901 - val_loss: 0.2186 - val_accuracy: 0.9390\n",
            "Epoch 67/100\n",
            "20/20 [==============================] - 0s 16ms/step - loss: 0.2726 - accuracy: 0.8848 - val_loss: 0.1976 - val_accuracy: 0.9634\n",
            "Epoch 68/100\n",
            "20/20 [==============================] - 0s 20ms/step - loss: 0.2324 - accuracy: 0.9215 - val_loss: 0.1692 - val_accuracy: 0.9634\n",
            "Epoch 69/100\n",
            "20/20 [==============================] - 0s 21ms/step - loss: 0.2643 - accuracy: 0.9058 - val_loss: 0.1988 - val_accuracy: 0.9634\n",
            "Epoch 70/100\n",
            "20/20 [==============================] - 1s 26ms/step - loss: 0.2482 - accuracy: 0.8953 - val_loss: 0.1906 - val_accuracy: 0.9634\n",
            "Epoch 71/100\n",
            "20/20 [==============================] - 0s 25ms/step - loss: 0.2385 - accuracy: 0.8796 - val_loss: 0.1900 - val_accuracy: 0.9634\n",
            "Epoch 72/100\n",
            "20/20 [==============================] - 1s 26ms/step - loss: 0.2493 - accuracy: 0.9162 - val_loss: 0.3184 - val_accuracy: 0.8537\n",
            "Epoch 73/100\n",
            "20/20 [==============================] - 0s 25ms/step - loss: 0.3307 - accuracy: 0.8639 - val_loss: 0.2481 - val_accuracy: 0.9146\n",
            "Epoch 74/100\n",
            "20/20 [==============================] - 0s 21ms/step - loss: 0.2486 - accuracy: 0.9110 - val_loss: 0.1768 - val_accuracy: 0.9634\n",
            "Epoch 75/100\n",
            "20/20 [==============================] - 0s 16ms/step - loss: 0.2471 - accuracy: 0.8901 - val_loss: 0.2686 - val_accuracy: 0.8902\n",
            "Epoch 76/100\n",
            "20/20 [==============================] - 0s 15ms/step - loss: 0.2859 - accuracy: 0.8534 - val_loss: 0.2091 - val_accuracy: 0.9634\n",
            "Epoch 77/100\n",
            "20/20 [==============================] - 0s 16ms/step - loss: 0.2590 - accuracy: 0.9215 - val_loss: 0.2512 - val_accuracy: 0.9268\n",
            "Epoch 78/100\n",
            "20/20 [==============================] - 0s 16ms/step - loss: 0.3757 - accuracy: 0.7749 - val_loss: 0.2730 - val_accuracy: 0.8902\n",
            "Epoch 79/100\n",
            "20/20 [==============================] - 0s 16ms/step - loss: 0.3178 - accuracy: 0.8586 - val_loss: 0.2415 - val_accuracy: 0.8902\n",
            "Epoch 80/100\n",
            "20/20 [==============================] - 0s 16ms/step - loss: 0.2546 - accuracy: 0.8586 - val_loss: 0.1697 - val_accuracy: 0.9512\n",
            "Epoch 81/100\n",
            "20/20 [==============================] - 0s 16ms/step - loss: 0.2418 - accuracy: 0.9058 - val_loss: 0.2064 - val_accuracy: 0.9390\n",
            "Epoch 82/100\n",
            "20/20 [==============================] - 0s 17ms/step - loss: 0.2735 - accuracy: 0.8639 - val_loss: 0.2969 - val_accuracy: 0.9268\n",
            "Epoch 83/100\n",
            "20/20 [==============================] - 0s 15ms/step - loss: 0.3201 - accuracy: 0.8534 - val_loss: 0.2695 - val_accuracy: 0.8902\n",
            "Epoch 84/100\n",
            "20/20 [==============================] - 0s 17ms/step - loss: 0.2634 - accuracy: 0.8691 - val_loss: 0.1761 - val_accuracy: 0.9268\n",
            "Epoch 85/100\n",
            "20/20 [==============================] - 0s 14ms/step - loss: 0.2304 - accuracy: 0.9162 - val_loss: 0.1698 - val_accuracy: 0.9634\n",
            "Epoch 86/100\n",
            "20/20 [==============================] - 0s 18ms/step - loss: 0.2262 - accuracy: 0.8953 - val_loss: 0.1847 - val_accuracy: 0.9634\n",
            "Epoch 87/100\n",
            "20/20 [==============================] - 0s 16ms/step - loss: 0.2266 - accuracy: 0.9058 - val_loss: 0.2123 - val_accuracy: 0.9390\n",
            "Epoch 88/100\n",
            "20/20 [==============================] - 0s 14ms/step - loss: 0.2250 - accuracy: 0.8953 - val_loss: 0.1905 - val_accuracy: 0.9634\n",
            "Epoch 89/100\n",
            "20/20 [==============================] - 0s 16ms/step - loss: 0.2248 - accuracy: 0.9215 - val_loss: 0.2038 - val_accuracy: 0.9634\n",
            "Epoch 90/100\n",
            "20/20 [==============================] - 0s 16ms/step - loss: 0.2361 - accuracy: 0.9162 - val_loss: 0.2013 - val_accuracy: 0.9512\n",
            "Epoch 91/100\n",
            "20/20 [==============================] - 0s 15ms/step - loss: 0.2038 - accuracy: 0.9110 - val_loss: 0.2147 - val_accuracy: 0.9634\n",
            "Epoch 92/100\n",
            "20/20 [==============================] - 0s 14ms/step - loss: 0.2053 - accuracy: 0.9058 - val_loss: 0.3213 - val_accuracy: 0.9024\n",
            "Epoch 93/100\n",
            "20/20 [==============================] - 0s 16ms/step - loss: 0.1999 - accuracy: 0.9110 - val_loss: 0.2404 - val_accuracy: 0.9634\n",
            "Epoch 94/100\n",
            "20/20 [==============================] - 0s 17ms/step - loss: 0.2049 - accuracy: 0.9267 - val_loss: 0.3484 - val_accuracy: 0.9390\n",
            "Epoch 95/100\n",
            "20/20 [==============================] - 0s 15ms/step - loss: 0.2452 - accuracy: 0.8953 - val_loss: 0.2968 - val_accuracy: 0.9756\n",
            "Epoch 96/100\n",
            "20/20 [==============================] - 0s 16ms/step - loss: 0.2191 - accuracy: 0.9215 - val_loss: 0.2473 - val_accuracy: 0.9634\n",
            "Epoch 97/100\n",
            "20/20 [==============================] - 0s 18ms/step - loss: 0.2052 - accuracy: 0.9058 - val_loss: 0.3107 - val_accuracy: 0.9634\n",
            "Epoch 98/100\n",
            "20/20 [==============================] - 0s 16ms/step - loss: 0.2061 - accuracy: 0.9162 - val_loss: 0.3210 - val_accuracy: 0.9512\n",
            "Epoch 99/100\n",
            "20/20 [==============================] - 0s 17ms/step - loss: 0.1920 - accuracy: 0.9162 - val_loss: 0.3085 - val_accuracy: 0.9634\n",
            "Epoch 100/100\n",
            "20/20 [==============================] - 0s 15ms/step - loss: 0.2415 - accuracy: 0.9110 - val_loss: 0.3449 - val_accuracy: 0.9268\n"
          ]
        },
        {
          "output_type": "execute_result",
          "data": {
            "text/plain": [
              "<keras.callbacks.History at 0x7f25cab8ac50>"
            ]
          },
          "metadata": {},
          "execution_count": 79
        }
      ]
    },
    {
      "cell_type": "markdown",
      "source": [
        "# Membuat data testing dengan menggunakan model AAN"
      ],
      "metadata": {
        "id": "5O26PXLmORqd"
      }
    },
    {
      "cell_type": "code",
      "source": [
        "# Evaluasi model pada data uji\n",
        "_, accuracy_testing = model.evaluate(X_test, y_test)\n",
        "print('Akurasi: %.2f' % (accuracy_testing * 100))"
      ],
      "metadata": {
        "colab": {
          "base_uri": "https://localhost:8080/"
        },
        "id": "Fow0zuToOORt",
        "outputId": "d96c1cbd-6d1c-4822-bf88-d49eb0e9859c"
      },
      "execution_count": 80,
      "outputs": [
        {
          "output_type": "stream",
          "name": "stdout",
          "text": [
            "3/3 [==============================] - 0s 8ms/step - loss: 0.3449 - accuracy: 0.9268\n",
            "Akurasi: 92.68\n"
          ]
        }
      ]
    },
    {
      "cell_type": "code",
      "source": [
        "y_pred_testing = model.predict(X_test)"
      ],
      "metadata": {
        "colab": {
          "base_uri": "https://localhost:8080/"
        },
        "id": "OgV_s1a_OeiG",
        "outputId": "1f9f72b7-c331-4404-b05a-d4391a5573aa"
      },
      "execution_count": 81,
      "outputs": [
        {
          "output_type": "stream",
          "name": "stdout",
          "text": [
            "3/3 [==============================] - 0s 5ms/step\n"
          ]
        }
      ]
    },
    {
      "cell_type": "markdown",
      "source": [
        "## Membuat confusion matrix dengan menggunakan model AAN pada data testing"
      ],
      "metadata": {
        "id": "CHnvgw_RPAxu"
      }
    },
    {
      "cell_type": "code",
      "source": [
        "y_pred_round = y_pred_testing.round()"
      ],
      "metadata": {
        "id": "y_xySlmFPHlP"
      },
      "execution_count": 82,
      "outputs": []
    },
    {
      "cell_type": "code",
      "source": [
        "from sklearn.metrics import confusion_matrix\n",
        "cm_test = confusion_matrix(y_test, y_pred_round)"
      ],
      "metadata": {
        "id": "jCx4cnpyPLO5"
      },
      "execution_count": 83,
      "outputs": []
    },
    {
      "cell_type": "code",
      "source": [
        "print(cm_test)"
      ],
      "metadata": {
        "colab": {
          "base_uri": "https://localhost:8080/"
        },
        "id": "o7txhTHFPNbg",
        "outputId": "e78c9c7f-4ba2-4f3b-ebf3-fc61df8fd974"
      },
      "execution_count": 84,
      "outputs": [
        {
          "output_type": "stream",
          "name": "stdout",
          "text": [
            "[[ 3  6]\n",
            " [ 0 73]]\n"
          ]
        }
      ]
    },
    {
      "cell_type": "code",
      "source": [
        "labels = ['Tidak Lulus', 'Lulus']\n",
        "fig, ax = plt.subplots()\n",
        "im = ax.imshow(cm_test, interpolation='nearest', cmap=plt.cm.Blues)\n",
        "ax.figure.colorbar(im, ax=ax)\n",
        "ax.set(xticks=np.arange(cm_test.shape[1]),\n",
        "       yticks=np.arange(cm_test.shape[0]),\n",
        "       xticklabels=labels,\n",
        "       yticklabels=labels,\n",
        "       title='Confusion Matrix Pada Data Testing',\n",
        "       ylabel='True Label',\n",
        "       xlabel='Predicted Label')\n",
        "\n",
        "thresh = cm_test.max() / 2\n",
        "for i in range(cm_test.shape[0]):\n",
        "    for j in range(cm_test.shape[1]):\n",
        "        ax.text(j, i, format(cm_test[i, j], 'd'),\n",
        "                ha=\"center\", va=\"center\",\n",
        "                color=\"white\" if cm_test[i, j] > thresh else \"black\")\n",
        "\n",
        "plt.show()"
      ],
      "metadata": {
        "colab": {
          "base_uri": "https://localhost:8080/",
          "height": 472
        },
        "id": "6HtENYqvPXSc",
        "outputId": "df3bf7e9-2e0a-4a1b-90d0-9e931b9da2de"
      },
      "execution_count": 85,
      "outputs": [
        {
          "output_type": "display_data",
          "data": {
            "text/plain": [
              "<Figure size 640x480 with 2 Axes>"
            ],
            "image/png": "[encoded data removed]"
          },
          "metadata": {}
        }
      ]
    },
    {
      "cell_type": "code",
      "source": [
        "# Menghitung metrics pada data\n",
        "from sklearn.metrics import classification_report\n",
        "report_data_testing = classification_report(y_test,y_pred_round)"
      ],
      "metadata": {
        "id": "dRndB4rhRae_"
      },
      "execution_count": 86,
      "outputs": []
    },
    {
      "cell_type": "code",
      "source": [
        "print(\"Laporan metrics pada data testing \\n\",report_data_testing)"
      ],
      "metadata": {
        "colab": {
          "base_uri": "https://localhost:8080/"
        },
        "id": "JbXivuEBRgBP",
        "outputId": "01117fe5-481a-4cc1-8703-7725bf8ef23a"
      },
      "execution_count": 87,
      "outputs": [
        {
          "output_type": "stream",
          "name": "stdout",
          "text": [
            "Laporan metrics pada data testing \n",
            "               precision    recall  f1-score   support\n",
            "\n",
            "           0       1.00      0.33      0.50         9\n",
            "           1       0.92      1.00      0.96        73\n",
            "\n",
            "    accuracy                           0.93        82\n",
            "   macro avg       0.96      0.67      0.73        82\n",
            "weighted avg       0.93      0.93      0.91        82\n",
            "\n"
          ]
        }
      ]
    },
    {
      "cell_type": "markdown",
      "source": [
        "# Menguji algoritma AAN dengan menggunakan data latih"
      ],
      "metadata": {
        "id": "3wbwYpl3SBK4"
      }
    },
    {
      "cell_type": "code",
      "source": [
        "_, accuracy_train = model.evaluate(X_train, y_train)\n",
        "print('Akurasi: %.2f' % (accuracy_train * 100))"
      ],
      "metadata": {
        "colab": {
          "base_uri": "https://localhost:8080/"
        },
        "id": "wtCjNS0CSLS1",
        "outputId": "93151729-d38a-421c-c32a-5ba81fbeb1c9"
      },
      "execution_count": 88,
      "outputs": [
        {
          "output_type": "stream",
          "name": "stdout",
          "text": [
            "6/6 [==============================] - 0s 9ms/step - loss: 0.3267 - accuracy: 0.9058\n",
            "Akurasi: 90.58\n"
          ]
        }
      ]
    },
    {
      "cell_type": "code",
      "source": [
        "y_pred_training = model.predict(X_train)"
      ],
      "metadata": {
        "colab": {
          "base_uri": "https://localhost:8080/"
        },
        "id": "CeWG17q0SZVV",
        "outputId": "07773232-ec66-4aa1-9990-e80e5df810fe"
      },
      "execution_count": 89,
      "outputs": [
        {
          "output_type": "stream",
          "name": "stdout",
          "text": [
            "6/6 [==============================] - 0s 6ms/step\n"
          ]
        }
      ]
    },
    {
      "cell_type": "code",
      "source": [
        "y_pred_train_round = y_pred_training.round()"
      ],
      "metadata": {
        "id": "TaZmzh1LSfSX"
      },
      "execution_count": 90,
      "outputs": []
    },
    {
      "cell_type": "markdown",
      "source": [
        "## Membuat Confusion Matriks Dengan Algoritma AAN menggunakan data latih"
      ],
      "metadata": {
        "id": "xDlXxI5qTXBB"
      }
    },
    {
      "cell_type": "code",
      "source": [
        "from sklearn.metrics import confusion_matrix\n",
        "cm_train = confusion_matrix(y_train, y_pred_train_round)"
      ],
      "metadata": {
        "id": "BGuoXC4ESmF3"
      },
      "execution_count": 92,
      "outputs": []
    },
    {
      "cell_type": "code",
      "source": [
        "print(cm_train)"
      ],
      "metadata": {
        "colab": {
          "base_uri": "https://localhost:8080/"
        },
        "id": "Gwx31Zf8SxYN",
        "outputId": "be864414-b010-4403-ae2d-eb2ca80d8ed0"
      },
      "execution_count": 93,
      "outputs": [
        {
          "output_type": "stream",
          "name": "stdout",
          "text": [
            "[[ 12  17]\n",
            " [  1 161]]\n"
          ]
        }
      ]
    },
    {
      "cell_type": "code",
      "source": [
        "labels = ['Tidak Lulus', 'Lulus']\n",
        "fig, ax = plt.subplots()\n",
        "im = ax.imshow(cm_train, interpolation='nearest', cmap=plt.cm.Blues)\n",
        "ax.figure.colorbar(im, ax=ax)\n",
        "ax.set(xticks=np.arange(cm_train.shape[0]),\n",
        "       yticks=np.arange(cm_train.shape[1]),\n",
        "       xticklabels=labels,\n",
        "       yticklabels=labels,\n",
        "       title='Confusion Matrix Pada Data Latih',\n",
        "       ylabel='True Label',\n",
        "       xlabel='Predicted Label')\n",
        "\n",
        "thresh = cm_train.max() / 2\n",
        "for i in range(cm_train.shape[0]):\n",
        "    for j in range(cm_train.shape[1]):\n",
        "        ax.text(j, i, format(cm_train[i, j], 'd'),\n",
        "                ha=\"center\", va=\"center\",\n",
        "                color=\"white\" if cm_train[i, j] > thresh else \"black\")"
      ],
      "metadata": {
        "colab": {
          "base_uri": "https://localhost:8080/",
          "height": 472
        },
        "id": "8yq2V667S_o_",
        "outputId": "eef85bab-7e50-4a28-c8e9-61a30dd98cf2"
      },
      "execution_count": 94,
      "outputs": [
        {
          "output_type": "display_data",
          "data": {
            "text/plain": [
              "<Figure size 640x480 with 2 Axes>"
            ],
            "image/png": "[encoded data removed]"
          },
          "metadata": {}
        }
      ]
    },
    {
      "cell_type": "code",
      "source": [
        "# Membuat Laporan metrics untuk data latih AAN\n",
        "from sklearn.metrics import classification_report\n",
        "report_data_latih = classification_report(y_train,y_pred_train_round)"
      ],
      "metadata": {
        "id": "bsDeXFgBTqZM"
      },
      "execution_count": 95,
      "outputs": []
    },
    {
      "cell_type": "code",
      "source": [
        "print(\"Laporan metrics data latih dengan menggunakan model AAN \\n \",report_data_latih)"
      ],
      "metadata": {
        "colab": {
          "base_uri": "https://localhost:8080/"
        },
        "id": "USHN5xzdUlIH",
        "outputId": "f27f67b3-cb8f-41b0-91a5-0def682fc4b3"
      },
      "execution_count": 96,
      "outputs": [
        {
          "output_type": "stream",
          "name": "stdout",
          "text": [
            "Laporan metrics data latih dengan menggunakan model AAN \n",
            "                precision    recall  f1-score   support\n",
            "\n",
            "           0       0.92      0.41      0.57        29\n",
            "           1       0.90      0.99      0.95       162\n",
            "\n",
            "    accuracy                           0.91       191\n",
            "   macro avg       0.91      0.70      0.76       191\n",
            "weighted avg       0.91      0.91      0.89       191\n",
            "\n"
          ]
        }
      ]
    }
  ]
}